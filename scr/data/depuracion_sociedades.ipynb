{
 "cells": [
  {
   "cell_type": "markdown",
   "id": "15c62fbf-493f-4c18-8e55-d9e0fb29b8b6",
   "metadata": {},
   "source": [
    "## Apiux & SII: Analisis exploratorio de datos y depuracion de data sociedades\n",
    "## ATENCION: proyecto sujeto a mantenimiento continuo. \n",
    "\n",
    "## Henry Vega (henrry.vega@api-ux.com)\n",
    "## Data analyst"
   ]
  },
  {
   "cell_type": "code",
   "execution_count": 1,
   "id": "18bff1a6-1471-4b1a-98af-c1bcd085cf40",
   "metadata": {
    "tags": []
   },
   "outputs": [],
   "source": [
    "from pyspark.sql import SparkSession\n",
    "from pyspark.sql.functions import *\n",
    "from pyspark import SparkContext, SparkConf\n",
    "import pyspark\n",
    "import pandas as pd\n",
    "#warnings.filterwarnings('ignore', category=DeprecationWarning)"
   ]
  },
  {
   "cell_type": "code",
   "execution_count": 2,
   "id": "0045495f-27ec-47ad-8474-dd42b9352a2c",
   "metadata": {
    "tags": []
   },
   "outputs": [
    {
     "name": "stderr",
     "output_type": "stream",
     "text": [
      "Setting spark.hadoop.yarn.resourcemanager.principal to yasser.nanjari\n"
     ]
    }
   ],
   "source": [
    "\n",
    "spark = SparkSession.builder \\\n",
    "  .appName(\"Test\")  \\\n",
    "  .config(\"spark.yarn.access.hadoopFileSystems\",\"abfs://data@datalakesii.dfs.core.windows.net/\") \\\n",
    "  .config(\"spark.executor.memory\", \"24g\") \\\n",
    "  .config(\"spark.driver.memory\", \"12g\")\\\n",
    "  .config(\"spark.executor.cores\", \"12\") \\\n",
    "  .config(\"spark.executor.instances\", \"24\") \\\n",
    "  .config(\"spark.driver.maxResultSize\", \"12g\") \\\n",
    "  .getOrCreate()"
   ]
  },
  {
   "cell_type": "markdown",
   "id": "58a9214b-c852-41f7-8ea9-e7ced5442083",
   "metadata": {},
   "source": [
    "## Carga de relaciones societarias y depuracion de data"
   ]
  },
  {
   "cell_type": "markdown",
   "id": "0a26abff-6ccc-4904-a629-cc5b2629c932",
   "metadata": {},
   "source": [
    "Primero, veamos los valores null en participacion de capital y participacion de utilidades."
   ]
  },
  {
   "cell_type": "code",
   "execution_count": 3,
   "id": "e76d0bab-25b8-40cf-8c05-3a372108322a",
   "metadata": {
    "tags": []
   },
   "outputs": [
    {
     "name": "stderr",
     "output_type": "stream",
     "text": [
      "Hive Session ID = 1ac9261b-b513-43b9-9809-2754382080fd\n",
      "                                                                                \r"
     ]
    },
    {
     "name": "stdout",
     "output_type": "stream",
     "text": [
      "+------------+---------+------------------+---------------------+\n",
      "|RUT_SOCIEDAD|RUT_SOCIO|PORCENTAJE_CAPITAL|PORCENTAJE_UTILIDADES|\n",
      "+------------+---------+------------------+---------------------+\n",
      "+------------+---------+------------------+---------------------+\n",
      "\n"
     ]
    }
   ],
   "source": [
    "spark.sql(\"select RUT_SOCIEDAD, RUT_SOCIO,PORCENTAJE_CAPITAL,PORCENTAJE_UTILIDADES from libsdf.jab_soc_2023_inom where PORCENTAJE_CAPITAL is null or PORCENTAJE_UTILIDADES IS NULL\").show()"
   ]
  },
  {
   "cell_type": "markdown",
   "id": "96f026f6-343c-4006-b484-7c8232160562",
   "metadata": {},
   "source": [
    "Vemos que no hay valores nulos en la tabla. A continuacion veamos cuantos duplicados existen en las columnas de interes:\n",
    "RUT_SOCIEDAD,RUT_SOCIO,PORCENTAJE_CAPITAL,PORCENTAJE_UTILIDADES, pues todos\n",
    "los calculos lo haremos basados en esta columnas."
   ]
  },
  {
   "cell_type": "code",
   "execution_count": 4,
   "id": "9f0a9afb-b609-42be-bfdd-30884c3d1947",
   "metadata": {
    "tags": []
   },
   "outputs": [
    {
     "name": "stderr",
     "output_type": "stream",
     "text": [
      "[Stage 5:==================================================>        (6 + 1) / 7]"
     ]
    },
    {
     "name": "stdout",
     "output_type": "stream",
     "text": [
      "+------------+---------+------------------+---------------------+------------------------+------+\n",
      "|RUT_SOCIEDAD|RUT_SOCIO|PORCENTAJE_CAPITAL|PORCENTAJE_UTILIDADES|PERI_AGNO_MES_TRIBUTARIO|FUENTE|\n",
      "+------------+---------+------------------+---------------------+------------------------+------+\n",
      "+------------+---------+------------------+---------------------+------------------------+------+\n",
      "\n"
     ]
    },
    {
     "name": "stderr",
     "output_type": "stream",
     "text": [
      "                                                                                \r"
     ]
    }
   ],
   "source": [
    "spark.sql(\"select * from libsdf.jba_soc_2022_e where RUT_SOCIEDAD like 'dwElNqcCQQiFyI3ic%' \").show()"
   ]
  },
  {
   "cell_type": "code",
   "execution_count": 5,
   "id": "b3876098-aa39-4dd5-bdf3-064bee84b393",
   "metadata": {
    "tags": []
   },
   "outputs": [
    {
     "name": "stderr",
     "output_type": "stream",
     "text": [
      "[Stage 7:=========================>                             (93 + 12) / 200]"
     ]
    },
    {
     "name": "stdout",
     "output_type": "stream",
     "text": [
      "+--------------------+--------------------+------------------+---------------------+---+\n",
      "|        RUT_SOCIEDAD|           RUT_SOCIO|PORCENTAJE_CAPITAL|PORCENTAJE_UTILIDADES|  c|\n",
      "+--------------------+--------------------+------------------+---------------------+---+\n",
      "|lvhKR91n05T3mstWg...|tnshXz2zZHhF/35iM...|             100.0|                100.0| 33|\n",
      "|FJ59A3rCUrWEuEI/g...|AtxwrhZVZnI1sYNt/...|              50.0|                 50.0| 15|\n",
      "|U9dRqzVEukCZdQmX8...|qlm4skAGTxB/gAmri...|             100.0|                100.0| 14|\n",
      "|gwbsyFNCMsaytOcg8...|NvQrSPRmMfK9N1riN...|               0.0|                  0.0| 13|\n",
      "|51GDT15LxNxXvHK+5...|rhswzqGrtBdFr5AJW...|              60.0|                 60.0| 12|\n",
      "|jivM6l8xeUjKSU5fI...|26fBX92ujXPn2atcj...|             100.0|                100.0| 12|\n",
      "|YERESpwuZelDrFKfk...|aefg+HqgBVthzV/Dp...|              20.0|                 20.0| 12|\n",
      "|/ZF4A1Ysc/R8tPQnl...|RVjWLn8FlBViX6I4N...|             100.0|                100.0| 12|\n",
      "|g/CiBABMUw9aF9wzh...|HKzOgOZxwB4u6FlkN...|             100.0|                100.0| 12|\n",
      "|hEQr1w9LgGXEeDym5...|QP3cSviQ8v3p5Pud+...|              40.0|                 40.0| 12|\n",
      "|B9UjRrdtwfnmi0lsd...|pLpneSJFPojh3IOHP...|             100.0|                100.0| 12|\n",
      "|wcCPhm5UDv17XFnk/...|RebUvX68foioLGUnX...|               6.4|                  6.4| 11|\n",
      "|UcEmpEXZqYLtITtsB...|9hZ+P9gx3tnd8YBSI...|              9.09|                 9.09| 11|\n",
      "|gwbsyFNCMsaytOcg8...|8W19WEYyUtr2r0lMb...|               0.0|                  0.0| 11|\n",
      "|E0DfLeCRD65DwfD+5...|tnshXz2zZHhF/35iM...|               1.0|                  1.0| 11|\n",
      "|ZHc1VyQGn2Z6c2YSf...|+vXdafUHU3gBAk2sh...|              50.0|                 50.0| 11|\n",
      "|UGaPu3GgWe2p6Jzae...|tnshXz2zZHhF/35iM...|              50.0|                 50.0| 11|\n",
      "|wBEyxL+wPW54vitx0...|YX2oh3Fy/EUL770Nr...|              15.0|                 15.0| 11|\n",
      "|NNxwDYqPf3JeOi1II...|tnshXz2zZHhF/35iM...|              50.0|                 50.0| 11|\n",
      "|EUAOveOznhgsGHysb...|0ib0suS1zjU+gDmd7...|              50.0|                 50.0| 11|\n",
      "+--------------------+--------------------+------------------+---------------------+---+\n",
      "only showing top 20 rows\n",
      "\n"
     ]
    },
    {
     "name": "stderr",
     "output_type": "stream",
     "text": [
      "                                                                                \r"
     ]
    }
   ],
   "source": [
    "spark.sql(\"select RUT_SOCIEDAD, RUT_SOCIO,PORCENTAJE_CAPITAL,PORCENTAJE_UTILIDADES, count(*) as c from libsdf.jba_soc_2023_e  group by  RUT_SOCIEDAD, RUT_SOCIO,PORCENTAJE_CAPITAL,PORCENTAJE_UTILIDADES order by c desc\").createOrReplaceTempView(\"sociedad\")\n",
    "spark.sql(\"select * from sociedad\").show()\n",
    "spark.sql(\"select RUT_SOCIEDAD, RUT_SOCIO,PORCENTAJE_CAPITAL,PORCENTAJE_UTILIDADES from sociedad\").createOrReplaceTempView(\"sociedad\")"
   ]
  },
  {
   "cell_type": "markdown",
   "id": "f8448ca6-06ac-4507-9cc8-77df2bc49765",
   "metadata": {},
   "source": [
    "Donde seleccionamos los valores no repetidos. Haciendo nuevamente un recuento de los valores unicos,"
   ]
  },
  {
   "cell_type": "code",
   "execution_count": 6,
   "id": "73651a80-5cac-4550-ac81-4486ed6a1617",
   "metadata": {},
   "outputs": [
    {
     "name": "stderr",
     "output_type": "stream",
     "text": [
      "[Stage 12:===========================================>              (3 + 1) / 4]"
     ]
    },
    {
     "name": "stdout",
     "output_type": "stream",
     "text": [
      "+--------------------+--------------------+-----+\n",
      "|        RUT_SOCIEDAD|           RUT_SOCIO|count|\n",
      "+--------------------+--------------------+-----+\n",
      "|cfh2XO8QryKKtyO4M...|qJhovaa1JWqL7YY/f...|    1|\n",
      "|gwbsyFNCMsaytOcg8...|HSkI6zeV4EXsc1DHI...|    1|\n",
      "|cyysdP+Ve7dCq9WSa...|mpxPjETO9I0AN7PH/...|    1|\n",
      "|G9IHbpdnVGiyoja+v...|won8MWCfBnNVA+H7J...|    1|\n",
      "|aOMC0QM64KeOvLehs...|kT8TTtPbVneTpnnUg...|    1|\n",
      "|7PzGWLJc/467GGYaC...|xGYI+bX6pAINJTEGc...|    1|\n",
      "|y88ag0hm9sdwdYSCn...|rBernrFpDxswe9dVq...|    1|\n",
      "|SC/oNmnMA/oR2Lamj...|vOo57GpxCw2WgiZoD...|    1|\n",
      "|f58bGiUzOCx8zCvt2...|oZxHsGLH04wQjNIlw...|    1|\n",
      "|In/OT2MgGS2uvTc03...|7YqVygUMhoVOiyCS4...|    1|\n",
      "|j9uffvDYsLMxS/7IQ...|KxN6MptI2pZGsVRu6...|    1|\n",
      "|oRDDo8yg6eCfHXJEz...|EgkN9xUgEqgwNJw70...|    1|\n",
      "|V9AQpN7N+fcocd59i...|bvLSOzVrHGe2Ts8hL...|    1|\n",
      "|byrZOz15Ks2dy5xv4...|/YF1gxxzh2Z1s4tsB...|    1|\n",
      "|t3KX0aVeH4tjc6RL7...|43jDeKcoOn/TvMb6w...|    1|\n",
      "|h6T6lD/Pxw+dM+MO5...|ohB5PPr6HI0kxCBsH...|    1|\n",
      "|MHTWlmWP5c/31n2rj...|PGnTFmv5v5n/C0+lL...|    1|\n",
      "|1MXZHlTaqf1csJvD0...|ao7VD5FSW54CP/hcK...|    1|\n",
      "|7lGtSgSaw5FZ56iqY...|ugOiAJsdStA+hmGk8...|    1|\n",
      "|muWKbDDrKj9KL7Yza...|wRYZSSXz2O8WgJXud...|    1|\n",
      "+--------------------+--------------------+-----+\n",
      "only showing top 20 rows\n",
      "\n"
     ]
    },
    {
     "name": "stderr",
     "output_type": "stream",
     "text": [
      "                                                                                \r"
     ]
    }
   ],
   "source": [
    "spark.sql(\"select RUT_SOCIEDAD, RUT_SOCIO, count(*) as count from sociedad group by RUT_SOCIEDAD, RUT_SOCIO order by count desc \").show()"
   ]
  },
  {
   "cell_type": "markdown",
   "id": "ebd9c227-f581-466c-aac1-3949e3edec40",
   "metadata": {},
   "source": [
    "Por lo visto tenemos unicidad de la relaciones sociedad socio, a juzgar por el recuento de las combinaciones. Ahora veremos cuanto suman los valores de PORCENTAJE_CAPITAL,PORCENTAJE_UTILIDADES para cada una de las sociedades.\n"
   ]
  },
  {
   "cell_type": "code",
   "execution_count": 7,
   "id": "3d11b96b-d025-4014-9eb8-e903db4fbccf",
   "metadata": {
    "tags": []
   },
   "outputs": [
    {
     "name": "stderr",
     "output_type": "stream",
     "text": [
      "[Stage 18:===========================================>              (3 + 1) / 4]"
     ]
    },
    {
     "name": "stdout",
     "output_type": "stream",
     "text": [
      "+--------------------+-------+----------+\n",
      "|        RUT_SOCIEDAD|CAPITAL|UTILIDADES|\n",
      "+--------------------+-------+----------+\n",
      "|FtJmDwwsdBDC15rvW...|  110.0|     110.0|\n",
      "|HWeUcxFfs+xB+tv4B...|  110.0|     100.0|\n",
      "|f1zMRTsAknUF9weV0...|  110.0|     110.0|\n",
      "|+P/D3dLQdBXBfBBMk...|  110.0|     110.0|\n",
      "|tMloWBszd+pnK6pjz...|  110.0|     110.0|\n",
      "|yBR0RNSMY5VYroBj3...|  110.0|     110.0|\n",
      "|n5MD+Ght8Cx8X+xhK...|  110.0|     110.0|\n",
      "|frSs4/GZOUTCL9+U+...|  110.0|     110.0|\n",
      "|KmKCw9Hb8gOrM1Z9W...|  110.0|     100.0|\n",
      "|VRNdJkUTYXLWMRkSM...|  110.0|     110.0|\n",
      "|HmjHOVQ8qk9aGu30J...|  110.0|     110.0|\n",
      "|CP3xFFso/QqV9VaqJ...|  110.0|     110.0|\n",
      "|EpHOFngzeSBjKqble...|  110.0|     110.0|\n",
      "|s+CDuiI+aTB8rRFTE...|  110.0|     110.0|\n",
      "|MSvsNkqEo2nh7yGTH...|  110.0|     110.0|\n",
      "|EqLVYjdaxkTliFuxD...|  110.0|     110.0|\n",
      "|4ycAGBELEjW5Sts2g...|  110.0|     100.0|\n",
      "|VQTk89mGDDDvTgvgP...|  110.0|     110.0|\n",
      "|ZWuslkhcOMdiyrD/W...|  110.0|     110.0|\n",
      "|PQS6x5nDlb1V3Kt8s...|  110.0|     100.0|\n",
      "+--------------------+-------+----------+\n",
      "only showing top 20 rows\n",
      "\n"
     ]
    },
    {
     "name": "stderr",
     "output_type": "stream",
     "text": [
      "                                                                                \r"
     ]
    }
   ],
   "source": [
    "spark.sql(\"select RUT_SOCIEDAD, SUM(PORCENTAJE_CAPITAL) as CAPITAL,SUM(PORCENTAJE_UTILIDADES) as UTILIDADES from sociedad group by RUT_SOCIEDAD order by CAPITAL DESC\").show()"
   ]
  },
  {
   "cell_type": "code",
   "execution_count": 8,
   "id": "bef336b3-7386-466b-a7dd-b1b4a253fb83",
   "metadata": {
    "tags": []
   },
   "outputs": [
    {
     "name": "stderr",
     "output_type": "stream",
     "text": [
      "[Stage 24:===========================================>              (3 + 1) / 4]"
     ]
    },
    {
     "name": "stdout",
     "output_type": "stream",
     "text": [
      "+--------------------+------------------+------------------+\n",
      "|        RUT_SOCIEDAD|           CAPITAL|        UTILIDADES|\n",
      "+--------------------+------------------+------------------+\n",
      "|gwbsyFNCMsaytOcg8...|11.289999999999841|11.289999999999841|\n",
      "|2laNNn7TvcvjsHi5t...|              90.0|              90.0|\n",
      "|hNmKzKIHSTIMo1i0W...|              90.0|              90.0|\n",
      "|XaSTQH0ulw3G7F2yz...|              90.0|              90.0|\n",
      "|1YVpvhCjcGUZLc9mk...|              90.0|              90.0|\n",
      "|h3pCmA3K4viqJHTYM...|              90.0|              90.0|\n",
      "|eWKG01GX1QZnp6rsL...|              90.0|              90.0|\n",
      "|vsQK6z66k54TaKb/H...|              90.0|              90.0|\n",
      "|aZjOa91WeJhn7EUjg...|              90.0|              90.0|\n",
      "|jcpaORx9K8u8sw7x0...|              90.0|              90.0|\n",
      "|yQNTXOOh78ZNrUMLu...|              90.0|              90.0|\n",
      "|QHlfqsVnl5ihsUAWl...|              90.0|              90.0|\n",
      "|pXvrYgUFd1fJaX9eK...|              90.0|              90.0|\n",
      "|TWksGxJMctALmuUdh...|              90.0|              90.0|\n",
      "|o75cUTLMDTZjCODdQ...|              90.0|              90.0|\n",
      "|biaLpxLeOc5rND56s...|              90.0|              90.0|\n",
      "|JebgGcb1DMf+xgRsy...|              90.0|             100.0|\n",
      "|T0BHN2uB31xZ5hC/B...|              90.0|              90.0|\n",
      "|xW374WH/FHLHBTlre...|              90.0|              90.0|\n",
      "|9uONy47JCZTp77Tck...|              90.0|              90.0|\n",
      "+--------------------+------------------+------------------+\n",
      "only showing top 20 rows\n",
      "\n"
     ]
    },
    {
     "name": "stderr",
     "output_type": "stream",
     "text": [
      "                                                                                \r"
     ]
    }
   ],
   "source": [
    "spark.sql(\"select RUT_SOCIEDAD, SUM(PORCENTAJE_CAPITAL) as CAPITAL,SUM(PORCENTAJE_UTILIDADES) as UTILIDADES from sociedad group by RUT_SOCIEDAD order by CAPITAL ASC\").show()"
   ]
  },
  {
   "cell_type": "code",
   "execution_count": 9,
   "id": "df744011-6f82-462c-9e12-b5af3efee765",
   "metadata": {
    "tags": []
   },
   "outputs": [
    {
     "name": "stderr",
     "output_type": "stream",
     "text": [
      "[Stage 30:===========================================>              (3 + 1) / 4]"
     ]
    },
    {
     "name": "stdout",
     "output_type": "stream",
     "text": [
      "          CAPITAL  UTILIDADES\n",
      "count  648.000000  648.000000\n",
      "mean    93.608534   93.416065\n",
      "std      7.510806    7.918392\n",
      "min     11.290000   11.290000\n",
      "25%     90.000000   90.000000\n",
      "50%     90.000000   90.000000\n",
      "75%     93.207500   93.917500\n",
      "max    110.000000  127.000000\n"
     ]
    },
    {
     "name": "stderr",
     "output_type": "stream",
     "text": [
      "                                                                                \r"
     ]
    }
   ],
   "source": [
    "anomalias_sociedades=spark.sql(\"select RUT_SOCIEDAD, SUM(PORCENTAJE_CAPITAL) as CAPITAL,SUM(PORCENTAJE_UTILIDADES) as UTILIDADES from sociedad group by RUT_SOCIEDAD having CAPITAL>105 or CAPITAL<95\").toPandas()\n",
    "anomalias_sociedades.to_csv('../../data/processed/anomalias_capital_sociedades.csv', index=False)\n",
    "print(anomalias_sociedades.describe())"
   ]
  },
  {
   "cell_type": "markdown",
   "id": "140c6f23-f2bf-4aed-9d06-ff8fa9cef7a2",
   "metadata": {},
   "source": [
    "Ahora vamos las entradas con al menos un valor cero (que indica cero participacion porcentual)"
   ]
  },
  {
   "cell_type": "code",
   "execution_count": 10,
   "id": "56330adb-ffbb-4f15-962e-d1fb30b6fcb9",
   "metadata": {},
   "outputs": [
    {
     "name": "stderr",
     "output_type": "stream",
     "text": [
      "                                                                                \r"
     ]
    },
    {
     "name": "stdout",
     "output_type": "stream",
     "text": [
      "+--------+\n",
      "|count(1)|\n",
      "+--------+\n",
      "| 1060913|\n",
      "+--------+\n",
      "\n"
     ]
    }
   ],
   "source": [
    "spark.sql(\"select COUNT(*) from sociedad WHERE PORCENTAJE_CAPITAL=0 OR PORCENTAJE_UTILIDADES=0\").show()"
   ]
  },
  {
   "cell_type": "markdown",
   "id": "dfaced12-3177-47ad-9771-666acbfa0829",
   "metadata": {},
   "source": [
    "Por lo visto, tenemos 1057765 entradas donde al menos uno de ambos porcentajes es cero. Por otro lado, tenemos \n",
    "1053936 registros donde ambos porcentajes son cero.\n"
   ]
  },
  {
   "cell_type": "markdown",
   "id": "cc9e9107-1b2f-49d8-84e2-865574447edb",
   "metadata": {},
   "source": [
    "Ahora veamos cuales porcentajes de capital son cero y luego los porcentajes de utilidades son cero."
   ]
  },
  {
   "cell_type": "code",
   "execution_count": 11,
   "id": "ce98007e-cb86-4885-a52d-3496db714d30",
   "metadata": {
    "tags": []
   },
   "outputs": [
    {
     "name": "stderr",
     "output_type": "stream",
     "text": [
      "                                                                                \r"
     ]
    },
    {
     "name": "stdout",
     "output_type": "stream",
     "text": [
      "+--------+\n",
      "|count(1)|\n",
      "+--------+\n",
      "|    2484|\n",
      "+--------+\n",
      "\n"
     ]
    },
    {
     "name": "stderr",
     "output_type": "stream",
     "text": [
      "                                                                                \r"
     ]
    },
    {
     "name": "stdout",
     "output_type": "stream",
     "text": [
      "+--------+\n",
      "|count(1)|\n",
      "+--------+\n",
      "|    1231|\n",
      "+--------+\n",
      "\n"
     ]
    }
   ],
   "source": [
    "spark.sql(\"select count(*) from sociedad WHERE PORCENTAJE_CAPITAL=0 and PORCENTAJE_UTILIDADES!=0\").show()\n",
    "spark.sql(\"select count(*) from sociedad WHERE PORCENTAJE_CAPITAL!=0 and PORCENTAJE_UTILIDADES=0\").show()"
   ]
  },
  {
   "cell_type": "markdown",
   "id": "fa7cedfe-c797-4742-9b64-193be1d85f75",
   "metadata": {},
   "source": [
    "Para el analisis del problema de oscuridad, es mejor tener en cuenta los porcentajes de participacion de capital, porque los creditos se reparten segun la participacion societaria.\n",
    "Ahora veamos cuantos tienen valores positivos mayores que 100 o negativos."
   ]
  },
  {
   "cell_type": "code",
   "execution_count": 12,
   "id": "b485f3fc-7e5a-4e28-ba35-73c2c2807883",
   "metadata": {
    "tags": []
   },
   "outputs": [
    {
     "name": "stderr",
     "output_type": "stream",
     "text": [
      "[Stage 50:======================================================> (32 + 1) / 33]"
     ]
    },
    {
     "name": "stdout",
     "output_type": "stream",
     "text": [
      "+--------------------+--------------------+------------------+---------------------+\n",
      "|        RUT_SOCIEDAD|           RUT_SOCIO|PORCENTAJE_CAPITAL|PORCENTAJE_UTILIDADES|\n",
      "+--------------------+--------------------+------------------+---------------------+\n",
      "|7ZfJs1v+u1B0SCmQJ...|K4PMvCs8vXhziffJN...|            100.01|                100.0|\n",
      "+--------------------+--------------------+------------------+---------------------+\n",
      "\n"
     ]
    },
    {
     "name": "stderr",
     "output_type": "stream",
     "text": [
      "                                                                                \r"
     ]
    }
   ],
   "source": [
    "spark.sql(\"select * from sociedad WHERE PORCENTAJE_CAPITAL<0 or PORCENTAJE_CAPITAL>100 or PORCENTAJE_UTILIDADES<0 or PORCENTAJE_UTILIDADES>100\").show()"
   ]
  },
  {
   "cell_type": "markdown",
   "id": "6c250425-8b01-44e9-9c08-34b08766aca9",
   "metadata": {},
   "source": [
    "El cual es solo un valor levemente superior a 100 %. Seleccionamos los que no tienen valores cero en PORCENTAJE_CAPITAL.\n",
    "IMPORTANTE: de ser utilizado PORCENTAJE_UTILIDADES se debe filtrar sobre esa columna."
   ]
  },
  {
   "cell_type": "code",
   "execution_count": 13,
   "id": "a7a45a4c-77f8-4cd4-95a0-5c2a89290417",
   "metadata": {},
   "outputs": [],
   "source": [
    "spark.sql(\"select * from sociedad where PORCENTAJE_CAPITAL!=0\").createOrReplaceTempView(\"sociedad\")"
   ]
  },
  {
   "cell_type": "code",
   "execution_count": 14,
   "id": "4aabb0d5-8657-432c-a6b4-322e439081d3",
   "metadata": {},
   "outputs": [
    {
     "name": "stderr",
     "output_type": "stream",
     "text": [
      "                                                                                \r"
     ]
    },
    {
     "name": "stdout",
     "output_type": "stream",
     "text": [
      "+--------+\n",
      "|count(1)|\n",
      "+--------+\n",
      "|       0|\n",
      "+--------+\n",
      "\n"
     ]
    },
    {
     "name": "stderr",
     "output_type": "stream",
     "text": [
      "[Stage 60:=====================================================>  (19 + 1) / 20]"
     ]
    },
    {
     "name": "stdout",
     "output_type": "stream",
     "text": [
      "+------------+---------+------------------+---------------------+------------------------+------+\n",
      "|RUT_SOCIEDAD|RUT_SOCIO|PORCENTAJE_CAPITAL|PORCENTAJE_UTILIDADES|PERI_AGNO_MES_TRIBUTARIO|FUENTE|\n",
      "+------------+---------+------------------+---------------------+------------------------+------+\n",
      "+------------+---------+------------------+---------------------+------------------------+------+\n",
      "\n"
     ]
    },
    {
     "name": "stderr",
     "output_type": "stream",
     "text": [
      "                                                                                \r"
     ]
    }
   ],
   "source": [
    "spark.sql(\"select count(*) from sociedad where RUT_SOCIEDAD LIKE 'Qbau/6SlJ/lEcKUD%'\").show()\n",
    "spark.sql(\"select *  from libsdf.jba_soc_2022_e where RUT_SOCIEDAD LIKE 'Qbau/6SlJ/lEcKUD%'\").show()"
   ]
  },
  {
   "cell_type": "code",
   "execution_count": 15,
   "id": "04125815-cc44-4ff3-b13c-dd3888c0938f",
   "metadata": {
    "tags": []
   },
   "outputs": [
    {
     "name": "stderr",
     "output_type": "stream",
     "text": [
      "                                                                                \r"
     ]
    }
   ],
   "source": [
    "\n",
    "sociedad=spark.sql(\"select * from sociedad\").toPandas()\n",
    "sociedad.to_csv('../../data/processed/sociedades_participacion_capital_nozero.csv', index=False)"
   ]
  }
 ],
 "metadata": {
  "kernelspec": {
   "display_name": "Python 3 (ipykernel)",
   "language": "python",
   "name": "python3"
  },
  "language_info": {
   "codemirror_mode": {
    "name": "ipython",
    "version": 3
   },
   "file_extension": ".py",
   "mimetype": "text/x-python",
   "name": "python",
   "nbconvert_exporter": "python",
   "pygments_lexer": "ipython3",
   "version": "3.9.16"
  }
 },
 "nbformat": 4,
 "nbformat_minor": 5
}
