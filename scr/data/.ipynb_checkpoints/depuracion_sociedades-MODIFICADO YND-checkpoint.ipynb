{
 "cells": [
  {
   "cell_type": "markdown",
   "id": "15c62fbf-493f-4c18-8e55-d9e0fb29b8b6",
   "metadata": {},
   "source": [
    "## Apiux & SII: Analisis exploratorio de datos y depuracion de data sociedades\n",
    "## ATENCION: proyecto sujeto a mantenimiento continuo. \n",
    "\n",
    "## Henry Vega (henrry.vega@api-ux.com)\n",
    "## Data analyst"
   ]
  },
  {
   "cell_type": "code",
   "execution_count": 1,
   "id": "18bff1a6-1471-4b1a-98af-c1bcd085cf40",
   "metadata": {
    "tags": []
   },
   "outputs": [],
   "source": [
    "from pyspark.sql import SparkSession\n",
    "from pyspark.sql.functions import *\n",
    "from pyspark import SparkContext, SparkConf\n",
    "import pyspark\n",
    "import pandas as pd\n",
    "#warnings.filterwarnings('ignore', category=DeprecationWarning)"
   ]
  },
  {
   "cell_type": "code",
   "execution_count": 2,
   "id": "0045495f-27ec-47ad-8474-dd42b9352a2c",
   "metadata": {
    "tags": []
   },
   "outputs": [
    {
     "name": "stderr",
     "output_type": "stream",
     "text": [
      "Setting spark.hadoop.yarn.resourcemanager.principal to yasser.nanjari\n"
     ]
    }
   ],
   "source": [
    "\n",
    "spark = SparkSession.builder \\\n",
    "  .appName(\"Test\")  \\\n",
    "  .config(\"spark.yarn.access.hadoopFileSystems\",\"abfs://data@datalakesii.dfs.core.windows.net/\") \\\n",
    "  .config(\"spark.executor.memory\", \"24g\") \\\n",
    "  .config(\"spark.driver.memory\", \"12g\")\\\n",
    "  .config(\"spark.executor.cores\", \"12\") \\\n",
    "  .config(\"spark.executor.instances\", \"24\") \\\n",
    "  .config(\"spark.driver.maxResultSize\", \"12g\") \\\n",
    "  .getOrCreate()"
   ]
  },
  {
   "cell_type": "markdown",
   "id": "58a9214b-c852-41f7-8ea9-e7ced5442083",
   "metadata": {},
   "source": [
    "## Carga de relaciones societarias y depuracion de data"
   ]
  },
  {
   "cell_type": "markdown",
   "id": "0a26abff-6ccc-4904-a629-cc5b2629c932",
   "metadata": {},
   "source": [
    "Primero, veamos los valores null en participacion de capital y participacion de utilidades."
   ]
  },
  {
   "cell_type": "code",
   "execution_count": 3,
   "id": "e76d0bab-25b8-40cf-8c05-3a372108322a",
   "metadata": {
    "tags": []
   },
   "outputs": [
    {
     "name": "stderr",
     "output_type": "stream",
     "text": [
      "Hive Session ID = b403edd0-232c-469b-9ae3-c2b12579b441\n",
      "                                                                                \r"
     ]
    },
    {
     "name": "stdout",
     "output_type": "stream",
     "text": [
      "+------------+---------+------------------+---------------------+\n",
      "|RUT_SOCIEDAD|RUT_SOCIO|PORCENTAJE_CAPITAL|PORCENTAJE_UTILIDADES|\n",
      "+------------+---------+------------------+---------------------+\n",
      "+------------+---------+------------------+---------------------+\n",
      "\n"
     ]
    }
   ],
   "source": [
    "spark.sql(\"select RUT_SOCIEDAD, RUT_SOCIO,PORCENTAJE_CAPITAL,PORCENTAJE_UTILIDADES from libsdf.jab_soc_2023_inom where PORCENTAJE_CAPITAL is null or PORCENTAJE_UTILIDADES IS NULL\").show()"
   ]
  },
  {
   "cell_type": "markdown",
   "id": "96f026f6-343c-4006-b484-7c8232160562",
   "metadata": {},
   "source": [
    "Vemos que no hay valores nulos en la tabla. A continuacion veamos cuantos duplicados existen en las columnas de interes:\n",
    "RUT_SOCIEDAD,RUT_SOCIO,PORCENTAJE_CAPITAL,PORCENTAJE_UTILIDADES, pues todos\n",
    "los calculos lo haremos basados en esta columnas."
   ]
  },
  {
   "cell_type": "code",
   "execution_count": 4,
   "id": "9f0a9afb-b609-42be-bfdd-30884c3d1947",
   "metadata": {
    "tags": []
   },
   "outputs": [
    {
     "name": "stderr",
     "output_type": "stream",
     "text": [
      "[Stage 3:>                                                          (0 + 1) / 1]"
     ]
    },
    {
     "name": "stdout",
     "output_type": "stream",
     "text": [
      "+--------------------+--------------------+------------------+---------------------+------------------------+------+\n",
      "|        RUT_SOCIEDAD|           RUT_SOCIO|PORCENTAJE_CAPITAL|PORCENTAJE_UTILIDADES|PERI_AGNO_MES_TRIBUTARIO|FUENTE|\n",
      "+--------------------+--------------------+------------------+---------------------+------------------------+------+\n",
      "|dwElNqcCQQiFyI3ic...|dwElNqcCQQiFyI3ic...|             100.0|                100.0|                  202300|  RIAC|\n",
      "|dwElNqcCQQiFyI3ic...|dwElNqcCQQiFyI3ic...|             100.0|                100.0|                  202300|  RIAC|\n",
      "|dwElNqcCQQiFyI3ic...|dwElNqcCQQiFyI3ic...|             100.0|                100.0|                  202300|  RIAC|\n",
      "|dwElNqcCQQiFyI3ic...|dwElNqcCQQiFyI3ic...|             100.0|                100.0|                  202300|  RIAC|\n",
      "|dwElNqcCQQiFyI3ic...|dwElNqcCQQiFyI3ic...|             100.0|                100.0|                  202300|  RIAC|\n",
      "|dwElNqcCQQiFyI3ic...|dwElNqcCQQiFyI3ic...|             100.0|                100.0|                  202300|  RIAC|\n",
      "|dwElNqcCQQiFyI3ic...|dwElNqcCQQiFyI3ic...|             100.0|                100.0|                  202300|  RIAC|\n",
      "|dwElNqcCQQiFyI3ic...|dwElNqcCQQiFyI3ic...|             100.0|                100.0|                  202300|  RIAC|\n",
      "|dwElNqcCQQiFyI3ic...|dwElNqcCQQiFyI3ic...|             100.0|                100.0|                  202300|  RIAC|\n",
      "|dwElNqcCQQiFyI3ic...|dwElNqcCQQiFyI3ic...|             100.0|                100.0|                  202300|  RIAC|\n",
      "|dwElNqcCQQiFyI3ic...|dwElNqcCQQiFyI3ic...|             100.0|                100.0|                  202300|  RIAC|\n",
      "|dwElNqcCQQiFyI3ic...|dwElNqcCQQiFyI3ic...|             100.0|                100.0|                  202300|  RIAC|\n",
      "+--------------------+--------------------+------------------+---------------------+------------------------+------+\n",
      "\n"
     ]
    },
    {
     "name": "stderr",
     "output_type": "stream",
     "text": [
      "                                                                                \r"
     ]
    }
   ],
   "source": [
    "spark.sql(\"select * from libsdf.jab_soc_2023_inom where RUT_SOCIEDAD like 'dwElNqcCQQiFyI3ic%' \").show()"
   ]
  },
  {
   "cell_type": "code",
   "execution_count": 5,
   "id": "b3876098-aa39-4dd5-bdf3-064bee84b393",
   "metadata": {
    "tags": []
   },
   "outputs": [
    {
     "name": "stderr",
     "output_type": "stream",
     "text": [
      "[Stage 5:=====================================================> (195 + 2) / 200]"
     ]
    },
    {
     "name": "stdout",
     "output_type": "stream",
     "text": [
      "+--------------------+--------------------+------------------+---------------------+---+\n",
      "|        RUT_SOCIEDAD|           RUT_SOCIO|PORCENTAJE_CAPITAL|PORCENTAJE_UTILIDADES|  c|\n",
      "+--------------------+--------------------+------------------+---------------------+---+\n",
      "|dwElNqcCQQiFyI3ic...|dwElNqcCQQiFyI3ic...|             100.0|                100.0| 12|\n",
      "|2AlrCTNxh4TadQyxC...|I/YkZE/cZA9DBuO7E...|              30.0|                 30.0| 10|\n",
      "|E81vZtfA4Ybc4DMaf...|8pRJYqtj522N9P1N8...|               1.0|                  1.0| 10|\n",
      "|tC5mxZiKq7cNSWyNF...|LIkmP/LOUl9ME922f...|             99.99|                99.99| 10|\n",
      "|E81vZtfA4Ybc4DMaf...|3BC/zRqDU+1GjN2Ks...|              99.0|                 99.0| 10|\n",
      "|2AlrCTNxh4TadQyxC...|d4QdUJK8I1t8jAjfb...|              70.0|                 70.0| 10|\n",
      "|tC5mxZiKq7cNSWyNF...|C4poSpbJFI6kSghEq...|              0.01|                 0.01| 10|\n",
      "|bScznJ1Sj7Hz8PkYx...|fVPNQ773j0VaUiv8d...|              0.28|                 0.28|  9|\n",
      "|zzqfVScwzAbElfhFp...|ryCMXKETPRSnyQtpI...|             100.0|                100.0|  9|\n",
      "|apIKKxuW6vzI+5w3C...|qic+/W2C0i+Z12Kcf...|              49.0|                 49.0|  9|\n",
      "|bScznJ1Sj7Hz8PkYx...|OLHNNaqwBijGGwRxH...|             99.72|                99.72|  9|\n",
      "|J0MTHUaWHVxIuRb23...|Yu058ph/RIYWkDw6O...|             64.94|                64.94|  9|\n",
      "|J0MTHUaWHVxIuRb23...|4LWmtLgt7WF7AoW15...|             35.03|                35.03|  9|\n",
      "|J0MTHUaWHVxIuRb23...|G4T2ebnr0zFDJzE31...|              0.04|                 0.04|  9|\n",
      "|apIKKxuW6vzI+5w3C...|1/fiLcJsRImVrEWJd...|              51.0|                 51.0|  9|\n",
      "|8jyy3GYQ7JCBCNxPR...|jQg6PTFRTa9ViEsPs...|             100.0|                100.0|  8|\n",
      "|1BVGIooHSHeJW8VD6...|TtXufAC4hQ+h2u3+r...|               5.0|                  5.0|  8|\n",
      "|1BVGIooHSHeJW8VD6...|pvm2K8YDDSacYpVdR...|              20.0|                 20.0|  8|\n",
      "|1BVGIooHSHeJW8VD6...|sxKKTA1outMzkB+h5...|               6.0|                  6.0|  8|\n",
      "|1BVGIooHSHeJW8VD6...|cZx5Vxw2ZRWzd+O6K...|              10.0|                 10.0|  8|\n",
      "+--------------------+--------------------+------------------+---------------------+---+\n",
      "only showing top 20 rows\n",
      "\n"
     ]
    },
    {
     "name": "stderr",
     "output_type": "stream",
     "text": [
      "                                                                                \r"
     ]
    }
   ],
   "source": [
    "spark.sql(\"select RUT_SOCIEDAD, RUT_SOCIO,PORCENTAJE_CAPITAL,PORCENTAJE_UTILIDADES, count(*) as c from libsdf.jab_soc_2023_inom  group by  RUT_SOCIEDAD, RUT_SOCIO,PORCENTAJE_CAPITAL,PORCENTAJE_UTILIDADES order by c desc\").createOrReplaceTempView(\"sociedad\")\n",
    "spark.sql(\"select * from sociedad\").show()\n",
    "spark.sql(\"select RUT_SOCIEDAD, RUT_SOCIO,PORCENTAJE_CAPITAL,PORCENTAJE_UTILIDADES from sociedad\").createOrReplaceTempView(\"sociedad\")"
   ]
  },
  {
   "cell_type": "markdown",
   "id": "f8448ca6-06ac-4507-9cc8-77df2bc49765",
   "metadata": {},
   "source": [
    "Donde seleccionamos los valores no repetidos. Haciendo nuevamente un recuento de los valores unicos,"
   ]
  },
  {
   "cell_type": "code",
   "execution_count": 6,
   "id": "73651a80-5cac-4550-ac81-4486ed6a1617",
   "metadata": {},
   "outputs": [
    {
     "name": "stderr",
     "output_type": "stream",
     "text": [
      "[Stage 11:===================================================>  (190 + 1) / 200]"
     ]
    },
    {
     "name": "stdout",
     "output_type": "stream",
     "text": [
      "+--------------------+--------------------+-----+\n",
      "|        RUT_SOCIEDAD|           RUT_SOCIO|count|\n",
      "+--------------------+--------------------+-----+\n",
      "|e+VFGU2vucXoStF+t...|qp6BRBl3OadW5TDF0...|    1|\n",
      "|e+VFGU2vucXoStF+t...|uy8gBxsTIAoilsmE5...|    1|\n",
      "|9kSiOWBXCHZdykR7+...|jVxn1lbMnIpwEJZN2...|    1|\n",
      "|e+VFGU2vucXoStF+t...|1i0BBomnLIfKD/XXD...|    1|\n",
      "|yc6hspZqFEbNhJJP8...|SvDhAdBdOCKyZZYA7...|    1|\n",
      "|x6rQIGfgz3Z7BojeL...|144W+yJiOb8ER+goO...|    1|\n",
      "|yc6hspZqFEbNhJJP8...|yrfk+Gh8/9dj38VFb...|    1|\n",
      "|fTyw3fo5gRziz0I1L...|tyvTWOzJGV99kNy+T...|    1|\n",
      "|yc6hspZqFEbNhJJP8...|qxI4lNL6YQhUBkQT3...|    1|\n",
      "|40IMRrONnyYWAveII...|v9ROzOcxaFFcVQ5pQ...|    1|\n",
      "|015/V4NMbTt4NqHqu...|38Lqh6V8b7B+bSdpR...|    1|\n",
      "|015/V4NMbTt4NqHqu...|NbPNWQqBPacIpc7F6...|    1|\n",
      "|015/V4NMbTt4NqHqu...|a62EWMeriJ5YJNwtJ...|    1|\n",
      "|015/V4NMbTt4NqHqu...|Q/vG1ukCBHfV/Stxi...|    1|\n",
      "|015/V4NMbTt4NqHqu...|dzdnWKvXsZ+8ACNBo...|    1|\n",
      "|015/V4NMbTt4NqHqu...|5QfllB/g2w1HURoXy...|    1|\n",
      "|015/V4NMbTt4NqHqu...|LYrPIz/DlrImf6X0x...|    1|\n",
      "|015/V4NMbTt4NqHqu...|L9Vy5aIG26RL826jg...|    1|\n",
      "|015/V4NMbTt4NqHqu...|1GAVNQK3tcTZkiuKK...|    1|\n",
      "|015/V4NMbTt4NqHqu...|o47RHvvy6UPbYOL8O...|    1|\n",
      "+--------------------+--------------------+-----+\n",
      "only showing top 20 rows\n",
      "\n"
     ]
    },
    {
     "name": "stderr",
     "output_type": "stream",
     "text": [
      "                                                                                \r"
     ]
    }
   ],
   "source": [
    "spark.sql(\"select RUT_SOCIEDAD, RUT_SOCIO, count(*) as count from sociedad group by RUT_SOCIEDAD, RUT_SOCIO order by count desc \").show()"
   ]
  },
  {
   "cell_type": "markdown",
   "id": "ebd9c227-f581-466c-aac1-3949e3edec40",
   "metadata": {},
   "source": [
    "Por lo visto tenemos unicidad de la relaciones sociedad socio, a juzgar por el recuento de las combinaciones. Ahora veremos cuanto suman los valores de PORCENTAJE_CAPITAL,PORCENTAJE_UTILIDADES para cada una de las sociedades.\n"
   ]
  },
  {
   "cell_type": "code",
   "execution_count": 7,
   "id": "3d11b96b-d025-4014-9eb8-e903db4fbccf",
   "metadata": {
    "tags": []
   },
   "outputs": [
    {
     "name": "stderr",
     "output_type": "stream",
     "text": [
      "[Stage 17:===================================================>  (191 + 1) / 200]"
     ]
    },
    {
     "name": "stdout",
     "output_type": "stream",
     "text": [
      "+--------------------+-------+----------+\n",
      "|        RUT_SOCIEDAD|CAPITAL|UTILIDADES|\n",
      "+--------------------+-------+----------+\n",
      "|9wBK6YHDyXlq/Ed6u...|  110.0|     110.0|\n",
      "|myo4OxWpYd0255XXj...|  110.0|     110.0|\n",
      "|ONR3DLcK0NegLf4i+...|  110.0|     100.0|\n",
      "|FNB44Z5TKNqHF4TYx...|  110.0|     100.0|\n",
      "|5EWTF5hs/5vRXGdHH...|  110.0|     110.0|\n",
      "|FP4DQF1WtQZ4m+Vj/...|  110.0|     110.0|\n",
      "|/x+P/IJBmuRyS7uUG...|  110.0|     100.0|\n",
      "|VRCRk78lsO5weXzxa...|  110.0|     110.0|\n",
      "|E8eu9RvVl2VKYJaE7...|  110.0|     110.0|\n",
      "|fqY454/eiLhU8Qd4e...|  110.0|     110.0|\n",
      "|qBN0Ew2XbPgKTj0Py...|  110.0|     100.0|\n",
      "|2TOFC/7MrJKEhKymV...|  110.0|     110.0|\n",
      "|ZtoQRAA/H3Ql5A1jO...|  110.0|     100.0|\n",
      "|kcZJe8WArkU10NEB1...|  110.0|     110.0|\n",
      "|+w9RY/CJXHAqsyhO0...|  110.0|     100.0|\n",
      "|Fa6GyAnBfaQQ7YYG3...|  110.0|     110.0|\n",
      "|pZZCopNrPfyGj8QKh...|  110.0|     100.0|\n",
      "|0XuN90P2eQMydmKE9...|  110.0|     110.0|\n",
      "|zJLdRqdwJgz4dtWd9...|  110.0|     110.0|\n",
      "|W62rStOCYMtosUOwv...|  110.0|     110.0|\n",
      "+--------------------+-------+----------+\n",
      "only showing top 20 rows\n",
      "\n"
     ]
    },
    {
     "name": "stderr",
     "output_type": "stream",
     "text": [
      "                                                                                \r"
     ]
    }
   ],
   "source": [
    "spark.sql(\"select RUT_SOCIEDAD, SUM(PORCENTAJE_CAPITAL) as CAPITAL,SUM(PORCENTAJE_UTILIDADES) as UTILIDADES from sociedad group by RUT_SOCIEDAD order by CAPITAL DESC\").show()"
   ]
  },
  {
   "cell_type": "code",
   "execution_count": 8,
   "id": "bef336b3-7386-466b-a7dd-b1b4a253fb83",
   "metadata": {
    "tags": []
   },
   "outputs": [
    {
     "name": "stderr",
     "output_type": "stream",
     "text": [
      "[Stage 23:===================================================>  (190 + 1) / 200]"
     ]
    },
    {
     "name": "stdout",
     "output_type": "stream",
     "text": [
      "+--------------------+------------------+------------------+\n",
      "|        RUT_SOCIEDAD|           CAPITAL|        UTILIDADES|\n",
      "+--------------------+------------------+------------------+\n",
      "|015/V4NMbTt4NqHqu...|11.289999999999845|11.289999999999845|\n",
      "|SQGKHbSikFL6ZT6ym...|              90.0|              90.0|\n",
      "|8d//bUpKYdANb02dV...|              90.0|              90.0|\n",
      "|Q+cmgqWboWCW6Wnvm...|              90.0|              90.0|\n",
      "|WfN5ivCtfpawg8YPY...|              90.0|             100.0|\n",
      "|KddHijKoifSW++ALJ...|              90.0|              90.0|\n",
      "|r3BMVvWOgCsufJB9v...|              90.0|              90.0|\n",
      "|GHbUh58aurIlhiu/7...|              90.0|             100.0|\n",
      "|jnefoaR6uUq1zcmbo...|              90.0|              90.0|\n",
      "|BqxrnNMQgfk9R8Nft...|              90.0|              90.0|\n",
      "|FXn1NMMA2JANP+RtQ...|              90.0|              90.0|\n",
      "|VqdDckh1KOKR6LSE9...|              90.0|              90.0|\n",
      "|kqvmxZXKear6P8xAR...|              90.0|              90.0|\n",
      "|KCbP4eWACuglK54vf...|              90.0|              90.0|\n",
      "|isAV0r/R6aYZLekZg...|              90.0|              90.0|\n",
      "|8kdy+gxO0aYQNuI+9...|              90.0|              90.0|\n",
      "|rlW6862DnCcRvoVqt...|              90.0|              90.0|\n",
      "|67oIS+PEq0BZGA6Rz...|              90.0|              90.0|\n",
      "|BMt/K6rJfNz8NFp+8...|              90.0|              90.0|\n",
      "|kEkg72n3A2sVOS+/q...|              90.0|              90.0|\n",
      "+--------------------+------------------+------------------+\n",
      "only showing top 20 rows\n",
      "\n"
     ]
    },
    {
     "name": "stderr",
     "output_type": "stream",
     "text": [
      "                                                                                \r"
     ]
    }
   ],
   "source": [
    "spark.sql(\"select RUT_SOCIEDAD, SUM(PORCENTAJE_CAPITAL) as CAPITAL,SUM(PORCENTAJE_UTILIDADES) as UTILIDADES from sociedad group by RUT_SOCIEDAD order by CAPITAL ASC\").show()"
   ]
  },
  {
   "cell_type": "code",
   "execution_count": 9,
   "id": "df744011-6f82-462c-9e12-b5af3efee765",
   "metadata": {
    "tags": []
   },
   "outputs": [
    {
     "name": "stderr",
     "output_type": "stream",
     "text": [
      "                                                                                \r"
     ]
    },
    {
     "name": "stdout",
     "output_type": "stream",
     "text": [
      "          CAPITAL  UTILIDADES\n",
      "count  491.000000  491.000000\n",
      "mean    94.785642   94.520611\n",
      "std      8.458777    8.727403\n",
      "min     11.290000   11.290000\n",
      "25%     90.000000   90.000000\n",
      "50%     91.000000   91.000000\n",
      "75%     94.095000  100.000000\n",
      "max    110.000000  127.000000\n"
     ]
    }
   ],
   "source": [
    "anomalias_sociedades=spark.sql(\"select RUT_SOCIEDAD, SUM(PORCENTAJE_CAPITAL) as CAPITAL,SUM(PORCENTAJE_UTILIDADES) as UTILIDADES from sociedad group by RUT_SOCIEDAD having CAPITAL>105 or CAPITAL<95\").toPandas()\n",
    "anomalias_sociedades.to_csv('data/processed/anomalias_capital_sociedades.csv', index=False)\n",
    "print(anomalias_sociedades.describe())"
   ]
  },
  {
   "cell_type": "markdown",
   "id": "140c6f23-f2bf-4aed-9d06-ff8fa9cef7a2",
   "metadata": {},
   "source": [
    "Ahora vamos las entradas con al menos un valor cero (que indica cero participacion porcentual)"
   ]
  },
  {
   "cell_type": "code",
   "execution_count": 10,
   "id": "56330adb-ffbb-4f15-962e-d1fb30b6fcb9",
   "metadata": {},
   "outputs": [
    {
     "name": "stderr",
     "output_type": "stream",
     "text": [
      "[Stage 33:==================================================>   (187 + 3) / 200]"
     ]
    },
    {
     "name": "stdout",
     "output_type": "stream",
     "text": [
      "+--------+\n",
      "|count(1)|\n",
      "+--------+\n",
      "| 1057765|\n",
      "+--------+\n",
      "\n"
     ]
    },
    {
     "name": "stderr",
     "output_type": "stream",
     "text": [
      "                                                                                \r"
     ]
    }
   ],
   "source": [
    "spark.sql(\"select COUNT(*) from sociedad WHERE PORCENTAJE_CAPITAL=0 OR PORCENTAJE_UTILIDADES=0\").show()"
   ]
  },
  {
   "cell_type": "markdown",
   "id": "dfaced12-3177-47ad-9771-666acbfa0829",
   "metadata": {},
   "source": [
    "Por lo visto, tenemos 1057765 entradas donde al menos uno de ambos porcentajes es cero. Por otro lado, tenemos \n",
    "1053936 registros donde ambos porcentajes son cero.\n"
   ]
  },
  {
   "cell_type": "markdown",
   "id": "cc9e9107-1b2f-49d8-84e2-865574447edb",
   "metadata": {},
   "source": [
    "Ahora veamos cuales porcentajes de capital son cero y luego los porcentajes de utilidades son cero."
   ]
  },
  {
   "cell_type": "code",
   "execution_count": 11,
   "id": "ce98007e-cb86-4885-a52d-3496db714d30",
   "metadata": {
    "tags": []
   },
   "outputs": [
    {
     "name": "stderr",
     "output_type": "stream",
     "text": [
      "                                                                                \r"
     ]
    },
    {
     "name": "stdout",
     "output_type": "stream",
     "text": [
      "+--------+\n",
      "|count(1)|\n",
      "+--------+\n",
      "|    2608|\n",
      "+--------+\n",
      "\n"
     ]
    },
    {
     "name": "stderr",
     "output_type": "stream",
     "text": [
      "[Stage 46:===========================================>              (3 + 1) / 4]"
     ]
    },
    {
     "name": "stdout",
     "output_type": "stream",
     "text": [
      "+--------+\n",
      "|count(1)|\n",
      "+--------+\n",
      "|    1221|\n",
      "+--------+\n",
      "\n"
     ]
    },
    {
     "name": "stderr",
     "output_type": "stream",
     "text": [
      "                                                                                \r"
     ]
    }
   ],
   "source": [
    "spark.sql(\"select count(*) from sociedad WHERE PORCENTAJE_CAPITAL=0 and PORCENTAJE_UTILIDADES!=0\").show()\n",
    "spark.sql(\"select count(*) from sociedad WHERE PORCENTAJE_CAPITAL!=0 and PORCENTAJE_UTILIDADES=0\").show()"
   ]
  },
  {
   "cell_type": "markdown",
   "id": "fa7cedfe-c797-4742-9b64-193be1d85f75",
   "metadata": {},
   "source": [
    "Para el analisis del problema de oscuridad, es mejor tener en cuenta los porcentajes de participacion de capital, porque los creditos se reparten segun la participacion societaria.\n",
    "Ahora veamos cuantos tienen valores positivos mayores que 100 o negativos."
   ]
  },
  {
   "cell_type": "code",
   "execution_count": 12,
   "id": "b485f3fc-7e5a-4e28-ba35-73c2c2807883",
   "metadata": {
    "tags": []
   },
   "outputs": [
    {
     "name": "stderr",
     "output_type": "stream",
     "text": [
      "[Stage 48:=====================================================>  (23 + 1) / 24]"
     ]
    },
    {
     "name": "stdout",
     "output_type": "stream",
     "text": [
      "+--------------------+--------------------+------------------+---------------------+\n",
      "|        RUT_SOCIEDAD|           RUT_SOCIO|PORCENTAJE_CAPITAL|PORCENTAJE_UTILIDADES|\n",
      "+--------------------+--------------------+------------------+---------------------+\n",
      "|qjkqLEYc5TRVKEMYf...|ifIlRQ1yYkDigN1Ii...|            100.01|                100.0|\n",
      "+--------------------+--------------------+------------------+---------------------+\n",
      "\n"
     ]
    },
    {
     "name": "stderr",
     "output_type": "stream",
     "text": [
      "                                                                                \r"
     ]
    }
   ],
   "source": [
    "spark.sql(\"select * from sociedad WHERE PORCENTAJE_CAPITAL<0 or PORCENTAJE_CAPITAL>100 or PORCENTAJE_UTILIDADES<0 or PORCENTAJE_UTILIDADES>100\").show()"
   ]
  },
  {
   "cell_type": "markdown",
   "id": "6c250425-8b01-44e9-9c08-34b08766aca9",
   "metadata": {},
   "source": [
    "El cual es solo un valor levemente superior a 100 %. Seleccionamos los que no tienen valores cero en PORCENTAJE_CAPITAL.\n",
    "IMPORTANTE: de ser utilizado PORCENTAJE_UTILIDADES se debe filtrar sobre esa columna."
   ]
  },
  {
   "cell_type": "code",
   "execution_count": 13,
   "id": "a7a45a4c-77f8-4cd4-95a0-5c2a89290417",
   "metadata": {},
   "outputs": [],
   "source": [
    "spark.sql(\"select * from sociedad where PORCENTAJE_CAPITAL!=0\").createOrReplaceTempView(\"sociedad\")"
   ]
  },
  {
   "cell_type": "code",
   "execution_count": 14,
   "id": "4aabb0d5-8657-432c-a6b4-322e439081d3",
   "metadata": {},
   "outputs": [
    {
     "name": "stderr",
     "output_type": "stream",
     "text": [
      "                                                                                \r"
     ]
    },
    {
     "name": "stdout",
     "output_type": "stream",
     "text": [
      "+--------+\n",
      "|count(1)|\n",
      "+--------+\n",
      "|    5695|\n",
      "+--------+\n",
      "\n"
     ]
    },
    {
     "name": "stderr",
     "output_type": "stream",
     "text": [
      "[Stage 58:=====================================================>  (18 + 1) / 19]"
     ]
    },
    {
     "name": "stdout",
     "output_type": "stream",
     "text": [
      "+--------------------+--------------------+------------------+---------------------+------------------------+------+\n",
      "|        RUT_SOCIEDAD|           RUT_SOCIO|PORCENTAJE_CAPITAL|PORCENTAJE_UTILIDADES|PERI_AGNO_MES_TRIBUTARIO|FUENTE|\n",
      "+--------------------+--------------------+------------------+---------------------+------------------------+------+\n",
      "|Qbau/6SlJ/lEcKUDF...|RQ0TnfBpncysCFzap...|              0.03|                 0.03|                  202300| F1948|\n",
      "|Qbau/6SlJ/lEcKUDF...|i8odveNc3AEZRZWI7...|              0.01|                 0.01|                  202300| F1948|\n",
      "|Qbau/6SlJ/lEcKUDF...|9cDQjPbdfB1EfPUmw...|              0.02|                 0.02|                  202300| F1948|\n",
      "|Qbau/6SlJ/lEcKUDF...|7T3+u8inor8kIrUtm...|              0.02|                 0.02|                  202300| F1948|\n",
      "|Qbau/6SlJ/lEcKUDF...|CbAnOeVKkXKx8w0q3...|              0.01|                 0.01|                  202300| F1948|\n",
      "|Qbau/6SlJ/lEcKUDF...|dEi5RAN/WiSIYuK1s...|              0.01|                 0.01|                  202300| F1948|\n",
      "|Qbau/6SlJ/lEcKUDF...|vhL1+hbOmTVVtbcka...|              0.02|                 0.02|                  202300| F1948|\n",
      "|Qbau/6SlJ/lEcKUDF...|Yf0GsbbLfZQq+6Ur8...|              0.03|                 0.03|                  202300| F1948|\n",
      "|Qbau/6SlJ/lEcKUDF...|T/qAoKtqrmIzcIZGt...|              0.03|                 0.03|                  202300| F1948|\n",
      "|Qbau/6SlJ/lEcKUDF...|veYQhltSzb5l0dL8/...|              0.02|                 0.02|                  202300| F1948|\n",
      "|Qbau/6SlJ/lEcKUDF...|XpH5V4eq+Tu3j80Wm...|              0.04|                 0.04|                  202300| F1948|\n",
      "|Qbau/6SlJ/lEcKUDF...|O/zuukRFaak3Wb0C+...|              0.04|                 0.04|                  202300| F1948|\n",
      "|Qbau/6SlJ/lEcKUDF...|ZTNS3unZFcKQHHs4L...|              0.04|                 0.04|                  202300| F1948|\n",
      "|Qbau/6SlJ/lEcKUDF...|LjBkWt7vEjgAGPat3...|              0.01|                 0.01|                  202300| F1948|\n",
      "|Qbau/6SlJ/lEcKUDF...|H2igHFGW5t8Q3q1vy...|              0.02|                 0.02|                  202300| F1948|\n",
      "|Qbau/6SlJ/lEcKUDF...|b6cx9nBf6AoaJ0DGc...|              0.01|                 0.01|                  202300| F1948|\n",
      "|Qbau/6SlJ/lEcKUDF...|KFn/iogUkFRv+oShM...|              0.01|                 0.01|                  202300| F1948|\n",
      "|Qbau/6SlJ/lEcKUDF...|97XgDtOGy3XoW9hej...|              0.02|                 0.02|                  202300| F1948|\n",
      "|Qbau/6SlJ/lEcKUDF...|uDAdIk+NCvU4os8Gj...|              0.01|                 0.01|                  202300| F1948|\n",
      "|Qbau/6SlJ/lEcKUDF...|2myaaVxbFd+1SOpx6...|              0.03|                 0.03|                  202300| F1948|\n",
      "+--------------------+--------------------+------------------+---------------------+------------------------+------+\n",
      "only showing top 20 rows\n",
      "\n"
     ]
    },
    {
     "name": "stderr",
     "output_type": "stream",
     "text": [
      "                                                                                \r"
     ]
    }
   ],
   "source": [
    "spark.sql(\"select count(*) from sociedad where RUT_SOCIEDAD LIKE 'Qbau/6SlJ/lEcKUD%'\").show()\n",
    "spark.sql(\"select *  from libsdf.jab_soc_2023_inom where RUT_SOCIEDAD LIKE 'Qbau/6SlJ/lEcKUD%'\").show()"
   ]
  },
  {
   "cell_type": "code",
   "execution_count": 15,
   "id": "04125815-cc44-4ff3-b13c-dd3888c0938f",
   "metadata": {
    "tags": []
   },
   "outputs": [
    {
     "name": "stderr",
     "output_type": "stream",
     "text": [
      "                                                                                \r"
     ]
    }
   ],
   "source": [
    "\n",
    "sociedad=spark.sql(\"select * from sociedad\").toPandas()\n",
    "sociedad.to_csv('data/processed/sociedades_participacion_capital_nozero.csv', index=False)"
   ]
  }
 ],
 "metadata": {
  "kernelspec": {
   "display_name": "Python 3 (ipykernel)",
   "language": "python",
   "name": "python3"
  },
  "language_info": {
   "codemirror_mode": {
    "name": "ipython",
    "version": 3
   },
   "file_extension": ".py",
   "mimetype": "text/x-python",
   "name": "python",
   "nbconvert_exporter": "python",
   "pygments_lexer": "ipython3",
   "version": "3.7.16"
  }
 },
 "nbformat": 4,
 "nbformat_minor": 5
}
