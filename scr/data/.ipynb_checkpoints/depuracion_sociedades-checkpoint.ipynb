{
 "cells": [
  {
   "cell_type": "markdown",
   "id": "15c62fbf-493f-4c18-8e55-d9e0fb29b8b6",
   "metadata": {},
   "source": [
    "## Apiux & SII: deteccion de relaciones familiares en personas juridicas.\n",
    "## ATENCION: proyecto sujeto a mantenimiento continuo. \n",
    "\n",
    "## Henry Vega (henry.vega@edu.uai.cl)\n",
    "## Physicist and Data Scientist"
   ]
  },
  {
   "cell_type": "code",
   "execution_count": 1,
   "id": "18bff1a6-1471-4b1a-98af-c1bcd085cf40",
   "metadata": {
    "tags": []
   },
   "outputs": [],
   "source": [
    "from pyspark.sql import SparkSession\n",
    "from pyspark.sql.functions import *\n",
    "from pyspark import SparkContext, SparkConf\n",
    "import pyspark\n",
    "import pandas as pd\n",
    "warnings.filterwarnings('ignore', category=DeprecationWarning)"
   ]
  },
  {
   "cell_type": "code",
   "execution_count": 2,
   "id": "0045495f-27ec-47ad-8474-dd42b9352a2c",
   "metadata": {
    "tags": []
   },
   "outputs": [
    {
     "name": "stderr",
     "output_type": "stream",
     "text": [
      "23/09/25 12:44:03 WARN SparkConf: The configuration key 'spark.yarn.access.hadoopFileSystems' has been deprecated as of Spark 3.0 and may be removed in the future. Please use the new key 'spark.kerberos.access.hadoopFileSystems' instead.\n",
      "23/09/25 12:44:03 WARN SparkConf: The configuration key 'spark.yarn.access.hadoopFileSystems' has been deprecated as of Spark 3.0 and may be removed in the future. Please use the new key 'spark.kerberos.access.hadoopFileSystems' instead.\n",
      "Setting spark.hadoop.yarn.resourcemanager.principal to hvega.externo\n",
      "Using Spark's default log4j profile: org/apache/spark/log4j-defaults.properties\n",
      "Setting default log level to \"WARN\".\n",
      "To adjust logging level use sc.setLogLevel(newLevel). For SparkR, use setLogLevel(newLevel).\n",
      "23/09/25 12:44:03 WARN SparkConf: The configuration key 'spark.yarn.access.hadoopFileSystems' has been deprecated as of Spark 3.0 and may be removed in the future. Please use the new key 'spark.kerberos.access.hadoopFileSystems' instead.\n",
      "23/09/25 12:44:03 WARN SparkConf: The configuration key 'spark.yarn.access.hadoopFileSystems' has been deprecated as of Spark 3.0 and may be removed in the future. Please use the new key 'spark.kerberos.access.hadoopFileSystems' instead.\n",
      "23/09/25 12:44:03 WARN SparkConf: The configuration key 'spark.yarn.access.hadoopFileSystems' has been deprecated as of Spark 3.0 and may be removed in the future. Please use the new key 'spark.kerberos.access.hadoopFileSystems' instead.\n",
      "23/09/25 12:44:04 WARN JettyUtils: GET /jobs/ failed: java.util.NoSuchElementException: Failed to get the application information. If you are starting up Spark, please wait a while until it's ready.\n",
      "java.util.NoSuchElementException: Failed to get the application information. If you are starting up Spark, please wait a while until it's ready.\n",
      "\tat org.apache.spark.status.AppStatusStore.applicationInfo(AppStatusStore.scala:51)\n",
      "\tat org.apache.spark.ui.jobs.AllJobsPage.render(AllJobsPage.scala:276)\n",
      "\tat org.apache.spark.ui.WebUI.$anonfun$attachPage$1(WebUI.scala:90)\n",
      "\tat org.apache.spark.ui.JettyUtils$$anon$1.doGet(JettyUtils.scala:81)\n",
      "\tat javax.servlet.http.HttpServlet.service(HttpServlet.java:503)\n",
      "\tat javax.servlet.http.HttpServlet.service(HttpServlet.java:590)\n",
      "\tat org.sparkproject.jetty.servlet.ServletHolder.handle(ServletHolder.java:791)\n",
      "\tat org.sparkproject.jetty.servlet.ServletHandler$ChainEnd.doFilter(ServletHandler.java:1626)\n",
      "\tat org.apache.spark.ui.HttpSecurityFilter.doFilter(HttpSecurityFilter.scala:95)\n",
      "\tat org.sparkproject.jetty.servlet.FilterHolder.doFilter(FilterHolder.java:193)\n",
      "\tat org.sparkproject.jetty.servlet.ServletHandler$Chain.doFilter(ServletHandler.java:1601)\n",
      "\tat org.sparkproject.jetty.servlet.ServletHandler.doHandle(ServletHandler.java:548)\n",
      "\tat org.sparkproject.jetty.server.handler.ScopedHandler.nextHandle(ScopedHandler.java:233)\n",
      "\tat org.sparkproject.jetty.server.handler.ContextHandler.doHandle(ContextHandler.java:1435)\n",
      "\tat org.sparkproject.jetty.server.handler.ScopedHandler.nextScope(ScopedHandler.java:188)\n",
      "\tat org.sparkproject.jetty.servlet.ServletHandler.doScope(ServletHandler.java:501)\n",
      "\tat org.sparkproject.jetty.server.handler.ScopedHandler.nextScope(ScopedHandler.java:186)\n",
      "\tat org.sparkproject.jetty.server.handler.ContextHandler.doScope(ContextHandler.java:1350)\n",
      "\tat org.sparkproject.jetty.server.handler.ScopedHandler.handle(ScopedHandler.java:141)\n",
      "\tat org.sparkproject.jetty.server.handler.gzip.GzipHandler.handle(GzipHandler.java:763)\n",
      "\tat org.sparkproject.jetty.server.handler.ContextHandlerCollection.handle(ContextHandlerCollection.java:234)\n",
      "\tat org.sparkproject.jetty.server.handler.HandlerWrapper.handle(HandlerWrapper.java:127)\n",
      "\tat org.apache.spark.ui.ProxyRedirectHandler.handle(JettyUtils.scala:581)\n",
      "\tat org.sparkproject.jetty.server.handler.HandlerWrapper.handle(HandlerWrapper.java:127)\n",
      "\tat org.sparkproject.jetty.server.Server.handle(Server.java:516)\n",
      "\tat org.sparkproject.jetty.server.HttpChannel.lambda$handle$1(HttpChannel.java:388)\n",
      "\tat org.sparkproject.jetty.server.HttpChannel.dispatch(HttpChannel.java:633)\n",
      "\tat org.sparkproject.jetty.server.HttpChannel.handle(HttpChannel.java:380)\n",
      "\tat org.sparkproject.jetty.server.HttpConnection.onFillable(HttpConnection.java:277)\n",
      "\tat org.sparkproject.jetty.io.AbstractConnection$ReadCallback.succeeded(AbstractConnection.java:311)\n",
      "\tat org.sparkproject.jetty.io.FillInterest.fillable(FillInterest.java:105)\n",
      "\tat org.sparkproject.jetty.io.ChannelEndPoint$1.run(ChannelEndPoint.java:104)\n",
      "\tat org.sparkproject.jetty.util.thread.QueuedThreadPool.runJob(QueuedThreadPool.java:882)\n",
      "\tat org.sparkproject.jetty.util.thread.QueuedThreadPool$Runner.run(QueuedThreadPool.java:1036)\n",
      "\tat java.lang.Thread.run(Thread.java:750)\n",
      "23/09/25 12:44:04 WARN HttpChannel: /jobs/\n",
      "java.util.NoSuchElementException: Failed to get the application information. If you are starting up Spark, please wait a while until it's ready.\n",
      "\tat org.apache.spark.status.AppStatusStore.applicationInfo(AppStatusStore.scala:51)\n",
      "\tat org.apache.spark.ui.jobs.AllJobsPage.render(AllJobsPage.scala:276)\n",
      "\tat org.apache.spark.ui.WebUI.$anonfun$attachPage$1(WebUI.scala:90)\n",
      "\tat org.apache.spark.ui.JettyUtils$$anon$1.doGet(JettyUtils.scala:81)\n",
      "\tat javax.servlet.http.HttpServlet.service(HttpServlet.java:503)\n",
      "\tat javax.servlet.http.HttpServlet.service(HttpServlet.java:590)\n",
      "\tat org.sparkproject.jetty.servlet.ServletHolder.handle(ServletHolder.java:791)\n",
      "\tat org.sparkproject.jetty.servlet.ServletHandler$ChainEnd.doFilter(ServletHandler.java:1626)\n",
      "\tat org.apache.spark.ui.HttpSecurityFilter.doFilter(HttpSecurityFilter.scala:95)\n",
      "\tat org.sparkproject.jetty.servlet.FilterHolder.doFilter(FilterHolder.java:193)\n",
      "\tat org.sparkproject.jetty.servlet.ServletHandler$Chain.doFilter(ServletHandler.java:1601)\n",
      "\tat org.sparkproject.jetty.servlet.ServletHandler.doHandle(ServletHandler.java:548)\n",
      "\tat org.sparkproject.jetty.server.handler.ScopedHandler.nextHandle(ScopedHandler.java:233)\n",
      "\tat org.sparkproject.jetty.server.handler.ContextHandler.doHandle(ContextHandler.java:1435)\n",
      "\tat org.sparkproject.jetty.server.handler.ScopedHandler.nextScope(ScopedHandler.java:188)\n",
      "\tat org.sparkproject.jetty.servlet.ServletHandler.doScope(ServletHandler.java:501)\n",
      "\tat org.sparkproject.jetty.server.handler.ScopedHandler.nextScope(ScopedHandler.java:186)\n",
      "\tat org.sparkproject.jetty.server.handler.ContextHandler.doScope(ContextHandler.java:1350)\n",
      "\tat org.sparkproject.jetty.server.handler.ScopedHandler.handle(ScopedHandler.java:141)\n",
      "\tat org.sparkproject.jetty.server.handler.gzip.GzipHandler.handle(GzipHandler.java:763)\n",
      "\tat org.sparkproject.jetty.server.handler.ContextHandlerCollection.handle(ContextHandlerCollection.java:234)\n",
      "\tat org.sparkproject.jetty.server.handler.HandlerWrapper.handle(HandlerWrapper.java:127)\n",
      "\tat org.apache.spark.ui.ProxyRedirectHandler.handle(JettyUtils.scala:581)\n",
      "\tat org.sparkproject.jetty.server.handler.HandlerWrapper.handle(HandlerWrapper.java:127)\n",
      "\tat org.sparkproject.jetty.server.Server.handle(Server.java:516)\n",
      "\tat org.sparkproject.jetty.server.HttpChannel.lambda$handle$1(HttpChannel.java:388)\n",
      "\tat org.sparkproject.jetty.server.HttpChannel.dispatch(HttpChannel.java:633)\n",
      "\tat org.sparkproject.jetty.server.HttpChannel.handle(HttpChannel.java:380)\n",
      "\tat org.sparkproject.jetty.server.HttpConnection.onFillable(HttpConnection.java:277)\n",
      "\tat org.sparkproject.jetty.io.AbstractConnection$ReadCallback.succeeded(AbstractConnection.java:311)\n",
      "\tat org.sparkproject.jetty.io.FillInterest.fillable(FillInterest.java:105)\n",
      "\tat org.sparkproject.jetty.io.ChannelEndPoint$1.run(ChannelEndPoint.java:104)\n",
      "\tat org.sparkproject.jetty.util.thread.QueuedThreadPool.runJob(QueuedThreadPool.java:882)\n",
      "\tat org.sparkproject.jetty.util.thread.QueuedThreadPool$Runner.run(QueuedThreadPool.java:1036)\n",
      "\tat java.lang.Thread.run(Thread.java:750)\n",
      "23/09/25 12:44:05 WARN JettyUtils: GET /jobs/ failed: java.util.NoSuchElementException: Failed to get the application information. If you are starting up Spark, please wait a while until it's ready.\n",
      "java.util.NoSuchElementException: Failed to get the application information. If you are starting up Spark, please wait a while until it's ready.\n",
      "\tat org.apache.spark.status.AppStatusStore.applicationInfo(AppStatusStore.scala:51)\n",
      "\tat org.apache.spark.ui.jobs.AllJobsPage.render(AllJobsPage.scala:276)\n",
      "\tat org.apache.spark.ui.WebUI.$anonfun$attachPage$1(WebUI.scala:90)\n",
      "\tat org.apache.spark.ui.JettyUtils$$anon$1.doGet(JettyUtils.scala:81)\n",
      "\tat javax.servlet.http.HttpServlet.service(HttpServlet.java:503)\n",
      "\tat javax.servlet.http.HttpServlet.service(HttpServlet.java:590)\n",
      "\tat org.sparkproject.jetty.servlet.ServletHolder.handle(ServletHolder.java:791)\n",
      "\tat org.sparkproject.jetty.servlet.ServletHandler$ChainEnd.doFilter(ServletHandler.java:1626)\n",
      "\tat org.apache.spark.ui.HttpSecurityFilter.doFilter(HttpSecurityFilter.scala:95)\n",
      "\tat org.sparkproject.jetty.servlet.FilterHolder.doFilter(FilterHolder.java:193)\n",
      "\tat org.sparkproject.jetty.servlet.ServletHandler$Chain.doFilter(ServletHandler.java:1601)\n",
      "\tat org.sparkproject.jetty.servlet.ServletHandler.doHandle(ServletHandler.java:548)\n",
      "\tat org.sparkproject.jetty.server.handler.ScopedHandler.nextHandle(ScopedHandler.java:233)\n",
      "\tat org.sparkproject.jetty.server.handler.ContextHandler.doHandle(ContextHandler.java:1435)\n",
      "\tat org.sparkproject.jetty.server.handler.ScopedHandler.nextScope(ScopedHandler.java:188)\n",
      "\tat org.sparkproject.jetty.servlet.ServletHandler.doScope(ServletHandler.java:501)\n",
      "\tat org.sparkproject.jetty.server.handler.ScopedHandler.nextScope(ScopedHandler.java:186)\n",
      "\tat org.sparkproject.jetty.server.handler.ContextHandler.doScope(ContextHandler.java:1350)\n",
      "\tat org.sparkproject.jetty.server.handler.ScopedHandler.handle(ScopedHandler.java:141)\n",
      "\tat org.sparkproject.jetty.server.handler.gzip.GzipHandler.handle(GzipHandler.java:763)\n",
      "\tat org.sparkproject.jetty.server.handler.ContextHandlerCollection.handle(ContextHandlerCollection.java:234)\n",
      "\tat org.sparkproject.jetty.server.handler.HandlerWrapper.handle(HandlerWrapper.java:127)\n",
      "\tat org.apache.spark.ui.ProxyRedirectHandler.handle(JettyUtils.scala:581)\n",
      "\tat org.sparkproject.jetty.server.handler.HandlerWrapper.handle(HandlerWrapper.java:127)\n",
      "\tat org.sparkproject.jetty.server.Server.handle(Server.java:516)\n",
      "\tat org.sparkproject.jetty.server.HttpChannel.lambda$handle$1(HttpChannel.java:388)\n",
      "\tat org.sparkproject.jetty.server.HttpChannel.dispatch(HttpChannel.java:633)\n",
      "\tat org.sparkproject.jetty.server.HttpChannel.handle(HttpChannel.java:380)\n",
      "\tat org.sparkproject.jetty.server.HttpConnection.onFillable(HttpConnection.java:277)\n",
      "\tat org.sparkproject.jetty.io.AbstractConnection$ReadCallback.succeeded(AbstractConnection.java:311)\n",
      "\tat org.sparkproject.jetty.io.FillInterest.fillable(FillInterest.java:105)\n",
      "\tat org.sparkproject.jetty.io.ChannelEndPoint$1.run(ChannelEndPoint.java:104)\n",
      "\tat org.sparkproject.jetty.util.thread.strategy.EatWhatYouKill.runTask(EatWhatYouKill.java:336)\n",
      "\tat org.sparkproject.jetty.util.thread.strategy.EatWhatYouKill.doProduce(EatWhatYouKill.java:313)\n",
      "\tat org.sparkproject.jetty.util.thread.strategy.EatWhatYouKill.tryProduce(EatWhatYouKill.java:171)\n",
      "\tat org.sparkproject.jetty.util.thread.strategy.EatWhatYouKill.run(EatWhatYouKill.java:129)\n",
      "\tat org.sparkproject.jetty.util.thread.ReservedThreadExecutor$ReservedThread.run(ReservedThreadExecutor.java:383)\n",
      "\tat org.sparkproject.jetty.util.thread.QueuedThreadPool.runJob(QueuedThreadPool.java:882)\n",
      "\tat org.sparkproject.jetty.util.thread.QueuedThreadPool$Runner.run(QueuedThreadPool.java:1036)\n",
      "\tat java.lang.Thread.run(Thread.java:750)\n",
      "23/09/25 12:44:05 WARN HttpChannel: /jobs/\n",
      "java.util.NoSuchElementException: Failed to get the application information. If you are starting up Spark, please wait a while until it's ready.\n",
      "\tat org.apache.spark.status.AppStatusStore.applicationInfo(AppStatusStore.scala:51)\n",
      "\tat org.apache.spark.ui.jobs.AllJobsPage.render(AllJobsPage.scala:276)\n",
      "\tat org.apache.spark.ui.WebUI.$anonfun$attachPage$1(WebUI.scala:90)\n",
      "\tat org.apache.spark.ui.JettyUtils$$anon$1.doGet(JettyUtils.scala:81)\n",
      "\tat javax.servlet.http.HttpServlet.service(HttpServlet.java:503)\n",
      "\tat javax.servlet.http.HttpServlet.service(HttpServlet.java:590)\n",
      "\tat org.sparkproject.jetty.servlet.ServletHolder.handle(ServletHolder.java:791)\n",
      "\tat org.sparkproject.jetty.servlet.ServletHandler$ChainEnd.doFilter(ServletHandler.java:1626)\n",
      "\tat org.apache.spark.ui.HttpSecurityFilter.doFilter(HttpSecurityFilter.scala:95)\n",
      "\tat org.sparkproject.jetty.servlet.FilterHolder.doFilter(FilterHolder.java:193)\n",
      "\tat org.sparkproject.jetty.servlet.ServletHandler$Chain.doFilter(ServletHandler.java:1601)\n",
      "\tat org.sparkproject.jetty.servlet.ServletHandler.doHandle(ServletHandler.java:548)\n",
      "\tat org.sparkproject.jetty.server.handler.ScopedHandler.nextHandle(ScopedHandler.java:233)\n",
      "\tat org.sparkproject.jetty.server.handler.ContextHandler.doHandle(ContextHandler.java:1435)\n",
      "\tat org.sparkproject.jetty.server.handler.ScopedHandler.nextScope(ScopedHandler.java:188)\n",
      "\tat org.sparkproject.jetty.servlet.ServletHandler.doScope(ServletHandler.java:501)\n",
      "\tat org.sparkproject.jetty.server.handler.ScopedHandler.nextScope(ScopedHandler.java:186)\n",
      "\tat org.sparkproject.jetty.server.handler.ContextHandler.doScope(ContextHandler.java:1350)\n",
      "\tat org.sparkproject.jetty.server.handler.ScopedHandler.handle(ScopedHandler.java:141)\n",
      "\tat org.sparkproject.jetty.server.handler.gzip.GzipHandler.handle(GzipHandler.java:763)\n",
      "\tat org.sparkproject.jetty.server.handler.ContextHandlerCollection.handle(ContextHandlerCollection.java:234)\n",
      "\tat org.sparkproject.jetty.server.handler.HandlerWrapper.handle(HandlerWrapper.java:127)\n",
      "\tat org.apache.spark.ui.ProxyRedirectHandler.handle(JettyUtils.scala:581)\n",
      "\tat org.sparkproject.jetty.server.handler.HandlerWrapper.handle(HandlerWrapper.java:127)\n",
      "\tat org.sparkproject.jetty.server.Server.handle(Server.java:516)\n",
      "\tat org.sparkproject.jetty.server.HttpChannel.lambda$handle$1(HttpChannel.java:388)\n",
      "\tat org.sparkproject.jetty.server.HttpChannel.dispatch(HttpChannel.java:633)\n",
      "\tat org.sparkproject.jetty.server.HttpChannel.handle(HttpChannel.java:380)\n",
      "\tat org.sparkproject.jetty.server.HttpConnection.onFillable(HttpConnection.java:277)\n",
      "\tat org.sparkproject.jetty.io.AbstractConnection$ReadCallback.succeeded(AbstractConnection.java:311)\n",
      "\tat org.sparkproject.jetty.io.FillInterest.fillable(FillInterest.java:105)\n",
      "\tat org.sparkproject.jetty.io.ChannelEndPoint$1.run(ChannelEndPoint.java:104)\n",
      "\tat org.sparkproject.jetty.util.thread.strategy.EatWhatYouKill.runTask(EatWhatYouKill.java:336)\n",
      "\tat org.sparkproject.jetty.util.thread.strategy.EatWhatYouKill.doProduce(EatWhatYouKill.java:313)\n",
      "\tat org.sparkproject.jetty.util.thread.strategy.EatWhatYouKill.tryProduce(EatWhatYouKill.java:171)\n",
      "\tat org.sparkproject.jetty.util.thread.strategy.EatWhatYouKill.run(EatWhatYouKill.java:129)\n",
      "\tat org.sparkproject.jetty.util.thread.ReservedThreadExecutor$ReservedThread.run(ReservedThreadExecutor.java:383)\n",
      "\tat org.sparkproject.jetty.util.thread.QueuedThreadPool.runJob(QueuedThreadPool.java:882)\n",
      "\tat org.sparkproject.jetty.util.thread.QueuedThreadPool$Runner.run(QueuedThreadPool.java:1036)\n",
      "\tat java.lang.Thread.run(Thread.java:750)\n",
      "23/09/25 12:44:06 WARN HadoopFSDelegationTokenProvider: Token ABFS/IDBroker has not set up issue date properly. (provided: 0) Using current timestamp (1695645846675) as issue date instead. Consult token implementor to fix the behavior.\n",
      "23/09/25 12:44:06 WARN HadoopFSDelegationTokenProvider: Token ABFS/IDBroker has not set up issue date properly. (provided: 0) Using current timestamp (1695645846679) as issue date instead. Consult token implementor to fix the behavior.\n",
      "23/09/25 12:44:06 WARN JettyUtils: GET /jobs/ failed: java.util.NoSuchElementException: Failed to get the application information. If you are starting up Spark, please wait a while until it's ready.\n",
      "java.util.NoSuchElementException: Failed to get the application information. If you are starting up Spark, please wait a while until it's ready.\n",
      "\tat org.apache.spark.status.AppStatusStore.applicationInfo(AppStatusStore.scala:51)\n",
      "\tat org.apache.spark.ui.jobs.AllJobsPage.render(AllJobsPage.scala:276)\n",
      "\tat org.apache.spark.ui.WebUI.$anonfun$attachPage$1(WebUI.scala:90)\n",
      "\tat org.apache.spark.ui.JettyUtils$$anon$1.doGet(JettyUtils.scala:81)\n",
      "\tat javax.servlet.http.HttpServlet.service(HttpServlet.java:503)\n",
      "\tat javax.servlet.http.HttpServlet.service(HttpServlet.java:590)\n",
      "\tat org.sparkproject.jetty.servlet.ServletHolder.handle(ServletHolder.java:791)\n",
      "\tat org.sparkproject.jetty.servlet.ServletHandler$ChainEnd.doFilter(ServletHandler.java:1626)\n",
      "\tat org.apache.spark.ui.HttpSecurityFilter.doFilter(HttpSecurityFilter.scala:95)\n",
      "\tat org.sparkproject.jetty.servlet.FilterHolder.doFilter(FilterHolder.java:193)\n",
      "\tat org.sparkproject.jetty.servlet.ServletHandler$Chain.doFilter(ServletHandler.java:1601)\n",
      "\tat org.sparkproject.jetty.servlet.ServletHandler.doHandle(ServletHandler.java:548)\n",
      "\tat org.sparkproject.jetty.server.handler.ScopedHandler.nextHandle(ScopedHandler.java:233)\n",
      "\tat org.sparkproject.jetty.server.handler.ContextHandler.doHandle(ContextHandler.java:1435)\n",
      "\tat org.sparkproject.jetty.server.handler.ScopedHandler.nextScope(ScopedHandler.java:188)\n",
      "\tat org.sparkproject.jetty.servlet.ServletHandler.doScope(ServletHandler.java:501)\n",
      "\tat org.sparkproject.jetty.server.handler.ScopedHandler.nextScope(ScopedHandler.java:186)\n",
      "\tat org.sparkproject.jetty.server.handler.ContextHandler.doScope(ContextHandler.java:1350)\n",
      "\tat org.sparkproject.jetty.server.handler.ScopedHandler.handle(ScopedHandler.java:141)\n",
      "\tat org.sparkproject.jetty.server.handler.gzip.GzipHandler.handle(GzipHandler.java:763)\n",
      "\tat org.sparkproject.jetty.server.handler.ContextHandlerCollection.handle(ContextHandlerCollection.java:234)\n",
      "\tat org.sparkproject.jetty.server.handler.HandlerWrapper.handle(HandlerWrapper.java:127)\n",
      "\tat org.apache.spark.ui.ProxyRedirectHandler.handle(JettyUtils.scala:581)\n",
      "\tat org.sparkproject.jetty.server.handler.HandlerWrapper.handle(HandlerWrapper.java:127)\n",
      "\tat org.sparkproject.jetty.server.Server.handle(Server.java:516)\n",
      "\tat org.sparkproject.jetty.server.HttpChannel.lambda$handle$1(HttpChannel.java:388)\n",
      "\tat org.sparkproject.jetty.server.HttpChannel.dispatch(HttpChannel.java:633)\n",
      "\tat org.sparkproject.jetty.server.HttpChannel.handle(HttpChannel.java:380)\n",
      "\tat org.sparkproject.jetty.server.HttpConnection.onFillable(HttpConnection.java:277)\n",
      "\tat org.sparkproject.jetty.io.AbstractConnection$ReadCallback.succeeded(AbstractConnection.java:311)\n",
      "\tat org.sparkproject.jetty.io.FillInterest.fillable(FillInterest.java:105)\n",
      "\tat org.sparkproject.jetty.io.ChannelEndPoint$1.run(ChannelEndPoint.java:104)\n",
      "\tat org.sparkproject.jetty.util.thread.strategy.EatWhatYouKill.runTask(EatWhatYouKill.java:336)\n",
      "\tat org.sparkproject.jetty.util.thread.strategy.EatWhatYouKill.doProduce(EatWhatYouKill.java:313)\n",
      "\tat org.sparkproject.jetty.util.thread.strategy.EatWhatYouKill.tryProduce(EatWhatYouKill.java:171)\n",
      "\tat org.sparkproject.jetty.util.thread.strategy.EatWhatYouKill.run(EatWhatYouKill.java:129)\n",
      "\tat org.sparkproject.jetty.util.thread.ReservedThreadExecutor$ReservedThread.run(ReservedThreadExecutor.java:383)\n",
      "\tat org.sparkproject.jetty.util.thread.QueuedThreadPool.runJob(QueuedThreadPool.java:882)\n",
      "\tat org.sparkproject.jetty.util.thread.QueuedThreadPool$Runner.run(QueuedThreadPool.java:1036)\n",
      "\tat java.lang.Thread.run(Thread.java:750)\n",
      "23/09/25 12:44:06 WARN HttpChannel: /jobs/\n",
      "java.util.NoSuchElementException: Failed to get the application information. If you are starting up Spark, please wait a while until it's ready.\n",
      "\tat org.apache.spark.status.AppStatusStore.applicationInfo(AppStatusStore.scala:51)\n",
      "\tat org.apache.spark.ui.jobs.AllJobsPage.render(AllJobsPage.scala:276)\n",
      "\tat org.apache.spark.ui.WebUI.$anonfun$attachPage$1(WebUI.scala:90)\n",
      "\tat org.apache.spark.ui.JettyUtils$$anon$1.doGet(JettyUtils.scala:81)\n",
      "\tat javax.servlet.http.HttpServlet.service(HttpServlet.java:503)\n",
      "\tat javax.servlet.http.HttpServlet.service(HttpServlet.java:590)\n",
      "\tat org.sparkproject.jetty.servlet.ServletHolder.handle(ServletHolder.java:791)\n",
      "\tat org.sparkproject.jetty.servlet.ServletHandler$ChainEnd.doFilter(ServletHandler.java:1626)\n",
      "\tat org.apache.spark.ui.HttpSecurityFilter.doFilter(HttpSecurityFilter.scala:95)\n",
      "\tat org.sparkproject.jetty.servlet.FilterHolder.doFilter(FilterHolder.java:193)\n",
      "\tat org.sparkproject.jetty.servlet.ServletHandler$Chain.doFilter(ServletHandler.java:1601)\n",
      "\tat org.sparkproject.jetty.servlet.ServletHandler.doHandle(ServletHandler.java:548)\n",
      "\tat org.sparkproject.jetty.server.handler.ScopedHandler.nextHandle(ScopedHandler.java:233)\n",
      "\tat org.sparkproject.jetty.server.handler.ContextHandler.doHandle(ContextHandler.java:1435)\n",
      "\tat org.sparkproject.jetty.server.handler.ScopedHandler.nextScope(ScopedHandler.java:188)\n",
      "\tat org.sparkproject.jetty.servlet.ServletHandler.doScope(ServletHandler.java:501)\n",
      "\tat org.sparkproject.jetty.server.handler.ScopedHandler.nextScope(ScopedHandler.java:186)\n",
      "\tat org.sparkproject.jetty.server.handler.ContextHandler.doScope(ContextHandler.java:1350)\n",
      "\tat org.sparkproject.jetty.server.handler.ScopedHandler.handle(ScopedHandler.java:141)\n",
      "\tat org.sparkproject.jetty.server.handler.gzip.GzipHandler.handle(GzipHandler.java:763)\n",
      "\tat org.sparkproject.jetty.server.handler.ContextHandlerCollection.handle(ContextHandlerCollection.java:234)\n",
      "\tat org.sparkproject.jetty.server.handler.HandlerWrapper.handle(HandlerWrapper.java:127)\n",
      "\tat org.apache.spark.ui.ProxyRedirectHandler.handle(JettyUtils.scala:581)\n",
      "\tat org.sparkproject.jetty.server.handler.HandlerWrapper.handle(HandlerWrapper.java:127)\n",
      "\tat org.sparkproject.jetty.server.Server.handle(Server.java:516)\n",
      "\tat org.sparkproject.jetty.server.HttpChannel.lambda$handle$1(HttpChannel.java:388)\n",
      "\tat org.sparkproject.jetty.server.HttpChannel.dispatch(HttpChannel.java:633)\n",
      "\tat org.sparkproject.jetty.server.HttpChannel.handle(HttpChannel.java:380)\n",
      "\tat org.sparkproject.jetty.server.HttpConnection.onFillable(HttpConnection.java:277)\n",
      "\tat org.sparkproject.jetty.io.AbstractConnection$ReadCallback.succeeded(AbstractConnection.java:311)\n",
      "\tat org.sparkproject.jetty.io.FillInterest.fillable(FillInterest.java:105)\n",
      "\tat org.sparkproject.jetty.io.ChannelEndPoint$1.run(ChannelEndPoint.java:104)\n",
      "\tat org.sparkproject.jetty.util.thread.strategy.EatWhatYouKill.runTask(EatWhatYouKill.java:336)\n",
      "\tat org.sparkproject.jetty.util.thread.strategy.EatWhatYouKill.doProduce(EatWhatYouKill.java:313)\n",
      "\tat org.sparkproject.jetty.util.thread.strategy.EatWhatYouKill.tryProduce(EatWhatYouKill.java:171)\n",
      "\tat org.sparkproject.jetty.util.thread.strategy.EatWhatYouKill.run(EatWhatYouKill.java:129)\n",
      "\tat org.sparkproject.jetty.util.thread.ReservedThreadExecutor$ReservedThread.run(ReservedThreadExecutor.java:383)\n",
      "\tat org.sparkproject.jetty.util.thread.QueuedThreadPool.runJob(QueuedThreadPool.java:882)\n",
      "\tat org.sparkproject.jetty.util.thread.QueuedThreadPool$Runner.run(QueuedThreadPool.java:1036)\n",
      "\tat java.lang.Thread.run(Thread.java:750)\n",
      "23/09/25 12:44:07 WARN HiveServer2CredentialProvider: Failed to get HS2 delegation token\n",
      "java.util.NoSuchElementException: spark.sql.hive.hiveserver2.jdbc.url\n",
      "\tat org.apache.spark.SparkConf.$anonfun$get$1(SparkConf.scala:245)\n",
      "\tat scala.Option.getOrElse(Option.scala:189)\n",
      "\tat org.apache.spark.SparkConf.get(SparkConf.scala:245)\n",
      "\tat com.hortonworks.spark.deploy.yarn.security.HiveServer2CredentialProvider.obtainDelegationTokens(HiveServer2CredentialProvider.scala:64)\n",
      "\tat org.apache.spark.deploy.security.HadoopDelegationTokenManager.$anonfun$obtainDelegationTokens$2(HadoopDelegationTokenManager.scala:164)\n",
      "\tat scala.collection.TraversableLike.$anonfun$flatMap$1(TraversableLike.scala:245)\n",
      "\tat scala.collection.Iterator.foreach(Iterator.scala:941)\n",
      "\tat scala.collection.Iterator.foreach$(Iterator.scala:941)\n",
      "\tat scala.collection.AbstractIterator.foreach(Iterator.scala:1429)\n",
      "\tat scala.collection.MapLike$DefaultValuesIterable.foreach(MapLike.scala:213)\n",
      "\tat scala.collection.TraversableLike.flatMap(TraversableLike.scala:245)\n",
      "\tat scala.collection.TraversableLike.flatMap$(TraversableLike.scala:242)\n",
      "\tat scala.collection.AbstractTraversable.flatMap(Traversable.scala:108)\n",
      "\tat org.apache.spark.deploy.security.HadoopDelegationTokenManager.org$apache$spark$deploy$security$HadoopDelegationTokenManager$$obtainDelegationTokens(HadoopDelegationTokenManager.scala:162)\n",
      "\tat org.apache.spark.deploy.security.HadoopDelegationTokenManager$$anon$4.run(HadoopDelegationTokenManager.scala:226)\n",
      "\tat org.apache.spark.deploy.security.HadoopDelegationTokenManager$$anon$4.run(HadoopDelegationTokenManager.scala:224)\n",
      "\tat java.security.AccessController.doPrivileged(Native Method)\n",
      "\tat javax.security.auth.Subject.doAs(Subject.java:422)\n",
      "\tat org.apache.hadoop.security.UserGroupInformation.doAs(UserGroupInformation.java:1899)\n",
      "\tat org.apache.spark.deploy.security.HadoopDelegationTokenManager.obtainTokensAndScheduleRenewal(HadoopDelegationTokenManager.scala:224)\n",
      "\tat org.apache.spark.deploy.security.HadoopDelegationTokenManager.org$apache$spark$deploy$security$HadoopDelegationTokenManager$$updateTokensTask(HadoopDelegationTokenManager.scala:198)\n",
      "\tat org.apache.spark.deploy.security.HadoopDelegationTokenManager.start(HadoopDelegationTokenManager.scala:123)\n",
      "\tat org.apache.spark.scheduler.cluster.CoarseGrainedSchedulerBackend.$anonfun$start$1(CoarseGrainedSchedulerBackend.scala:552)\n",
      "\tat org.apache.spark.scheduler.cluster.CoarseGrainedSchedulerBackend.$anonfun$start$1$adapted(CoarseGrainedSchedulerBackend.scala:549)\n",
      "\tat scala.Option.foreach(Option.scala:407)\n",
      "\tat org.apache.spark.scheduler.cluster.CoarseGrainedSchedulerBackend.start(CoarseGrainedSchedulerBackend.scala:549)\n",
      "\tat org.apache.spark.scheduler.cluster.k8s.KubernetesClusterSchedulerBackend.start(KubernetesClusterSchedulerBackend.scala:95)\n",
      "\tat org.apache.spark.scheduler.TaskSchedulerImpl.start(TaskSchedulerImpl.scala:220)\n",
      "\tat org.apache.spark.SparkContext.<init>(SparkContext.scala:581)\n",
      "\tat org.apache.spark.api.java.JavaSparkContext.<init>(JavaSparkContext.scala:58)\n",
      "\tat sun.reflect.NativeConstructorAccessorImpl.newInstance0(Native Method)\n",
      "\tat sun.reflect.NativeConstructorAccessorImpl.newInstance(NativeConstructorAccessorImpl.java:62)\n",
      "\tat sun.reflect.DelegatingConstructorAccessorImpl.newInstance(DelegatingConstructorAccessorImpl.java:45)\n",
      "\tat java.lang.reflect.Constructor.newInstance(Constructor.java:423)\n",
      "\tat py4j.reflection.MethodInvoker.invoke(MethodInvoker.java:247)\n",
      "\tat py4j.reflection.ReflectionEngine.invoke(ReflectionEngine.java:357)\n",
      "\tat py4j.Gateway.invoke(Gateway.java:238)\n",
      "\tat py4j.commands.ConstructorCommand.invokeConstructor(ConstructorCommand.java:80)\n",
      "\tat py4j.commands.ConstructorCommand.execute(ConstructorCommand.java:69)\n",
      "\tat py4j.ClientServerConnection.waitForCommands(ClientServerConnection.java:182)\n",
      "\tat py4j.ClientServerConnection.run(ClientServerConnection.java:106)\n",
      "\tat java.lang.Thread.run(Thread.java:750)\n",
      "23/09/25 12:44:07 WARN JettyUtils: GET /jobs/ failed: java.util.NoSuchElementException: Failed to get the application information. If you are starting up Spark, please wait a while until it's ready.\n",
      "java.util.NoSuchElementException: Failed to get the application information. If you are starting up Spark, please wait a while until it's ready.\n",
      "\tat org.apache.spark.status.AppStatusStore.applicationInfo(AppStatusStore.scala:51)\n",
      "\tat org.apache.spark.ui.jobs.AllJobsPage.render(AllJobsPage.scala:276)\n",
      "\tat org.apache.spark.ui.WebUI.$anonfun$attachPage$1(WebUI.scala:90)\n",
      "\tat org.apache.spark.ui.JettyUtils$$anon$1.doGet(JettyUtils.scala:81)\n",
      "\tat javax.servlet.http.HttpServlet.service(HttpServlet.java:503)\n",
      "\tat javax.servlet.http.HttpServlet.service(HttpServlet.java:590)\n",
      "\tat org.sparkproject.jetty.servlet.ServletHolder.handle(ServletHolder.java:791)\n",
      "\tat org.sparkproject.jetty.servlet.ServletHandler$ChainEnd.doFilter(ServletHandler.java:1626)\n",
      "\tat org.apache.spark.ui.HttpSecurityFilter.doFilter(HttpSecurityFilter.scala:95)\n",
      "\tat org.sparkproject.jetty.servlet.FilterHolder.doFilter(FilterHolder.java:193)\n",
      "\tat org.sparkproject.jetty.servlet.ServletHandler$Chain.doFilter(ServletHandler.java:1601)\n",
      "\tat org.sparkproject.jetty.servlet.ServletHandler.doHandle(ServletHandler.java:548)\n",
      "\tat org.sparkproject.jetty.server.handler.ScopedHandler.nextHandle(ScopedHandler.java:233)\n",
      "\tat org.sparkproject.jetty.server.handler.ContextHandler.doHandle(ContextHandler.java:1435)\n",
      "\tat org.sparkproject.jetty.server.handler.ScopedHandler.nextScope(ScopedHandler.java:188)\n",
      "\tat org.sparkproject.jetty.servlet.ServletHandler.doScope(ServletHandler.java:501)\n",
      "\tat org.sparkproject.jetty.server.handler.ScopedHandler.nextScope(ScopedHandler.java:186)\n",
      "\tat org.sparkproject.jetty.server.handler.ContextHandler.doScope(ContextHandler.java:1350)\n",
      "\tat org.sparkproject.jetty.server.handler.ScopedHandler.handle(ScopedHandler.java:141)\n",
      "\tat org.sparkproject.jetty.server.handler.gzip.GzipHandler.handle(GzipHandler.java:763)\n",
      "\tat org.sparkproject.jetty.server.handler.ContextHandlerCollection.handle(ContextHandlerCollection.java:234)\n",
      "\tat org.sparkproject.jetty.server.handler.HandlerWrapper.handle(HandlerWrapper.java:127)\n",
      "\tat org.apache.spark.ui.ProxyRedirectHandler.handle(JettyUtils.scala:581)\n",
      "\tat org.sparkproject.jetty.server.handler.HandlerWrapper.handle(HandlerWrapper.java:127)\n",
      "\tat org.sparkproject.jetty.server.Server.handle(Server.java:516)\n",
      "\tat org.sparkproject.jetty.server.HttpChannel.lambda$handle$1(HttpChannel.java:388)\n",
      "\tat org.sparkproject.jetty.server.HttpChannel.dispatch(HttpChannel.java:633)\n",
      "\tat org.sparkproject.jetty.server.HttpChannel.handle(HttpChannel.java:380)\n",
      "\tat org.sparkproject.jetty.server.HttpConnection.onFillable(HttpConnection.java:277)\n",
      "\tat org.sparkproject.jetty.io.AbstractConnection$ReadCallback.succeeded(AbstractConnection.java:311)\n",
      "\tat org.sparkproject.jetty.io.FillInterest.fillable(FillInterest.java:105)\n",
      "\tat org.sparkproject.jetty.io.ChannelEndPoint$1.run(ChannelEndPoint.java:104)\n",
      "\tat org.sparkproject.jetty.util.thread.strategy.EatWhatYouKill.runTask(EatWhatYouKill.java:336)\n",
      "\tat org.sparkproject.jetty.util.thread.strategy.EatWhatYouKill.doProduce(EatWhatYouKill.java:313)\n",
      "\tat org.sparkproject.jetty.util.thread.strategy.EatWhatYouKill.tryProduce(EatWhatYouKill.java:171)\n",
      "\tat org.sparkproject.jetty.util.thread.strategy.EatWhatYouKill.run(EatWhatYouKill.java:129)\n",
      "\tat org.sparkproject.jetty.util.thread.ReservedThreadExecutor$ReservedThread.run(ReservedThreadExecutor.java:383)\n",
      "\tat org.sparkproject.jetty.util.thread.QueuedThreadPool.runJob(QueuedThreadPool.java:882)\n",
      "\tat org.sparkproject.jetty.util.thread.QueuedThreadPool$Runner.run(QueuedThreadPool.java:1036)\n",
      "\tat java.lang.Thread.run(Thread.java:750)\n",
      "23/09/25 12:44:07 WARN HttpChannel: /jobs/\n",
      "java.util.NoSuchElementException: Failed to get the application information. If you are starting up Spark, please wait a while until it's ready.\n",
      "\tat org.apache.spark.status.AppStatusStore.applicationInfo(AppStatusStore.scala:51)\n",
      "\tat org.apache.spark.ui.jobs.AllJobsPage.render(AllJobsPage.scala:276)\n",
      "\tat org.apache.spark.ui.WebUI.$anonfun$attachPage$1(WebUI.scala:90)\n",
      "\tat org.apache.spark.ui.JettyUtils$$anon$1.doGet(JettyUtils.scala:81)\n",
      "\tat javax.servlet.http.HttpServlet.service(HttpServlet.java:503)\n",
      "\tat javax.servlet.http.HttpServlet.service(HttpServlet.java:590)\n",
      "\tat org.sparkproject.jetty.servlet.ServletHolder.handle(ServletHolder.java:791)\n",
      "\tat org.sparkproject.jetty.servlet.ServletHandler$ChainEnd.doFilter(ServletHandler.java:1626)\n",
      "\tat org.apache.spark.ui.HttpSecurityFilter.doFilter(HttpSecurityFilter.scala:95)\n",
      "\tat org.sparkproject.jetty.servlet.FilterHolder.doFilter(FilterHolder.java:193)\n",
      "\tat org.sparkproject.jetty.servlet.ServletHandler$Chain.doFilter(ServletHandler.java:1601)\n",
      "\tat org.sparkproject.jetty.servlet.ServletHandler.doHandle(ServletHandler.java:548)\n",
      "\tat org.sparkproject.jetty.server.handler.ScopedHandler.nextHandle(ScopedHandler.java:233)\n",
      "\tat org.sparkproject.jetty.server.handler.ContextHandler.doHandle(ContextHandler.java:1435)\n",
      "\tat org.sparkproject.jetty.server.handler.ScopedHandler.nextScope(ScopedHandler.java:188)\n",
      "\tat org.sparkproject.jetty.servlet.ServletHandler.doScope(ServletHandler.java:501)\n",
      "\tat org.sparkproject.jetty.server.handler.ScopedHandler.nextScope(ScopedHandler.java:186)\n",
      "\tat org.sparkproject.jetty.server.handler.ContextHandler.doScope(ContextHandler.java:1350)\n",
      "\tat org.sparkproject.jetty.server.handler.ScopedHandler.handle(ScopedHandler.java:141)\n",
      "\tat org.sparkproject.jetty.server.handler.gzip.GzipHandler.handle(GzipHandler.java:763)\n",
      "\tat org.sparkproject.jetty.server.handler.ContextHandlerCollection.handle(ContextHandlerCollection.java:234)\n",
      "\tat org.sparkproject.jetty.server.handler.HandlerWrapper.handle(HandlerWrapper.java:127)\n",
      "\tat org.apache.spark.ui.ProxyRedirectHandler.handle(JettyUtils.scala:581)\n",
      "\tat org.sparkproject.jetty.server.handler.HandlerWrapper.handle(HandlerWrapper.java:127)\n",
      "\tat org.sparkproject.jetty.server.Server.handle(Server.java:516)\n",
      "\tat org.sparkproject.jetty.server.HttpChannel.lambda$handle$1(HttpChannel.java:388)\n",
      "\tat org.sparkproject.jetty.server.HttpChannel.dispatch(HttpChannel.java:633)\n",
      "\tat org.sparkproject.jetty.server.HttpChannel.handle(HttpChannel.java:380)\n",
      "\tat org.sparkproject.jetty.server.HttpConnection.onFillable(HttpConnection.java:277)\n",
      "\tat org.sparkproject.jetty.io.AbstractConnection$ReadCallback.succeeded(AbstractConnection.java:311)\n",
      "\tat org.sparkproject.jetty.io.FillInterest.fillable(FillInterest.java:105)\n",
      "\tat org.sparkproject.jetty.io.ChannelEndPoint$1.run(ChannelEndPoint.java:104)\n",
      "\tat org.sparkproject.jetty.util.thread.strategy.EatWhatYouKill.runTask(EatWhatYouKill.java:336)\n",
      "\tat org.sparkproject.jetty.util.thread.strategy.EatWhatYouKill.doProduce(EatWhatYouKill.java:313)\n",
      "\tat org.sparkproject.jetty.util.thread.strategy.EatWhatYouKill.tryProduce(EatWhatYouKill.java:171)\n",
      "\tat org.sparkproject.jetty.util.thread.strategy.EatWhatYouKill.run(EatWhatYouKill.java:129)\n",
      "\tat org.sparkproject.jetty.util.thread.ReservedThreadExecutor$ReservedThread.run(ReservedThreadExecutor.java:383)\n",
      "\tat org.sparkproject.jetty.util.thread.QueuedThreadPool.runJob(QueuedThreadPool.java:882)\n",
      "\tat org.sparkproject.jetty.util.thread.QueuedThreadPool$Runner.run(QueuedThreadPool.java:1036)\n",
      "\tat java.lang.Thread.run(Thread.java:750)\n",
      "23/09/25 12:44:08 WARN ExecutorAllocationManager: Dynamic allocation without a shuffle service is an experimental feature.\n"
     ]
    }
   ],
   "source": [
    "spark = SparkSession.builder \\\n",
    "    .appName(\"Test\") \\\n",
    "    .config(\"spark.yarn.access.hadoopFileSystems\",\"abfs://data@datalakesii.dfs.core.windows.net/\") \\\n",
    "    .getOrCreate()\n",
    "warnings.filterwarnings('ignore')\n",
    "sc=spark.sparkContext\n",
    "sc.setLogLevel ('ERROR')"
   ]
  },
  {
   "cell_type": "markdown",
   "id": "58a9214b-c852-41f7-8ea9-e7ced5442083",
   "metadata": {},
   "source": [
    "## Carga de relaciones societarias y depuracion de data"
   ]
  },
  {
   "cell_type": "markdown",
   "id": "0a26abff-6ccc-4904-a629-cc5b2629c932",
   "metadata": {},
   "source": [
    "Primero, veamos los valores null en participacion de capital y participacion de utilidades."
   ]
  },
  {
   "cell_type": "code",
   "execution_count": 3,
   "id": "e76d0bab-25b8-40cf-8c05-3a372108322a",
   "metadata": {
    "tags": []
   },
   "outputs": [
    {
     "name": "stderr",
     "output_type": "stream",
     "text": [
      "Hive Session ID = 8883e209-5ff0-4197-8715-d781ef3f471c\n",
      "                                                                                \r"
     ]
    },
    {
     "name": "stdout",
     "output_type": "stream",
     "text": [
      "+------------+---------+------------------+---------------------+\n",
      "|RUT_SOCIEDAD|RUT_SOCIO|PORCENTAJE_CAPITAL|PORCENTAJE_UTILIDADES|\n",
      "+------------+---------+------------------+---------------------+\n",
      "+------------+---------+------------------+---------------------+\n",
      "\n"
     ]
    }
   ],
   "source": [
    "spark.sql(\"select RUT_SOCIEDAD, RUT_SOCIO,PORCENTAJE_CAPITAL,PORCENTAJE_UTILIDADES from libsdf.jab_soc_2023_inom where PORCENTAJE_CAPITAL is null or PORCENTAJE_UTILIDADES IS NULL\").show()"
   ]
  },
  {
   "cell_type": "markdown",
   "id": "96f026f6-343c-4006-b484-7c8232160562",
   "metadata": {},
   "source": [
    "Vemos que no hay valores nulos en la tabla. A continuacion veamos cuantos duplicados existen en las columnas de interes:\n",
    "RUT_SOCIEDAD,RUT_SOCIO,PORCENTAJE_CAPITAL,PORCENTAJE_UTILIDADES, pues todos\n",
    "los calculos lo haremos basados en esta columnas."
   ]
  },
  {
   "cell_type": "code",
   "execution_count": 4,
   "id": "b3876098-aa39-4dd5-bdf3-064bee84b393",
   "metadata": {
    "tags": []
   },
   "outputs": [],
   "source": [
    "spark.sql(\"select RUT_SOCIEDAD, RUT_SOCIO,PORCENTAJE_CAPITAL,PORCENTAJE_UTILIDADES, count(*) as c from libsdf.jab_soc_2023_inom  group by  RUT_SOCIEDAD, RUT_SOCIO,PORCENTAJE_CAPITAL,PORCENTAJE_UTILIDADES order by c desc\").createOrReplaceTempView(\"sociedad\")\n",
    "spark.sql(\"select RUT_SOCIEDAD, RUT_SOCIO,PORCENTAJE_CAPITAL,PORCENTAJE_UTILIDADES from sociedad\").createOrReplaceTempView(\"sociedad\")"
   ]
  },
  {
   "cell_type": "markdown",
   "id": "f8448ca6-06ac-4507-9cc8-77df2bc49765",
   "metadata": {},
   "source": [
    "Donde seleccionamos los valores no repetidos. Haciendo nuevamente un recuento de los valores unicos,"
   ]
  },
  {
   "cell_type": "code",
   "execution_count": 5,
   "id": "73651a80-5cac-4550-ac81-4486ed6a1617",
   "metadata": {},
   "outputs": [
    {
     "name": "stderr",
     "output_type": "stream",
     "text": [
      "[Stage 7:=======================================>                   (2 + 1) / 3]\r"
     ]
    },
    {
     "name": "stdout",
     "output_type": "stream",
     "text": [
      "+--------------------+--------------------+-----+\n",
      "|        RUT_SOCIEDAD|           RUT_SOCIO|count|\n",
      "+--------------------+--------------------+-----+\n",
      "|XT3/hfy+Mplva3KQa...|sfcXDRR254XVzqQ4O...|    1|\n",
      "|lKwPyzZ50d5RMJ7+8...|rPDbcinptR5QgL7Fo...|    1|\n",
      "|AQBAdao900uSGrRq2...|nrOXCvl8COOcZFJhu...|    1|\n",
      "|TwVXQ1e0e7aVWeexZ...|+23KlPaxKqyoiio8l...|    1|\n",
      "|WutkO6PyeL3Gwr/Ro...|PgOwgqXuuOl/Ll3F6...|    1|\n",
      "|M4rT29AnuVrWws3v/...|1Ow3yOf5KwmW7D8PQ...|    1|\n",
      "|QFYeLe6LSuc8MEf+x...|+dUcXuKse4ifhqrsE...|    1|\n",
      "|h/Fm9nDrvGnno0hJu...|SMX6DBoFu9qZiApzB...|    1|\n",
      "|nRovg2pv6/A0+S3jo...|oBsxtoJwWjnPlsQQu...|    1|\n",
      "|PzN83I4W/MDeOqqUa...|O6imj6gnyr7DZtqMO...|    1|\n",
      "|ZVy9Q0ZtQxngY7kyy...|0Ahvdd2Rlsdg4dXA6...|    1|\n",
      "|rK5DS6cOT5MN7Q57Q...|1fyW8k4b7dp0/KJN1...|    1|\n",
      "|ZvkldJRFTk3tGb0h7...|t4gNmxiyLVzUljdZ/...|    1|\n",
      "|LXlP0klmM1ZKTTN3f...|vLpDZEDAGoElvkWsh...|    1|\n",
      "|EZ1Y7BZcr5un4m5kE...|vOAZ6FN8w8H3lJRLG...|    1|\n",
      "|P49qZ95m3o7j3drdk...|wrq36LR9C2AR2SDI5...|    1|\n",
      "|3KI/3xT9KaVMdirgq...|gyrBh3KCklCZWVBWE...|    1|\n",
      "|IQDZ6jcDqMOHsFL25...|FBIrjMcE0FNkR4xSx...|    1|\n",
      "|gJ/UHXDstHbcxnxx/...|ykvrkk7W+UMIzyJ6e...|    1|\n",
      "|pBsuf2INzB60Jl/pf...|zt+28OIExbD6Dl6jF...|    1|\n",
      "+--------------------+--------------------+-----+\n",
      "only showing top 20 rows\n",
      "\n"
     ]
    },
    {
     "name": "stderr",
     "output_type": "stream",
     "text": [
      "                                                                                \r"
     ]
    }
   ],
   "source": [
    "spark.sql(\"select RUT_SOCIEDAD, RUT_SOCIO, count(*) as count from sociedad group by RUT_SOCIEDAD, RUT_SOCIO order by count desc \").show()"
   ]
  },
  {
   "cell_type": "markdown",
   "id": "ebd9c227-f581-466c-aac1-3949e3edec40",
   "metadata": {},
   "source": [
    "Por lo visto tenemos unicidad de la relaciones sociedad socio, a juzgar por el recuento de las combinaciones.\n",
    "Ahora vamos las entradas con al menos un valor cero (que indica cero participacion porcentual)"
   ]
  },
  {
   "cell_type": "code",
   "execution_count": 6,
   "id": "56330adb-ffbb-4f15-962e-d1fb30b6fcb9",
   "metadata": {},
   "outputs": [
    {
     "name": "stderr",
     "output_type": "stream",
     "text": [
      "[Stage 8:=============================>                             (1 + 1) / 2]\r"
     ]
    },
    {
     "name": "stdout",
     "output_type": "stream",
     "text": [
      "+--------+\n",
      "|count(1)|\n",
      "+--------+\n",
      "| 1057765|\n",
      "+--------+\n",
      "\n"
     ]
    },
    {
     "name": "stderr",
     "output_type": "stream",
     "text": [
      "                                                                                \r"
     ]
    }
   ],
   "source": [
    "spark.sql(\"select COUNT(*) from sociedad WHERE PORCENTAJE_CAPITAL=0 OR PORCENTAJE_UTILIDADES=0\").show()"
   ]
  },
  {
   "cell_type": "markdown",
   "id": "dfaced12-3177-47ad-9771-666acbfa0829",
   "metadata": {},
   "source": [
    "Por lo visto, tenemos 1057765 entradas donde al menos uno de ambos porcentajes es cero. Por otro lado, tenemos \n",
    "1053936 registros donde ambos porcentajes son cero.\n"
   ]
  },
  {
   "cell_type": "markdown",
   "id": "cc9e9107-1b2f-49d8-84e2-865574447edb",
   "metadata": {},
   "source": [
    "Ahora veamos cuales porcentajes de capital son cero y luego los porcentajes de utilidades son cero."
   ]
  },
  {
   "cell_type": "code",
   "execution_count": 7,
   "id": "ce98007e-cb86-4885-a52d-3496db714d30",
   "metadata": {
    "tags": []
   },
   "outputs": [
    {
     "name": "stderr",
     "output_type": "stream",
     "text": [
      "                                                                                \r"
     ]
    },
    {
     "name": "stdout",
     "output_type": "stream",
     "text": [
      "+--------+\n",
      "|count(1)|\n",
      "+--------+\n",
      "|    2608|\n",
      "+--------+\n",
      "\n"
     ]
    },
    {
     "name": "stderr",
     "output_type": "stream",
     "text": [
      "[Stage 20:======================================>                   (2 + 1) / 3]\r"
     ]
    },
    {
     "name": "stdout",
     "output_type": "stream",
     "text": [
      "+--------+\n",
      "|count(1)|\n",
      "+--------+\n",
      "|    1221|\n",
      "+--------+\n",
      "\n"
     ]
    },
    {
     "name": "stderr",
     "output_type": "stream",
     "text": [
      "                                                                                \r"
     ]
    }
   ],
   "source": [
    "spark.sql(\"select count(*) from sociedad WHERE PORCENTAJE_CAPITAL=0 and PORCENTAJE_UTILIDADES!=0\").show()\n",
    "spark.sql(\"select count(*) from sociedad WHERE PORCENTAJE_CAPITAL!=0 and PORCENTAJE_UTILIDADES=0\").show()"
   ]
  },
  {
   "cell_type": "markdown",
   "id": "fa7cedfe-c797-4742-9b64-193be1d85f75",
   "metadata": {},
   "source": [
    "Para el analisis del problema de oscuridad, es mejor tener en cuenta los porcentajes de participacion de capital, porque los creditos se reparten segun la participacion societaria.\n",
    "Ahora veamos cuantos tienen valores positivos mayores que 100 o negativos."
   ]
  },
  {
   "cell_type": "code",
   "execution_count": 8,
   "id": "b485f3fc-7e5a-4e28-ba35-73c2c2807883",
   "metadata": {
    "tags": []
   },
   "outputs": [
    {
     "name": "stderr",
     "output_type": "stream",
     "text": [
      "[Stage 26:======================================>                   (2 + 1) / 3]\r"
     ]
    },
    {
     "name": "stdout",
     "output_type": "stream",
     "text": [
      "+--------------------+--------------------+------------------+---------------------+\n",
      "|        RUT_SOCIEDAD|           RUT_SOCIO|PORCENTAJE_CAPITAL|PORCENTAJE_UTILIDADES|\n",
      "+--------------------+--------------------+------------------+---------------------+\n",
      "|qjkqLEYc5TRVKEMYf...|ifIlRQ1yYkDigN1Ii...|            100.01|                100.0|\n",
      "+--------------------+--------------------+------------------+---------------------+\n",
      "\n"
     ]
    },
    {
     "name": "stderr",
     "output_type": "stream",
     "text": [
      "                                                                                \r"
     ]
    }
   ],
   "source": [
    "spark.sql(\"select * from sociedad WHERE PORCENTAJE_CAPITAL<0 or PORCENTAJE_CAPITAL>100 or PORCENTAJE_UTILIDADES<0 or PORCENTAJE_UTILIDADES>100\").show()"
   ]
  },
  {
   "cell_type": "markdown",
   "id": "6c250425-8b01-44e9-9c08-34b08766aca9",
   "metadata": {},
   "source": [
    "El cual es solo un valor levemente superior a 100 %. Seleccionamos los que no tienen valores cero en PORCENTAJE_CAPITAL."
   ]
  },
  {
   "cell_type": "code",
   "execution_count": 9,
   "id": "a7a45a4c-77f8-4cd4-95a0-5c2a89290417",
   "metadata": {},
   "outputs": [],
   "source": [
    "spark.sql(\"select RUT_SOCIEDAD, RUT_SOCIO from sociedad where PORCENTAJE_CAPITAL!=0\").createOrReplaceTempView(\"sociedad\")"
   ]
  },
  {
   "cell_type": "code",
   "execution_count": null,
   "id": "b29e1aa7-33d5-4553-bcc1-b0ffb1ef027b",
   "metadata": {},
   "outputs": [],
   "source": []
  },
  {
   "cell_type": "code",
   "execution_count": 10,
   "id": "4aabb0d5-8657-432c-a6b4-322e439081d3",
   "metadata": {},
   "outputs": [
    {
     "name": "stderr",
     "output_type": "stream",
     "text": [
      "                                                                                \r"
     ]
    },
    {
     "name": "stdout",
     "output_type": "stream",
     "text": [
      "+--------+\n",
      "|count(1)|\n",
      "+--------+\n",
      "|    5695|\n",
      "+--------+\n",
      "\n"
     ]
    },
    {
     "name": "stderr",
     "output_type": "stream",
     "text": [
      "[Stage 36:=============================>                            (1 + 1) / 2]\r"
     ]
    },
    {
     "name": "stdout",
     "output_type": "stream",
     "text": [
      "+--------------------+--------------------+------------------+---------------------+------------------------+------+\n",
      "|        RUT_SOCIEDAD|           RUT_SOCIO|PORCENTAJE_CAPITAL|PORCENTAJE_UTILIDADES|PERI_AGNO_MES_TRIBUTARIO|FUENTE|\n",
      "+--------------------+--------------------+------------------+---------------------+------------------------+------+\n",
      "|Qbau/6SlJ/lEcKUDF...|RQ0TnfBpncysCFzap...|              0.03|                 0.03|                  202300| F1948|\n",
      "|Qbau/6SlJ/lEcKUDF...|i8odveNc3AEZRZWI7...|              0.01|                 0.01|                  202300| F1948|\n",
      "|Qbau/6SlJ/lEcKUDF...|9cDQjPbdfB1EfPUmw...|              0.02|                 0.02|                  202300| F1948|\n",
      "|Qbau/6SlJ/lEcKUDF...|7T3+u8inor8kIrUtm...|              0.02|                 0.02|                  202300| F1948|\n",
      "|Qbau/6SlJ/lEcKUDF...|CbAnOeVKkXKx8w0q3...|              0.01|                 0.01|                  202300| F1948|\n",
      "|Qbau/6SlJ/lEcKUDF...|dEi5RAN/WiSIYuK1s...|              0.01|                 0.01|                  202300| F1948|\n",
      "|Qbau/6SlJ/lEcKUDF...|vhL1+hbOmTVVtbcka...|              0.02|                 0.02|                  202300| F1948|\n",
      "|Qbau/6SlJ/lEcKUDF...|Yf0GsbbLfZQq+6Ur8...|              0.03|                 0.03|                  202300| F1948|\n",
      "|Qbau/6SlJ/lEcKUDF...|T/qAoKtqrmIzcIZGt...|              0.03|                 0.03|                  202300| F1948|\n",
      "|Qbau/6SlJ/lEcKUDF...|veYQhltSzb5l0dL8/...|              0.02|                 0.02|                  202300| F1948|\n",
      "|Qbau/6SlJ/lEcKUDF...|XpH5V4eq+Tu3j80Wm...|              0.04|                 0.04|                  202300| F1948|\n",
      "|Qbau/6SlJ/lEcKUDF...|O/zuukRFaak3Wb0C+...|              0.04|                 0.04|                  202300| F1948|\n",
      "|Qbau/6SlJ/lEcKUDF...|ZTNS3unZFcKQHHs4L...|              0.04|                 0.04|                  202300| F1948|\n",
      "|Qbau/6SlJ/lEcKUDF...|LjBkWt7vEjgAGPat3...|              0.01|                 0.01|                  202300| F1948|\n",
      "|Qbau/6SlJ/lEcKUDF...|H2igHFGW5t8Q3q1vy...|              0.02|                 0.02|                  202300| F1948|\n",
      "|Qbau/6SlJ/lEcKUDF...|b6cx9nBf6AoaJ0DGc...|              0.01|                 0.01|                  202300| F1948|\n",
      "|Qbau/6SlJ/lEcKUDF...|KFn/iogUkFRv+oShM...|              0.01|                 0.01|                  202300| F1948|\n",
      "|Qbau/6SlJ/lEcKUDF...|97XgDtOGy3XoW9hej...|              0.02|                 0.02|                  202300| F1948|\n",
      "|Qbau/6SlJ/lEcKUDF...|uDAdIk+NCvU4os8Gj...|              0.01|                 0.01|                  202300| F1948|\n",
      "|Qbau/6SlJ/lEcKUDF...|2myaaVxbFd+1SOpx6...|              0.03|                 0.03|                  202300| F1948|\n",
      "+--------------------+--------------------+------------------+---------------------+------------------------+------+\n",
      "only showing top 20 rows\n",
      "\n"
     ]
    },
    {
     "name": "stderr",
     "output_type": "stream",
     "text": [
      "                                                                                \r"
     ]
    }
   ],
   "source": [
    "spark.sql(\"select count(*) from sociedad where RUT_SOCIEDAD LIKE 'Qbau/6SlJ/lEcKUD%'\").show()\n",
    "spark.sql(\"select *  from libsdf.jab_soc_2023_inom where RUT_SOCIEDAD LIKE 'Qbau/6SlJ/lEcKUD%'\").show()"
   ]
  },
  {
   "cell_type": "markdown",
   "id": "914e915a-2281-4957-95c7-657f0dbf3a31",
   "metadata": {},
   "source": [
    "## Tablas temporales previo a la ejecucion"
   ]
  },
  {
   "cell_type": "code",
   "execution_count": 11,
   "id": "2861de7d-f5ac-4d09-8959-4b06c08ad913",
   "metadata": {
    "tags": []
   },
   "outputs": [
    {
     "name": "stderr",
     "output_type": "stream",
     "text": [
      "[Stage 39:===========================================>              (3 + 1) / 4]\r"
     ]
    },
    {
     "name": "stdout",
     "output_type": "stream",
     "text": [
      "+--------------------+----+\n",
      "|        RUT_SOCIEDAD|   F|\n",
      "+--------------------+----+\n",
      "|Qbau/6SlJ/lEcKUDF...|5695|\n",
      "|MRU68+Z5OL1aQ0Z1w...|4048|\n",
      "|aCQI5hc9DJjdiR99C...|3935|\n",
      "|+UCMEZbCFoa1QlZA9...|3832|\n",
      "|KC2gSl0b9r3JFGJGB...|2300|\n",
      "|budnfTzn6InI36rUl...|2015|\n",
      "|XFPrrMjIRpmkIviY2...|1901|\n",
      "|HDB9b720pXEYmSg+O...|1066|\n",
      "|pQ8RTSgnVVSztjUFr...|1058|\n",
      "|IhPFdr7e7Rp7pan7w...|1018|\n",
      "|yZGTUDpF/+ZCQZSu4...| 982|\n",
      "|z71uB1zhk2qOUjNE7...| 914|\n",
      "|015/V4NMbTt4NqHqu...| 887|\n",
      "|YBHL59u/ObQyJG8ge...| 818|\n",
      "|e+VFGU2vucXoStF+t...| 803|\n",
      "|+A3j56r4Y75etCe7l...| 781|\n",
      "|cxMSpj6sk0e5YAiGn...| 736|\n",
      "|2PWxHBf5OFjafbjAZ...| 730|\n",
      "|jYQ/cfaEFA67wHhtv...| 709|\n",
      "|/zFuTa4lU2t1d/eWC...| 700|\n",
      "+--------------------+----+\n",
      "only showing top 20 rows\n",
      "\n"
     ]
    },
    {
     "name": "stderr",
     "output_type": "stream",
     "text": [
      "                                                                                \r"
     ]
    }
   ],
   "source": [
    "spark.sql(\"select RUT_SOCIEDAD, RUT_SOCIO from sociedad order by RUT_SOCIEDAD asc\").createOrReplaceTempView(\"sociedad\")\n",
    "spark.sql(\"select RUT_SOCIEDAD as RUT_SOCIEDAD_AUX ,RUT_SOCIO as RUT_SOCIO_AUX from sociedad order by RUT_SOCIEDAD asc\").createOrReplaceTempView(\"aux\")\n",
    "spark.sql(\"select RUT_SOCIEDAD, COUNT(*) AS F from sociedad group by RUT_SOCIEDAD ORDER BY F DESC\").show()\n",
    "\n"
   ]
  },
  {
   "cell_type": "code",
   "execution_count": 12,
   "id": "568187f1-5c2d-4f07-86e2-f44fd4773719",
   "metadata": {
    "tags": []
   },
   "outputs": [
    {
     "name": "stderr",
     "output_type": "stream",
     "text": [
      "                                                                                \r"
     ]
    },
    {
     "name": "stdout",
     "output_type": "stream",
     "text": [
      "+--------------------+--------------------+--------------------+--------------------+\n",
      "|        RUT_SOCIEDAD|           RUT_SOCIO|    RUT_SOCIEDAD_AUX|       RUT_SOCIO_AUX|\n",
      "+--------------------+--------------------+--------------------+--------------------+\n",
      "|gusyW8sL25uu6GHpQ...|zzycSmylbx7abTn6L...|zzycSmylbx7abTn6L...|oBwy7ODmDOAi3jGMi...|\n",
      "|r7U2sgwFVd309y/AE...|zzycSmylbx7abTn6L...|zzycSmylbx7abTn6L...|oBwy7ODmDOAi3jGMi...|\n",
      "|mWLS9Vz9dBPrgQXCQ...|zzyIQ58Evw9Ywxzmq...|zzyIQ58Evw9Ywxzmq...|QglF/ZyA+gPt9QwnP...|\n",
      "|mWLS9Vz9dBPrgQXCQ...|zzyIQ58Evw9Ywxzmq...|zzyIQ58Evw9Ywxzmq...|vp5vmARoko5V2tQz4...|\n",
      "|mWLS9Vz9dBPrgQXCQ...|zzyIQ58Evw9Ywxzmq...|zzyIQ58Evw9Ywxzmq...|/T+DekYtwLnAr14d5...|\n",
      "|mWLS9Vz9dBPrgQXCQ...|zzyIQ58Evw9Ywxzmq...|zzyIQ58Evw9Ywxzmq...|BWJUJ2O88q9ylTXZn...|\n",
      "|sOotV4Dbhi0Gcw5kV...|zzw82ZqW8spQp27re...|zzw82ZqW8spQp27re...|kIjGcwUZIM7jN16ml...|\n",
      "|4l5mp3z5pgfHVTewT...|zzr41gDzOxHxz+fGH...|zzr41gDzOxHxz+fGH...|elX59iomVHGRNrZhn...|\n",
      "|4l5mp3z5pgfHVTewT...|zzr41gDzOxHxz+fGH...|zzr41gDzOxHxz+fGH...|YVkzLcUvjYfQrQPeB...|\n",
      "|4l5mp3z5pgfHVTewT...|zzr41gDzOxHxz+fGH...|zzr41gDzOxHxz+fGH...|oLvts1fAMFFD60LMU...|\n",
      "|4xxQd0+y30uJ6io8t...|zzr41gDzOxHxz+fGH...|zzr41gDzOxHxz+fGH...|oLvts1fAMFFD60LMU...|\n",
      "|4xxQd0+y30uJ6io8t...|zzr41gDzOxHxz+fGH...|zzr41gDzOxHxz+fGH...|elX59iomVHGRNrZhn...|\n",
      "|4xxQd0+y30uJ6io8t...|zzr41gDzOxHxz+fGH...|zzr41gDzOxHxz+fGH...|YVkzLcUvjYfQrQPeB...|\n",
      "|pQ8RTSgnVVSztjUFr...|zzo6GJUsA41swvSf0...|zzo6GJUsA41swvSf0...|9BxQjl2KW09XsoNi+...|\n",
      "|wSOWcIH74yPUSHVxD...|zzo6GJUsA41swvSf0...|zzo6GJUsA41swvSf0...|mYAI3WaLA5OSvLgji...|\n",
      "|pQ8RTSgnVVSztjUFr...|zzo6GJUsA41swvSf0...|zzo6GJUsA41swvSf0...|MrKOVPL885uJaXPsv...|\n",
      "|wSOWcIH74yPUSHVxD...|zzo6GJUsA41swvSf0...|zzo6GJUsA41swvSf0...|9BxQjl2KW09XsoNi+...|\n",
      "|pQ8RTSgnVVSztjUFr...|zzo6GJUsA41swvSf0...|zzo6GJUsA41swvSf0...|mYAI3WaLA5OSvLgji...|\n",
      "|wSOWcIH74yPUSHVxD...|zzo6GJUsA41swvSf0...|zzo6GJUsA41swvSf0...|5H/AsvtJKfs5N660/...|\n",
      "|5YtVB20cih4aR9kHB...|zzo6GJUsA41swvSf0...|zzo6GJUsA41swvSf0...|mYAI3WaLA5OSvLgji...|\n",
      "+--------------------+--------------------+--------------------+--------------------+\n",
      "only showing top 20 rows\n",
      "\n"
     ]
    },
    {
     "name": "stderr",
     "output_type": "stream",
     "text": [
      "                                                                                \r"
     ]
    },
    {
     "name": "stdout",
     "output_type": "stream",
     "text": [
      "+--------------------+--------------------+\n",
      "|        RUT_SOCIEDAD|           RUT_SOCIO|\n",
      "+--------------------+--------------------+\n",
      "|r7U2sgwFVd309y/AE...|oBwy7ODmDOAi3jGMi...|\n",
      "|gusyW8sL25uu6GHpQ...|oBwy7ODmDOAi3jGMi...|\n",
      "|mWLS9Vz9dBPrgQXCQ...|vp5vmARoko5V2tQz4...|\n",
      "|mWLS9Vz9dBPrgQXCQ...|/T+DekYtwLnAr14d5...|\n",
      "|mWLS9Vz9dBPrgQXCQ...|BWJUJ2O88q9ylTXZn...|\n",
      "|mWLS9Vz9dBPrgQXCQ...|QglF/ZyA+gPt9QwnP...|\n",
      "|sOotV4Dbhi0Gcw5kV...|kIjGcwUZIM7jN16ml...|\n",
      "|4xxQd0+y30uJ6io8t...|elX59iomVHGRNrZhn...|\n",
      "|4xxQd0+y30uJ6io8t...|YVkzLcUvjYfQrQPeB...|\n",
      "|4xxQd0+y30uJ6io8t...|oLvts1fAMFFD60LMU...|\n",
      "|4l5mp3z5pgfHVTewT...|elX59iomVHGRNrZhn...|\n",
      "|4l5mp3z5pgfHVTewT...|oLvts1fAMFFD60LMU...|\n",
      "|4l5mp3z5pgfHVTewT...|YVkzLcUvjYfQrQPeB...|\n",
      "|5YtVB20cih4aR9kHB...|mYAI3WaLA5OSvLgji...|\n",
      "|5YtVB20cih4aR9kHB...|9BxQjl2KW09XsoNi+...|\n",
      "|wSOWcIH74yPUSHVxD...|MrKOVPL885uJaXPsv...|\n",
      "|pQ8RTSgnVVSztjUFr...|MrKOVPL885uJaXPsv...|\n",
      "|pQ8RTSgnVVSztjUFr...|mYAI3WaLA5OSvLgji...|\n",
      "|wSOWcIH74yPUSHVxD...|5H/AsvtJKfs5N660/...|\n",
      "|pQ8RTSgnVVSztjUFr...|9BxQjl2KW09XsoNi+...|\n",
      "+--------------------+--------------------+\n",
      "only showing top 20 rows\n",
      "\n"
     ]
    },
    {
     "name": "stderr",
     "output_type": "stream",
     "text": [
      "[Stage 75:=========================================>                (5 + 2) / 7]\r"
     ]
    },
    {
     "name": "stdout",
     "output_type": "stream",
     "text": [
      "+--------------------+----+\n",
      "|        RUT_SOCIEDAD|   d|\n",
      "+--------------------+----+\n",
      "|8zQn3/1BnDPyxDNnu...|6115|\n",
      "|Qbau/6SlJ/lEcKUDF...|5695|\n",
      "|vp8Oc3KOw23tIMHqV...|5630|\n",
      "|+UCMEZbCFoa1QlZA9...|4759|\n",
      "|MRU68+Z5OL1aQ0Z1w...|4048|\n",
      "|aCQI5hc9DJjdiR99C...|3935|\n",
      "|KC2gSl0b9r3JFGJGB...|2301|\n",
      "|z71uB1zhk2qOUjNE7...|2276|\n",
      "|budnfTzn6InI36rUl...|2019|\n",
      "|V2Xq5BaVxZWbBJBx9...|2016|\n",
      "|KJ7i4Qj5qnOr1Lc03...|2016|\n",
      "|XFPrrMjIRpmkIviY2...|1907|\n",
      "|cxMSpj6sk0e5YAiGn...|1803|\n",
      "|yZGTUDpF/+ZCQZSu4...|1372|\n",
      "|pQ8RTSgnVVSztjUFr...|1316|\n",
      "|yc6hspZqFEbNhJJP8...|1259|\n",
      "|qD//7tG4dKPlQAGIM...|1074|\n",
      "|HDB9b720pXEYmSg+O...|1071|\n",
      "|IhPFdr7e7Rp7pan7w...|1035|\n",
      "|e+VFGU2vucXoStF+t...|1021|\n",
      "+--------------------+----+\n",
      "only showing top 20 rows\n",
      "\n"
     ]
    },
    {
     "name": "stderr",
     "output_type": "stream",
     "text": [
      "                                                                                \r"
     ]
    }
   ],
   "source": [
    "\n",
    "for a in range (1,2):\n",
    "    spark.sql(\"select * from sociedad left join aux on sociedad.RUT_SOCIO=aux.RUT_SOCIEDAD_AUX \").createOrReplaceTempView(\"sociedad\")\n",
    "    spark.sql(\"select * from sociedad  order by RUT_SOCIEDAD_AUX desc\").createOrReplaceTempView(\"sociedad\")\n",
    "    spark.sql(\"select * from sociedad\").show()\n",
    "    spark.sql(\"select RUT_SOCIEDAD, CASE WHEN RUT_SOCIEDAD_AUX is null then RUT_SOCIO else RUT_SOCIO_AUX END AS RUT_SOCIO from sociedad  order by RUT_SOCIEDAD_AUX desc\").createOrReplaceTempView(\"sociedad\")\n",
    "    spark.sql(\"select * from sociedad\").show()\n",
    "    spark.sql(\"select RUT_SOCIEDAD, COUNT(*) as d from sociedad GROUP BY RUT_SOCIEDAD order by d desc \").show()"
   ]
  },
  {
   "cell_type": "code",
   "execution_count": 13,
   "id": "490b9b3a-6c5c-4dde-90c6-879869513f41",
   "metadata": {
    "tags": []
   },
   "outputs": [
    {
     "name": "stderr",
     "output_type": "stream",
     "text": [
      "[Stage 83:>                                                         (0 + 1) / 1]\r"
     ]
    },
    {
     "name": "stdout",
     "output_type": "stream",
     "text": [
      "+--------------------+-------+--------------------+----------+----------+--------------------+-----------+--------------------+--------------+---------------------+--------------------+---------------------+----------------------+--------------------------+-------------------+------------------------+-------------------+----+\n",
      "|            CONT_RUT|CONT_DV|         FAMI_RUT_VO|FAMI_DV_VO|FAMI_DV_IC|        CONT_RUT_FAM|CONT_DV_FAM|      FAM_RUT_FAM_VO|FAMI_DV_FAM_VO|FAMI_TIPO_RELACION_VO|FAMI_FECHA_INICIO_VO|FAMI_FECHA_TERMINO_VO|FAMI_FECHA_CREACION_VO|FAMI_FECHA_MODIFICACION_VO|FAMI_ORIGEN_DATO_VO|FAMI_FECHA_EXTRACCION_SO|FAMI_FECHA_CARGA_DW|_c17|\n",
      "+--------------------+-------+--------------------+----------+----------+--------------------+-----------+--------------------+--------------+---------------------+--------------------+---------------------+----------------------+--------------------------+-------------------+------------------------+-------------------+----+\n",
      "|WwQLK4PxrE9czzjpa...|      4|WwQLK4PxrE9czzjpa...|         4|         0|l6xQs+yIXhn/MMkZD...|          9|l6xQs+yIXhn/MMkZD...|             9|                    2|                null|                 null|   2001-03-05 03:00:00|                      null|               null|     2023-09-11 01:49:26|2023-09-11 02:02:57|null|\n",
      "|4LQ+LD5+caHuxPdAb...|      2|4LQ+LD5+caHuxPdAb...|         2|         0|QkHEDm6zBEfw7Pe0P...|          K|QkHEDm6zBEfw7Pe0P...|             K|                    2|                null|                 null|   2001-03-05 03:00:00|                      null|               null|     2023-09-11 01:49:26|2023-09-11 02:02:57|null|\n",
      "|wn1Dse0wwoNca0rZh...|      6|wn1Dse0wwoNca0rZh...|         6|         0|dHQXB9IwtPv6VdEj7...|          3|dHQXB9IwtPv6VdEj7...|             3|                    2|                null|                 null|   2001-03-05 03:00:00|                      null|               null|     2023-09-11 01:49:26|2023-09-11 02:02:57|null|\n",
      "|8XMi0FNduxTzLkQkE...|      4|8XMi0FNduxTzLkQkE...|         4|         0|BaS2PgfbjQvIgWjFZ...|          2|BaS2PgfbjQvIgWjFZ...|             2|                    2|                null|                 null|   2001-03-05 03:00:00|                      null|               null|     2023-09-11 01:49:26|2023-09-11 02:02:57|null|\n",
      "|HeLFPDYxFDoYhT7z6...|      2|HeLFPDYxFDoYhT7z6...|         2|         0|VBs9CAzM4MNlUS/yo...|          6|VBs9CAzM4MNlUS/yo...|             6|                    2|                null|                 null|   2001-03-05 03:00:00|                      null|               null|     2023-09-11 01:49:26|2023-09-11 02:02:57|null|\n",
      "|7xiNro8qBGO1qIgEi...|      0|7xiNro8qBGO1qIgEi...|         0|         0|VFvT2+eYSmUNty/DJ...|          2|VFvT2+eYSmUNty/DJ...|             2|                    2|                null|                 null|   2001-03-05 03:00:00|                      null|               null|     2023-09-11 01:49:26|2023-09-11 02:02:57|null|\n",
      "|bNNvEwEkfq38CCDB5...|      5|bNNvEwEkfq38CCDB5...|         5|         0|CVPyM+NVl0NAYtHMn...|          1|CVPyM+NVl0NAYtHMn...|             1|                    2|                null|                 null|   2001-03-05 03:00:00|                      null|               null|     2023-09-11 01:49:26|2023-09-11 02:02:57|null|\n",
      "|OyXxbhkT1+CEnH6mj...|      3|OyXxbhkT1+CEnH6mj...|         3|         0|JdKeZdvb1f8JVPCzT...|          1|JdKeZdvb1f8JVPCzT...|             1|                    2|                null|                 null|   2001-03-05 03:00:00|                      null|               null|     2023-09-11 01:49:26|2023-09-11 02:02:57|null|\n",
      "|d3miKCbuO/Hgyp0Ew...|      1|d3miKCbuO/Hgyp0Ew...|         1|         0|S/45okCTAlv0w9SIG...|          6|S/45okCTAlv0w9SIG...|             6|                    2|                null|                 null|   2001-03-05 03:00:00|                      null|               null|     2023-09-11 01:49:26|2023-09-11 02:02:57|null|\n",
      "|Faw/M8/EhncxL7ZyM...|      K|Faw/M8/EhncxL7ZyM...|         K|         0|YDp1mdOtASpm2kM1x...|          0|YDp1mdOtASpm2kM1x...|             0|                    2|                null|                 null|   2001-03-05 03:00:00|                      null|               null|     2023-09-11 01:49:26|2023-09-11 02:02:57|null|\n",
      "|YXVrqGUKJ6ehfd0i7...|      3|YXVrqGUKJ6ehfd0i7...|         3|         0|XXHDsZ53sQFRAAdeH...|          2|XXHDsZ53sQFRAAdeH...|             2|                    2|                null|                 null|   2001-03-05 03:00:00|                      null|               null|     2023-09-11 01:49:26|2023-09-11 02:02:57|null|\n",
      "|P6D5zeXBcWhmA2tff...|      1|P6D5zeXBcWhmA2tff...|         1|         0|x6blRdNy0T8+Z8cbZ...|          1|x6blRdNy0T8+Z8cbZ...|             1|                    2|                null|                 null|   2001-03-05 03:00:00|                      null|               null|     2023-09-11 01:49:26|2023-09-11 02:02:57|null|\n",
      "|QHg1ecRlAlCZ5hO3B...|      8|QHg1ecRlAlCZ5hO3B...|         8|         0|gJCYXd/B28o7ThpUY...|          2|gJCYXd/B28o7ThpUY...|             2|                    2|                null|                 null|   2001-03-05 03:00:00|                      null|               null|     2023-09-11 01:49:26|2023-09-11 02:02:57|null|\n",
      "|iIH9+anyj8Qfq9usC...|      6|iIH9+anyj8Qfq9usC...|         6|         0|jet78pQC5GWrcQkr/...|          5|jet78pQC5GWrcQkr/...|             5|                    2|                null|                 null|   2001-03-05 03:00:00|                      null|               null|     2023-09-11 01:49:26|2023-09-11 02:02:57|null|\n",
      "|rntPim5W3ce0GeLsj...|      4|rntPim5W3ce0GeLsj...|         4|         0|W3HWdNqMBZYdwCWwU...|          0|W3HWdNqMBZYdwCWwU...|             0|                    2|                null|                 null|   2001-03-05 03:00:00|                      null|               null|     2023-09-11 01:49:26|2023-09-11 02:02:57|null|\n",
      "|+Y2cWqQWODviIIY6m...|      2|+Y2cWqQWODviIIY6m...|         2|         0|llLeJVi6SJBsQ3ENJ...|          7|llLeJVi6SJBsQ3ENJ...|             7|                    2|                null|                 null|   2001-03-05 03:00:00|                      null|               null|     2023-09-11 01:49:26|2023-09-11 02:02:57|null|\n",
      "|mkuOOtF6LLhnliSPK...|      0|mkuOOtF6LLhnliSPK...|         0|         0|1P63uqBzvpdwFDVgK...|          4|1P63uqBzvpdwFDVgK...|             4|                    2|                null|                 null|   2001-03-05 03:00:00|                      null|               null|     2023-09-11 01:49:26|2023-09-11 02:02:57|null|\n",
      "|6W8G5zSShyQO4TGCx...|      9|6W8G5zSShyQO4TGCx...|         9|         0|DWoXmUSFDEXslaIJL...|          0|DWoXmUSFDEXslaIJL...|             0|                    2|                null|                 null|   2001-03-05 03:00:00|                      null|               null|     2023-09-11 01:49:26|2023-09-11 02:02:57|null|\n",
      "|nW1ZTh8DizlRK0GyM...|      7|nW1ZTh8DizlRK0GyM...|         7|         0|Q0Losx2i73rEignVv...|          3|Q0Losx2i73rEignVv...|             3|                    2|                null|                 null|   2001-03-05 03:00:00|                      null|               null|     2023-09-11 01:49:26|2023-09-11 02:02:57|null|\n",
      "|dT4QojnosizJdf0KF...|      0|dT4QojnosizJdf0KF...|         0|         0|EiUVTcX7gE61oWZPP...|          0|EiUVTcX7gE61oWZPP...|             0|                    2|                null|                 null|   2001-03-05 03:00:00|                      null|               null|     2023-09-11 01:49:26|2023-09-11 02:02:57|null|\n",
      "+--------------------+-------+--------------------+----------+----------+--------------------+-----------+--------------------+--------------+---------------------+--------------------+---------------------+----------------------+--------------------------+-------------------+------------------------+-------------------+----+\n",
      "only showing top 20 rows\n",
      "\n"
     ]
    },
    {
     "name": "stderr",
     "output_type": "stream",
     "text": [
      "                                                                                \r"
     ]
    }
   ],
   "source": [
    "spark.read.parquet(\"abfs://data@datalakesii.dfs.core.windows.net/DatosOrigen/DW/DW_TRN_RELACIONES_FAMILIARES\").createOrReplaceTempView(\"familiar\")\n",
    "spark.sql(\"select * from familiar\").show()"
   ]
  },
  {
   "cell_type": "code",
   "execution_count": 14,
   "id": "4b39977b-c5a9-44b6-9d43-615f49d5a98e",
   "metadata": {},
   "outputs": [
    {
     "name": "stderr",
     "output_type": "stream",
     "text": [
      "[Stage 84:======================================================> (36 + 1) / 37]\r"
     ]
    },
    {
     "name": "stdout",
     "output_type": "stream",
     "text": [
      "+---------------------+--------+\n",
      "|FAMI_TIPO_RELACION_VO|count(1)|\n",
      "+---------------------+--------+\n",
      "|                    1|12615190|\n",
      "|                    2|13086926|\n",
      "|                    3| 6530132|\n",
      "+---------------------+--------+\n",
      "\n"
     ]
    },
    {
     "name": "stderr",
     "output_type": "stream",
     "text": [
      "                                                                                \r"
     ]
    }
   ],
   "source": [
    "spark.sql(\"select familiar.FAMI_TIPO_RELACION_VO, count(*)  from familiar group by familiar.FAMI_TIPO_RELACION_VO\").show()"
   ]
  },
  {
   "cell_type": "code",
   "execution_count": 15,
   "id": "3d7014b4-dd55-454b-bb18-22115b168f61",
   "metadata": {},
   "outputs": [
    {
     "ename": "SyntaxError",
     "evalue": "invalid syntax (2368019470.py, line 1)",
     "output_type": "error",
     "traceback": [
      "\u001b[0;36m  Input \u001b[0;32mIn [15]\u001b[0;36m\u001b[0m\n\u001b[0;31m    select * from INFORMATION_SCHEMA.COLUMNS where TABLE_NAME='familiar'\u001b[0m\n\u001b[0m             ^\u001b[0m\n\u001b[0;31mSyntaxError\u001b[0m\u001b[0;31m:\u001b[0m invalid syntax\n"
     ]
    }
   ],
   "source": [
    "select * from INFORMATION_SCHEMA.COLUMNS where TABLE_NAME='familiar'"
   ]
  },
  {
   "cell_type": "code",
   "execution_count": null,
   "id": "2e45b6c9-f433-4e56-9521-8800ddfa0ce1",
   "metadata": {
    "tags": []
   },
   "outputs": [],
   "source": [
    "spark.sql(\"select * from INFORMATION_SCHEMA.COLUMNS where TABLE_NAME='familiar'\").show()"
   ]
  },
  {
   "cell_type": "code",
   "execution_count": null,
   "id": "46d13eb5-53db-4185-8085-4f96fe6fdea0",
   "metadata": {},
   "outputs": [],
   "source": []
  },
  {
   "cell_type": "code",
   "execution_count": null,
   "id": "0d051853-a578-4c99-b101-2dbc28795cdf",
   "metadata": {},
   "outputs": [],
   "source": []
  }
 ],
 "metadata": {
  "kernelspec": {
   "display_name": "Python 3 (ipykernel)",
   "language": "python",
   "name": "python3"
  },
  "language_info": {
   "codemirror_mode": {
    "name": "ipython",
    "version": 3
   },
   "file_extension": ".py",
   "mimetype": "text/x-python",
   "name": "python",
   "nbconvert_exporter": "python",
   "pygments_lexer": "ipython3",
   "version": "3.9.16"
  }
 },
 "nbformat": 4,
 "nbformat_minor": 5
}
