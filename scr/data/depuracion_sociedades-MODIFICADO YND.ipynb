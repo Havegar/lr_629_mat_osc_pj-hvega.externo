{
 "cells": [
  {
   "cell_type": "markdown",
   "id": "15c62fbf-493f-4c18-8e55-d9e0fb29b8b6",
   "metadata": {},
   "source": [
    "## Apiux & SII: Analisis exploratorio de datos y depuracion de data sociedades\n",
    "## ATENCION: proyecto sujeto a mantenimiento continuo. \n",
    "\n",
    "## Henry Vega (henrry.vega@api-ux.com)\n",
    "## Data analyst"
   ]
  },
  {
   "cell_type": "code",
   "execution_count": 1,
   "id": "18bff1a6-1471-4b1a-98af-c1bcd085cf40",
   "metadata": {
    "tags": []
   },
   "outputs": [],
   "source": [
    "from pyspark.sql import SparkSession\n",
    "from pyspark.sql.functions import *\n",
    "from pyspark import SparkContext, SparkConf\n",
    "import pyspark\n",
    "import pandas as pd\n",
    "#warnings.filterwarnings('ignore', category=DeprecationWarning)"
   ]
  },
  {
   "cell_type": "code",
   "execution_count": 2,
   "id": "0045495f-27ec-47ad-8474-dd42b9352a2c",
   "metadata": {
    "tags": []
   },
   "outputs": [
    {
     "name": "stderr",
     "output_type": "stream",
     "text": [
      "Setting spark.hadoop.yarn.resourcemanager.principal to yasser.nanjari\n"
     ]
    }
   ],
   "source": [
    "\n",
    "spark = SparkSession.builder \\\n",
    "  .appName(\"Test\")  \\\n",
    "  .config(\"spark.yarn.access.hadoopFileSystems\",\"abfs://data@datalakesii.dfs.core.windows.net/\") \\\n",
    "  .config(\"spark.executor.memory\", \"24g\") \\\n",
    "  .config(\"spark.driver.memory\", \"12g\")\\\n",
    "  .config(\"spark.executor.cores\", \"12\") \\\n",
    "  .config(\"spark.executor.instances\", \"24\") \\\n",
    "  .config(\"spark.driver.maxResultSize\", \"12g\") \\\n",
    "  .getOrCreate()"
   ]
  },
  {
   "cell_type": "markdown",
   "id": "58a9214b-c852-41f7-8ea9-e7ced5442083",
   "metadata": {},
   "source": [
    "## Carga de relaciones societarias y depuracion de data"
   ]
  },
  {
   "cell_type": "code",
   "execution_count": 3,
   "id": "59ac977f-8c5e-46ce-809c-5a839e53e234",
   "metadata": {},
   "outputs": [],
   "source": [
    "Carpeta = \"Proceso Renta 2025/\"\n",
    "Archivo = \"JBA_SOC_2024.csv\"\n",
    "Carpeta_Salida = \"Renta 2025/\""
   ]
  },
  {
   "cell_type": "code",
   "execution_count": 4,
   "id": "f025d808-faa9-40c7-bd07-6ba619e9ab45",
   "metadata": {
    "tags": []
   },
   "outputs": [],
   "source": [
    "PATH = \"../../\"\n",
    "csv_path = PATH+\"data/raw/\"+Carpeta+Archivo\n",
    "vo_pd = pd.read_csv(csv_path, delimiter=';')"
   ]
  },
  {
   "cell_type": "code",
   "execution_count": 5,
   "id": "927a8e15-3ed0-4344-b82a-f1af44ea9aea",
   "metadata": {
    "tags": []
   },
   "outputs": [
    {
     "data": {
      "text/html": [
       "<div>\n",
       "<style scoped>\n",
       "    .dataframe tbody tr th:only-of-type {\n",
       "        vertical-align: middle;\n",
       "    }\n",
       "\n",
       "    .dataframe tbody tr th {\n",
       "        vertical-align: top;\n",
       "    }\n",
       "\n",
       "    .dataframe thead th {\n",
       "        text-align: right;\n",
       "    }\n",
       "</style>\n",
       "<table border=\"1\" class=\"dataframe\">\n",
       "  <thead>\n",
       "    <tr style=\"text-align: right;\">\n",
       "      <th></th>\n",
       "      <th>RUT_SOCIEDAD</th>\n",
       "      <th>RUT_SOCIO</th>\n",
       "      <th>PORCENTAJE_CAPITAL</th>\n",
       "      <th>PORCENTAJE_UTILIDADES</th>\n",
       "      <th>PERI_AGNO_MES_TRIBUTARIO</th>\n",
       "      <th>FUENTE</th>\n",
       "    </tr>\n",
       "  </thead>\n",
       "  <tbody>\n",
       "    <tr>\n",
       "      <th>0</th>\n",
       "      <td>318500215</td>\n",
       "      <td>12</td>\n",
       "      <td>100.00</td>\n",
       "      <td>100.00</td>\n",
       "      <td>202400</td>\n",
       "      <td>RIAC</td>\n",
       "    </tr>\n",
       "    <tr>\n",
       "      <th>1</th>\n",
       "      <td>319519583</td>\n",
       "      <td>12</td>\n",
       "      <td>100.00</td>\n",
       "      <td>100.00</td>\n",
       "      <td>202400</td>\n",
       "      <td>RIAC</td>\n",
       "    </tr>\n",
       "    <tr>\n",
       "      <th>2</th>\n",
       "      <td>350003575</td>\n",
       "      <td>29485615</td>\n",
       "      <td>100.00</td>\n",
       "      <td>100.00</td>\n",
       "      <td>202400</td>\n",
       "      <td>F1948</td>\n",
       "    </tr>\n",
       "    <tr>\n",
       "      <th>3</th>\n",
       "      <td>350004975</td>\n",
       "      <td>31161877</td>\n",
       "      <td>33.33</td>\n",
       "      <td>33.33</td>\n",
       "      <td>202400</td>\n",
       "      <td>RIAC</td>\n",
       "    </tr>\n",
       "    <tr>\n",
       "      <th>4</th>\n",
       "      <td>350004975</td>\n",
       "      <td>53717298</td>\n",
       "      <td>33.33</td>\n",
       "      <td>33.33</td>\n",
       "      <td>202400</td>\n",
       "      <td>RIAC</td>\n",
       "    </tr>\n",
       "    <tr>\n",
       "      <th>...</th>\n",
       "      <td>...</td>\n",
       "      <td>...</td>\n",
       "      <td>...</td>\n",
       "      <td>...</td>\n",
       "      <td>...</td>\n",
       "      <td>...</td>\n",
       "    </tr>\n",
       "    <tr>\n",
       "      <th>3782060</th>\n",
       "      <td>697198885</td>\n",
       "      <td>697168365</td>\n",
       "      <td>80.00</td>\n",
       "      <td>80.00</td>\n",
       "      <td>202400</td>\n",
       "      <td>RIAC</td>\n",
       "    </tr>\n",
       "    <tr>\n",
       "      <th>3782061</th>\n",
       "      <td>697198955</td>\n",
       "      <td>53430011</td>\n",
       "      <td>99.90</td>\n",
       "      <td>99.90</td>\n",
       "      <td>202400</td>\n",
       "      <td>RIAC</td>\n",
       "    </tr>\n",
       "    <tr>\n",
       "      <th>3782062</th>\n",
       "      <td>697198955</td>\n",
       "      <td>53430046</td>\n",
       "      <td>0.10</td>\n",
       "      <td>0.10</td>\n",
       "      <td>202400</td>\n",
       "      <td>RIAC</td>\n",
       "    </tr>\n",
       "    <tr>\n",
       "      <th>3782063</th>\n",
       "      <td>697199025</td>\n",
       "      <td>75474502</td>\n",
       "      <td>1.00</td>\n",
       "      <td>1.00</td>\n",
       "      <td>202400</td>\n",
       "      <td>F1948</td>\n",
       "    </tr>\n",
       "    <tr>\n",
       "      <th>3782064</th>\n",
       "      <td>697199025</td>\n",
       "      <td>541757445</td>\n",
       "      <td>99.00</td>\n",
       "      <td>99.00</td>\n",
       "      <td>202400</td>\n",
       "      <td>F1948</td>\n",
       "    </tr>\n",
       "  </tbody>\n",
       "</table>\n",
       "<p>3782065 rows × 6 columns</p>\n",
       "</div>"
      ],
      "text/plain": [
       "         RUT_SOCIEDAD  RUT_SOCIO  PORCENTAJE_CAPITAL  PORCENTAJE_UTILIDADES  \\\n",
       "0           318500215         12              100.00                 100.00   \n",
       "1           319519583         12              100.00                 100.00   \n",
       "2           350003575   29485615              100.00                 100.00   \n",
       "3           350004975   31161877               33.33                  33.33   \n",
       "4           350004975   53717298               33.33                  33.33   \n",
       "...               ...        ...                 ...                    ...   \n",
       "3782060     697198885  697168365               80.00                  80.00   \n",
       "3782061     697198955   53430011               99.90                  99.90   \n",
       "3782062     697198955   53430046                0.10                   0.10   \n",
       "3782063     697199025   75474502                1.00                   1.00   \n",
       "3782064     697199025  541757445               99.00                  99.00   \n",
       "\n",
       "         PERI_AGNO_MES_TRIBUTARIO FUENTE  \n",
       "0                          202400   RIAC  \n",
       "1                          202400   RIAC  \n",
       "2                          202400  F1948  \n",
       "3                          202400   RIAC  \n",
       "4                          202400   RIAC  \n",
       "...                           ...    ...  \n",
       "3782060                    202400   RIAC  \n",
       "3782061                    202400   RIAC  \n",
       "3782062                    202400   RIAC  \n",
       "3782063                    202400  F1948  \n",
       "3782064                    202400  F1948  \n",
       "\n",
       "[3782065 rows x 6 columns]"
      ]
     },
     "execution_count": 5,
     "metadata": {},
     "output_type": "execute_result"
    }
   ],
   "source": [
    "vo_pd"
   ]
  },
  {
   "cell_type": "code",
   "execution_count": 6,
   "id": "fbcaef7e-6f31-4663-b45b-fe8218dc3d93",
   "metadata": {
    "tags": []
   },
   "outputs": [
    {
     "name": "stderr",
     "output_type": "stream",
     "text": [
      "                                                                                \r"
     ]
    }
   ],
   "source": [
    "vo_spark = spark.read.option(\"header\", \"true\").option(\"delimiter\", \";\").csv(csv_path)"
   ]
  },
  {
   "cell_type": "code",
   "execution_count": 7,
   "id": "64d8aa6e-8571-47c8-a668-cab92088be73",
   "metadata": {},
   "outputs": [
    {
     "name": "stderr",
     "output_type": "stream",
     "text": [
      "Hive Session ID = 10ebdae1-1135-44ad-90e2-52a4d83774b3\n",
      "                                                                                \r"
     ]
    },
    {
     "name": "stdout",
     "output_type": "stream",
     "text": [
      "+------------+---------+------------------+---------------------+\n",
      "|RUT_SOCIEDAD|RUT_SOCIO|PORCENTAJE_CAPITAL|PORCENTAJE_UTILIDADES|\n",
      "+------------+---------+------------------+---------------------+\n",
      "+------------+---------+------------------+---------------------+\n",
      "\n"
     ]
    }
   ],
   "source": [
    "spark.sql(\"select RUT_SOCIEDAD, RUT_SOCIO,PORCENTAJE_CAPITAL,PORCENTAJE_UTILIDADES from libsdf.jab_soc_2023_inom where PORCENTAJE_CAPITAL is null or PORCENTAJE_UTILIDADES IS NULL\").show()"
   ]
  },
  {
   "cell_type": "markdown",
   "id": "0a26abff-6ccc-4904-a629-cc5b2629c932",
   "metadata": {},
   "source": [
    "Primero, veamos los valores null en participacion de capital y participacion de utilidades."
   ]
  },
  {
   "cell_type": "code",
   "execution_count": 8,
   "id": "e76d0bab-25b8-40cf-8c05-3a372108322a",
   "metadata": {
    "tags": []
   },
   "outputs": [
    {
     "name": "stdout",
     "output_type": "stream",
     "text": [
      "+------------+---------+------------------+---------------------+\n",
      "|RUT_SOCIEDAD|RUT_SOCIO|PORCENTAJE_CAPITAL|PORCENTAJE_UTILIDADES|\n",
      "+------------+---------+------------------+---------------------+\n",
      "+------------+---------+------------------+---------------------+\n",
      "\n"
     ]
    }
   ],
   "source": [
    "spark.sql(\"select RUT_SOCIEDAD, RUT_SOCIO,PORCENTAJE_CAPITAL,PORCENTAJE_UTILIDADES from libsdf.jab_soc_2023_inom where PORCENTAJE_CAPITAL is null or PORCENTAJE_UTILIDADES IS NULL\").show()"
   ]
  },
  {
   "cell_type": "markdown",
   "id": "96f026f6-343c-4006-b484-7c8232160562",
   "metadata": {},
   "source": [
    "Vemos que no hay valores nulos en la tabla. A continuacion veamos cuantos duplicados existen en las columnas de interes:\n",
    "RUT_SOCIEDAD,RUT_SOCIO,PORCENTAJE_CAPITAL,PORCENTAJE_UTILIDADES, pues todos\n",
    "los calculos lo haremos basados en esta columnas."
   ]
  },
  {
   "cell_type": "code",
   "execution_count": 9,
   "id": "9f0a9afb-b609-42be-bfdd-30884c3d1947",
   "metadata": {
    "tags": []
   },
   "outputs": [
    {
     "name": "stderr",
     "output_type": "stream",
     "text": [
      "[Stage 9:=================================================>         (5 + 1) / 6]"
     ]
    },
    {
     "name": "stdout",
     "output_type": "stream",
     "text": [
      "+--------------------+--------------------+------------------+---------------------+------------------------+------+\n",
      "|        RUT_SOCIEDAD|           RUT_SOCIO|PORCENTAJE_CAPITAL|PORCENTAJE_UTILIDADES|PERI_AGNO_MES_TRIBUTARIO|FUENTE|\n",
      "+--------------------+--------------------+------------------+---------------------+------------------------+------+\n",
      "|dwElNqcCQQiFyI3ic...|dwElNqcCQQiFyI3ic...|             100.0|                100.0|                  202300|  RIAC|\n",
      "|dwElNqcCQQiFyI3ic...|dwElNqcCQQiFyI3ic...|             100.0|                100.0|                  202300|  RIAC|\n",
      "|dwElNqcCQQiFyI3ic...|dwElNqcCQQiFyI3ic...|             100.0|                100.0|                  202300|  RIAC|\n",
      "|dwElNqcCQQiFyI3ic...|dwElNqcCQQiFyI3ic...|             100.0|                100.0|                  202300|  RIAC|\n",
      "|dwElNqcCQQiFyI3ic...|dwElNqcCQQiFyI3ic...|             100.0|                100.0|                  202300|  RIAC|\n",
      "|dwElNqcCQQiFyI3ic...|dwElNqcCQQiFyI3ic...|             100.0|                100.0|                  202300|  RIAC|\n",
      "|dwElNqcCQQiFyI3ic...|dwElNqcCQQiFyI3ic...|             100.0|                100.0|                  202300|  RIAC|\n",
      "|dwElNqcCQQiFyI3ic...|dwElNqcCQQiFyI3ic...|             100.0|                100.0|                  202300|  RIAC|\n",
      "|dwElNqcCQQiFyI3ic...|dwElNqcCQQiFyI3ic...|             100.0|                100.0|                  202300|  RIAC|\n",
      "|dwElNqcCQQiFyI3ic...|dwElNqcCQQiFyI3ic...|             100.0|                100.0|                  202300|  RIAC|\n",
      "|dwElNqcCQQiFyI3ic...|dwElNqcCQQiFyI3ic...|             100.0|                100.0|                  202300|  RIAC|\n",
      "|dwElNqcCQQiFyI3ic...|dwElNqcCQQiFyI3ic...|             100.0|                100.0|                  202300|  RIAC|\n",
      "+--------------------+--------------------+------------------+---------------------+------------------------+------+\n",
      "\n"
     ]
    },
    {
     "name": "stderr",
     "output_type": "stream",
     "text": [
      "                                                                                \r"
     ]
    }
   ],
   "source": [
    "spark.sql(\"select * from libsdf.jab_soc_2023_inom where RUT_SOCIEDAD like 'dwElNqcCQQiFyI3ic%' \").show()"
   ]
  },
  {
   "cell_type": "code",
   "execution_count": 10,
   "id": "b3876098-aa39-4dd5-bdf3-064bee84b393",
   "metadata": {
    "tags": []
   },
   "outputs": [],
   "source": [
    "vo_spark.createOrReplaceTempView(\"sociedad\")"
   ]
  },
  {
   "cell_type": "code",
   "execution_count": 11,
   "id": "27d2a944-8569-4f40-a13e-72b3c5bc9316",
   "metadata": {
    "tags": []
   },
   "outputs": [
    {
     "name": "stderr",
     "output_type": "stream",
     "text": [
      "[Stage 11:======================================>                  (8 + 4) / 12]"
     ]
    },
    {
     "name": "stdout",
     "output_type": "stream",
     "text": [
      "+-------------------+\n",
      "|count(RUT_SOCIEDAD)|\n",
      "+-------------------+\n",
      "|            3782065|\n",
      "+-------------------+\n",
      "\n"
     ]
    },
    {
     "name": "stderr",
     "output_type": "stream",
     "text": [
      "                                                                                \r"
     ]
    }
   ],
   "source": [
    "spark.sql(\"select count(RUT_SOCIEDAD) from sociedad\").show()"
   ]
  },
  {
   "cell_type": "markdown",
   "id": "f8448ca6-06ac-4507-9cc8-77df2bc49765",
   "metadata": {},
   "source": [
    "Donde seleccionamos los valores no repetidos. Haciendo nuevamente un recuento de los valores unicos,"
   ]
  },
  {
   "cell_type": "code",
   "execution_count": 12,
   "id": "73651a80-5cac-4550-ac81-4486ed6a1617",
   "metadata": {},
   "outputs": [
    {
     "name": "stderr",
     "output_type": "stream",
     "text": [
      "[Stage 14:=====================================>               (143 + 12) / 200]"
     ]
    },
    {
     "name": "stdout",
     "output_type": "stream",
     "text": [
      "+------------+---------+-----+\n",
      "|RUT_SOCIEDAD|RUT_SOCIO|count|\n",
      "+------------+---------+-----+\n",
      "|   350634625| 70225601|    1|\n",
      "|   351113565|532269134|    1|\n",
      "|   352200035| 73004888|    1|\n",
      "|   352231885| 20283268|    1|\n",
      "|   352537365| 51578392|    1|\n",
      "|   352679605| 48287496|    1|\n",
      "|   352721325| 49372251|    1|\n",
      "|   353312055| 26067634|    1|\n",
      "|   354577725| 52187420|    1|\n",
      "|   354729205| 63525558|    1|\n",
      "|   354844425| 69721258|    1|\n",
      "|   354893565| 47366520|    1|\n",
      "|   355244965| 42422217|    1|\n",
      "|   355388605| 32157739|    1|\n",
      "|   355422625| 72866610|    1|\n",
      "|   355573335| 49626176|    1|\n",
      "|   355588455| 71558688|    1|\n",
      "|   355602735| 44969741|    1|\n",
      "|   355648655| 53037570|    1|\n",
      "|   355710885| 44749374|    1|\n",
      "+------------+---------+-----+\n",
      "only showing top 20 rows\n",
      "\n"
     ]
    },
    {
     "name": "stderr",
     "output_type": "stream",
     "text": [
      "                                                                                \r"
     ]
    }
   ],
   "source": [
    "spark.sql(\"select RUT_SOCIEDAD, RUT_SOCIO, count(*) as count from sociedad group by RUT_SOCIEDAD, RUT_SOCIO order by count desc \").show()"
   ]
  },
  {
   "cell_type": "markdown",
   "id": "ebd9c227-f581-466c-aac1-3949e3edec40",
   "metadata": {},
   "source": [
    "Por lo visto tenemos unicidad de la relaciones sociedad socio, a juzgar por el recuento de las combinaciones. Ahora veremos cuanto suman los valores de PORCENTAJE_CAPITAL,PORCENTAJE_UTILIDADES para cada una de las sociedades.\n"
   ]
  },
  {
   "cell_type": "code",
   "execution_count": 13,
   "id": "3d11b96b-d025-4014-9eb8-e903db4fbccf",
   "metadata": {
    "tags": []
   },
   "outputs": [
    {
     "name": "stderr",
     "output_type": "stream",
     "text": [
      "[Stage 16:================================>                    (124 + 15) / 200]"
     ]
    },
    {
     "name": "stdout",
     "output_type": "stream",
     "text": [
      "+------------+-------+----------+\n",
      "|RUT_SOCIEDAD|CAPITAL|UTILIDADES|\n",
      "+------------+-------+----------+\n",
      "|   543658015|  110.0|     110.0|\n",
      "|   532364915|  110.0|     110.0|\n",
      "|   552446375|  110.0|     100.0|\n",
      "|   532240266|  110.0|     100.0|\n",
      "|   532517669|  110.0|     100.0|\n",
      "|   534301045|  110.0|     100.0|\n",
      "|   532244361|  110.0|     110.0|\n",
      "|   536608945|  110.0|     110.0|\n",
      "|   678090705|  110.0|     110.0|\n",
      "|   532893219|  110.0|     100.0|\n",
      "|   535973254|  110.0|     110.0|\n",
      "|   532954707|  110.0|     100.0|\n",
      "|   552253805|  110.0|     110.0|\n",
      "|   544924595|  110.0|     110.0|\n",
      "|   536115445|  110.0|     110.0|\n",
      "|   534660859|  110.0|     110.0|\n",
      "|   534641406|  110.0|     110.0|\n",
      "|   373141858|  110.0|     110.0|\n",
      "|   533085516|  110.0|     100.0|\n",
      "|   542936525|  110.0|     110.0|\n",
      "+------------+-------+----------+\n",
      "only showing top 20 rows\n",
      "\n"
     ]
    },
    {
     "name": "stderr",
     "output_type": "stream",
     "text": [
      "                                                                                \r"
     ]
    }
   ],
   "source": [
    "spark.sql(\"select RUT_SOCIEDAD, SUM(PORCENTAJE_CAPITAL) as CAPITAL,SUM(PORCENTAJE_UTILIDADES) as UTILIDADES from sociedad group by RUT_SOCIEDAD order by CAPITAL DESC\").show()"
   ]
  },
  {
   "cell_type": "code",
   "execution_count": 14,
   "id": "bef336b3-7386-466b-a7dd-b1b4a253fb83",
   "metadata": {
    "tags": []
   },
   "outputs": [
    {
     "name": "stderr",
     "output_type": "stream",
     "text": [
      "[Stage 18:============================================>        (169 + 12) / 200]"
     ]
    },
    {
     "name": "stdout",
     "output_type": "stream",
     "text": [
      "+------------+------------------+------------------+\n",
      "|RUT_SOCIEDAD|           CAPITAL|        UTILIDADES|\n",
      "+------------+------------------+------------------+\n",
      "|   580152305|10.999999999999892|10.999999999999892|\n",
      "|   413676555|              90.0|              90.0|\n",
      "|   540147928|              90.0|              90.0|\n",
      "|   455299773|              90.0|              90.0|\n",
      "|   542001598|              90.0|              90.0|\n",
      "|   536094900|              90.0|              90.0|\n",
      "|   544612850|              90.0|              90.0|\n",
      "|   558565565|              90.0|              90.0|\n",
      "|   532256954|              90.0|              90.0|\n",
      "|   544098385|              90.0|              90.0|\n",
      "|   532494569|              90.0|              50.0|\n",
      "|   533667153|              90.0|              90.0|\n",
      "|   538051953|              90.0|              90.0|\n",
      "|   535745075|              90.0|             100.0|\n",
      "|   538416422|              90.0|              90.0|\n",
      "|   373217913|              90.0|              90.0|\n",
      "|   544299824|              90.0|              90.0|\n",
      "|   537233331|              90.0|              90.0|\n",
      "|   535605915|              90.0|              90.0|\n",
      "|   539540650|              90.0|              90.0|\n",
      "+------------+------------------+------------------+\n",
      "only showing top 20 rows\n",
      "\n"
     ]
    },
    {
     "name": "stderr",
     "output_type": "stream",
     "text": [
      "                                                                                \r"
     ]
    }
   ],
   "source": [
    "spark.sql(\"select RUT_SOCIEDAD, SUM(PORCENTAJE_CAPITAL) as CAPITAL,SUM(PORCENTAJE_UTILIDADES) as UTILIDADES from sociedad group by RUT_SOCIEDAD order by CAPITAL ASC\").show()"
   ]
  },
  {
   "cell_type": "code",
   "execution_count": 15,
   "id": "df744011-6f82-462c-9e12-b5af3efee765",
   "metadata": {
    "tags": []
   },
   "outputs": [
    {
     "name": "stderr",
     "output_type": "stream",
     "text": [
      "                                                                                \r"
     ]
    },
    {
     "name": "stdout",
     "output_type": "stream",
     "text": [
      "          CAPITAL  UTILIDADES\n",
      "count  375.000000  375.000000\n",
      "mean    96.033493   95.749280\n",
      "std      9.255714    9.339595\n",
      "min     11.000000   11.000000\n",
      "25%     90.000000   90.000000\n",
      "50%     91.740000   92.280000\n",
      "75%    106.610000  100.000000\n",
      "max    110.000000  127.000000\n"
     ]
    }
   ],
   "source": [
    "anomalias_sociedades=spark.sql(\"select RUT_SOCIEDAD, SUM(PORCENTAJE_CAPITAL) as CAPITAL,SUM(PORCENTAJE_UTILIDADES) as UTILIDADES from sociedad group by RUT_SOCIEDAD having CAPITAL>105 or CAPITAL<95\").toPandas()\n",
    "anomalias_sociedades.to_csv(PATH+f'data/processed/{Carpeta_Salida}anomalias_capital_sociedades.csv', index=False)\n",
    "print(anomalias_sociedades.describe())"
   ]
  },
  {
   "cell_type": "markdown",
   "id": "140c6f23-f2bf-4aed-9d06-ff8fa9cef7a2",
   "metadata": {},
   "source": [
    "Ahora vamos las entradas con al menos un valor cero (que indica cero participacion porcentual)"
   ]
  },
  {
   "cell_type": "code",
   "execution_count": 16,
   "id": "56330adb-ffbb-4f15-962e-d1fb30b6fcb9",
   "metadata": {},
   "outputs": [
    {
     "name": "stderr",
     "output_type": "stream",
     "text": [
      "[Stage 21:=====================================================>  (39 + 2) / 41]"
     ]
    },
    {
     "name": "stdout",
     "output_type": "stream",
     "text": [
      "+--------+\n",
      "|count(1)|\n",
      "+--------+\n",
      "| 1254988|\n",
      "+--------+\n",
      "\n"
     ]
    },
    {
     "name": "stderr",
     "output_type": "stream",
     "text": [
      "                                                                                \r"
     ]
    }
   ],
   "source": [
    "spark.sql(\"select COUNT(*) from sociedad WHERE PORCENTAJE_CAPITAL=0 OR PORCENTAJE_UTILIDADES=0\").show()"
   ]
  },
  {
   "cell_type": "markdown",
   "id": "dfaced12-3177-47ad-9771-666acbfa0829",
   "metadata": {},
   "source": [
    "Por lo visto, tenemos 1057765 entradas donde al menos uno de ambos porcentajes es cero. Por otro lado, tenemos \n",
    "1053936 registros donde ambos porcentajes son cero.\n"
   ]
  },
  {
   "cell_type": "markdown",
   "id": "cc9e9107-1b2f-49d8-84e2-865574447edb",
   "metadata": {},
   "source": [
    "Ahora veamos cuales porcentajes de capital son cero y luego los porcentajes de utilidades son cero."
   ]
  },
  {
   "cell_type": "code",
   "execution_count": 17,
   "id": "ce98007e-cb86-4885-a52d-3496db714d30",
   "metadata": {
    "tags": []
   },
   "outputs": [
    {
     "name": "stderr",
     "output_type": "stream",
     "text": [
      "                                                                                \r"
     ]
    },
    {
     "name": "stdout",
     "output_type": "stream",
     "text": [
      "+--------+\n",
      "|count(1)|\n",
      "+--------+\n",
      "|    4458|\n",
      "+--------+\n",
      "\n"
     ]
    },
    {
     "name": "stderr",
     "output_type": "stream",
     "text": [
      "[Stage 25:==================================================>     (37 + 4) / 41]"
     ]
    },
    {
     "name": "stdout",
     "output_type": "stream",
     "text": [
      "+--------+\n",
      "|count(1)|\n",
      "+--------+\n",
      "|    1325|\n",
      "+--------+\n",
      "\n"
     ]
    },
    {
     "name": "stderr",
     "output_type": "stream",
     "text": [
      "                                                                                \r"
     ]
    }
   ],
   "source": [
    "spark.sql(\"select count(*) from sociedad WHERE PORCENTAJE_CAPITAL=0 and PORCENTAJE_UTILIDADES!=0\").show()\n",
    "spark.sql(\"select count(*) from sociedad WHERE PORCENTAJE_CAPITAL!=0 and PORCENTAJE_UTILIDADES=0\").show()"
   ]
  },
  {
   "cell_type": "markdown",
   "id": "fa7cedfe-c797-4742-9b64-193be1d85f75",
   "metadata": {},
   "source": [
    "Para el analisis del problema de oscuridad, es mejor tener en cuenta los porcentajes de participacion de capital, porque los creditos se reparten segun la participacion societaria.\n",
    "Ahora veamos cuantos tienen valores positivos mayores que 100 o negativos."
   ]
  },
  {
   "cell_type": "code",
   "execution_count": 18,
   "id": "b485f3fc-7e5a-4e28-ba35-73c2c2807883",
   "metadata": {
    "tags": []
   },
   "outputs": [
    {
     "name": "stdout",
     "output_type": "stream",
     "text": [
      "+------------+---------+------------------+---------------------+------------------------+------+\n",
      "|RUT_SOCIEDAD|RUT_SOCIO|PORCENTAJE_CAPITAL|PORCENTAJE_UTILIDADES|PERI_AGNO_MES_TRIBUTARIO|FUENTE|\n",
      "+------------+---------+------------------+---------------------+------------------------+------+\n",
      "+------------+---------+------------------+---------------------+------------------------+------+\n",
      "\n"
     ]
    }
   ],
   "source": [
    "spark.sql(\"select * from sociedad WHERE PORCENTAJE_CAPITAL<0 or PORCENTAJE_CAPITAL>100 or PORCENTAJE_UTILIDADES<0 or PORCENTAJE_UTILIDADES>100\").show()"
   ]
  },
  {
   "cell_type": "markdown",
   "id": "6c250425-8b01-44e9-9c08-34b08766aca9",
   "metadata": {},
   "source": [
    "El cual es solo un valor levemente superior a 100 %. Seleccionamos los que no tienen valores cero en PORCENTAJE_CAPITAL.\n",
    "IMPORTANTE: de ser utilizado PORCENTAJE_UTILIDADES se debe filtrar sobre esa columna."
   ]
  },
  {
   "cell_type": "code",
   "execution_count": 19,
   "id": "a7a45a4c-77f8-4cd4-95a0-5c2a89290417",
   "metadata": {},
   "outputs": [],
   "source": [
    "spark.sql(\"select * from sociedad where PORCENTAJE_CAPITAL!=0\").createOrReplaceTempView(\"sociedad\")"
   ]
  },
  {
   "cell_type": "code",
   "execution_count": 20,
   "id": "3a5eb78b-6281-41b9-887f-c6a0293bae9a",
   "metadata": {
    "tags": []
   },
   "outputs": [
    {
     "name": "stderr",
     "output_type": "stream",
     "text": [
      "[Stage 31:=====================================================>  (39 + 2) / 41]"
     ]
    },
    {
     "name": "stdout",
     "output_type": "stream",
     "text": [
      "+--------+\n",
      "|count(1)|\n",
      "+--------+\n",
      "| 2528402|\n",
      "+--------+\n",
      "\n"
     ]
    },
    {
     "name": "stderr",
     "output_type": "stream",
     "text": [
      "                                                                                \r"
     ]
    }
   ],
   "source": [
    "spark.sql(\"select count(*) from sociedad\").show()"
   ]
  },
  {
   "cell_type": "code",
   "execution_count": 21,
   "id": "4aabb0d5-8657-432c-a6b4-322e439081d3",
   "metadata": {},
   "outputs": [
    {
     "name": "stderr",
     "output_type": "stream",
     "text": [
      "                                                                                \r"
     ]
    },
    {
     "name": "stdout",
     "output_type": "stream",
     "text": [
      "+--------+\n",
      "|count(1)|\n",
      "+--------+\n",
      "|       0|\n",
      "+--------+\n",
      "\n"
     ]
    },
    {
     "name": "stderr",
     "output_type": "stream",
     "text": [
      "[Stage 38:===================================================>    (11 + 1) / 12]"
     ]
    },
    {
     "name": "stdout",
     "output_type": "stream",
     "text": [
      "+--------------------+--------------------+------------------+---------------------+------------------------+------+\n",
      "|        RUT_SOCIEDAD|           RUT_SOCIO|PORCENTAJE_CAPITAL|PORCENTAJE_UTILIDADES|PERI_AGNO_MES_TRIBUTARIO|FUENTE|\n",
      "+--------------------+--------------------+------------------+---------------------+------------------------+------+\n",
      "|Qbau/6SlJ/lEcKUDF...|RQ0TnfBpncysCFzap...|              0.03|                 0.03|                  202300| F1948|\n",
      "|Qbau/6SlJ/lEcKUDF...|i8odveNc3AEZRZWI7...|              0.01|                 0.01|                  202300| F1948|\n",
      "|Qbau/6SlJ/lEcKUDF...|9cDQjPbdfB1EfPUmw...|              0.02|                 0.02|                  202300| F1948|\n",
      "|Qbau/6SlJ/lEcKUDF...|7T3+u8inor8kIrUtm...|              0.02|                 0.02|                  202300| F1948|\n",
      "|Qbau/6SlJ/lEcKUDF...|CbAnOeVKkXKx8w0q3...|              0.01|                 0.01|                  202300| F1948|\n",
      "|Qbau/6SlJ/lEcKUDF...|dEi5RAN/WiSIYuK1s...|              0.01|                 0.01|                  202300| F1948|\n",
      "|Qbau/6SlJ/lEcKUDF...|vhL1+hbOmTVVtbcka...|              0.02|                 0.02|                  202300| F1948|\n",
      "|Qbau/6SlJ/lEcKUDF...|Yf0GsbbLfZQq+6Ur8...|              0.03|                 0.03|                  202300| F1948|\n",
      "|Qbau/6SlJ/lEcKUDF...|T/qAoKtqrmIzcIZGt...|              0.03|                 0.03|                  202300| F1948|\n",
      "|Qbau/6SlJ/lEcKUDF...|veYQhltSzb5l0dL8/...|              0.02|                 0.02|                  202300| F1948|\n",
      "|Qbau/6SlJ/lEcKUDF...|XpH5V4eq+Tu3j80Wm...|              0.04|                 0.04|                  202300| F1948|\n",
      "|Qbau/6SlJ/lEcKUDF...|O/zuukRFaak3Wb0C+...|              0.04|                 0.04|                  202300| F1948|\n",
      "|Qbau/6SlJ/lEcKUDF...|ZTNS3unZFcKQHHs4L...|              0.04|                 0.04|                  202300| F1948|\n",
      "|Qbau/6SlJ/lEcKUDF...|LjBkWt7vEjgAGPat3...|              0.01|                 0.01|                  202300| F1948|\n",
      "|Qbau/6SlJ/lEcKUDF...|H2igHFGW5t8Q3q1vy...|              0.02|                 0.02|                  202300| F1948|\n",
      "|Qbau/6SlJ/lEcKUDF...|b6cx9nBf6AoaJ0DGc...|              0.01|                 0.01|                  202300| F1948|\n",
      "|Qbau/6SlJ/lEcKUDF...|KFn/iogUkFRv+oShM...|              0.01|                 0.01|                  202300| F1948|\n",
      "|Qbau/6SlJ/lEcKUDF...|97XgDtOGy3XoW9hej...|              0.02|                 0.02|                  202300| F1948|\n",
      "|Qbau/6SlJ/lEcKUDF...|uDAdIk+NCvU4os8Gj...|              0.01|                 0.01|                  202300| F1948|\n",
      "|Qbau/6SlJ/lEcKUDF...|2myaaVxbFd+1SOpx6...|              0.03|                 0.03|                  202300| F1948|\n",
      "+--------------------+--------------------+------------------+---------------------+------------------------+------+\n",
      "only showing top 20 rows\n",
      "\n"
     ]
    },
    {
     "name": "stderr",
     "output_type": "stream",
     "text": [
      "                                                                                \r"
     ]
    }
   ],
   "source": [
    "spark.sql(\"select count(*) from sociedad where RUT_SOCIEDAD LIKE 'Qbau/6SlJ/lEcKUD%'\").show()\n",
    "spark.sql(\"select *  from libsdf.jab_soc_2023_inom where RUT_SOCIEDAD LIKE 'Qbau/6SlJ/lEcKUD%'\").show()"
   ]
  },
  {
   "cell_type": "code",
   "execution_count": 22,
   "id": "04125815-cc44-4ff3-b13c-dd3888c0938f",
   "metadata": {
    "tags": []
   },
   "outputs": [
    {
     "name": "stderr",
     "output_type": "stream",
     "text": [
      "                                                                                \r"
     ]
    }
   ],
   "source": [
    "sociedad=spark.sql(\"select * from sociedad\").toPandas()\n",
    "sociedad.to_csv(PATH+f'data/processed/{Carpeta_Salida}sociedades_participacion_capital_nozero.csv', index=False)"
   ]
  },
  {
   "cell_type": "code",
   "execution_count": 23,
   "id": "3cf2e496-5377-431a-8c36-d2ca5dfef8ac",
   "metadata": {
    "tags": []
   },
   "outputs": [
    {
     "data": {
      "text/html": [
       "<div>\n",
       "<style scoped>\n",
       "    .dataframe tbody tr th:only-of-type {\n",
       "        vertical-align: middle;\n",
       "    }\n",
       "\n",
       "    .dataframe tbody tr th {\n",
       "        vertical-align: top;\n",
       "    }\n",
       "\n",
       "    .dataframe thead th {\n",
       "        text-align: right;\n",
       "    }\n",
       "</style>\n",
       "<table border=\"1\" class=\"dataframe\">\n",
       "  <thead>\n",
       "    <tr style=\"text-align: right;\">\n",
       "      <th></th>\n",
       "      <th>RUT_SOCIEDAD</th>\n",
       "      <th>RUT_SOCIO</th>\n",
       "      <th>PORCENTAJE_CAPITAL</th>\n",
       "      <th>PORCENTAJE_UTILIDADES</th>\n",
       "      <th>PERI_AGNO_MES_TRIBUTARIO</th>\n",
       "      <th>FUENTE</th>\n",
       "    </tr>\n",
       "  </thead>\n",
       "  <tbody>\n",
       "    <tr>\n",
       "      <th>0</th>\n",
       "      <td>318500215</td>\n",
       "      <td>12</td>\n",
       "      <td>100.00</td>\n",
       "      <td>100.00</td>\n",
       "      <td>202400</td>\n",
       "      <td>RIAC</td>\n",
       "    </tr>\n",
       "    <tr>\n",
       "      <th>1</th>\n",
       "      <td>319519583</td>\n",
       "      <td>12</td>\n",
       "      <td>100.00</td>\n",
       "      <td>100.00</td>\n",
       "      <td>202400</td>\n",
       "      <td>RIAC</td>\n",
       "    </tr>\n",
       "    <tr>\n",
       "      <th>2</th>\n",
       "      <td>350003575</td>\n",
       "      <td>29485615</td>\n",
       "      <td>100.00</td>\n",
       "      <td>100.00</td>\n",
       "      <td>202400</td>\n",
       "      <td>F1948</td>\n",
       "    </tr>\n",
       "    <tr>\n",
       "      <th>3</th>\n",
       "      <td>350004975</td>\n",
       "      <td>31161877</td>\n",
       "      <td>33.33</td>\n",
       "      <td>33.33</td>\n",
       "      <td>202400</td>\n",
       "      <td>RIAC</td>\n",
       "    </tr>\n",
       "    <tr>\n",
       "      <th>4</th>\n",
       "      <td>350004975</td>\n",
       "      <td>53717298</td>\n",
       "      <td>33.33</td>\n",
       "      <td>33.33</td>\n",
       "      <td>202400</td>\n",
       "      <td>RIAC</td>\n",
       "    </tr>\n",
       "    <tr>\n",
       "      <th>...</th>\n",
       "      <td>...</td>\n",
       "      <td>...</td>\n",
       "      <td>...</td>\n",
       "      <td>...</td>\n",
       "      <td>...</td>\n",
       "      <td>...</td>\n",
       "    </tr>\n",
       "    <tr>\n",
       "      <th>2528397</th>\n",
       "      <td>697198885</td>\n",
       "      <td>75038731</td>\n",
       "      <td>20.00</td>\n",
       "      <td>20.00</td>\n",
       "      <td>202400</td>\n",
       "      <td>RIAC</td>\n",
       "    </tr>\n",
       "    <tr>\n",
       "      <th>2528398</th>\n",
       "      <td>697198885</td>\n",
       "      <td>697168365</td>\n",
       "      <td>80.00</td>\n",
       "      <td>80.00</td>\n",
       "      <td>202400</td>\n",
       "      <td>RIAC</td>\n",
       "    </tr>\n",
       "    <tr>\n",
       "      <th>2528399</th>\n",
       "      <td>697198955</td>\n",
       "      <td>53430011</td>\n",
       "      <td>99.90</td>\n",
       "      <td>99.90</td>\n",
       "      <td>202400</td>\n",
       "      <td>RIAC</td>\n",
       "    </tr>\n",
       "    <tr>\n",
       "      <th>2528400</th>\n",
       "      <td>697199025</td>\n",
       "      <td>75474502</td>\n",
       "      <td>1.00</td>\n",
       "      <td>1.00</td>\n",
       "      <td>202400</td>\n",
       "      <td>F1948</td>\n",
       "    </tr>\n",
       "    <tr>\n",
       "      <th>2528401</th>\n",
       "      <td>697199025</td>\n",
       "      <td>541757445</td>\n",
       "      <td>99.00</td>\n",
       "      <td>99.00</td>\n",
       "      <td>202400</td>\n",
       "      <td>F1948</td>\n",
       "    </tr>\n",
       "  </tbody>\n",
       "</table>\n",
       "<p>2528402 rows × 6 columns</p>\n",
       "</div>"
      ],
      "text/plain": [
       "        RUT_SOCIEDAD  RUT_SOCIO PORCENTAJE_CAPITAL PORCENTAJE_UTILIDADES  \\\n",
       "0          318500215         12             100.00                100.00   \n",
       "1          319519583         12             100.00                100.00   \n",
       "2          350003575   29485615             100.00                100.00   \n",
       "3          350004975   31161877              33.33                 33.33   \n",
       "4          350004975   53717298              33.33                 33.33   \n",
       "...              ...        ...                ...                   ...   \n",
       "2528397    697198885   75038731              20.00                 20.00   \n",
       "2528398    697198885  697168365              80.00                 80.00   \n",
       "2528399    697198955   53430011              99.90                 99.90   \n",
       "2528400    697199025   75474502               1.00                  1.00   \n",
       "2528401    697199025  541757445              99.00                 99.00   \n",
       "\n",
       "        PERI_AGNO_MES_TRIBUTARIO FUENTE  \n",
       "0                         202400   RIAC  \n",
       "1                         202400   RIAC  \n",
       "2                         202400  F1948  \n",
       "3                         202400   RIAC  \n",
       "4                         202400   RIAC  \n",
       "...                          ...    ...  \n",
       "2528397                   202400   RIAC  \n",
       "2528398                   202400   RIAC  \n",
       "2528399                   202400   RIAC  \n",
       "2528400                   202400  F1948  \n",
       "2528401                   202400  F1948  \n",
       "\n",
       "[2528402 rows x 6 columns]"
      ]
     },
     "execution_count": 23,
     "metadata": {},
     "output_type": "execute_result"
    }
   ],
   "source": [
    "sociedad"
   ]
  }
 ],
 "metadata": {
  "kernelspec": {
   "display_name": "Python 3 (ipykernel)",
   "language": "python",
   "name": "python3"
  },
  "language_info": {
   "codemirror_mode": {
    "name": "ipython",
    "version": 3
   },
   "file_extension": ".py",
   "mimetype": "text/x-python",
   "name": "python",
   "nbconvert_exporter": "python",
   "pygments_lexer": "ipython3",
   "version": "3.7.16"
  }
 },
 "nbformat": 4,
 "nbformat_minor": 5
}
