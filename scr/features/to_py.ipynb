{
 "cells": [
  {
   "cell_type": "code",
   "execution_count": 1,
   "id": "2302c7a6-e426-4f7f-a3b3-5c2371a8b225",
   "metadata": {
    "tags": []
   },
   "outputs": [
    {
     "name": "stdout",
     "output_type": "stream",
     "text": [
      "[NbConvertApp] Converting notebook materia_oscura.ipynb to python\n",
      "[NbConvertApp] Writing 9919 bytes to materia_oscura.py\n"
     ]
    }
   ],
   "source": [
    "!jupyter nbconvert --to python materia_oscura.ipynb"
   ]
  },
  {
   "cell_type": "code",
   "execution_count": 2,
   "id": "082d21fd-8c2b-4a1d-a065-2418c31932e7",
   "metadata": {},
   "outputs": [
    {
     "name": "stdout",
     "output_type": "stream",
     "text": [
      "[NbConvertApp] Converting notebook familiares_sociedad_v2.ipynb to python\n",
      "[NbConvertApp] Writing 8115 bytes to familiares_sociedad_v2.py\n"
     ]
    }
   ],
   "source": [
    "!jupyter nbconvert --to python familiares_sociedad_v2.ipynb"
   ]
  },
  {
   "cell_type": "code",
   "execution_count": 3,
   "id": "9f76c73e-c3e4-48aa-b696-f396588cfcbd",
   "metadata": {},
   "outputs": [
    {
     "name": "stdout",
     "output_type": "stream",
     "text": [
      "[NbConvertApp] Converting notebook depuracion_sociedades.ipynb to python\n",
      "[NbConvertApp] Writing 5109 bytes to depuracion_sociedades.py\n"
     ]
    }
   ],
   "source": [
    "!jupyter nbconvert --to python depuracion_sociedades.ipynb"
   ]
  },
  {
   "cell_type": "code",
   "execution_count": 4,
   "id": "69536796-394d-4650-985f-55725f8f9c71",
   "metadata": {},
   "outputs": [
    {
     "name": "stdout",
     "output_type": "stream",
     "text": [
      "[NbConvertApp] Converting notebook reporte_oscuridad.ipynb to python\n",
      "[NbConvertApp] Writing 3701 bytes to reporte_oscuridad.py\n"
     ]
    }
   ],
   "source": [
    "!jupyter nbconvert --to python reporte_oscuridad.ipynb"
   ]
  },
  {
   "cell_type": "code",
   "execution_count": null,
   "id": "86709c60-1b57-425b-90ad-9b39aa884778",
   "metadata": {},
   "outputs": [],
   "source": []
  }
 ],
 "metadata": {
  "kernelspec": {
   "display_name": "Python 3 (ipykernel)",
   "language": "python",
   "name": "python3"
  },
  "language_info": {
   "codemirror_mode": {
    "name": "ipython",
    "version": 3
   },
   "file_extension": ".py",
   "mimetype": "text/x-python",
   "name": "python",
   "nbconvert_exporter": "python",
   "pygments_lexer": "ipython3",
   "version": "3.7.16"
  }
 },
 "nbformat": 4,
 "nbformat_minor": 5
}
