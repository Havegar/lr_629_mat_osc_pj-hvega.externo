{
 "cells": [
  {
   "cell_type": "markdown",
   "id": "e5c4e178-feb5-4c68-ab59-b36dee352c75",
   "metadata": {},
   "source": [
    "## Analisis de sociedades con oscuridad completa"
   ]
  },
  {
   "cell_type": "code",
   "execution_count": 1,
   "id": "ee1d7be7-eabe-464a-981a-44908b6aa966",
   "metadata": {
    "tags": []
   },
   "outputs": [],
   "source": [
    "import pandas as pd\n",
    "import seaborn as sns\n",
    "import numpy as np\n",
    "\n",
    "import matplotlib.pyplot as plt\n",
    "sns.set(rc={'figure.figsize':(20,10)})"
   ]
  },
  {
   "cell_type": "code",
   "execution_count": 1,
   "id": "60338701-54cc-43de-a8a1-ecbe3e4e0bce",
   "metadata": {
    "tags": []
   },
   "outputs": [
    {
     "name": "stdout",
     "output_type": "stream",
     "text": [
      "\n"
     ]
    }
   ],
   "source": [
    "print(\"\")"
   ]
  },
  {
   "cell_type": "markdown",
   "id": "ee81756e-a870-496f-abea-a52974223699",
   "metadata": {},
   "source": [
    "Usaremos el output de la segunda version de  ejecucion:\n",
    "\n",
    "*artefactos/Ejecucionv2/Sociedades_oscuridad_completa.csv*: archivo con rut de la sociedad completada, su valor de ocuridad y el numero de iteraciones para lograr la completitud.\n",
    "\n",
    "*artefactos/Ejecucionv2/Sociedades_oscuridad_actualizada.csv*: archivo con los datos de composicion y oscuridad de todas las sociedades con oscuridad por socio, incluidos los datos faltantes."
   ]
  },
  {
   "cell_type": "code",
   "execution_count": 2,
   "id": "05c82546-f1ca-4043-8a84-77b1386c72c8",
   "metadata": {
    "tags": []
   },
   "outputs": [],
   "source": [
    "complete = pd.read_csv('/home/cdsw/artefactos/Oscuridad/Sociedades_oscuridad_completa.csv', delimiter=',')\n",
    "society_all= pd.read_csv('/home/cdsw/artefactos/Oscuridad/Sociedades_oscuridad_actualizada.csv', delimiter=',')"
   ]
  },
  {
   "cell_type": "code",
   "execution_count": 3,
   "id": "af9d1d6c-3f4b-4557-b636-cffb02777c13",
   "metadata": {
    "tags": []
   },
   "outputs": [
    {
     "data": {
      "text/plain": [
       "(1391761, 1347153)"
      ]
     },
     "execution_count": 3,
     "metadata": {},
     "output_type": "execute_result"
    }
   ],
   "source": [
    "len(society_all['RUT_SOCIEDAD'].unique()), len(complete) "
   ]
  },
  {
   "cell_type": "code",
   "execution_count": 4,
   "id": "22c54d81-df09-4e08-a253-0a1958309752",
   "metadata": {
    "tags": []
   },
   "outputs": [
    {
     "data": {
      "text/plain": [
       "96.79485198967352"
      ]
     },
     "execution_count": 4,
     "metadata": {},
     "output_type": "execute_result"
    }
   ],
   "source": [
    "len(complete) /(len(society_all['RUT_SOCIEDAD'].unique()))*100"
   ]
  },
  {
   "cell_type": "markdown",
   "id": "7ba55943-b95e-4c76-b64c-a350606139af",
   "metadata": {
    "tags": []
   },
   "source": [
    "Es decir se completa el 96.976% de las sociedades. Ahora veamos la composicion de estos registros completos."
   ]
  },
  {
   "cell_type": "code",
   "execution_count": 5,
   "id": "86d40563-f7a1-43c0-a81c-635a863dc4a1",
   "metadata": {
    "tags": []
   },
   "outputs": [
    {
     "data": {
      "text/html": [
       "<div>\n",
       "<style scoped>\n",
       "    .dataframe tbody tr th:only-of-type {\n",
       "        vertical-align: middle;\n",
       "    }\n",
       "\n",
       "    .dataframe tbody tr th {\n",
       "        vertical-align: top;\n",
       "    }\n",
       "\n",
       "    .dataframe thead th {\n",
       "        text-align: right;\n",
       "    }\n",
       "</style>\n",
       "<table border=\"1\" class=\"dataframe\">\n",
       "  <thead>\n",
       "    <tr style=\"text-align: right;\">\n",
       "      <th></th>\n",
       "      <th>Value</th>\n",
       "      <th>iterations</th>\n",
       "    </tr>\n",
       "  </thead>\n",
       "  <tbody>\n",
       "    <tr>\n",
       "      <th>count</th>\n",
       "      <td>1.347153e+06</td>\n",
       "      <td>1.347153e+06</td>\n",
       "    </tr>\n",
       "    <tr>\n",
       "      <th>mean</th>\n",
       "      <td>2.461284e-01</td>\n",
       "      <td>5.685249e-02</td>\n",
       "    </tr>\n",
       "    <tr>\n",
       "      <th>std</th>\n",
       "      <td>5.920042e-02</td>\n",
       "      <td>2.985776e-01</td>\n",
       "    </tr>\n",
       "    <tr>\n",
       "      <th>min</th>\n",
       "      <td>0.000000e+00</td>\n",
       "      <td>0.000000e+00</td>\n",
       "    </tr>\n",
       "    <tr>\n",
       "      <th>25%</th>\n",
       "      <td>2.505881e-01</td>\n",
       "      <td>0.000000e+00</td>\n",
       "    </tr>\n",
       "    <tr>\n",
       "      <th>50%</th>\n",
       "      <td>2.505881e-01</td>\n",
       "      <td>0.000000e+00</td>\n",
       "    </tr>\n",
       "    <tr>\n",
       "      <th>75%</th>\n",
       "      <td>2.505881e-01</td>\n",
       "      <td>0.000000e+00</td>\n",
       "    </tr>\n",
       "    <tr>\n",
       "      <th>max</th>\n",
       "      <td>1.000000e+00</td>\n",
       "      <td>9.000000e+00</td>\n",
       "    </tr>\n",
       "  </tbody>\n",
       "</table>\n",
       "</div>"
      ],
      "text/plain": [
       "              Value    iterations\n",
       "count  1.347153e+06  1.347153e+06\n",
       "mean   2.461284e-01  5.685249e-02\n",
       "std    5.920042e-02  2.985776e-01\n",
       "min    0.000000e+00  0.000000e+00\n",
       "25%    2.505881e-01  0.000000e+00\n",
       "50%    2.505881e-01  0.000000e+00\n",
       "75%    2.505881e-01  0.000000e+00\n",
       "max    1.000000e+00  9.000000e+00"
      ]
     },
     "execution_count": 5,
     "metadata": {},
     "output_type": "execute_result"
    }
   ],
   "source": [
    "complete.describe()"
   ]
  },
  {
   "cell_type": "markdown",
   "id": "4d67f005-f290-4d72-8cb8-a976d82441c0",
   "metadata": {},
   "source": [
    "Vemos que los cuartiles son muy similares, veamos la distribucion por valor de oscuridad."
   ]
  },
  {
   "cell_type": "code",
   "execution_count": 6,
   "id": "e6f259a9-dbe4-419c-b2a5-444a3fff080b",
   "metadata": {
    "tags": []
   },
   "outputs": [
    {
     "data": {
      "image/png": "[encoded data removed]",
      "text/plain": [
       "<Figure size 432x288 with 1 Axes>"
      ]
     },
     "metadata": {
      "needs_background": "light"
     },
     "output_type": "display_data"
    }
   ],
   "source": [
    "x = complete['Value']\n",
    "sns.histplot(x = x, bins=10).set_title('Distribucion de materia oscura')\n",
    "sns.set(font_scale=1)"
   ]
  },
  {
   "cell_type": "markdown",
   "id": "55fb889f-7af5-44be-a774-e29b29352899",
   "metadata": {},
   "source": [
    "Claramente los valores de oscuridad encontrados estan entre  0.2 y 0.4, lo cuale es coherennte con la mediana 2.505881e-01, y la media 2.459072e-01. El histograma   de distribucion acumulado:"
   ]
  },
  {
   "cell_type": "code",
   "execution_count": 7,
   "id": "2a9f7adf-b200-4a4a-bbee-dfffc3b669a7",
   "metadata": {
    "tags": []
   },
   "outputs": [
    {
     "data": {
      "image/png": "[encoded data removed]",
      "text/plain": [
       "<Figure size 432x288 with 1 Axes>"
      ]
     },
     "metadata": {},
     "output_type": "display_data"
    }
   ],
   "source": [
    "x = complete['Value']\n",
    "# Establece el tamaño de la fuente para todo el gráfico\n",
    "sns.set(font_scale=1.5)\n",
    "\n",
    "# Genera el histograma acumulado de la variable x con 10 bins y establece el título\n",
    "ax = sns.histplot(x=x, bins=10, cumulative=True)\n",
    "ax.set_title('Distribucion acumulada de materia oscura', fontsize=20)  # Ajusta el tamaño del título\n",
    "\n",
    "# Ajusta el tamaño de la fuente para los ejes x e y\n",
    "ax.tick_params(axis='x', labelsize=15)  # Tamaño de la fuente del eje x\n",
    "ax.tick_params(axis='y', labelsize=15)  # Tamaño de la fuente del eje y\n",
    "\n",
    "# Ajusta el tamaño de los números en los ejes x e y\n",
    "plt.xticks(fontsize=12)  # Tamaño de los números en el eje x\n",
    "plt.yticks(fontsize=12)  # Tamaño de los números en el eje y\n",
    "\n",
    "plt.show()"
   ]
  },
  {
   "cell_type": "markdown",
   "id": "e505d246-400f-4374-9b1d-7f950888bb32",
   "metadata": {},
   "source": [
    " Comparado al total de datos, las personas juridicas con mas oscuridad que 0.4, parece ser marginal. Ahora bien, en cuanto a las iteraciones y la completitud, vemos que:"
   ]
  },
  {
   "cell_type": "code",
   "execution_count": 8,
   "id": "b398e1a0-6e7b-4bba-9003-03aee5d82607",
   "metadata": {
    "tags": []
   },
   "outputs": [
    {
     "data": {
      "image/png": "[encoded data removed]",
      "text/plain": [
       "<Figure size 432x288 with 1 Axes>"
      ]
     },
     "metadata": {},
     "output_type": "display_data"
    }
   ],
   "source": [
    "x = complete['iterations']\n",
    "# Establece el tamaño de la fuente para todo el gráfico\n",
    "sns.set(font_scale=1.5)\n",
    "\n",
    "# Genera el histograma de la variable x con 10 bins\n",
    "ax = sns.histplot(x=x, bins=10)\n",
    "\n",
    "# Ajusta el tamaño de la fuente para los ejes x e y\n",
    "ax.tick_params(axis='x', labelsize=15)  # Tamaño de la fuente del eje x\n",
    "ax.tick_params(axis='y', labelsize=15)  # Tamaño de la fuente del eje y\n",
    "\n",
    "# Ajusta el tamaño de los números en los ejes x e y\n",
    "plt.xticks(fontsize=12)  # Tamaño de los números en el eje x\n",
    "plt.yticks(fontsize=12)  # Tamaño de los números en el eje y\n",
    "\n",
    "plt.show()"
   ]
  },
  {
   "cell_type": "markdown",
   "id": "7aedf36f-1084-49ce-bd2d-eedf363747bc",
   "metadata": {},
   "source": [
    "Es decir, la mayoria de las sociedades son completadas en la primera iteracion. Grafiquemos iteracions vs oscuridad."
   ]
  },
  {
   "cell_type": "code",
   "execution_count": 11,
   "id": "202a41a4-1687-451e-a2fe-7f2002868847",
   "metadata": {
    "tags": []
   },
   "outputs": [
    {
     "data": {
      "text/plain": [
       "<AxesSubplot:xlabel='Value', ylabel='iterations'>"
      ]
     },
     "execution_count": 11,
     "metadata": {},
     "output_type": "execute_result"
    },
    {
     "data": {
      "image/png": "[encoded data removed]",
      "text/plain": [
       "<Figure size 1440x720 with 2 Axes>"
      ]
     },
     "metadata": {},
     "output_type": "display_data"
    }
   ],
   "source": [
    "sns.histplot(\n",
    "    complete, x=\"Value\", y=\"iterations\",\n",
    "    bins=30, discrete=(False, True),\n",
    "    cbar=True, cbar_kws=dict(shrink=.75),\n",
    ")"
   ]
  },
  {
   "cell_type": "markdown",
   "id": "48446a0f-1c87-48b5-a973-01313e55d3eb",
   "metadata": {},
   "source": [
    "Vemos que la mayoria de los registros es completado en 1 iteracion y tienen oscuridad cercana a 0.2\n",
    "Ahora analicemos los registros con valores mayores o iguales a una oscuridad de 0.75."
   ]
  },
  {
   "cell_type": "code",
   "execution_count": 12,
   "id": "2f7c4e8d-8902-40ae-bacd-2516dba9e1ee",
   "metadata": {
    "tags": []
   },
   "outputs": [
    {
     "data": {
      "text/html": [
       "<div>\n",
       "<style scoped>\n",
       "    .dataframe tbody tr th:only-of-type {\n",
       "        vertical-align: middle;\n",
       "    }\n",
       "\n",
       "    .dataframe tbody tr th {\n",
       "        vertical-align: top;\n",
       "    }\n",
       "\n",
       "    .dataframe thead th {\n",
       "        text-align: right;\n",
       "    }\n",
       "</style>\n",
       "<table border=\"1\" class=\"dataframe\">\n",
       "  <thead>\n",
       "    <tr style=\"text-align: right;\">\n",
       "      <th></th>\n",
       "      <th>Value</th>\n",
       "      <th>iterations</th>\n",
       "    </tr>\n",
       "  </thead>\n",
       "  <tbody>\n",
       "    <tr>\n",
       "      <th>count</th>\n",
       "      <td>2066.000000</td>\n",
       "      <td>2066.000000</td>\n",
       "    </tr>\n",
       "    <tr>\n",
       "      <th>mean</th>\n",
       "      <td>0.795835</td>\n",
       "      <td>0.003388</td>\n",
       "    </tr>\n",
       "    <tr>\n",
       "      <th>std</th>\n",
       "      <td>0.032634</td>\n",
       "      <td>0.058124</td>\n",
       "    </tr>\n",
       "    <tr>\n",
       "      <th>min</th>\n",
       "      <td>0.750196</td>\n",
       "      <td>0.000000</td>\n",
       "    </tr>\n",
       "    <tr>\n",
       "      <th>25%</th>\n",
       "      <td>0.791177</td>\n",
       "      <td>0.000000</td>\n",
       "    </tr>\n",
       "    <tr>\n",
       "      <th>50%</th>\n",
       "      <td>0.791177</td>\n",
       "      <td>0.000000</td>\n",
       "    </tr>\n",
       "    <tr>\n",
       "      <th>75%</th>\n",
       "      <td>0.791177</td>\n",
       "      <td>0.000000</td>\n",
       "    </tr>\n",
       "    <tr>\n",
       "      <th>max</th>\n",
       "      <td>1.000000</td>\n",
       "      <td>1.000000</td>\n",
       "    </tr>\n",
       "  </tbody>\n",
       "</table>\n",
       "</div>"
      ],
      "text/plain": [
       "             Value   iterations\n",
       "count  2066.000000  2066.000000\n",
       "mean      0.795835     0.003388\n",
       "std       0.032634     0.058124\n",
       "min       0.750196     0.000000\n",
       "25%       0.791177     0.000000\n",
       "50%       0.791177     0.000000\n",
       "75%       0.791177     0.000000\n",
       "max       1.000000     1.000000"
      ]
     },
     "execution_count": 12,
     "metadata": {},
     "output_type": "execute_result"
    }
   ],
   "source": [
    "sup=complete[complete['Value']>=0.75]\n",
    "sup.describe()"
   ]
  },
  {
   "cell_type": "markdown",
   "id": "daefedec-31f4-49b8-8843-c0d6487d9d7a",
   "metadata": {},
   "source": [
    "Observemos que son solo un poco mas de 2000 sociedades con estas caracteristicas. Recordemos que las iteraciones corresponden a niveles de relacion, a mayor profundida de la relacion es necesario mas iteraciones para completar las sociedades. Veamos la distribucion de materia oscura en esta seleccion."
   ]
  },
  {
   "cell_type": "code",
   "execution_count": 13,
   "id": "aca44056-d17e-4bbc-9bdc-2a61588ea15f",
   "metadata": {
    "tags": []
   },
   "outputs": [
    {
     "data": {
      "image/png": "[encoded data removed]",
      "text/plain": [
       "<Figure size 432x288 with 1 Axes>"
      ]
     },
     "metadata": {},
     "output_type": "display_data"
    }
   ],
   "source": [
    "x = sup['Value']\n",
    "sns.set(font_scale=1.5)\n",
    "\n",
    "# Genera el histograma de la variable x con 10 bins y acumulativo False\n",
    "ax = sns.histplot(x=x, bins=10, cumulative=False)\n",
    "\n",
    "# Establece el título del gráfico\n",
    "ax.set_title('Distribucion de materia oscura con indice mayor a 0.75', fontsize=20)\n",
    "\n",
    "# Ajusta el tamaño de la fuente para los ejes x e y\n",
    "ax.tick_params(axis='x', labelsize=15)  # Tamaño de la fuente del eje x\n",
    "ax.tick_params(axis='y', labelsize=15)  # Tamaño de la fuente del eje y\n",
    "\n",
    "# Ajusta el tamaño de los números en los ejes x e y\n",
    "plt.xticks(fontsize=12)  # Tamaño de los números en el eje x\n",
    "plt.yticks(fontsize=12)  # Tamaño de los números en el eje y\n",
    "\n",
    "plt.show()"
   ]
  },
  {
   "cell_type": "code",
   "execution_count": 14,
   "id": "08480d66-4d2f-4582-bc9f-ba5dde93b165",
   "metadata": {
    "tags": []
   },
   "outputs": [
    {
     "data": {
      "text/html": [
       "<div>\n",
       "<style scoped>\n",
       "    .dataframe tbody tr th:only-of-type {\n",
       "        vertical-align: middle;\n",
       "    }\n",
       "\n",
       "    .dataframe tbody tr th {\n",
       "        vertical-align: top;\n",
       "    }\n",
       "\n",
       "    .dataframe thead th {\n",
       "        text-align: right;\n",
       "    }\n",
       "</style>\n",
       "<table border=\"1\" class=\"dataframe\">\n",
       "  <thead>\n",
       "    <tr style=\"text-align: right;\">\n",
       "      <th></th>\n",
       "      <th>Value</th>\n",
       "      <th>iterations</th>\n",
       "    </tr>\n",
       "  </thead>\n",
       "  <tbody>\n",
       "    <tr>\n",
       "      <th>count</th>\n",
       "      <td>2066.000000</td>\n",
       "      <td>2066.000000</td>\n",
       "    </tr>\n",
       "    <tr>\n",
       "      <th>mean</th>\n",
       "      <td>0.795835</td>\n",
       "      <td>0.003388</td>\n",
       "    </tr>\n",
       "    <tr>\n",
       "      <th>std</th>\n",
       "      <td>0.032634</td>\n",
       "      <td>0.058124</td>\n",
       "    </tr>\n",
       "    <tr>\n",
       "      <th>min</th>\n",
       "      <td>0.750196</td>\n",
       "      <td>0.000000</td>\n",
       "    </tr>\n",
       "    <tr>\n",
       "      <th>25%</th>\n",
       "      <td>0.791177</td>\n",
       "      <td>0.000000</td>\n",
       "    </tr>\n",
       "    <tr>\n",
       "      <th>50%</th>\n",
       "      <td>0.791177</td>\n",
       "      <td>0.000000</td>\n",
       "    </tr>\n",
       "    <tr>\n",
       "      <th>75%</th>\n",
       "      <td>0.791177</td>\n",
       "      <td>0.000000</td>\n",
       "    </tr>\n",
       "    <tr>\n",
       "      <th>max</th>\n",
       "      <td>1.000000</td>\n",
       "      <td>1.000000</td>\n",
       "    </tr>\n",
       "  </tbody>\n",
       "</table>\n",
       "</div>"
      ],
      "text/plain": [
       "             Value   iterations\n",
       "count  2066.000000  2066.000000\n",
       "mean      0.795835     0.003388\n",
       "std       0.032634     0.058124\n",
       "min       0.750196     0.000000\n",
       "25%       0.791177     0.000000\n",
       "50%       0.791177     0.000000\n",
       "75%       0.791177     0.000000\n",
       "max       1.000000     1.000000"
      ]
     },
     "execution_count": 14,
     "metadata": {},
     "output_type": "execute_result"
    }
   ],
   "source": [
    "sup.describe()"
   ]
  },
  {
   "cell_type": "markdown",
   "id": "0b7e5147-7cc7-4467-8dac-1a21e783a231",
   "metadata": {
    "tags": []
   },
   "source": [
    "En este caso, tenemos que el maximo de profundidad es 2 y casi todos los valores de oscuridad rondan a 0.79\n",
    "\n",
    "Finalmente, tambien tenemos personas juridicas con valor de oscuridad igual a 1. "
   ]
  },
  {
   "cell_type": "code",
   "execution_count": 11,
   "id": "e63f49bf-2c7d-45d3-8440-17ea4192b65b",
   "metadata": {
    "tags": []
   },
   "outputs": [
    {
     "data": {
      "text/html": [
       "<div>\n",
       "<style scoped>\n",
       "    .dataframe tbody tr th:only-of-type {\n",
       "        vertical-align: middle;\n",
       "    }\n",
       "\n",
       "    .dataframe tbody tr th {\n",
       "        vertical-align: top;\n",
       "    }\n",
       "\n",
       "    .dataframe thead th {\n",
       "        text-align: right;\n",
       "    }\n",
       "</style>\n",
       "<table border=\"1\" class=\"dataframe\">\n",
       "  <thead>\n",
       "    <tr style=\"text-align: right;\">\n",
       "      <th></th>\n",
       "      <th>Value</th>\n",
       "      <th>iterations</th>\n",
       "    </tr>\n",
       "  </thead>\n",
       "  <tbody>\n",
       "    <tr>\n",
       "      <th>count</th>\n",
       "      <td>46.0</td>\n",
       "      <td>46.0</td>\n",
       "    </tr>\n",
       "    <tr>\n",
       "      <th>mean</th>\n",
       "      <td>1.0</td>\n",
       "      <td>0.0</td>\n",
       "    </tr>\n",
       "    <tr>\n",
       "      <th>std</th>\n",
       "      <td>0.0</td>\n",
       "      <td>0.0</td>\n",
       "    </tr>\n",
       "    <tr>\n",
       "      <th>min</th>\n",
       "      <td>1.0</td>\n",
       "      <td>0.0</td>\n",
       "    </tr>\n",
       "    <tr>\n",
       "      <th>25%</th>\n",
       "      <td>1.0</td>\n",
       "      <td>0.0</td>\n",
       "    </tr>\n",
       "    <tr>\n",
       "      <th>50%</th>\n",
       "      <td>1.0</td>\n",
       "      <td>0.0</td>\n",
       "    </tr>\n",
       "    <tr>\n",
       "      <th>75%</th>\n",
       "      <td>1.0</td>\n",
       "      <td>0.0</td>\n",
       "    </tr>\n",
       "    <tr>\n",
       "      <th>max</th>\n",
       "      <td>1.0</td>\n",
       "      <td>0.0</td>\n",
       "    </tr>\n",
       "  </tbody>\n",
       "</table>\n",
       "</div>"
      ],
      "text/plain": [
       "       Value  iterations\n",
       "count   46.0        46.0\n",
       "mean     1.0         0.0\n",
       "std      0.0         0.0\n",
       "min      1.0         0.0\n",
       "25%      1.0         0.0\n",
       "50%      1.0         0.0\n",
       "75%      1.0         0.0\n",
       "max      1.0         0.0"
      ]
     },
     "execution_count": 11,
     "metadata": {},
     "output_type": "execute_result"
    }
   ],
   "source": [
    "max=complete[complete['Value']==1]\n",
    "max.describe()"
   ]
  },
  {
   "cell_type": "markdown",
   "id": "46e7093e-2165-4b5c-880f-e11152f18317",
   "metadata": {},
   "source": [
    "Tenemos 46 personas juridicas con oscuridad igual a 1, completadas todas en la primera iteracion, es decir todos sus socios son personas naturales."
   ]
  },
  {
   "cell_type": "code",
   "execution_count": 16,
   "id": "ae3bf332-d2ee-472b-850a-01c5a4e31bb0",
   "metadata": {},
   "outputs": [
    {
     "name": "stdout",
     "output_type": "stream",
     "text": [
      "Requirement already satisfied: nbconvert in /usr/local/lib/python3.7/site-packages (7.4.0)\n",
      "Requirement already satisfied: beautifulsoup4 in /usr/local/lib/python3.7/site-packages (from nbconvert) (4.11.1)\n",
      "Requirement already satisfied: bleach in /usr/local/lib/python3.7/site-packages (from nbconvert) (3.3.1)\n",
      "Requirement already satisfied: defusedxml in /usr/local/lib/python3.7/site-packages (from nbconvert) (0.6.0)\n",
      "Requirement already satisfied: importlib-metadata>=3.6 in /usr/local/lib/python3.7/site-packages (from nbconvert) (4.11.3)\n",
      "Requirement already satisfied: jinja2>=3.0 in /usr/local/lib/python3.7/site-packages (from nbconvert) (3.1.1)\n",
      "Requirement already satisfied: jupyter-core>=4.7 in /usr/local/lib/python3.7/site-packages (from nbconvert) (4.12.0)\n",
      "Requirement already satisfied: jupyterlab-pygments in /usr/local/lib/python3.7/site-packages (from nbconvert) (0.1.2)\n",
      "Requirement already satisfied: markupsafe>=2.0 in /usr/local/lib/python3.7/site-packages (from nbconvert) (2.1.1)\n",
      "Requirement already satisfied: mistune<3,>=2.0.3 in /usr/local/lib/python3.7/site-packages (from nbconvert) (2.0.5)\n",
      "Requirement already satisfied: nbclient>=0.5.0 in /usr/local/lib/python3.7/site-packages (from nbconvert) (0.5.1)\n",
      "Requirement already satisfied: nbformat>=5.1 in /usr/local/lib/python3.7/site-packages (from nbconvert) (5.3.0)\n",
      "Requirement already satisfied: packaging in /usr/local/lib/python3.7/site-packages (from nbconvert) (23.1)\n",
      "Requirement already satisfied: pandocfilters>=1.4.1 in /usr/local/lib/python3.7/site-packages (from nbconvert) (1.4.3)\n",
      "Requirement already satisfied: pygments>=2.4.1 in /usr/local/lib/python3.7/site-packages (from nbconvert) (2.15.1)\n",
      "Requirement already satisfied: tinycss2 in /usr/local/lib/python3.7/site-packages (from nbconvert) (1.1.1)\n",
      "Requirement already satisfied: traitlets>=5.0 in /usr/local/lib/python3.7/site-packages (from nbconvert) (5.1.1)\n",
      "Requirement already satisfied: zipp>=0.5 in /usr/local/lib/python3.7/site-packages (from importlib-metadata>=3.6->nbconvert) (3.8.0)\n",
      "Requirement already satisfied: typing-extensions>=3.6.4 in /usr/local/lib/python3.7/site-packages (from importlib-metadata>=3.6->nbconvert) (4.3.0)\n",
      "Requirement already satisfied: jupyter-client>=6.1.5 in /usr/local/lib/python3.7/site-packages (from nbclient>=0.5.0->nbconvert) (7.2.2)\n",
      "Requirement already satisfied: async-generator in /usr/local/lib/python3.7/site-packages (from nbclient>=0.5.0->nbconvert) (1.10)\n",
      "Requirement already satisfied: nest-asyncio in /usr/local/lib/python3.7/site-packages (from nbclient>=0.5.0->nbconvert) (1.5.5)\n",
      "Requirement already satisfied: jsonschema>=2.6 in /usr/local/lib/python3.7/site-packages (from nbformat>=5.1->nbconvert) (4.17.3)\n",
      "Requirement already satisfied: fastjsonschema in /usr/local/lib/python3.7/site-packages (from nbformat>=5.1->nbconvert) (2.15.3)\n",
      "Requirement already satisfied: soupsieve>1.2 in /usr/local/lib/python3.7/site-packages (from beautifulsoup4->nbconvert) (2.3.2)\n",
      "Requirement already satisfied: six>=1.9.0 in /usr/local/lib/python3.7/site-packages (from bleach->nbconvert) (1.16.0)\n",
      "Requirement already satisfied: webencodings in /usr/local/lib/python3.7/site-packages (from bleach->nbconvert) (0.5.1)\n",
      "Requirement already satisfied: attrs>=17.4.0 in /usr/local/lib/python3.7/site-packages (from jsonschema>=2.6->nbformat>=5.1->nbconvert) (23.1.0)\n",
      "Requirement already satisfied: importlib-resources>=1.4.0 in /usr/local/lib/python3.7/site-packages (from jsonschema>=2.6->nbformat>=5.1->nbconvert) (5.12.0)\n",
      "Requirement already satisfied: pkgutil-resolve-name>=1.3.10 in /usr/local/lib/python3.7/site-packages (from jsonschema>=2.6->nbformat>=5.1->nbconvert) (1.3.10)\n",
      "Requirement already satisfied: pyrsistent!=0.17.0,!=0.17.1,!=0.17.2,>=0.14.0 in /usr/local/lib/python3.7/site-packages (from jsonschema>=2.6->nbformat>=5.1->nbconvert) (0.17.3)\n",
      "Requirement already satisfied: entrypoints in /usr/local/lib/python3.7/site-packages (from jupyter-client>=6.1.5->nbclient>=0.5.0->nbconvert) (0.4)\n",
      "Requirement already satisfied: python-dateutil>=2.8.2 in /usr/local/lib/python3.7/site-packages (from jupyter-client>=6.1.5->nbclient>=0.5.0->nbconvert) (2.8.2)\n",
      "Requirement already satisfied: pyzmq>=22.3 in /usr/local/lib/python3.7/site-packages (from jupyter-client>=6.1.5->nbclient>=0.5.0->nbconvert) (22.3.0)\n",
      "Requirement already satisfied: tornado>=6.0 in /usr/local/lib/python3.7/site-packages (from jupyter-client>=6.1.5->nbclient>=0.5.0->nbconvert) (6.1)\n"
     ]
    }
   ],
   "source": [
    "!pip install nbconvert"
   ]
  },
  {
   "cell_type": "code",
   "execution_count": 18,
   "id": "56892554-a1d5-44ca-b956-1f689528665f",
   "metadata": {
    "tags": []
   },
   "outputs": [
    {
     "name": "stdout",
     "output_type": "stream",
     "text": [
      "[NbConvertApp] Converting notebook reporte_oscuridad.ipynb to html\n"
     ]
    }
   ],
   "source": [
    "!jupyter nbconvert --to html reporte_oscuridad.ipynb --stdout > \"/home/cdsw/reports/reporte_oscuridad.html\""
   ]
  },
  {
   "cell_type": "code",
   "execution_count": null,
   "id": "300836b3-a40d-4e1a-ab16-93be56ed25d3",
   "metadata": {},
   "outputs": [],
   "source": []
  },
  {
   "cell_type": "code",
   "execution_count": null,
   "id": "98b01732-0a8c-44c5-8653-f9a03ef912e9",
   "metadata": {},
   "outputs": [],
   "source": []
  }
 ],
 "metadata": {
  "kernelspec": {
   "display_name": "Python 3 (ipykernel)",
   "language": "python",
   "name": "python3"
  },
  "language_info": {
   "codemirror_mode": {
    "name": "ipython",
    "version": 3
   },
   "file_extension": ".py",
   "mimetype": "text/x-python",
   "name": "python",
   "nbconvert_exporter": "python",
   "pygments_lexer": "ipython3",
   "version": "3.9.16"
  }
 },
 "nbformat": 4,
 "nbformat_minor": 5
}
