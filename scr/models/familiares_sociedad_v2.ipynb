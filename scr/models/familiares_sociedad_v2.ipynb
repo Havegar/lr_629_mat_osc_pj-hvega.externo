{
 "cells": [
  {
   "cell_type": "markdown",
   "id": "15c62fbf-493f-4c18-8e55-d9e0fb29b8b6",
   "metadata": {},
   "source": [
    "## Apiux & SII: calculo de indice de familiariedad en  personas juridicas.\n",
    "## ATENCION: proyecto sujeto a mantenimiento continuo. \n",
    "\n",
    "## Henry Vega (henrry.vega@api-ux.com)\n",
    "## Data analyst"
   ]
  },
  {
   "cell_type": "code",
   "execution_count": 26,
   "id": "18bff1a6-1471-4b1a-98af-c1bcd085cf40",
   "metadata": {
    "tags": []
   },
   "outputs": [],
   "source": [
    "from pyspark.sql import SparkSession\n",
    "from pyspark.sql.functions import *\n",
    "from pyspark import SparkContext, SparkConf\n",
    "import pyspark\n",
    "import pandas as pd\n",
    "import warnings\n",
    "warnings.filterwarnings('ignore', category=DeprecationWarning)"
   ]
  },
  {
   "cell_type": "code",
   "execution_count": 27,
   "id": "0045495f-27ec-47ad-8474-dd42b9352a2c",
   "metadata": {
    "tags": []
   },
   "outputs": [],
   "source": [
    "\n",
    "spark = SparkSession.builder \\\n",
    "  .appName(\"Test\")  \\\n",
    "  .config(\"spark.yarn.access.hadoopFileSystems\",\"abfs://data@datalakesii.dfs.core.windows.net/DatoOrigen/lr-629/UtilBajo/intermedia/familiaridad\") \\\n",
    "  .config(\"spark.executor.memory\", \"24g\") \\\n",
    "  .config(\"spark.driver.memory\", \"12g\")\\\n",
    "  .config(\"spark.executor.cores\", \"12\") \\\n",
    "  .config(\"spark.executor.instances\", \"24\") \\\n",
    "  .config(\"spark.driver.maxResultSize\", \"12g\") \\\n",
    "  .getOrCreate()"
   ]
  },
  {
   "cell_type": "code",
   "execution_count": 12,
   "id": "46bca2ee-8dca-4111-9dd2-4e2327346663",
   "metadata": {
    "tags": []
   },
   "outputs": [
    {
     "name": "stdout",
     "output_type": "stream",
     "text": [
      "+--------------------+\n",
      "|           namespace|\n",
      "+--------------------+\n",
      "|            apa_temp|\n",
      "|             default|\n",
      "|                  dw|\n",
      "|            dwbgdata|\n",
      "|   fraude_receptores|\n",
      "|identificacion_ac...|\n",
      "|  information_schema|\n",
      "|iva_sobredeclaracion|\n",
      "|  iva_subdeclaracion|\n",
      "|              libaar|\n",
      "|              libsas|\n",
      "|              libsdf|\n",
      "|rentaempresa_simi...|\n",
      "|                 sdj|\n",
      "|                 sys|\n",
      "|                 tmp|\n",
      "|            utilbajo|\n",
      "+--------------------+\n",
      "\n"
     ]
    }
   ],
   "source": [
    "spark.sql(\"show databases\").show()"
   ]
  },
  {
   "cell_type": "code",
   "execution_count": 13,
   "id": "8c560fdb-65e5-452c-80c9-b503d6724349",
   "metadata": {
    "tags": []
   },
   "outputs": [
    {
     "data": {
      "text/plain": [
       "DataFrame[]"
      ]
     },
     "execution_count": 13,
     "metadata": {},
     "output_type": "execute_result"
    }
   ],
   "source": [
    "spark.sql(\"use utilbajo\")"
   ]
  },
  {
   "cell_type": "code",
   "execution_count": 14,
   "id": "b55f98f1-bebe-493b-8a5d-37fa5b5d0ee0",
   "metadata": {
    "tags": []
   },
   "outputs": [
    {
     "name": "stdout",
     "output_type": "stream",
     "text": [
      "+--------------------+\n",
      "|           namespace|\n",
      "+--------------------+\n",
      "|            apa_temp|\n",
      "|             default|\n",
      "|                  dw|\n",
      "|            dwbgdata|\n",
      "|   fraude_receptores|\n",
      "|identificacion_ac...|\n",
      "|  information_schema|\n",
      "|iva_sobredeclaracion|\n",
      "|  iva_subdeclaracion|\n",
      "|              libaar|\n",
      "|              libsas|\n",
      "|              libsdf|\n",
      "|rentaempresa_simi...|\n",
      "|                 sdj|\n",
      "|                 sys|\n",
      "|                 tmp|\n",
      "|            utilbajo|\n",
      "+--------------------+\n",
      "\n"
     ]
    }
   ],
   "source": [
    "spark.sql(\"show databases\").show()"
   ]
  },
  {
   "cell_type": "code",
   "execution_count": 15,
   "id": "d9a6519c-e2fc-4717-9e9c-cca5f85d8fbc",
   "metadata": {
    "tags": []
   },
   "outputs": [],
   "source": [
    "#spark.read.parquet(\"abfs://data@datalakesii.dfs.core.windows.net/DatoOrigen/lr-629/UtilBajo/intermedia/familiaridad\").show()\n"
   ]
  },
  {
   "cell_type": "markdown",
   "id": "58a9214b-c852-41f7-8ea9-e7ced5442083",
   "metadata": {},
   "source": [
    "## Carga de relaciones societarias(depurada)"
   ]
  },
  {
   "cell_type": "code",
   "execution_count": 22,
   "id": "e76d0bab-25b8-40cf-8c05-3a372108322a",
   "metadata": {
    "tags": []
   },
   "outputs": [
    {
     "name": "stderr",
     "output_type": "stream",
     "text": [
      "[Stage 23:=======================>                                 (5 + 7) / 12]\r"
     ]
    },
    {
     "name": "stdout",
     "output_type": "stream",
     "text": [
      "+--------------------+--------------------+------------------+---------------------+\n",
      "|        RUT_SOCIEDAD|           RUT_SOCIO|PORCENTAJE_CAPITAL|PORCENTAJE_UTILIDADES|\n",
      "+--------------------+--------------------+------------------+---------------------+\n",
      "|+++1gCGSMhlEHLJDQ...|jBIDEmi35uF/bAHr2...|             100.0|                100.0|\n",
      "|+++40fb1kG88W0AEf...|bmXOLtRFjJPrLjKzQ...|             100.0|                100.0|\n",
      "|+++aS3F42zAfvw7QX...|WdafNmzolsFbUp2HA...|             100.0|                100.0|\n",
      "|++/7Y0IzKUdH2J8C/...|41WRUY90glpRrq9XI...|             100.0|                100.0|\n",
      "|++/p+MzwTKR1XVz6S...|+bJxBrWdS6tCHMPtN...|             100.0|                100.0|\n",
      "|++00DcdTZAhzp008i...|aL6LEEk8P6vB8PyHu...|             100.0|                100.0|\n",
      "|++0Cw0fQKv+4UABY2...|eJvYBKdvqhJ6I1vK5...|             100.0|                100.0|\n",
      "|++0PaA9Gk1ZMElZZL...|Y20GxtSITZxJGWolh...|              50.0|                 50.0|\n",
      "|++0PaA9Gk1ZMElZZL...|VkY6uutbGR+7iTLUS...|              50.0|                 50.0|\n",
      "|++1jdKtXA14GodsF2...|BNuqVX553Rgbk6Y4p...|              50.0|                 50.0|\n",
      "|++1jdKtXA14GodsF2...|/VVBxeWcPKI3JZxh1...|              50.0|                 50.0|\n",
      "|++1zBpa3uYVD9MM8r...|FxBSqC1xZi3jQG8ii...|              75.0|                 75.0|\n",
      "|++1zBpa3uYVD9MM8r...|vxQVwz2Mb6H3evEDj...|              25.0|                 25.0|\n",
      "|++2HU9Dm1tPPFCT0i...|lV2cZG2d/PVbIHB9o...|              96.0|                 96.0|\n",
      "|++2HU9Dm1tPPFCT0i...|9s5GGH0n6Ng8nMFn9...|               2.0|                  2.0|\n",
      "|++2HU9Dm1tPPFCT0i...|3b5vEKiAaZ+phVPw+...|               2.0|                  2.0|\n",
      "|++2O1ZyXC+qEbjUpK...|XpmNTbFlqcVA49GNT...|              50.0|                 50.0|\n",
      "|++2O1ZyXC+qEbjUpK...|/JoRuS3jrqmtbN5HN...|              50.0|                 50.0|\n",
      "|++2vx3ER9zQreAUrc...|PJ4fwv9qiD4CWjo3L...|             100.0|                100.0|\n",
      "|++3IKryVQ6DM2J5XM...|IslscTLg/O5doANlo...|             100.0|                100.0|\n",
      "+--------------------+--------------------+------------------+---------------------+\n",
      "only showing top 20 rows\n",
      "\n"
     ]
    },
    {
     "name": "stderr",
     "output_type": "stream",
     "text": [
      "                                                                                \r"
     ]
    }
   ],
   "source": [
    "df = spark.read.options(header=True, inferSchema=True, delimiter=\",\").csv(\"/home/cdsw/data/processed/sociedades_participacion_capital_nozero.csv\")\n",
    "df.createOrReplaceTempView(\"sociedad\")\n",
    "spark.sql(\"select * from sociedad order by RUT_SOCIEDAD asc\").show()"
   ]
  },
  {
   "cell_type": "markdown",
   "id": "f8448ca6-06ac-4507-9cc8-77df2bc49765",
   "metadata": {},
   "source": [
    "Veamos un ejemplo de la composicion de socios para una sociedad sospechosa en composicion"
   ]
  },
  {
   "cell_type": "code",
   "execution_count": 21,
   "id": "4aabb0d5-8657-432c-a6b4-322e439081d3",
   "metadata": {},
   "outputs": [
    {
     "name": "stderr",
     "output_type": "stream",
     "text": [
      "[Stage 20:>                                                         (0 + 1) / 1]\r"
     ]
    },
    {
     "name": "stdout",
     "output_type": "stream",
     "text": [
      "+--------------------+--------------------+------------------+---------------------+\n",
      "|        RUT_SOCIEDAD|           RUT_SOCIO|PORCENTAJE_CAPITAL|PORCENTAJE_UTILIDADES|\n",
      "+--------------------+--------------------+------------------+---------------------+\n",
      "|LVBWLDHGQBkRZPe80...|G8Q3ZKZV1VBYw0fTh...|             24.84|                24.84|\n",
      "|G8Q3ZKZV1VBYw0fTh...|XeWWsDI+O4GpcHzh+...|              25.0|                  1.0|\n",
      "|G8Q3ZKZV1VBYw0fTh...|eMvqyYgN6pwUQTGfr...|              25.0|                  1.0|\n",
      "|G8Q3ZKZV1VBYw0fTh...|tcWo0xZnJksYr6Uye...|              25.0|                  1.0|\n",
      "|HixT5exYVJ7YqDGR7...|G8Q3ZKZV1VBYw0fTh...|             17.32|                17.32|\n",
      "|G8Q3ZKZV1VBYw0fTh...|/WglMrVtSfq9fsB/N...|              25.0|                  1.0|\n",
      "|pMAyyWg4gct9P4O8x...|G8Q3ZKZV1VBYw0fTh...|             18.32|                18.32|\n",
      "|q1rQbXJ8m7nQEni/h...|G8Q3ZKZV1VBYw0fTh...|             17.32|                17.32|\n",
      "+--------------------+--------------------+------------------+---------------------+\n",
      "\n"
     ]
    },
    {
     "name": "stderr",
     "output_type": "stream",
     "text": [
      "                                                                                \r"
     ]
    }
   ],
   "source": [
    "spark.sql(\"select * from sociedad where RUT_SOCIEDAD LIKE 'G8Q3ZKZV1VBYw0fT%' or RUT_SOCIO LIKE 'G8Q3ZKZV1VBYw0fT%'\").show()\n",
    "#spark.sql(\"select *  from libsdf.jab_soc_2023_inom where RUT_SOCIEDAD LIKE 'Qbau/6SlJ/lEcKUD%'\").show()"
   ]
  },
  {
   "cell_type": "code",
   "execution_count": 30,
   "id": "01049e8e-018e-479f-9d73-e1705a8aae1e",
   "metadata": {
    "tags": []
   },
   "outputs": [
    {
     "data": {
      "text/plain": [
       "DataFrame[RUT_SOCIEDAD: string, RUT_SOCIO: string, PORCENTAJE_CAPITAL: double, PORCENTAJE_UTILIDADES: double, PERI_AGNO_MES_TRIBUTARIO: int, FUENTE: string]"
      ]
     },
     "execution_count": 30,
     "metadata": {},
     "output_type": "execute_result"
    }
   ],
   "source": [
    "\n",
    "spark.sql('select * from libsdf.jab_soc_2023_inom').createOrReplaceTempView(\"socios\")\n",
    "spark.sql('select * from socios')"
   ]
  },
  {
   "cell_type": "code",
   "execution_count": 23,
   "id": "5c99187f-7da0-43e5-a0bc-1be6746614b8",
   "metadata": {
    "tags": []
   },
   "outputs": [
    {
     "name": "stderr",
     "output_type": "stream",
     "text": [
      "                                                                                \r"
     ]
    },
    {
     "name": "stdout",
     "output_type": "stream",
     "text": [
      "+--------------------+----+------------+---------+------------------+---------------------+\n",
      "|          PARU_RUT_E| COM|RUT_SOCIEDAD|RUT_SOCIO|PORCENTAJE_CAPITAL|PORCENTAJE_UTILIDADES|\n",
      "+--------------------+----+------------+---------+------------------+---------------------+\n",
      "|++ggVpHHILx+9SGu8...|1141|        null|     null|              null|                 null|\n",
      "|+1FNxAxXZVPFSdmBl...|1920|        null|     null|              null|                 null|\n",
      "|++qoXOhoawzvRog9E...| 999|        null|     null|              null|                 null|\n",
      "|+++4/3jzUwtDPSSo3...| 460|        null|     null|              null|                 null|\n",
      "|+0f/GM34xojh+tn7A...| 321|        null|     null|              null|                 null|\n",
      "|+/bsZuw7/ADsTou53...|2202|        null|     null|              null|                 null|\n",
      "|+0dURcPCBYLGVKmIt...| 614|        null|     null|              null|                 null|\n",
      "|++7yFnLR2jk0Wr0e8...|2478|        null|     null|              null|                 null|\n",
      "|+1eDEaPXcR4UTQlQz...|1329|        null|     null|              null|                 null|\n",
      "|+1levJUxtdPJC4Qc+...|1879|        null|     null|              null|                 null|\n",
      "|++YxswwB51l+3P6mO...|1799|        null|     null|              null|                 null|\n",
      "|+/HrCRshGy4wSSO1V...| 126|        null|     null|              null|                 null|\n",
      "|+/JZf0TTOGVxNx9tj...| 325|        null|     null|              null|                 null|\n",
      "|++WLg1DbuZQ0MUQEN...|2915|        null|     null|              null|                 null|\n",
      "|+/R7TO3QchPVrRHn9...|1091|        null|     null|              null|                 null|\n",
      "|+1YKE5LQO+CE2nB6H...| 595|        null|     null|              null|                 null|\n",
      "|+1iuDsJuEu9oPjZFA...| 330|        null|     null|              null|                 null|\n",
      "|+0ut+stCHqH6UHSAh...|2659|        null|     null|              null|                 null|\n",
      "|+/cJ7EBd5oKjQfhxu...|1018|        null|     null|              null|                 null|\n",
      "|+0yKx5GSw/Q5FoSrp...|1157|        null|     null|              null|                 null|\n",
      "+--------------------+----+------------+---------+------------------+---------------------+\n",
      "only showing top 20 rows\n",
      "\n"
     ]
    }
   ],
   "source": [
    "data_test=spark.read.parquet(\"abfs://data@datalakesii.dfs.core.windows.net/DatosOrigen/LibSDF/GE_APIUX_ARFI_E\").createOrReplaceTempView(\"grupos_conocidos\")\n",
    "spark.sql('select PARU_RUT_E,COM from grupos_conocidos group by PARU_RUT_E, COM order by PARU_RUT_E asc').createOrReplaceTempView(\"grupos_conocidos\")\n",
    "spark.sql('select count(*) from grupos_conocidos left join sociedad on grupos_conocidos.PARU_RUT_E=sociedad.RUT_SOCIEDAD where RUT_SOCIEDAD is not null').show()"
   ]
  },
  {
   "cell_type": "code",
   "execution_count": 31,
   "id": "1451145e-4dcb-4a76-8cac-d4f2f96a3d49",
   "metadata": {
    "tags": []
   },
   "outputs": [
    {
     "name": "stderr",
     "output_type": "stream",
     "text": [
      "24/03/28 17:57:40 WARN SparkConf: The configuration key 'spark.yarn.access.hadoopFileSystems' has been deprecated as of Spark 3.0 and may be removed in the future. Please use the new key 'spark.kerberos.access.hadoopFileSystems' instead.\n",
      "[Stage 58:==============================================>         (10 + 2) / 12]\r"
     ]
    },
    {
     "name": "stdout",
     "output_type": "stream",
     "text": [
      "+--------+\n",
      "|count(1)|\n",
      "+--------+\n",
      "|   63621|\n",
      "+--------+\n",
      "\n"
     ]
    },
    {
     "name": "stderr",
     "output_type": "stream",
     "text": [
      "                                                                                \r"
     ]
    }
   ],
   "source": [
    "spark.sql('select count(*) from grupos_conocidos left join socios on grupos_conocidos.PARU_RUT_E=socios.RUT_SOCIEDAD where RUT_SOCIEDAD is not null').show()"
   ]
  },
  {
   "cell_type": "markdown",
   "id": "914e915a-2281-4957-95c7-657f0dbf3a31",
   "metadata": {},
   "source": [
    "## Tablas temporales previo a la ejecucion"
   ]
  },
  {
   "cell_type": "code",
   "execution_count": 9,
   "id": "2861de7d-f5ac-4d09-8959-4b06c08ad913",
   "metadata": {
    "tags": []
   },
   "outputs": [],
   "source": [
    "spark.sql(\"select RUT_SOCIEDAD, RUT_SOCIO from sociedad order by RUT_SOCIEDAD asc\").createOrReplaceTempView(\"sociedad\")\n",
    "spark.sql(\"select RUT_SOCIEDAD as RUT_SOCIEDAD_AUX ,RUT_SOCIO as RUT_SOCIO_AUX from sociedad order by RUT_SOCIEDAD asc\").createOrReplaceTempView(\"aux\")\n",
    "#spark.sql(\"select RUT_SOCIEDAD, COUNT(*) AS F from sociedad group by RUT_SOCIEDAD ORDER BY F DESC\").show()\n",
    "\n"
   ]
  },
  {
   "cell_type": "markdown",
   "id": "3b15b629-e6f8-480c-b993-b6f65d924ab6",
   "metadata": {},
   "source": [
    "## Calculo de arbol de socios naturales"
   ]
  },
  {
   "cell_type": "code",
   "execution_count": 10,
   "id": "568187f1-5c2d-4f07-86e2-f44fd4773719",
   "metadata": {
    "tags": []
   },
   "outputs": [],
   "source": [
    "for a in range (1,10):\n",
    "    spark.sql(\"select * from sociedad left join aux on sociedad.RUT_SOCIO=aux.RUT_SOCIEDAD_AUX \").createOrReplaceTempView(\"sociedad\")\n",
    "    spark.sql(\"select * from sociedad order by RUT_SOCIEDAD_AUX desc\").createOrReplaceTempView(\"sociedad\")\n",
    "    #spark.sql(\"select * from sociedad\").show()\n",
    "    spark.sql(\"select RUT_SOCIEDAD, CASE WHEN RUT_SOCIEDAD_AUX is null then RUT_SOCIO else RUT_SOCIO_AUX END AS RUT_SOCIO from sociedad  order by RUT_SOCIEDAD_AUX desc\").createOrReplaceTempView(\"sociedad\")\n",
    "    #spark.sql(\"select * from sociedad\").show()\n",
    "    #spark.sql(\"select RUT_SOCIEDAD, COUNT(*) as d from sociedad GROUP BY RUT_SOCIEDAD order by d desc \").show()"
   ]
  },
  {
   "cell_type": "code",
   "execution_count": 11,
   "id": "b98121cf-2942-4b9d-97bf-9957fcc42fdb",
   "metadata": {
    "tags": []
   },
   "outputs": [],
   "source": [
    "oscuridad=spark.sql(\"select * from libsdf.jab_materia_inom\")\n",
    "oscuridad.createOrReplaceTempView(\"oscuridad\")\n",
    "spark.sql(\"select RUT_SOCIEDAD, CONT_RUT from sociedad left join oscuridad on sociedad.RUT_SOCIO=oscuridad.CONT_RUT \").createOrReplaceTempView(\"socios_final\")"
   ]
  },
  {
   "cell_type": "markdown",
   "id": "70bf7cf4-dcc5-4ebe-90e7-37eab62d34cf",
   "metadata": {},
   "source": [
    "## Sociedades por persona natural"
   ]
  },
  {
   "cell_type": "markdown",
   "id": "8b448a69-a76f-4c30-a84b-79e4a2b32975",
   "metadata": {},
   "source": [
    "Tambien obtendremos un output que nos permita establecer cuanta sociedades esta relacionado con cada uno de las personas naturales relacionadas."
   ]
  },
  {
   "cell_type": "code",
   "execution_count": 12,
   "id": "8606b5ad-c67b-48a4-837c-7dbf6a4666a8",
   "metadata": {
    "tags": []
   },
   "outputs": [
    {
     "name": "stderr",
     "output_type": "stream",
     "text": [
      "                                                                                \r"
     ]
    }
   ],
   "source": [
    "sociedades_por_socio=spark.sql(\"select CONT_RUT, count(RUT_SOCIEDAD) as SOCIEDADES_RELACIONADAS from socios_final where CONT_RUT is not null group by CONT_RUT order by SOCIEDADES_RELACIONADAS DESC\").toPandas()\n",
    "sociedades_por_socio.to_csv('/home/cdsw/artefactos/Familiaridad/sociedades_por_socio.csv', index=False)"
   ]
  },
  {
   "cell_type": "code",
   "execution_count": 13,
   "id": "5007e38f-8e60-4f29-a32b-13757f105fb6",
   "metadata": {},
   "outputs": [],
   "source": [
    "spark.sql(\"select RUT_SOCIEDAD, COUNT(*) AS NONULOS from socios_final where CONT_RUT is not null group by RUT_SOCIEDAD \").createOrReplaceTempView(\"nonulos\")\n",
    "spark.sql(\"select RUT_SOCIEDAD, COUNT(*) AS TOTAL from socios_final group by RUT_SOCIEDAD \").createOrReplaceTempView(\"total\")\n",
    "\n",
    "spark.sql(\"select  total.RUT_SOCIEDAD as RUT_SOCIEDAD, TOTAL, NONULOS from total left join nonulos on total.RUT_SOCIEDAD=nonulos.RUT_SOCIEDAD\").createOrReplaceTempView(\"final\")"
   ]
  },
  {
   "cell_type": "code",
   "execution_count": 14,
   "id": "88b21759-949e-4e13-a93e-2de3982f5f52",
   "metadata": {},
   "outputs": [
    {
     "name": "stderr",
     "output_type": "stream",
     "text": [
      "[Stage 243:==============================================>        (11 + 2) / 13]\r"
     ]
    },
    {
     "name": "stdout",
     "output_type": "stream",
     "text": [
      "+--------------------+-----+-------+\n",
      "|        RUT_SOCIEDAD|TOTAL|NONULOS|\n",
      "+--------------------+-----+-------+\n",
      "|/iaWdrAtFePvm67ix...| 4831|   4444|\n",
      "|0/u1ahHIS1sVRlQ6K...|   14|     11|\n",
      "|50jo0+NXwtdYFAila...|    2|      2|\n",
      "|5lyqqCo43kjf4EntX...|    2|      2|\n",
      "|6EP3XO6W7pdCljd/8...|    1|      1|\n",
      "|6EYmB54CdYIoQWakH...| 1124|   1042|\n",
      "|B5F+dlQW541SF7kKm...| 3536|   3342|\n",
      "|EIZ7wxHir6Lzswl7V...|    2|      2|\n",
      "|Kpoq2KViEnP9fCv5I...|    3|      3|\n",
      "|PEi/p+2zp2fFFaxBE...|    3|      3|\n",
      "|PH98Pjz/e71FkUq0Y...|    2|      2|\n",
      "|WOIhov6M/ymNM3aI1...|    2|      1|\n",
      "|Z1viwZ0tUtu4l+4Zz...|    5|      5|\n",
      "|iG6Zx7RL2DRkTOf94...|    2|      2|\n",
      "|jBjQYicsPaokMPI4K...|  247|    231|\n",
      "|mtmCVDI5lLdIWNPWF...|  208|    189|\n",
      "|nAUfOM2fyYbJ/fyK0...|   37|     37|\n",
      "|nTxOYTX2RpgxeCx+S...|   17|     15|\n",
      "|s4Gs6FthB6MSF7VEw...|    2|      2|\n",
      "|uGs5LUeIhI1PrMh7z...| 7591|   6597|\n",
      "+--------------------+-----+-------+\n",
      "only showing top 20 rows\n",
      "\n"
     ]
    },
    {
     "name": "stderr",
     "output_type": "stream",
     "text": [
      "                                                                                \r"
     ]
    }
   ],
   "source": [
    "spark.sql(\"select * from final\").show()"
   ]
  },
  {
   "cell_type": "markdown",
   "id": "6783c5cb-01f5-4af1-87a8-48cd583619da",
   "metadata": {},
   "source": [
    "Trabajaremos con las sociedades que en su arbol relacional contienen todas sus personas naturales completas y con un numero total de personas naturales conectadas menor que 100."
   ]
  },
  {
   "cell_type": "code",
   "execution_count": 15,
   "id": "3a3a8c52-ac3f-4f08-bffa-51b07f08f6ff",
   "metadata": {
    "tags": []
   },
   "outputs": [],
   "source": [
    "#spark.sql(\"select socios_final.RUT_SOCIEDAD, CONT_RUT as RUT_SOCIO from socios_final left join final on socios_final.RUT_SOCIEDAD=final.RUT_SOCIEDAD where TOTAL=NONULOS AND TOTAL<100 ORDER BY TOTAL desc\").createOrReplaceTempView(\"final\")"
   ]
  },
  {
   "cell_type": "code",
   "execution_count": 16,
   "id": "0ac81669-f8f3-4c56-b35a-ed7b8f74837e",
   "metadata": {
    "tags": []
   },
   "outputs": [],
   "source": [
    "spark.sql(\"select socios_final.RUT_SOCIEDAD, CONT_RUT as RUT_SOCIO from socios_final left join final on socios_final.RUT_SOCIEDAD=final.RUT_SOCIEDAD where TOTAL=NONULOS AND TOTAL<100 ORDER BY TOTAL desc\").createOrReplaceTempView(\"final\")"
   ]
  },
  {
   "cell_type": "markdown",
   "id": "35879208-8a08-4e30-9215-aabde656a08b",
   "metadata": {},
   "source": [
    "## Combinatoria de pool de socios"
   ]
  },
  {
   "cell_type": "markdown",
   "id": "b380734d-e9f6-4e30-8210-26a37f4abd00",
   "metadata": {},
   "source": [
    "A continuacion, se hace un auto join con el fin de obtener todas las combinaciones posibles entre socios diferentes para comparar con las relaciones familiares. Luego de ello se concatenan los socios para establecer un codigo especifico para cada combinacion de ello."
   ]
  },
  {
   "cell_type": "code",
   "execution_count": 17,
   "id": "26342fed-703a-4ac9-90c4-e497c05ccbb3",
   "metadata": {},
   "outputs": [],
   "source": [
    "spark.sql(\"select t1.RUT_SOCIEDAD, t1.RUT_SOCIO AS RUT_SOCIO_1, t2.RUT_SOCIO AS RUT_SOCIO_2 FROM final AS t1 JOIN final AS t2 ON t1.RUT_SOCIEDAD = t2.RUT_SOCIEDAD  WHERE t1.RUT_SOCIO<>t2.RUT_SOCIO\").createOrReplaceTempView(\"final\")\n",
    "spark.sql(\"select RUT_SOCIEDAD, RUT_SOCIO_1,RUT_SOCIO_2,RUT_SOCIO_1||RUT_SOCIO_2 as key from final\").createOrReplaceTempView(\"final\")"
   ]
  },
  {
   "cell_type": "code",
   "execution_count": 18,
   "id": "9b7dad1c-8291-4955-8c6d-3465dfae9327",
   "metadata": {
    "tags": []
   },
   "outputs": [
    {
     "name": "stderr",
     "output_type": "stream",
     "text": [
      "[Stage 365:==============================================>        (42 + 8) / 50]\r"
     ]
    },
    {
     "name": "stdout",
     "output_type": "stream",
     "text": [
      "+--------------------+--------------------+--------------------+--------------------+\n",
      "|        RUT_SOCIEDAD|         RUT_SOCIO_1|         RUT_SOCIO_2|                 key|\n",
      "+--------------------+--------------------+--------------------+--------------------+\n",
      "|++nemOqjdfZAI1/ba...|/qYdWqtDBGWY8SO1l...|tJ+L1N5qx9qHOF2Ur...|/qYdWqtDBGWY8SO1l...|\n",
      "|++nemOqjdfZAI1/ba...|tJ+L1N5qx9qHOF2Ur...|/qYdWqtDBGWY8SO1l...|tJ+L1N5qx9qHOF2Ur...|\n",
      "|+/5oc4ItzHvxHH5xZ...|gvBiz2qI1ieZwbgp+...|+RRIvh4eJEZAJ/SFu...|gvBiz2qI1ieZwbgp+...|\n",
      "|+/5oc4ItzHvxHH5xZ...|gvBiz2qI1ieZwbgp+...|+RRIvh4eJEZAJ/SFu...|gvBiz2qI1ieZwbgp+...|\n",
      "|+/5oc4ItzHvxHH5xZ...|gvBiz2qI1ieZwbgp+...|+RRIvh4eJEZAJ/SFu...|gvBiz2qI1ieZwbgp+...|\n",
      "|+/5oc4ItzHvxHH5xZ...|gvBiz2qI1ieZwbgp+...|ucY0yK5VSzWN5VHzQ...|gvBiz2qI1ieZwbgp+...|\n",
      "|+/5oc4ItzHvxHH5xZ...|gvBiz2qI1ieZwbgp+...|wKZ5OnarYzxbH1Sdl...|gvBiz2qI1ieZwbgp+...|\n",
      "|+/5oc4ItzHvxHH5xZ...|gvBiz2qI1ieZwbgp+...|wKZ5OnarYzxbH1Sdl...|gvBiz2qI1ieZwbgp+...|\n",
      "|+/5oc4ItzHvxHH5xZ...|gvBiz2qI1ieZwbgp+...|wKZ5OnarYzxbH1Sdl...|gvBiz2qI1ieZwbgp+...|\n",
      "|+/5oc4ItzHvxHH5xZ...|gvBiz2qI1ieZwbgp+...|FTI7tngRHojFaaSsV...|gvBiz2qI1ieZwbgp+...|\n",
      "|+/5oc4ItzHvxHH5xZ...|gvBiz2qI1ieZwbgp+...|FTI7tngRHojFaaSsV...|gvBiz2qI1ieZwbgp+...|\n",
      "|+/5oc4ItzHvxHH5xZ...|gvBiz2qI1ieZwbgp+...|+RRIvh4eJEZAJ/SFu...|gvBiz2qI1ieZwbgp+...|\n",
      "|+/5oc4ItzHvxHH5xZ...|gvBiz2qI1ieZwbgp+...|+RRIvh4eJEZAJ/SFu...|gvBiz2qI1ieZwbgp+...|\n",
      "|+/5oc4ItzHvxHH5xZ...|gvBiz2qI1ieZwbgp+...|+RRIvh4eJEZAJ/SFu...|gvBiz2qI1ieZwbgp+...|\n",
      "|+/5oc4ItzHvxHH5xZ...|gvBiz2qI1ieZwbgp+...|ucY0yK5VSzWN5VHzQ...|gvBiz2qI1ieZwbgp+...|\n",
      "|+/5oc4ItzHvxHH5xZ...|gvBiz2qI1ieZwbgp+...|wKZ5OnarYzxbH1Sdl...|gvBiz2qI1ieZwbgp+...|\n",
      "|+/5oc4ItzHvxHH5xZ...|gvBiz2qI1ieZwbgp+...|wKZ5OnarYzxbH1Sdl...|gvBiz2qI1ieZwbgp+...|\n",
      "|+/5oc4ItzHvxHH5xZ...|gvBiz2qI1ieZwbgp+...|wKZ5OnarYzxbH1Sdl...|gvBiz2qI1ieZwbgp+...|\n",
      "|+/5oc4ItzHvxHH5xZ...|gvBiz2qI1ieZwbgp+...|FTI7tngRHojFaaSsV...|gvBiz2qI1ieZwbgp+...|\n",
      "|+/5oc4ItzHvxHH5xZ...|gvBiz2qI1ieZwbgp+...|FTI7tngRHojFaaSsV...|gvBiz2qI1ieZwbgp+...|\n",
      "+--------------------+--------------------+--------------------+--------------------+\n",
      "only showing top 20 rows\n",
      "\n"
     ]
    },
    {
     "name": "stderr",
     "output_type": "stream",
     "text": [
      "                                                                                \r"
     ]
    }
   ],
   "source": [
    "spark.sql('select * from final').show()"
   ]
  },
  {
   "cell_type": "markdown",
   "id": "05025a00-5be3-4b14-a0fb-1f42f3c7d869",
   "metadata": {},
   "source": [
    "## Exploracion, limpieza y ampliacion de  data de relaciones familiares"
   ]
  },
  {
   "cell_type": "markdown",
   "id": "676cea1c-f884-4b71-a71a-6201e3c3ca34",
   "metadata": {},
   "source": [
    "A continuacion se obtiene el archivo de relaciones familiares que permitira obtener las relaciones entre socios y comparar con los datos de composicion de sociedades. En este archivo hay diferentes relaciones familiares. Veamos cuales hay:"
   ]
  },
  {
   "cell_type": "code",
   "execution_count": 19,
   "id": "147e6908-3321-40a3-a5a6-3e0b0a790aea",
   "metadata": {
    "tags": []
   },
   "outputs": [
    {
     "name": "stderr",
     "output_type": "stream",
     "text": [
      "                                                                                \r"
     ]
    },
    {
     "name": "stdout",
     "output_type": "stream",
     "text": [
      "+-------------+--------+\n",
      "|TIPO_RELACION|count(1)|\n",
      "+-------------+--------+\n",
      "|      COPADRE|12451621|\n",
      "|  NUERA/YERNO| 3892708|\n",
      "|       ABUELO| 8007965|\n",
      "|       SUEGRO| 3892529|\n",
      "|          TIO|27666477|\n",
      "|        MADRE|12957718|\n",
      "|       ABUELA| 8084065|\n",
      "|        PRIMO|39579326|\n",
      "|      SOBRINO|27666398|\n",
      "|        NIETO|16090759|\n",
      "|      CONYUGE| 6416639|\n",
      "|       CU�ADO|13117996|\n",
      "|        PADRE|12485678|\n",
      "|      HERMANO|32675727|\n",
      "|         HIJO|25440172|\n",
      "|TIPO_RELACION|       2|\n",
      "+-------------+--------+\n",
      "\n",
      "+---------+\n",
      "| count(1)|\n",
      "+---------+\n",
      "|250425780|\n",
      "+---------+\n",
      "\n"
     ]
    }
   ],
   "source": [
    "spark.read.parquet(\"abfs://data@datalakesii.dfs.core.windows.net/DatosOrigen/LibSDF/REL_FAMILIARES_AARI_EH\").createOrReplaceTempView(\"familiar\")\n",
    "spark.sql(\"SELECT TIPO_RELACION, count(*) FROM familiar group by TIPO_RELACION\").show()\n",
    "spark.sql(\"SELECT count(*) from familiar\").show()"
   ]
  },
  {
   "cell_type": "markdown",
   "id": "0fb91a8b-ff7b-4cbc-a97a-235a28bb07e8",
   "metadata": {},
   "source": [
    "A continuacion se toman en cuenta solo una vez los datos repetidos y no consideramos las relaciones donde CONT_RUT sea igual a RUT_FAM."
   ]
  },
  {
   "cell_type": "code",
   "execution_count": 20,
   "id": "b91481f9-0ed4-4801-9ee9-7731055c6d9b",
   "metadata": {
    "tags": []
   },
   "outputs": [],
   "source": [
    "spark.sql(\"select CONT_RUT,RUT_FAM,COUNT(*) as c from familiar where CONT_RUT!=RUT_FAM group by CONT_RUT,RUT_FAM order by c desc \").createOrReplaceTempView(\"familiar\")\n",
    "spark.sql(\"select CONT_RUT,RUT_FAM from familiar\").createOrReplaceTempView(\"familiar\")"
   ]
  },
  {
   "cell_type": "code",
   "execution_count": 21,
   "id": "3bfb6035-35f5-4d41-b942-15958fae3348",
   "metadata": {
    "tags": []
   },
   "outputs": [
    {
     "name": "stderr",
     "output_type": "stream",
     "text": [
      "[Stage 395:===============================================>    (183 + 17) / 200]\r"
     ]
    },
    {
     "name": "stdout",
     "output_type": "stream",
     "text": [
      "+--------------------+--------------------+\n",
      "|            CONT_RUT|             RUT_FAM|\n",
      "+--------------------+--------------------+\n",
      "|l6v3yfr8MHTwngudl...|HGiMRARQ7R/I1u2IQ...|\n",
      "|of4XHhwnFXfMBsRyF...|umanTm3FtRQuZKUcr...|\n",
      "|61Ezgpa4hNfeBaBJ9...|5XG2JhO5Mo4WS0Bgj...|\n",
      "|agUVtBHzQGw/dRd1t...|Wbp4c+jGXDCrk28G/...|\n",
      "|gOSQk3bkLgrE0aA9N...|m5/69JR6M6YqdpUKQ...|\n",
      "|m5/69JR6M6YqdpUKQ...|gOSQk3bkLgrE0aA9N...|\n",
      "|Wbp4c+jGXDCrk28G/...|agUVtBHzQGw/dRd1t...|\n",
      "|umanTm3FtRQuZKUcr...|of4XHhwnFXfMBsRyF...|\n",
      "|C8WccdE039hep4E86...|UAxTECWO51t/YicmY...|\n",
      "|5XG2JhO5Mo4WS0Bgj...|61Ezgpa4hNfeBaBJ9...|\n",
      "|aJBbKP9QQEURgg5VL...|9X0JUZKFTTcbzFXGu...|\n",
      "|C8WccdE039hep4E86...|ORiNV1owHosOBw+9s...|\n",
      "|ORiNV1owHosOBw+9s...|C8WccdE039hep4E86...|\n",
      "|9X0JUZKFTTcbzFXGu...|aJBbKP9QQEURgg5VL...|\n",
      "|HGiMRARQ7R/I1u2IQ...|l6v3yfr8MHTwngudl...|\n",
      "|UAxTECWO51t/YicmY...|C8WccdE039hep4E86...|\n",
      "|jgt20Hrk9J3YswZY0...|2wbmrHURHRzwv3LjU...|\n",
      "|6yNNEou4iSWtQX5CU...|EPGFC1V5Qvcou0gSw...|\n",
      "|emHeeIWtYDvTGeYmx...|qNDhR6Hrn1h211sLl...|\n",
      "|xi9P/ly5TcFL0Go4z...|18DZoCmtItYawSq7U...|\n",
      "+--------------------+--------------------+\n",
      "only showing top 20 rows\n",
      "\n"
     ]
    },
    {
     "name": "stderr",
     "output_type": "stream",
     "text": [
      "                                                                                \r"
     ]
    }
   ],
   "source": [
    "spark.sql('select * from familiar').show()"
   ]
  },
  {
   "cell_type": "markdown",
   "id": "2749c6b8-803b-4f0d-a5ee-558f45a50a5b",
   "metadata": {},
   "source": [
    "Duplicamos la data e invertimos las relaciones porque la familiariedad es bidireccional."
   ]
  },
  {
   "cell_type": "code",
   "execution_count": 22,
   "id": "4ac38ef7-5bc1-48b4-89cd-a40fde25624f",
   "metadata": {},
   "outputs": [],
   "source": [
    "spark.sql(\"select CONT_RUT as RUT_FAM,RUT_FAM as CONT_RUT from familiar\").createOrReplaceTempView(\"familiar2\")\n",
    "spark.sql(\"SELECT * FROM familiar UNION ALL SELECT * FROM familiar2\").createOrReplaceTempView(\"familiar\")"
   ]
  },
  {
   "cell_type": "code",
   "execution_count": 23,
   "id": "6ada30f6-b0be-4bf5-b71c-2ac09c552625",
   "metadata": {
    "tags": []
   },
   "outputs": [
    {
     "name": "stderr",
     "output_type": "stream",
     "text": [
      "[Stage 403:>                                                        (0 + 1) / 1]\r"
     ]
    },
    {
     "name": "stdout",
     "output_type": "stream",
     "text": [
      "+--------------------+--------------------+\n",
      "|            CONT_RUT|             RUT_FAM|\n",
      "+--------------------+--------------------+\n",
      "|l6v3yfr8MHTwngudl...|HGiMRARQ7R/I1u2IQ...|\n",
      "|61Ezgpa4hNfeBaBJ9...|5XG2JhO5Mo4WS0Bgj...|\n",
      "|UAxTECWO51t/YicmY...|C8WccdE039hep4E86...|\n",
      "|C8WccdE039hep4E86...|ORiNV1owHosOBw+9s...|\n",
      "|HGiMRARQ7R/I1u2IQ...|l6v3yfr8MHTwngudl...|\n",
      "|m5/69JR6M6YqdpUKQ...|gOSQk3bkLgrE0aA9N...|\n",
      "|9X0JUZKFTTcbzFXGu...|aJBbKP9QQEURgg5VL...|\n",
      "|umanTm3FtRQuZKUcr...|of4XHhwnFXfMBsRyF...|\n",
      "|ORiNV1owHosOBw+9s...|C8WccdE039hep4E86...|\n",
      "|5XG2JhO5Mo4WS0Bgj...|61Ezgpa4hNfeBaBJ9...|\n",
      "|agUVtBHzQGw/dRd1t...|Wbp4c+jGXDCrk28G/...|\n",
      "|of4XHhwnFXfMBsRyF...|umanTm3FtRQuZKUcr...|\n",
      "|Wbp4c+jGXDCrk28G/...|agUVtBHzQGw/dRd1t...|\n",
      "|C8WccdE039hep4E86...|UAxTECWO51t/YicmY...|\n",
      "|gOSQk3bkLgrE0aA9N...|m5/69JR6M6YqdpUKQ...|\n",
      "|aJBbKP9QQEURgg5VL...|9X0JUZKFTTcbzFXGu...|\n",
      "|x8R5Rxw6vgn+hfWtk...|geKFexZDjD+KniyPe...|\n",
      "|0UxFLow+CHEmFxSZv...|yfTbBMjnH1T+mkrWX...|\n",
      "|IOxVuUEBL7ldwDEk5...|NH0JLiIEU+DYM4hCh...|\n",
      "|ib47oqN+ReVIV7ipX...|3sdgCy2RXa2rTNe71...|\n",
      "+--------------------+--------------------+\n",
      "only showing top 20 rows\n",
      "\n"
     ]
    },
    {
     "name": "stderr",
     "output_type": "stream",
     "text": [
      "                                                                                \r"
     ]
    }
   ],
   "source": [
    "spark.sql('select * from familiar').show()"
   ]
  },
  {
   "cell_type": "code",
   "execution_count": 24,
   "id": "fb8b5547-1fe1-4963-ac8e-21b799c0d328",
   "metadata": {
    "tags": []
   },
   "outputs": [
    {
     "name": "stderr",
     "output_type": "stream",
     "text": [
      "24/03/28 01:24:58 WARN WatcherWebSocketListener: Exec Failure javax.net.ssl.SSLException Connection reset\n",
      "24/03/28 01:24:59 WARN ExecutorPodsWatchSnapshotSource: Kubernetes client has been closed (this is expected if the application is shutting down.)\n",
      "io.fabric8.kubernetes.client.WatcherException: too old resource version: 129645799 (129646257)\n",
      "\tat io.fabric8.kubernetes.client.dsl.internal.AbstractWatchManager.onStatus(AbstractWatchManager.java:265)\n",
      "\tat io.fabric8.kubernetes.client.dsl.internal.AbstractWatchManager.onMessage(AbstractWatchManager.java:249)\n",
      "\tat io.fabric8.kubernetes.client.dsl.internal.WatcherWebSocketListener.onMessage(WatcherWebSocketListener.java:93)\n",
      "\tat okhttp3.internal.ws.RealWebSocket.onReadMessage(RealWebSocket.java:323)\n",
      "\tat okhttp3.internal.ws.WebSocketReader.readMessageFrame(WebSocketReader.java:219)\n",
      "\tat okhttp3.internal.ws.WebSocketReader.processNextFrame(WebSocketReader.java:105)\n",
      "\tat okhttp3.internal.ws.RealWebSocket.loopReader(RealWebSocket.java:274)\n",
      "\tat okhttp3.internal.ws.RealWebSocket$2.onResponse(RealWebSocket.java:214)\n",
      "\tat okhttp3.RealCall$AsyncCall.execute(RealCall.java:203)\n",
      "\tat okhttp3.internal.NamedRunnable.run(NamedRunnable.java:32)\n",
      "\tat java.util.concurrent.ThreadPoolExecutor.runWorker(ThreadPoolExecutor.java:1149)\n",
      "\tat java.util.concurrent.ThreadPoolExecutor$Worker.run(ThreadPoolExecutor.java:624)\n",
      "\tat java.lang.Thread.run(Thread.java:750)\n",
      "Caused by: io.fabric8.kubernetes.client.KubernetesClientException: too old resource version: 129645799 (129646257)\n",
      "\t... 13 more\n",
      "[Stage 415:====================================================>(199 + 1) / 200]\r"
     ]
    },
    {
     "name": "stdout",
     "output_type": "stream",
     "text": [
      "+--------------------+\n",
      "|                 key|\n",
      "+--------------------+\n",
      "|+++1iAkZoVFs4IYW1...|\n",
      "|+++CLj7Nrfzd8XMK3...|\n",
      "|+++CpnJr+3bIlrHhU...|\n",
      "|+++e2oIABHElx6zNU...|\n",
      "|++/CyX6OXvsJdI1OW...|\n",
      "|++/SwvlV41jDvMXpB...|\n",
      "|++0Rw2W/nMLfZH7Pb...|\n",
      "|++0e2Ci9b007rBquz...|\n",
      "|++0pECiRYm13q80ro...|\n",
      "|++0rJxbsXtRSk3MAC...|\n",
      "|++1+u3dQTgCoAdhmP...|\n",
      "|++10BoDkN5EhH5kcS...|\n",
      "|++12vwvM+46PtJOYp...|\n",
      "|++19b0STpoaFhLQ0e...|\n",
      "|++1AJ3MTrt2S5hUiJ...|\n",
      "|++1Ijxv8EYognqql4...|\n",
      "|++1LGWOxLvzqIKGvJ...|\n",
      "|++1eXvnNa+kox3Iax...|\n",
      "|++1kgkiRX96/VDfB/...|\n",
      "|++1lrc6WeHwSb3DK2...|\n",
      "+--------------------+\n",
      "only showing top 20 rows\n",
      "\n"
     ]
    },
    {
     "name": "stderr",
     "output_type": "stream",
     "text": [
      "                                                                                \r"
     ]
    }
   ],
   "source": [
    "spark.sql(\"select CONT_RUT, RUT_FAM,count(*) AS C from familiar GROUP BY CONT_RUT, RUT_FAM ORDER BY C DESC\").createOrReplaceTempView(\"familiar\")\n",
    "spark.sql(\"select  CONT_RUT || RUT_FAM  as key from familiar\").createOrReplaceTempView(\"familiar\")\n",
    "spark.sql(\"select  * from familiar\").show()\n"
   ]
  },
  {
   "cell_type": "markdown",
   "id": "7b288b91-e1fa-438e-bf13-cb6602b4fed3",
   "metadata": {},
   "source": [
    "## Cruce de relaciones familiares calculadas con pool de socios por sociedad"
   ]
  },
  {
   "cell_type": "code",
   "execution_count": 25,
   "id": "ed6e40ea-955b-4590-8f69-9028cf51a5dd",
   "metadata": {
    "tags": []
   },
   "outputs": [
    {
     "name": "stderr",
     "output_type": "stream",
     "text": [
      "[Stage 569:===================================================> (195 + 5) / 200]6]]]\r"
     ]
    },
    {
     "name": "stdout",
     "output_type": "stream",
     "text": [
      "+--------------------+--------------------+--------------------+------------+\n",
      "|        RUT_SOCIEDAD|         RUT_SOCIO_1|         RUT_SOCIO_2|FAMILIAR_KEY|\n",
      "+--------------------+--------------------+--------------------+------------+\n",
      "|++0PaA9Gk1ZMElZZL...|Y20GxtSITZxJGWolh...|VkY6uutbGR+7iTLUS...|        null|\n",
      "|++0PaA9Gk1ZMElZZL...|VkY6uutbGR+7iTLUS...|Y20GxtSITZxJGWolh...|        null|\n",
      "|++1jdKtXA14GodsF2...|/VVBxeWcPKI3JZxh1...|BNuqVX553Rgbk6Y4p...|        null|\n",
      "|++1jdKtXA14GodsF2...|BNuqVX553Rgbk6Y4p...|/VVBxeWcPKI3JZxh1...|        null|\n",
      "|++1zBpa3uYVD9MM8r...|FxBSqC1xZi3jQG8ii...|vxQVwz2Mb6H3evEDj...|        null|\n",
      "|++1zBpa3uYVD9MM8r...|vxQVwz2Mb6H3evEDj...|FxBSqC1xZi3jQG8ii...|        null|\n",
      "|++2HU9Dm1tPPFCT0i...|3b5vEKiAaZ+phVPw+...|9s5GGH0n6Ng8nMFn9...|        null|\n",
      "|++2HU9Dm1tPPFCT0i...|lV2cZG2d/PVbIHB9o...|3b5vEKiAaZ+phVPw+...|        null|\n",
      "|++2HU9Dm1tPPFCT0i...|9s5GGH0n6Ng8nMFn9...|3b5vEKiAaZ+phVPw+...|        null|\n",
      "|++2HU9Dm1tPPFCT0i...|3b5vEKiAaZ+phVPw+...|lV2cZG2d/PVbIHB9o...|        null|\n",
      "|++2HU9Dm1tPPFCT0i...|9s5GGH0n6Ng8nMFn9...|lV2cZG2d/PVbIHB9o...|        null|\n",
      "|++2HU9Dm1tPPFCT0i...|lV2cZG2d/PVbIHB9o...|9s5GGH0n6Ng8nMFn9...|        null|\n",
      "|++2O1ZyXC+qEbjUpK...|/JoRuS3jrqmtbN5HN...|XpmNTbFlqcVA49GNT...|        null|\n",
      "|++2O1ZyXC+qEbjUpK...|XpmNTbFlqcVA49GNT...|/JoRuS3jrqmtbN5HN...|        null|\n",
      "|++4Djj4HPNfEzYvEO...|2etXbIDPV/uaEqVyG...|9ENlxWb22nreYoeIl...|        null|\n",
      "|++4Djj4HPNfEzYvEO...|9ENlxWb22nreYoeIl...|2etXbIDPV/uaEqVyG...|        null|\n",
      "|++4z3b25VlPVbddhi...|2CmGIdg02V8gikdkC...|muBFXF/la7ZCCQTsM...|        null|\n",
      "|++4z3b25VlPVbddhi...|gN9IpQW/cuFSp4mEK...|2CmGIdg02V8gikdkC...|        null|\n",
      "|++4z3b25VlPVbddhi...|ZvvoXCQUTp2iGlRa/...|gN9IpQW/cuFSp4mEK...|        null|\n",
      "|++4z3b25VlPVbddhi...|muBFXF/la7ZCCQTsM...|mV/oux65Zp3Y3vFn9...|        null|\n",
      "+--------------------+--------------------+--------------------+------------+\n",
      "only showing top 20 rows\n",
      "\n"
     ]
    },
    {
     "name": "stderr",
     "output_type": "stream",
     "text": [
      "24/03/28 02:06:16 ERROR TransportResponseHandler: Still have 1 requests outstanding when connection from /10.244.74.14:59620 is closed\n",
      "24/03/28 02:06:16 WARN BlockManagerMasterEndpoint: Error trying to remove shuffle 86 from block manager BlockManagerId(26, 10.244.74.14, 40553, None)\n",
      "java.io.IOException: Connection from /10.244.74.14:59620 closed\n",
      "\tat org.apache.spark.network.client.TransportResponseHandler.channelInactive(TransportResponseHandler.java:147)\n",
      "\tat org.apache.spark.network.server.TransportChannelHandler.channelInactive(TransportChannelHandler.java:117)\n",
      "\tat io.netty.channel.AbstractChannelHandlerContext.invokeChannelInactive(AbstractChannelHandlerContext.java:262)\n",
      "\tat io.netty.channel.AbstractChannelHandlerContext.invokeChannelInactive(AbstractChannelHandlerContext.java:248)\n",
      "\tat io.netty.channel.AbstractChannelHandlerContext.fireChannelInactive(AbstractChannelHandlerContext.java:241)\n",
      "\tat io.netty.channel.ChannelInboundHandlerAdapter.channelInactive(ChannelInboundHandlerAdapter.java:81)\n",
      "\tat io.netty.handler.timeout.IdleStateHandler.channelInactive(IdleStateHandler.java:277)\n",
      "\tat io.netty.channel.AbstractChannelHandlerContext.invokeChannelInactive(AbstractChannelHandlerContext.java:262)\n",
      "\tat io.netty.channel.AbstractChannelHandlerContext.invokeChannelInactive(AbstractChannelHandlerContext.java:248)\n",
      "\tat io.netty.channel.AbstractChannelHandlerContext.fireChannelInactive(AbstractChannelHandlerContext.java:241)\n",
      "\tat io.netty.channel.ChannelInboundHandlerAdapter.channelInactive(ChannelInboundHandlerAdapter.java:81)\n",
      "\tat org.apache.spark.network.util.TransportFrameDecoder.channelInactive(TransportFrameDecoder.java:225)\n",
      "\tat io.netty.channel.AbstractChannelHandlerContext.invokeChannelInactive(AbstractChannelHandlerContext.java:262)\n",
      "\tat io.netty.channel.AbstractChannelHandlerContext.invokeChannelInactive(AbstractChannelHandlerContext.java:248)\n",
      "\tat io.netty.channel.AbstractChannelHandlerContext.fireChannelInactive(AbstractChannelHandlerContext.java:241)\n",
      "\tat io.netty.channel.DefaultChannelPipeline$HeadContext.channelInactive(DefaultChannelPipeline.java:1405)\n",
      "\tat io.netty.channel.AbstractChannelHandlerContext.invokeChannelInactive(AbstractChannelHandlerContext.java:262)\n",
      "\tat io.netty.channel.AbstractChannelHandlerContext.invokeChannelInactive(AbstractChannelHandlerContext.java:248)\n",
      "\tat io.netty.channel.DefaultChannelPipeline.fireChannelInactive(DefaultChannelPipeline.java:901)\n",
      "\tat io.netty.channel.AbstractChannel$AbstractUnsafe$8.run(AbstractChannel.java:831)\n",
      "\tat io.netty.util.concurrent.AbstractEventExecutor.safeExecute(AbstractEventExecutor.java:164)\n",
      "\tat io.netty.util.concurrent.SingleThreadEventExecutor.runAllTasks(SingleThreadEventExecutor.java:472)\n",
      "\tat io.netty.channel.nio.NioEventLoop.run(NioEventLoop.java:497)\n",
      "\tat io.netty.util.concurrent.SingleThreadEventExecutor$4.run(SingleThreadEventExecutor.java:989)\n",
      "\tat io.netty.util.internal.ThreadExecutorMap$2.run(ThreadExecutorMap.java:74)\n",
      "\tat io.netty.util.concurrent.FastThreadLocalRunnable.run(FastThreadLocalRunnable.java:30)\n",
      "\tat java.lang.Thread.run(Thread.java:750)\n",
      "24/03/28 02:06:16 ERROR TransportResponseHandler: Still have 1 requests outstanding when connection from /10.244.71.13:50528 is closed\n",
      "24/03/28 02:06:16 WARN BlockManagerMasterEndpoint: Error trying to remove shuffle 67 from block manager BlockManagerId(28, 10.244.71.13, 43955, None)\n",
      "java.io.IOException: Connection from /10.244.71.13:50528 closed\n",
      "\tat org.apache.spark.network.client.TransportResponseHandler.channelInactive(TransportResponseHandler.java:147)\n",
      "\tat org.apache.spark.network.server.TransportChannelHandler.channelInactive(TransportChannelHandler.java:117)\n",
      "\tat io.netty.channel.AbstractChannelHandlerContext.invokeChannelInactive(AbstractChannelHandlerContext.java:262)\n",
      "\tat io.netty.channel.AbstractChannelHandlerContext.invokeChannelInactive(AbstractChannelHandlerContext.java:248)\n",
      "\tat io.netty.channel.AbstractChannelHandlerContext.fireChannelInactive(AbstractChannelHandlerContext.java:241)\n",
      "\tat io.netty.channel.ChannelInboundHandlerAdapter.channelInactive(ChannelInboundHandlerAdapter.java:81)\n",
      "\tat io.netty.handler.timeout.IdleStateHandler.channelInactive(IdleStateHandler.java:277)\n",
      "\tat io.netty.channel.AbstractChannelHandlerContext.invokeChannelInactive(AbstractChannelHandlerContext.java:262)\n",
      "\tat io.netty.channel.AbstractChannelHandlerContext.invokeChannelInactive(AbstractChannelHandlerContext.java:248)\n",
      "\tat io.netty.channel.AbstractChannelHandlerContext.fireChannelInactive(AbstractChannelHandlerContext.java:241)\n",
      "\tat io.netty.channel.ChannelInboundHandlerAdapter.channelInactive(ChannelInboundHandlerAdapter.java:81)\n",
      "\tat org.apache.spark.network.util.TransportFrameDecoder.channelInactive(TransportFrameDecoder.java:225)\n",
      "\tat io.netty.channel.AbstractChannelHandlerContext.invokeChannelInactive(AbstractChannelHandlerContext.java:262)\n",
      "\tat io.netty.channel.AbstractChannelHandlerContext.invokeChannelInactive(AbstractChannelHandlerContext.java:248)\n",
      "\tat io.netty.channel.AbstractChannelHandlerContext.fireChannelInactive(AbstractChannelHandlerContext.java:241)\n",
      "\tat io.netty.channel.DefaultChannelPipeline$HeadContext.channelInactive(DefaultChannelPipeline.java:1405)\n",
      "\tat io.netty.channel.AbstractChannelHandlerContext.invokeChannelInactive(AbstractChannelHandlerContext.java:262)\n",
      "\tat io.netty.channel.AbstractChannelHandlerContext.invokeChannelInactive(AbstractChannelHandlerContext.java:248)\n",
      "\tat io.netty.channel.DefaultChannelPipeline.fireChannelInactive(DefaultChannelPipeline.java:901)\n",
      "\tat io.netty.channel.AbstractChannel$AbstractUnsafe$8.run(AbstractChannel.java:831)\n",
      "\tat io.netty.util.concurrent.AbstractEventExecutor.safeExecute(AbstractEventExecutor.java:164)\n",
      "\tat io.netty.util.concurrent.SingleThreadEventExecutor.runAllTasks(SingleThreadEventExecutor.java:472)\n",
      "\tat io.netty.channel.nio.NioEventLoop.run(NioEventLoop.java:497)\n",
      "\tat io.netty.util.concurrent.SingleThreadEventExecutor$4.run(SingleThreadEventExecutor.java:989)\n",
      "\tat io.netty.util.internal.ThreadExecutorMap$2.run(ThreadExecutorMap.java:74)\n",
      "\tat io.netty.util.concurrent.FastThreadLocalRunnable.run(FastThreadLocalRunnable.java:30)\n",
      "\tat java.lang.Thread.run(Thread.java:750)\n",
      "24/03/28 02:06:16 ERROR TransportResponseHandler: Still have 1 requests outstanding when connection from /10.244.68.14:52636 is closed\n",
      "24/03/28 02:06:16 WARN BlockManagerMasterEndpoint: Error trying to remove shuffle 86 from block manager BlockManagerId(27, 10.244.68.14, 44523, None)\n",
      "java.io.IOException: Connection from /10.244.68.14:52636 closed\n",
      "\tat org.apache.spark.network.client.TransportResponseHandler.channelInactive(TransportResponseHandler.java:147)\n",
      "\tat org.apache.spark.network.server.TransportChannelHandler.channelInactive(TransportChannelHandler.java:117)\n",
      "\tat io.netty.channel.AbstractChannelHandlerContext.invokeChannelInactive(AbstractChannelHandlerContext.java:262)\n",
      "\tat io.netty.channel.AbstractChannelHandlerContext.invokeChannelInactive(AbstractChannelHandlerContext.java:248)\n",
      "\tat io.netty.channel.AbstractChannelHandlerContext.fireChannelInactive(AbstractChannelHandlerContext.java:241)\n",
      "\tat io.netty.channel.ChannelInboundHandlerAdapter.channelInactive(ChannelInboundHandlerAdapter.java:81)\n",
      "\tat io.netty.handler.timeout.IdleStateHandler.channelInactive(IdleStateHandler.java:277)\n",
      "\tat io.netty.channel.AbstractChannelHandlerContext.invokeChannelInactive(AbstractChannelHandlerContext.java:262)\n",
      "\tat io.netty.channel.AbstractChannelHandlerContext.invokeChannelInactive(AbstractChannelHandlerContext.java:248)\n",
      "\tat io.netty.channel.AbstractChannelHandlerContext.fireChannelInactive(AbstractChannelHandlerContext.java:241)\n",
      "\tat io.netty.channel.ChannelInboundHandlerAdapter.channelInactive(ChannelInboundHandlerAdapter.java:81)\n",
      "\tat org.apache.spark.network.util.TransportFrameDecoder.channelInactive(TransportFrameDecoder.java:225)\n",
      "\tat io.netty.channel.AbstractChannelHandlerContext.invokeChannelInactive(AbstractChannelHandlerContext.java:262)\n",
      "\tat io.netty.channel.AbstractChannelHandlerContext.invokeChannelInactive(AbstractChannelHandlerContext.java:248)\n",
      "\tat io.netty.channel.AbstractChannelHandlerContext.fireChannelInactive(AbstractChannelHandlerContext.java:241)\n",
      "\tat io.netty.channel.DefaultChannelPipeline$HeadContext.channelInactive(DefaultChannelPipeline.java:1405)\n",
      "\tat io.netty.channel.AbstractChannelHandlerContext.invokeChannelInactive(AbstractChannelHandlerContext.java:262)\n",
      "\tat io.netty.channel.AbstractChannelHandlerContext.invokeChannelInactive(AbstractChannelHandlerContext.java:248)\n",
      "\tat io.netty.channel.DefaultChannelPipeline.fireChannelInactive(DefaultChannelPipeline.java:901)\n",
      "\tat io.netty.channel.AbstractChannel$AbstractUnsafe$8.run(AbstractChannel.java:831)\n",
      "\tat io.netty.util.concurrent.AbstractEventExecutor.safeExecute(AbstractEventExecutor.java:164)\n",
      "\tat io.netty.util.concurrent.SingleThreadEventExecutor.runAllTasks(SingleThreadEventExecutor.java:472)\n",
      "\tat io.netty.channel.nio.NioEventLoop.run(NioEventLoop.java:497)\n",
      "\tat io.netty.util.concurrent.SingleThreadEventExecutor$4.run(SingleThreadEventExecutor.java:989)\n",
      "\tat io.netty.util.internal.ThreadExecutorMap$2.run(ThreadExecutorMap.java:74)\n",
      "\tat io.netty.util.concurrent.FastThreadLocalRunnable.run(FastThreadLocalRunnable.java:30)\n",
      "\tat java.lang.Thread.run(Thread.java:750)\n"
     ]
    }
   ],
   "source": [
    "spark.sql(\"select RUT_SOCIEDAD,RUT_SOCIO_1, RUT_SOCIO_2, familiar.key as FAMILIAR_KEY from final left join familiar on final.key= familiar.key order by RUT_SOCIEDAD\").createOrReplaceTempView(\"relaciones\")\n",
    "spark.sql(\"select * from relaciones\").show()"
   ]
  },
  {
   "cell_type": "markdown",
   "id": "f26bd418-40d6-4c78-80b8-eb7ff76c81c5",
   "metadata": {},
   "source": [
    "Lo que haremos a continuacion es obtener los valores unicos de socios que si tienen relaciones, que son los distintos valores de RUT_SOCIO que tienen FAMILIAR_KEY no nulo."
   ]
  },
  {
   "cell_type": "code",
   "execution_count": null,
   "id": "074c4466-00a2-4268-93b7-0bec9c766dd6",
   "metadata": {
    "tags": []
   },
   "outputs": [],
   "source": [
    "spark.sql(\"select RUT_SOCIEDAD,COUNT(DISTINCT(RUT_SOCIO_1)) AS FAMILIARES from relaciones WHERE FAMILIAR_KEY IS NOT NULL GROUP BY RUT_SOCIEDAD\").createOrReplaceTempView(\"socios_familia\")\n",
    "spark.sql(\"select socios_familia.RUT_SOCIEDAD, FAMILIARES, TOTAL  from socios_familia right join total on socios_familia.RUT_SOCIEDAD=total.RUT_SOCIEDAD\").createOrReplaceTempView(\"socios_familia\")\n"
   ]
  },
  {
   "cell_type": "code",
   "execution_count": null,
   "id": "b99f6f3e-b685-4473-93aa-849aec274742",
   "metadata": {},
   "outputs": [],
   "source": [
    "## Calculo final de metrica asociadaa familiaridad. Explicacion y "
   ]
  },
  {
   "cell_type": "code",
   "execution_count": null,
   "id": "f012f455-e7c0-496c-8e86-557de95ee302",
   "metadata": {},
   "outputs": [],
   "source": [
    "spark.sql(\"select  RUT_SOCIEDAD, FAMILIARES, TOTAL, FAMILIARES/TOTAL*100 as TASA_FAMILIARIDAD from socios_familia\").toPandas().to_csv('artefactos/Familiaridad/familiaridad.csv', index=False)"
   ]
  },
  {
   "cell_type": "code",
   "execution_count": null,
   "id": "b212f316-26b7-4fc7-a9cc-1b3d853ac9c5",
   "metadata": {
    "tags": []
   },
   "outputs": [],
   "source": [
    "#a.write.csv(\"familiar_output.csv\")"
   ]
  },
  {
   "cell_type": "code",
   "execution_count": null,
   "id": "54b16c04-ec37-4a1f-986d-7bb9d7a84693",
   "metadata": {},
   "outputs": [],
   "source": []
  }
 ],
 "metadata": {
  "kernelspec": {
   "display_name": "Python 3 (ipykernel)",
   "language": "python",
   "name": "python3"
  },
  "language_info": {
   "codemirror_mode": {
    "name": "ipython",
    "version": 3
   },
   "file_extension": ".py",
   "mimetype": "text/x-python",
   "name": "python",
   "nbconvert_exporter": "python",
   "pygments_lexer": "ipython3",
   "version": "3.9.16"
  }
 },
 "nbformat": 4,
 "nbformat_minor": 5
}
