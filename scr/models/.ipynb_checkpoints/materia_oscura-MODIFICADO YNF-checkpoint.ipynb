{
 "cells": [
  {
   "cell_type": "markdown",
   "id": "87fbb18d-f5ea-4f2f-bcb5-760ac1081013",
   "metadata": {},
   "source": [
    "## Apiux & SII: calculo de indice de materia oscura en personas juridicas.\n",
    "## ATENCION: proyecto sujeto a mantenimiento continuo. \n",
    "\n",
    "## Henry Vega (henrry.vega@api-ux.com)\n",
    "## Data analyst"
   ]
  },
  {
   "cell_type": "code",
   "execution_count": 1,
   "id": "18bff1a6-1471-4b1a-98af-c1bcd085cf40",
   "metadata": {
    "tags": []
   },
   "outputs": [],
   "source": [
    "from pyspark.sql import SparkSession\n",
    "from pyspark.sql.functions import *\n",
    "from pyspark import SparkContext, SparkConf\n",
    "import pyspark\n",
    "#warnings.filterwarnings('ignore', category=DeprecationWarning)"
   ]
  },
  {
   "cell_type": "code",
   "execution_count": 2,
   "id": "0045495f-27ec-47ad-8474-dd42b9352a2c",
   "metadata": {
    "tags": []
   },
   "outputs": [
    {
     "name": "stderr",
     "output_type": "stream",
     "text": [
      "24/01/24 21:01:31 WARN SparkConf: The configuration key 'spark.yarn.access.hadoopFileSystems' has been deprecated as of Spark 3.0 and may be removed in the future. Please use the new key 'spark.kerberos.access.hadoopFileSystems' instead.\n",
      "24/01/24 21:01:31 WARN SparkConf: The configuration key 'spark.yarn.access.hadoopFileSystems' has been deprecated as of Spark 3.0 and may be removed in the future. Please use the new key 'spark.kerberos.access.hadoopFileSystems' instead.\n",
      "Setting spark.hadoop.yarn.resourcemanager.principal to hvega.externo\n",
      "Using Spark's default log4j profile: org/apache/spark/log4j-defaults.properties\n",
      "Setting default log level to \"WARN\".\n",
      "To adjust logging level use sc.setLogLevel(newLevel). For SparkR, use setLogLevel(newLevel).\n",
      "24/01/24 21:01:32 WARN SparkConf: The configuration key 'spark.yarn.access.hadoopFileSystems' has been deprecated as of Spark 3.0 and may be removed in the future. Please use the new key 'spark.kerberos.access.hadoopFileSystems' instead.\n",
      "24/01/24 21:01:32 WARN SparkConf: The configuration key 'spark.yarn.access.hadoopFileSystems' has been deprecated as of Spark 3.0 and may be removed in the future. Please use the new key 'spark.kerberos.access.hadoopFileSystems' instead.\n",
      "24/01/24 21:01:32 WARN SparkConf: The configuration key 'spark.yarn.access.hadoopFileSystems' has been deprecated as of Spark 3.0 and may be removed in the future. Please use the new key 'spark.kerberos.access.hadoopFileSystems' instead.\n",
      "24/01/24 21:01:34 WARN JettyUtils: GET /jobs/ failed: java.util.NoSuchElementException: Failed to get the application information. If you are starting up Spark, please wait a while until it's ready.\n",
      "java.util.NoSuchElementException: Failed to get the application information. If you are starting up Spark, please wait a while until it's ready.\n",
      "\tat org.apache.spark.status.AppStatusStore.applicationInfo(AppStatusStore.scala:51)\n",
      "\tat org.apache.spark.ui.jobs.AllJobsPage.render(AllJobsPage.scala:276)\n",
      "\tat org.apache.spark.ui.WebUI.$anonfun$attachPage$1(WebUI.scala:90)\n",
      "\tat org.apache.spark.ui.JettyUtils$$anon$1.doGet(JettyUtils.scala:81)\n",
      "\tat javax.servlet.http.HttpServlet.service(HttpServlet.java:503)\n",
      "\tat javax.servlet.http.HttpServlet.service(HttpServlet.java:590)\n",
      "\tat org.sparkproject.jetty.servlet.ServletHolder.handle(ServletHolder.java:791)\n",
      "\tat org.sparkproject.jetty.servlet.ServletHandler$ChainEnd.doFilter(ServletHandler.java:1626)\n",
      "\tat org.apache.spark.ui.HttpSecurityFilter.doFilter(HttpSecurityFilter.scala:95)\n",
      "\tat org.sparkproject.jetty.servlet.FilterHolder.doFilter(FilterHolder.java:193)\n",
      "\tat org.sparkproject.jetty.servlet.ServletHandler$Chain.doFilter(ServletHandler.java:1601)\n",
      "\tat org.sparkproject.jetty.servlet.ServletHandler.doHandle(ServletHandler.java:548)\n",
      "\tat org.sparkproject.jetty.server.handler.ScopedHandler.nextHandle(ScopedHandler.java:233)\n",
      "\tat org.sparkproject.jetty.server.handler.ContextHandler.doHandle(ContextHandler.java:1435)\n",
      "\tat org.sparkproject.jetty.server.handler.ScopedHandler.nextScope(ScopedHandler.java:188)\n",
      "\tat org.sparkproject.jetty.servlet.ServletHandler.doScope(ServletHandler.java:501)\n",
      "\tat org.sparkproject.jetty.server.handler.ScopedHandler.nextScope(ScopedHandler.java:186)\n",
      "\tat org.sparkproject.jetty.server.handler.ContextHandler.doScope(ContextHandler.java:1350)\n",
      "\tat org.sparkproject.jetty.server.handler.ScopedHandler.handle(ScopedHandler.java:141)\n",
      "\tat org.sparkproject.jetty.server.handler.gzip.GzipHandler.handle(GzipHandler.java:763)\n",
      "\tat org.sparkproject.jetty.server.handler.ContextHandlerCollection.handle(ContextHandlerCollection.java:234)\n",
      "\tat org.sparkproject.jetty.server.handler.HandlerWrapper.handle(HandlerWrapper.java:127)\n",
      "\tat org.apache.spark.ui.ProxyRedirectHandler.handle(JettyUtils.scala:581)\n",
      "\tat org.sparkproject.jetty.server.handler.HandlerWrapper.handle(HandlerWrapper.java:127)\n",
      "\tat org.sparkproject.jetty.server.Server.handle(Server.java:516)\n",
      "\tat org.sparkproject.jetty.server.HttpChannel.lambda$handle$1(HttpChannel.java:388)\n",
      "\tat org.sparkproject.jetty.server.HttpChannel.dispatch(HttpChannel.java:633)\n",
      "\tat org.sparkproject.jetty.server.HttpChannel.handle(HttpChannel.java:380)\n",
      "\tat org.sparkproject.jetty.server.HttpConnection.onFillable(HttpConnection.java:277)\n",
      "\tat org.sparkproject.jetty.io.AbstractConnection$ReadCallback.succeeded(AbstractConnection.java:311)\n",
      "\tat org.sparkproject.jetty.io.FillInterest.fillable(FillInterest.java:105)\n",
      "\tat org.sparkproject.jetty.io.ChannelEndPoint$1.run(ChannelEndPoint.java:104)\n",
      "\tat org.sparkproject.jetty.util.thread.strategy.EatWhatYouKill.runTask(EatWhatYouKill.java:336)\n",
      "\tat org.sparkproject.jetty.util.thread.strategy.EatWhatYouKill.doProduce(EatWhatYouKill.java:313)\n",
      "\tat org.sparkproject.jetty.util.thread.strategy.EatWhatYouKill.tryProduce(EatWhatYouKill.java:171)\n",
      "\tat org.sparkproject.jetty.util.thread.strategy.EatWhatYouKill.produce(EatWhatYouKill.java:135)\n",
      "\tat org.sparkproject.jetty.util.thread.QueuedThreadPool.runJob(QueuedThreadPool.java:882)\n",
      "\tat org.sparkproject.jetty.util.thread.QueuedThreadPool$Runner.run(QueuedThreadPool.java:1036)\n",
      "\tat java.lang.Thread.run(Thread.java:750)\n",
      "24/01/24 21:01:34 WARN HttpChannel: /jobs/\n",
      "java.util.NoSuchElementException: Failed to get the application information. If you are starting up Spark, please wait a while until it's ready.\n",
      "\tat org.apache.spark.status.AppStatusStore.applicationInfo(AppStatusStore.scala:51)\n",
      "\tat org.apache.spark.ui.jobs.AllJobsPage.render(AllJobsPage.scala:276)\n",
      "\tat org.apache.spark.ui.WebUI.$anonfun$attachPage$1(WebUI.scala:90)\n",
      "\tat org.apache.spark.ui.JettyUtils$$anon$1.doGet(JettyUtils.scala:81)\n",
      "\tat javax.servlet.http.HttpServlet.service(HttpServlet.java:503)\n",
      "\tat javax.servlet.http.HttpServlet.service(HttpServlet.java:590)\n",
      "\tat org.sparkproject.jetty.servlet.ServletHolder.handle(ServletHolder.java:791)\n",
      "\tat org.sparkproject.jetty.servlet.ServletHandler$ChainEnd.doFilter(ServletHandler.java:1626)\n",
      "\tat org.apache.spark.ui.HttpSecurityFilter.doFilter(HttpSecurityFilter.scala:95)\n",
      "\tat org.sparkproject.jetty.servlet.FilterHolder.doFilter(FilterHolder.java:193)\n",
      "\tat org.sparkproject.jetty.servlet.ServletHandler$Chain.doFilter(ServletHandler.java:1601)\n",
      "\tat org.sparkproject.jetty.servlet.ServletHandler.doHandle(ServletHandler.java:548)\n",
      "\tat org.sparkproject.jetty.server.handler.ScopedHandler.nextHandle(ScopedHandler.java:233)\n",
      "\tat org.sparkproject.jetty.server.handler.ContextHandler.doHandle(ContextHandler.java:1435)\n",
      "\tat org.sparkproject.jetty.server.handler.ScopedHandler.nextScope(ScopedHandler.java:188)\n",
      "\tat org.sparkproject.jetty.servlet.ServletHandler.doScope(ServletHandler.java:501)\n",
      "\tat org.sparkproject.jetty.server.handler.ScopedHandler.nextScope(ScopedHandler.java:186)\n",
      "\tat org.sparkproject.jetty.server.handler.ContextHandler.doScope(ContextHandler.java:1350)\n",
      "\tat org.sparkproject.jetty.server.handler.ScopedHandler.handle(ScopedHandler.java:141)\n",
      "\tat org.sparkproject.jetty.server.handler.gzip.GzipHandler.handle(GzipHandler.java:763)\n",
      "\tat org.sparkproject.jetty.server.handler.ContextHandlerCollection.handle(ContextHandlerCollection.java:234)\n",
      "\tat org.sparkproject.jetty.server.handler.HandlerWrapper.handle(HandlerWrapper.java:127)\n",
      "\tat org.apache.spark.ui.ProxyRedirectHandler.handle(JettyUtils.scala:581)\n",
      "\tat org.sparkproject.jetty.server.handler.HandlerWrapper.handle(HandlerWrapper.java:127)\n",
      "\tat org.sparkproject.jetty.server.Server.handle(Server.java:516)\n",
      "\tat org.sparkproject.jetty.server.HttpChannel.lambda$handle$1(HttpChannel.java:388)\n",
      "\tat org.sparkproject.jetty.server.HttpChannel.dispatch(HttpChannel.java:633)\n",
      "\tat org.sparkproject.jetty.server.HttpChannel.handle(HttpChannel.java:380)\n",
      "\tat org.sparkproject.jetty.server.HttpConnection.onFillable(HttpConnection.java:277)\n",
      "\tat org.sparkproject.jetty.io.AbstractConnection$ReadCallback.succeeded(AbstractConnection.java:311)\n",
      "\tat org.sparkproject.jetty.io.FillInterest.fillable(FillInterest.java:105)\n",
      "\tat org.sparkproject.jetty.io.ChannelEndPoint$1.run(ChannelEndPoint.java:104)\n",
      "\tat org.sparkproject.jetty.util.thread.strategy.EatWhatYouKill.runTask(EatWhatYouKill.java:336)\n",
      "\tat org.sparkproject.jetty.util.thread.strategy.EatWhatYouKill.doProduce(EatWhatYouKill.java:313)\n",
      "\tat org.sparkproject.jetty.util.thread.strategy.EatWhatYouKill.tryProduce(EatWhatYouKill.java:171)\n",
      "\tat org.sparkproject.jetty.util.thread.strategy.EatWhatYouKill.produce(EatWhatYouKill.java:135)\n",
      "\tat org.sparkproject.jetty.util.thread.QueuedThreadPool.runJob(QueuedThreadPool.java:882)\n",
      "\tat org.sparkproject.jetty.util.thread.QueuedThreadPool$Runner.run(QueuedThreadPool.java:1036)\n",
      "\tat java.lang.Thread.run(Thread.java:750)\n",
      "24/01/24 21:01:35 WARN JettyUtils: GET /jobs/ failed: java.util.NoSuchElementException: Failed to get the application information. If you are starting up Spark, please wait a while until it's ready.\n",
      "java.util.NoSuchElementException: Failed to get the application information. If you are starting up Spark, please wait a while until it's ready.\n",
      "\tat org.apache.spark.status.AppStatusStore.applicationInfo(AppStatusStore.scala:51)\n",
      "\tat org.apache.spark.ui.jobs.AllJobsPage.render(AllJobsPage.scala:276)\n",
      "\tat org.apache.spark.ui.WebUI.$anonfun$attachPage$1(WebUI.scala:90)\n",
      "\tat org.apache.spark.ui.JettyUtils$$anon$1.doGet(JettyUtils.scala:81)\n",
      "\tat javax.servlet.http.HttpServlet.service(HttpServlet.java:503)\n",
      "\tat javax.servlet.http.HttpServlet.service(HttpServlet.java:590)\n",
      "\tat org.sparkproject.jetty.servlet.ServletHolder.handle(ServletHolder.java:791)\n",
      "\tat org.sparkproject.jetty.servlet.ServletHandler$ChainEnd.doFilter(ServletHandler.java:1626)\n",
      "\tat org.apache.spark.ui.HttpSecurityFilter.doFilter(HttpSecurityFilter.scala:95)\n",
      "\tat org.sparkproject.jetty.servlet.FilterHolder.doFilter(FilterHolder.java:193)\n",
      "\tat org.sparkproject.jetty.servlet.ServletHandler$Chain.doFilter(ServletHandler.java:1601)\n",
      "\tat org.sparkproject.jetty.servlet.ServletHandler.doHandle(ServletHandler.java:548)\n",
      "\tat org.sparkproject.jetty.server.handler.ScopedHandler.nextHandle(ScopedHandler.java:233)\n",
      "\tat org.sparkproject.jetty.server.handler.ContextHandler.doHandle(ContextHandler.java:1435)\n",
      "\tat org.sparkproject.jetty.server.handler.ScopedHandler.nextScope(ScopedHandler.java:188)\n",
      "\tat org.sparkproject.jetty.servlet.ServletHandler.doScope(ServletHandler.java:501)\n",
      "\tat org.sparkproject.jetty.server.handler.ScopedHandler.nextScope(ScopedHandler.java:186)\n",
      "\tat org.sparkproject.jetty.server.handler.ContextHandler.doScope(ContextHandler.java:1350)\n",
      "\tat org.sparkproject.jetty.server.handler.ScopedHandler.handle(ScopedHandler.java:141)\n",
      "\tat org.sparkproject.jetty.server.handler.gzip.GzipHandler.handle(GzipHandler.java:763)\n",
      "\tat org.sparkproject.jetty.server.handler.ContextHandlerCollection.handle(ContextHandlerCollection.java:234)\n",
      "\tat org.sparkproject.jetty.server.handler.HandlerWrapper.handle(HandlerWrapper.java:127)\n",
      "\tat org.apache.spark.ui.ProxyRedirectHandler.handle(JettyUtils.scala:581)\n",
      "\tat org.sparkproject.jetty.server.handler.HandlerWrapper.handle(HandlerWrapper.java:127)\n",
      "\tat org.sparkproject.jetty.server.Server.handle(Server.java:516)\n",
      "\tat org.sparkproject.jetty.server.HttpChannel.lambda$handle$1(HttpChannel.java:388)\n",
      "\tat org.sparkproject.jetty.server.HttpChannel.dispatch(HttpChannel.java:633)\n",
      "\tat org.sparkproject.jetty.server.HttpChannel.handle(HttpChannel.java:380)\n",
      "\tat org.sparkproject.jetty.server.HttpConnection.onFillable(HttpConnection.java:277)\n",
      "\tat org.sparkproject.jetty.io.AbstractConnection$ReadCallback.succeeded(AbstractConnection.java:311)\n",
      "\tat org.sparkproject.jetty.io.FillInterest.fillable(FillInterest.java:105)\n",
      "\tat org.sparkproject.jetty.io.ChannelEndPoint$1.run(ChannelEndPoint.java:104)\n",
      "\tat org.sparkproject.jetty.util.thread.strategy.EatWhatYouKill.runTask(EatWhatYouKill.java:336)\n",
      "\tat org.sparkproject.jetty.util.thread.strategy.EatWhatYouKill.doProduce(EatWhatYouKill.java:313)\n",
      "\tat org.sparkproject.jetty.util.thread.strategy.EatWhatYouKill.tryProduce(EatWhatYouKill.java:171)\n",
      "\tat org.sparkproject.jetty.util.thread.strategy.EatWhatYouKill.run(EatWhatYouKill.java:129)\n",
      "\tat org.sparkproject.jetty.util.thread.ReservedThreadExecutor$ReservedThread.run(ReservedThreadExecutor.java:383)\n",
      "\tat org.sparkproject.jetty.util.thread.QueuedThreadPool.runJob(QueuedThreadPool.java:882)\n",
      "\tat org.sparkproject.jetty.util.thread.QueuedThreadPool$Runner.run(QueuedThreadPool.java:1036)\n",
      "\tat java.lang.Thread.run(Thread.java:750)\n",
      "24/01/24 21:01:35 WARN HttpChannel: /jobs/\n",
      "java.util.NoSuchElementException: Failed to get the application information. If you are starting up Spark, please wait a while until it's ready.\n",
      "\tat org.apache.spark.status.AppStatusStore.applicationInfo(AppStatusStore.scala:51)\n",
      "\tat org.apache.spark.ui.jobs.AllJobsPage.render(AllJobsPage.scala:276)\n",
      "\tat org.apache.spark.ui.WebUI.$anonfun$attachPage$1(WebUI.scala:90)\n",
      "\tat org.apache.spark.ui.JettyUtils$$anon$1.doGet(JettyUtils.scala:81)\n",
      "\tat javax.servlet.http.HttpServlet.service(HttpServlet.java:503)\n",
      "\tat javax.servlet.http.HttpServlet.service(HttpServlet.java:590)\n",
      "\tat org.sparkproject.jetty.servlet.ServletHolder.handle(ServletHolder.java:791)\n",
      "\tat org.sparkproject.jetty.servlet.ServletHandler$ChainEnd.doFilter(ServletHandler.java:1626)\n",
      "\tat org.apache.spark.ui.HttpSecurityFilter.doFilter(HttpSecurityFilter.scala:95)\n",
      "\tat org.sparkproject.jetty.servlet.FilterHolder.doFilter(FilterHolder.java:193)\n",
      "\tat org.sparkproject.jetty.servlet.ServletHandler$Chain.doFilter(ServletHandler.java:1601)\n",
      "\tat org.sparkproject.jetty.servlet.ServletHandler.doHandle(ServletHandler.java:548)\n",
      "\tat org.sparkproject.jetty.server.handler.ScopedHandler.nextHandle(ScopedHandler.java:233)\n",
      "\tat org.sparkproject.jetty.server.handler.ContextHandler.doHandle(ContextHandler.java:1435)\n",
      "\tat org.sparkproject.jetty.server.handler.ScopedHandler.nextScope(ScopedHandler.java:188)\n",
      "\tat org.sparkproject.jetty.servlet.ServletHandler.doScope(ServletHandler.java:501)\n",
      "\tat org.sparkproject.jetty.server.handler.ScopedHandler.nextScope(ScopedHandler.java:186)\n",
      "\tat org.sparkproject.jetty.server.handler.ContextHandler.doScope(ContextHandler.java:1350)\n",
      "\tat org.sparkproject.jetty.server.handler.ScopedHandler.handle(ScopedHandler.java:141)\n",
      "\tat org.sparkproject.jetty.server.handler.gzip.GzipHandler.handle(GzipHandler.java:763)\n",
      "\tat org.sparkproject.jetty.server.handler.ContextHandlerCollection.handle(ContextHandlerCollection.java:234)\n",
      "\tat org.sparkproject.jetty.server.handler.HandlerWrapper.handle(HandlerWrapper.java:127)\n",
      "\tat org.apache.spark.ui.ProxyRedirectHandler.handle(JettyUtils.scala:581)\n",
      "\tat org.sparkproject.jetty.server.handler.HandlerWrapper.handle(HandlerWrapper.java:127)\n",
      "\tat org.sparkproject.jetty.server.Server.handle(Server.java:516)\n",
      "\tat org.sparkproject.jetty.server.HttpChannel.lambda$handle$1(HttpChannel.java:388)\n",
      "\tat org.sparkproject.jetty.server.HttpChannel.dispatch(HttpChannel.java:633)\n",
      "\tat org.sparkproject.jetty.server.HttpChannel.handle(HttpChannel.java:380)\n",
      "\tat org.sparkproject.jetty.server.HttpConnection.onFillable(HttpConnection.java:277)\n",
      "\tat org.sparkproject.jetty.io.AbstractConnection$ReadCallback.succeeded(AbstractConnection.java:311)\n",
      "\tat org.sparkproject.jetty.io.FillInterest.fillable(FillInterest.java:105)\n",
      "\tat org.sparkproject.jetty.io.ChannelEndPoint$1.run(ChannelEndPoint.java:104)\n",
      "\tat org.sparkproject.jetty.util.thread.strategy.EatWhatYouKill.runTask(EatWhatYouKill.java:336)\n",
      "\tat org.sparkproject.jetty.util.thread.strategy.EatWhatYouKill.doProduce(EatWhatYouKill.java:313)\n",
      "\tat org.sparkproject.jetty.util.thread.strategy.EatWhatYouKill.tryProduce(EatWhatYouKill.java:171)\n",
      "\tat org.sparkproject.jetty.util.thread.strategy.EatWhatYouKill.run(EatWhatYouKill.java:129)\n",
      "\tat org.sparkproject.jetty.util.thread.ReservedThreadExecutor$ReservedThread.run(ReservedThreadExecutor.java:383)\n",
      "\tat org.sparkproject.jetty.util.thread.QueuedThreadPool.runJob(QueuedThreadPool.java:882)\n",
      "\tat org.sparkproject.jetty.util.thread.QueuedThreadPool$Runner.run(QueuedThreadPool.java:1036)\n",
      "\tat java.lang.Thread.run(Thread.java:750)\n",
      "24/01/24 21:01:36 WARN JettyUtils: GET /jobs/ failed: java.util.NoSuchElementException: Failed to get the application information. If you are starting up Spark, please wait a while until it's ready.\n",
      "java.util.NoSuchElementException: Failed to get the application information. If you are starting up Spark, please wait a while until it's ready.\n",
      "\tat org.apache.spark.status.AppStatusStore.applicationInfo(AppStatusStore.scala:51)\n",
      "\tat org.apache.spark.ui.jobs.AllJobsPage.render(AllJobsPage.scala:276)\n",
      "\tat org.apache.spark.ui.WebUI.$anonfun$attachPage$1(WebUI.scala:90)\n",
      "\tat org.apache.spark.ui.JettyUtils$$anon$1.doGet(JettyUtils.scala:81)\n",
      "\tat javax.servlet.http.HttpServlet.service(HttpServlet.java:503)\n",
      "\tat javax.servlet.http.HttpServlet.service(HttpServlet.java:590)\n",
      "\tat org.sparkproject.jetty.servlet.ServletHolder.handle(ServletHolder.java:791)\n",
      "\tat org.sparkproject.jetty.servlet.ServletHandler$ChainEnd.doFilter(ServletHandler.java:1626)\n",
      "\tat org.apache.spark.ui.HttpSecurityFilter.doFilter(HttpSecurityFilter.scala:95)\n",
      "\tat org.sparkproject.jetty.servlet.FilterHolder.doFilter(FilterHolder.java:193)\n",
      "\tat org.sparkproject.jetty.servlet.ServletHandler$Chain.doFilter(ServletHandler.java:1601)\n",
      "\tat org.sparkproject.jetty.servlet.ServletHandler.doHandle(ServletHandler.java:548)\n",
      "\tat org.sparkproject.jetty.server.handler.ScopedHandler.nextHandle(ScopedHandler.java:233)\n",
      "\tat org.sparkproject.jetty.server.handler.ContextHandler.doHandle(ContextHandler.java:1435)\n",
      "\tat org.sparkproject.jetty.server.handler.ScopedHandler.nextScope(ScopedHandler.java:188)\n",
      "\tat org.sparkproject.jetty.servlet.ServletHandler.doScope(ServletHandler.java:501)\n",
      "\tat org.sparkproject.jetty.server.handler.ScopedHandler.nextScope(ScopedHandler.java:186)\n",
      "\tat org.sparkproject.jetty.server.handler.ContextHandler.doScope(ContextHandler.java:1350)\n",
      "\tat org.sparkproject.jetty.server.handler.ScopedHandler.handle(ScopedHandler.java:141)\n",
      "\tat org.sparkproject.jetty.server.handler.gzip.GzipHandler.handle(GzipHandler.java:763)\n",
      "\tat org.sparkproject.jetty.server.handler.ContextHandlerCollection.handle(ContextHandlerCollection.java:234)\n",
      "\tat org.sparkproject.jetty.server.handler.HandlerWrapper.handle(HandlerWrapper.java:127)\n",
      "\tat org.apache.spark.ui.ProxyRedirectHandler.handle(JettyUtils.scala:581)\n",
      "\tat org.sparkproject.jetty.server.handler.HandlerWrapper.handle(HandlerWrapper.java:127)\n",
      "\tat org.sparkproject.jetty.server.Server.handle(Server.java:516)\n",
      "\tat org.sparkproject.jetty.server.HttpChannel.lambda$handle$1(HttpChannel.java:388)\n",
      "\tat org.sparkproject.jetty.server.HttpChannel.dispatch(HttpChannel.java:633)\n",
      "\tat org.sparkproject.jetty.server.HttpChannel.handle(HttpChannel.java:380)\n",
      "\tat org.sparkproject.jetty.server.HttpConnection.onFillable(HttpConnection.java:277)\n",
      "\tat org.sparkproject.jetty.io.AbstractConnection$ReadCallback.succeeded(AbstractConnection.java:311)\n",
      "\tat org.sparkproject.jetty.io.FillInterest.fillable(FillInterest.java:105)\n",
      "\tat org.sparkproject.jetty.io.ChannelEndPoint$1.run(ChannelEndPoint.java:104)\n",
      "\tat org.sparkproject.jetty.util.thread.strategy.EatWhatYouKill.runTask(EatWhatYouKill.java:336)\n",
      "\tat org.sparkproject.jetty.util.thread.strategy.EatWhatYouKill.doProduce(EatWhatYouKill.java:313)\n",
      "\tat org.sparkproject.jetty.util.thread.strategy.EatWhatYouKill.tryProduce(EatWhatYouKill.java:171)\n",
      "\tat org.sparkproject.jetty.util.thread.strategy.EatWhatYouKill.run(EatWhatYouKill.java:129)\n",
      "\tat org.sparkproject.jetty.util.thread.ReservedThreadExecutor$ReservedThread.run(ReservedThreadExecutor.java:383)\n",
      "\tat org.sparkproject.jetty.util.thread.QueuedThreadPool.runJob(QueuedThreadPool.java:882)\n",
      "\tat org.sparkproject.jetty.util.thread.QueuedThreadPool$Runner.run(QueuedThreadPool.java:1036)\n",
      "\tat java.lang.Thread.run(Thread.java:750)\n",
      "24/01/24 21:01:36 WARN HttpChannel: /jobs/\n",
      "java.util.NoSuchElementException: Failed to get the application information. If you are starting up Spark, please wait a while until it's ready.\n",
      "\tat org.apache.spark.status.AppStatusStore.applicationInfo(AppStatusStore.scala:51)\n",
      "\tat org.apache.spark.ui.jobs.AllJobsPage.render(AllJobsPage.scala:276)\n",
      "\tat org.apache.spark.ui.WebUI.$anonfun$attachPage$1(WebUI.scala:90)\n",
      "\tat org.apache.spark.ui.JettyUtils$$anon$1.doGet(JettyUtils.scala:81)\n",
      "\tat javax.servlet.http.HttpServlet.service(HttpServlet.java:503)\n",
      "\tat javax.servlet.http.HttpServlet.service(HttpServlet.java:590)\n",
      "\tat org.sparkproject.jetty.servlet.ServletHolder.handle(ServletHolder.java:791)\n",
      "\tat org.sparkproject.jetty.servlet.ServletHandler$ChainEnd.doFilter(ServletHandler.java:1626)\n",
      "\tat org.apache.spark.ui.HttpSecurityFilter.doFilter(HttpSecurityFilter.scala:95)\n",
      "\tat org.sparkproject.jetty.servlet.FilterHolder.doFilter(FilterHolder.java:193)\n",
      "\tat org.sparkproject.jetty.servlet.ServletHandler$Chain.doFilter(ServletHandler.java:1601)\n",
      "\tat org.sparkproject.jetty.servlet.ServletHandler.doHandle(ServletHandler.java:548)\n",
      "\tat org.sparkproject.jetty.server.handler.ScopedHandler.nextHandle(ScopedHandler.java:233)\n",
      "\tat org.sparkproject.jetty.server.handler.ContextHandler.doHandle(ContextHandler.java:1435)\n",
      "\tat org.sparkproject.jetty.server.handler.ScopedHandler.nextScope(ScopedHandler.java:188)\n",
      "\tat org.sparkproject.jetty.servlet.ServletHandler.doScope(ServletHandler.java:501)\n",
      "\tat org.sparkproject.jetty.server.handler.ScopedHandler.nextScope(ScopedHandler.java:186)\n",
      "\tat org.sparkproject.jetty.server.handler.ContextHandler.doScope(ContextHandler.java:1350)\n",
      "\tat org.sparkproject.jetty.server.handler.ScopedHandler.handle(ScopedHandler.java:141)\n",
      "\tat org.sparkproject.jetty.server.handler.gzip.GzipHandler.handle(GzipHandler.java:763)\n",
      "\tat org.sparkproject.jetty.server.handler.ContextHandlerCollection.handle(ContextHandlerCollection.java:234)\n",
      "\tat org.sparkproject.jetty.server.handler.HandlerWrapper.handle(HandlerWrapper.java:127)\n",
      "\tat org.apache.spark.ui.ProxyRedirectHandler.handle(JettyUtils.scala:581)\n",
      "\tat org.sparkproject.jetty.server.handler.HandlerWrapper.handle(HandlerWrapper.java:127)\n",
      "\tat org.sparkproject.jetty.server.Server.handle(Server.java:516)\n",
      "\tat org.sparkproject.jetty.server.HttpChannel.lambda$handle$1(HttpChannel.java:388)\n",
      "\tat org.sparkproject.jetty.server.HttpChannel.dispatch(HttpChannel.java:633)\n",
      "\tat org.sparkproject.jetty.server.HttpChannel.handle(HttpChannel.java:380)\n",
      "\tat org.sparkproject.jetty.server.HttpConnection.onFillable(HttpConnection.java:277)\n",
      "\tat org.sparkproject.jetty.io.AbstractConnection$ReadCallback.succeeded(AbstractConnection.java:311)\n",
      "\tat org.sparkproject.jetty.io.FillInterest.fillable(FillInterest.java:105)\n",
      "\tat org.sparkproject.jetty.io.ChannelEndPoint$1.run(ChannelEndPoint.java:104)\n",
      "\tat org.sparkproject.jetty.util.thread.strategy.EatWhatYouKill.runTask(EatWhatYouKill.java:336)\n",
      "\tat org.sparkproject.jetty.util.thread.strategy.EatWhatYouKill.doProduce(EatWhatYouKill.java:313)\n",
      "\tat org.sparkproject.jetty.util.thread.strategy.EatWhatYouKill.tryProduce(EatWhatYouKill.java:171)\n",
      "\tat org.sparkproject.jetty.util.thread.strategy.EatWhatYouKill.run(EatWhatYouKill.java:129)\n",
      "\tat org.sparkproject.jetty.util.thread.ReservedThreadExecutor$ReservedThread.run(ReservedThreadExecutor.java:383)\n",
      "\tat org.sparkproject.jetty.util.thread.QueuedThreadPool.runJob(QueuedThreadPool.java:882)\n",
      "\tat org.sparkproject.jetty.util.thread.QueuedThreadPool$Runner.run(QueuedThreadPool.java:1036)\n",
      "\tat java.lang.Thread.run(Thread.java:750)\n",
      "24/01/24 21:01:36 WARN HadoopFSDelegationTokenProvider: Token ABFS/IDBroker has not set up issue date properly. (provided: 0) Using current timestamp (1706130096559) as issue date instead. Consult token implementor to fix the behavior.\n",
      "24/01/24 21:01:36 WARN HadoopFSDelegationTokenProvider: Token ABFS/IDBroker has not set up issue date properly. (provided: 0) Using current timestamp (1706130096563) as issue date instead. Consult token implementor to fix the behavior.\n",
      "24/01/24 21:01:36 WARN HiveServer2CredentialProvider: Failed to get HS2 delegation token\n",
      "java.util.NoSuchElementException: spark.sql.hive.hiveserver2.jdbc.url\n",
      "\tat org.apache.spark.SparkConf.$anonfun$get$1(SparkConf.scala:245)\n",
      "\tat scala.Option.getOrElse(Option.scala:189)\n",
      "\tat org.apache.spark.SparkConf.get(SparkConf.scala:245)\n",
      "\tat com.hortonworks.spark.deploy.yarn.security.HiveServer2CredentialProvider.obtainDelegationTokens(HiveServer2CredentialProvider.scala:64)\n",
      "\tat org.apache.spark.deploy.security.HadoopDelegationTokenManager.$anonfun$obtainDelegationTokens$2(HadoopDelegationTokenManager.scala:164)\n",
      "\tat scala.collection.TraversableLike.$anonfun$flatMap$1(TraversableLike.scala:245)\n",
      "\tat scala.collection.Iterator.foreach(Iterator.scala:941)\n",
      "\tat scala.collection.Iterator.foreach$(Iterator.scala:941)\n",
      "\tat scala.collection.AbstractIterator.foreach(Iterator.scala:1429)\n",
      "\tat scala.collection.MapLike$DefaultValuesIterable.foreach(MapLike.scala:213)\n",
      "\tat scala.collection.TraversableLike.flatMap(TraversableLike.scala:245)\n",
      "\tat scala.collection.TraversableLike.flatMap$(TraversableLike.scala:242)\n",
      "\tat scala.collection.AbstractTraversable.flatMap(Traversable.scala:108)\n",
      "\tat org.apache.spark.deploy.security.HadoopDelegationTokenManager.org$apache$spark$deploy$security$HadoopDelegationTokenManager$$obtainDelegationTokens(HadoopDelegationTokenManager.scala:162)\n",
      "\tat org.apache.spark.deploy.security.HadoopDelegationTokenManager$$anon$4.run(HadoopDelegationTokenManager.scala:226)\n",
      "\tat org.apache.spark.deploy.security.HadoopDelegationTokenManager$$anon$4.run(HadoopDelegationTokenManager.scala:224)\n",
      "\tat java.security.AccessController.doPrivileged(Native Method)\n",
      "\tat javax.security.auth.Subject.doAs(Subject.java:422)\n",
      "\tat org.apache.hadoop.security.UserGroupInformation.doAs(UserGroupInformation.java:1899)\n",
      "\tat org.apache.spark.deploy.security.HadoopDelegationTokenManager.obtainTokensAndScheduleRenewal(HadoopDelegationTokenManager.scala:224)\n",
      "\tat org.apache.spark.deploy.security.HadoopDelegationTokenManager.org$apache$spark$deploy$security$HadoopDelegationTokenManager$$updateTokensTask(HadoopDelegationTokenManager.scala:198)\n",
      "\tat org.apache.spark.deploy.security.HadoopDelegationTokenManager.start(HadoopDelegationTokenManager.scala:123)\n",
      "\tat org.apache.spark.scheduler.cluster.CoarseGrainedSchedulerBackend.$anonfun$start$1(CoarseGrainedSchedulerBackend.scala:552)\n",
      "\tat org.apache.spark.scheduler.cluster.CoarseGrainedSchedulerBackend.$anonfun$start$1$adapted(CoarseGrainedSchedulerBackend.scala:549)\n",
      "\tat scala.Option.foreach(Option.scala:407)\n",
      "\tat org.apache.spark.scheduler.cluster.CoarseGrainedSchedulerBackend.start(CoarseGrainedSchedulerBackend.scala:549)\n",
      "\tat org.apache.spark.scheduler.cluster.k8s.KubernetesClusterSchedulerBackend.start(KubernetesClusterSchedulerBackend.scala:95)\n",
      "\tat org.apache.spark.scheduler.TaskSchedulerImpl.start(TaskSchedulerImpl.scala:220)\n",
      "\tat org.apache.spark.SparkContext.<init>(SparkContext.scala:581)\n",
      "\tat org.apache.spark.api.java.JavaSparkContext.<init>(JavaSparkContext.scala:58)\n",
      "\tat sun.reflect.NativeConstructorAccessorImpl.newInstance0(Native Method)\n",
      "\tat sun.reflect.NativeConstructorAccessorImpl.newInstance(NativeConstructorAccessorImpl.java:62)\n",
      "\tat sun.reflect.DelegatingConstructorAccessorImpl.newInstance(DelegatingConstructorAccessorImpl.java:45)\n",
      "\tat java.lang.reflect.Constructor.newInstance(Constructor.java:423)\n",
      "\tat py4j.reflection.MethodInvoker.invoke(MethodInvoker.java:247)\n",
      "\tat py4j.reflection.ReflectionEngine.invoke(ReflectionEngine.java:357)\n",
      "\tat py4j.Gateway.invoke(Gateway.java:238)\n",
      "\tat py4j.commands.ConstructorCommand.invokeConstructor(ConstructorCommand.java:80)\n",
      "\tat py4j.commands.ConstructorCommand.execute(ConstructorCommand.java:69)\n",
      "\tat py4j.ClientServerConnection.waitForCommands(ClientServerConnection.java:182)\n",
      "\tat py4j.ClientServerConnection.run(ClientServerConnection.java:106)\n",
      "\tat java.lang.Thread.run(Thread.java:750)\n",
      "24/01/24 21:01:37 WARN JettyUtils: GET /jobs/ failed: java.util.NoSuchElementException: Failed to get the application information. If you are starting up Spark, please wait a while until it's ready.\n",
      "java.util.NoSuchElementException: Failed to get the application information. If you are starting up Spark, please wait a while until it's ready.\n",
      "\tat org.apache.spark.status.AppStatusStore.applicationInfo(AppStatusStore.scala:51)\n",
      "\tat org.apache.spark.ui.jobs.AllJobsPage.render(AllJobsPage.scala:276)\n",
      "\tat org.apache.spark.ui.WebUI.$anonfun$attachPage$1(WebUI.scala:90)\n",
      "\tat org.apache.spark.ui.JettyUtils$$anon$1.doGet(JettyUtils.scala:81)\n",
      "\tat javax.servlet.http.HttpServlet.service(HttpServlet.java:503)\n",
      "\tat javax.servlet.http.HttpServlet.service(HttpServlet.java:590)\n",
      "\tat org.sparkproject.jetty.servlet.ServletHolder.handle(ServletHolder.java:791)\n",
      "\tat org.sparkproject.jetty.servlet.ServletHandler$ChainEnd.doFilter(ServletHandler.java:1626)\n",
      "\tat org.apache.spark.ui.HttpSecurityFilter.doFilter(HttpSecurityFilter.scala:95)\n",
      "\tat org.sparkproject.jetty.servlet.FilterHolder.doFilter(FilterHolder.java:193)\n",
      "\tat org.sparkproject.jetty.servlet.ServletHandler$Chain.doFilter(ServletHandler.java:1601)\n",
      "\tat org.sparkproject.jetty.servlet.ServletHandler.doHandle(ServletHandler.java:548)\n",
      "\tat org.sparkproject.jetty.server.handler.ScopedHandler.nextHandle(ScopedHandler.java:233)\n",
      "\tat org.sparkproject.jetty.server.handler.ContextHandler.doHandle(ContextHandler.java:1435)\n",
      "\tat org.sparkproject.jetty.server.handler.ScopedHandler.nextScope(ScopedHandler.java:188)\n",
      "\tat org.sparkproject.jetty.servlet.ServletHandler.doScope(ServletHandler.java:501)\n",
      "\tat org.sparkproject.jetty.server.handler.ScopedHandler.nextScope(ScopedHandler.java:186)\n",
      "\tat org.sparkproject.jetty.server.handler.ContextHandler.doScope(ContextHandler.java:1350)\n",
      "\tat org.sparkproject.jetty.server.handler.ScopedHandler.handle(ScopedHandler.java:141)\n",
      "\tat org.sparkproject.jetty.server.handler.gzip.GzipHandler.handle(GzipHandler.java:763)\n",
      "\tat org.sparkproject.jetty.server.handler.ContextHandlerCollection.handle(ContextHandlerCollection.java:234)\n",
      "\tat org.sparkproject.jetty.server.handler.HandlerWrapper.handle(HandlerWrapper.java:127)\n",
      "\tat org.apache.spark.ui.ProxyRedirectHandler.handle(JettyUtils.scala:581)\n",
      "\tat org.sparkproject.jetty.server.handler.HandlerWrapper.handle(HandlerWrapper.java:127)\n",
      "\tat org.sparkproject.jetty.server.Server.handle(Server.java:516)\n",
      "\tat org.sparkproject.jetty.server.HttpChannel.lambda$handle$1(HttpChannel.java:388)\n",
      "\tat org.sparkproject.jetty.server.HttpChannel.dispatch(HttpChannel.java:633)\n",
      "\tat org.sparkproject.jetty.server.HttpChannel.handle(HttpChannel.java:380)\n",
      "\tat org.sparkproject.jetty.server.HttpConnection.onFillable(HttpConnection.java:277)\n",
      "\tat org.sparkproject.jetty.io.AbstractConnection$ReadCallback.succeeded(AbstractConnection.java:311)\n",
      "\tat org.sparkproject.jetty.io.FillInterest.fillable(FillInterest.java:105)\n",
      "\tat org.sparkproject.jetty.io.ChannelEndPoint$1.run(ChannelEndPoint.java:104)\n",
      "\tat org.sparkproject.jetty.util.thread.strategy.EatWhatYouKill.runTask(EatWhatYouKill.java:336)\n",
      "\tat org.sparkproject.jetty.util.thread.strategy.EatWhatYouKill.doProduce(EatWhatYouKill.java:313)\n",
      "\tat org.sparkproject.jetty.util.thread.strategy.EatWhatYouKill.tryProduce(EatWhatYouKill.java:171)\n",
      "\tat org.sparkproject.jetty.util.thread.strategy.EatWhatYouKill.run(EatWhatYouKill.java:129)\n",
      "\tat org.sparkproject.jetty.util.thread.ReservedThreadExecutor$ReservedThread.run(ReservedThreadExecutor.java:383)\n",
      "\tat org.sparkproject.jetty.util.thread.QueuedThreadPool.runJob(QueuedThreadPool.java:882)\n",
      "\tat org.sparkproject.jetty.util.thread.QueuedThreadPool$Runner.run(QueuedThreadPool.java:1036)\n",
      "\tat java.lang.Thread.run(Thread.java:750)\n",
      "24/01/24 21:01:37 WARN HttpChannel: /jobs/\n",
      "java.util.NoSuchElementException: Failed to get the application information. If you are starting up Spark, please wait a while until it's ready.\n",
      "\tat org.apache.spark.status.AppStatusStore.applicationInfo(AppStatusStore.scala:51)\n",
      "\tat org.apache.spark.ui.jobs.AllJobsPage.render(AllJobsPage.scala:276)\n",
      "\tat org.apache.spark.ui.WebUI.$anonfun$attachPage$1(WebUI.scala:90)\n",
      "\tat org.apache.spark.ui.JettyUtils$$anon$1.doGet(JettyUtils.scala:81)\n",
      "\tat javax.servlet.http.HttpServlet.service(HttpServlet.java:503)\n",
      "\tat javax.servlet.http.HttpServlet.service(HttpServlet.java:590)\n",
      "\tat org.sparkproject.jetty.servlet.ServletHolder.handle(ServletHolder.java:791)\n",
      "\tat org.sparkproject.jetty.servlet.ServletHandler$ChainEnd.doFilter(ServletHandler.java:1626)\n",
      "\tat org.apache.spark.ui.HttpSecurityFilter.doFilter(HttpSecurityFilter.scala:95)\n",
      "\tat org.sparkproject.jetty.servlet.FilterHolder.doFilter(FilterHolder.java:193)\n",
      "\tat org.sparkproject.jetty.servlet.ServletHandler$Chain.doFilter(ServletHandler.java:1601)\n",
      "\tat org.sparkproject.jetty.servlet.ServletHandler.doHandle(ServletHandler.java:548)\n",
      "\tat org.sparkproject.jetty.server.handler.ScopedHandler.nextHandle(ScopedHandler.java:233)\n",
      "\tat org.sparkproject.jetty.server.handler.ContextHandler.doHandle(ContextHandler.java:1435)\n",
      "\tat org.sparkproject.jetty.server.handler.ScopedHandler.nextScope(ScopedHandler.java:188)\n",
      "\tat org.sparkproject.jetty.servlet.ServletHandler.doScope(ServletHandler.java:501)\n",
      "\tat org.sparkproject.jetty.server.handler.ScopedHandler.nextScope(ScopedHandler.java:186)\n",
      "\tat org.sparkproject.jetty.server.handler.ContextHandler.doScope(ContextHandler.java:1350)\n",
      "\tat org.sparkproject.jetty.server.handler.ScopedHandler.handle(ScopedHandler.java:141)\n",
      "\tat org.sparkproject.jetty.server.handler.gzip.GzipHandler.handle(GzipHandler.java:763)\n",
      "\tat org.sparkproject.jetty.server.handler.ContextHandlerCollection.handle(ContextHandlerCollection.java:234)\n",
      "\tat org.sparkproject.jetty.server.handler.HandlerWrapper.handle(HandlerWrapper.java:127)\n",
      "\tat org.apache.spark.ui.ProxyRedirectHandler.handle(JettyUtils.scala:581)\n",
      "\tat org.sparkproject.jetty.server.handler.HandlerWrapper.handle(HandlerWrapper.java:127)\n",
      "\tat org.sparkproject.jetty.server.Server.handle(Server.java:516)\n",
      "\tat org.sparkproject.jetty.server.HttpChannel.lambda$handle$1(HttpChannel.java:388)\n",
      "\tat org.sparkproject.jetty.server.HttpChannel.dispatch(HttpChannel.java:633)\n",
      "\tat org.sparkproject.jetty.server.HttpChannel.handle(HttpChannel.java:380)\n",
      "\tat org.sparkproject.jetty.server.HttpConnection.onFillable(HttpConnection.java:277)\n",
      "\tat org.sparkproject.jetty.io.AbstractConnection$ReadCallback.succeeded(AbstractConnection.java:311)\n",
      "\tat org.sparkproject.jetty.io.FillInterest.fillable(FillInterest.java:105)\n",
      "\tat org.sparkproject.jetty.io.ChannelEndPoint$1.run(ChannelEndPoint.java:104)\n",
      "\tat org.sparkproject.jetty.util.thread.strategy.EatWhatYouKill.runTask(EatWhatYouKill.java:336)\n",
      "\tat org.sparkproject.jetty.util.thread.strategy.EatWhatYouKill.doProduce(EatWhatYouKill.java:313)\n",
      "\tat org.sparkproject.jetty.util.thread.strategy.EatWhatYouKill.tryProduce(EatWhatYouKill.java:171)\n",
      "\tat org.sparkproject.jetty.util.thread.strategy.EatWhatYouKill.run(EatWhatYouKill.java:129)\n",
      "\tat org.sparkproject.jetty.util.thread.ReservedThreadExecutor$ReservedThread.run(ReservedThreadExecutor.java:383)\n",
      "\tat org.sparkproject.jetty.util.thread.QueuedThreadPool.runJob(QueuedThreadPool.java:882)\n",
      "\tat org.sparkproject.jetty.util.thread.QueuedThreadPool$Runner.run(QueuedThreadPool.java:1036)\n",
      "\tat java.lang.Thread.run(Thread.java:750)\n",
      "24/01/24 21:01:38 WARN JettyUtils: GET /jobs/ failed: java.util.NoSuchElementException: Failed to get the application information. If you are starting up Spark, please wait a while until it's ready.\n",
      "java.util.NoSuchElementException: Failed to get the application information. If you are starting up Spark, please wait a while until it's ready.\n",
      "\tat org.apache.spark.status.AppStatusStore.applicationInfo(AppStatusStore.scala:51)\n",
      "\tat org.apache.spark.ui.jobs.AllJobsPage.render(AllJobsPage.scala:276)\n",
      "\tat org.apache.spark.ui.WebUI.$anonfun$attachPage$1(WebUI.scala:90)\n",
      "\tat org.apache.spark.ui.JettyUtils$$anon$1.doGet(JettyUtils.scala:81)\n",
      "\tat javax.servlet.http.HttpServlet.service(HttpServlet.java:503)\n",
      "\tat javax.servlet.http.HttpServlet.service(HttpServlet.java:590)\n",
      "\tat org.sparkproject.jetty.servlet.ServletHolder.handle(ServletHolder.java:791)\n",
      "\tat org.sparkproject.jetty.servlet.ServletHandler$ChainEnd.doFilter(ServletHandler.java:1626)\n",
      "\tat org.apache.spark.ui.HttpSecurityFilter.doFilter(HttpSecurityFilter.scala:95)\n",
      "\tat org.sparkproject.jetty.servlet.FilterHolder.doFilter(FilterHolder.java:193)\n",
      "\tat org.sparkproject.jetty.servlet.ServletHandler$Chain.doFilter(ServletHandler.java:1601)\n",
      "\tat org.sparkproject.jetty.servlet.ServletHandler.doHandle(ServletHandler.java:548)\n",
      "\tat org.sparkproject.jetty.server.handler.ScopedHandler.nextHandle(ScopedHandler.java:233)\n",
      "\tat org.sparkproject.jetty.server.handler.ContextHandler.doHandle(ContextHandler.java:1435)\n",
      "\tat org.sparkproject.jetty.server.handler.ScopedHandler.nextScope(ScopedHandler.java:188)\n",
      "\tat org.sparkproject.jetty.servlet.ServletHandler.doScope(ServletHandler.java:501)\n",
      "\tat org.sparkproject.jetty.server.handler.ScopedHandler.nextScope(ScopedHandler.java:186)\n",
      "\tat org.sparkproject.jetty.server.handler.ContextHandler.doScope(ContextHandler.java:1350)\n",
      "\tat org.sparkproject.jetty.server.handler.ScopedHandler.handle(ScopedHandler.java:141)\n",
      "\tat org.sparkproject.jetty.server.handler.gzip.GzipHandler.handle(GzipHandler.java:763)\n",
      "\tat org.sparkproject.jetty.server.handler.ContextHandlerCollection.handle(ContextHandlerCollection.java:234)\n",
      "\tat org.sparkproject.jetty.server.handler.HandlerWrapper.handle(HandlerWrapper.java:127)\n",
      "\tat org.apache.spark.ui.ProxyRedirectHandler.handle(JettyUtils.scala:581)\n",
      "\tat org.sparkproject.jetty.server.handler.HandlerWrapper.handle(HandlerWrapper.java:127)\n",
      "\tat org.sparkproject.jetty.server.Server.handle(Server.java:516)\n",
      "\tat org.sparkproject.jetty.server.HttpChannel.lambda$handle$1(HttpChannel.java:388)\n",
      "\tat org.sparkproject.jetty.server.HttpChannel.dispatch(HttpChannel.java:633)\n",
      "\tat org.sparkproject.jetty.server.HttpChannel.handle(HttpChannel.java:380)\n",
      "\tat org.sparkproject.jetty.server.HttpConnection.onFillable(HttpConnection.java:277)\n",
      "\tat org.sparkproject.jetty.io.AbstractConnection$ReadCallback.succeeded(AbstractConnection.java:311)\n",
      "\tat org.sparkproject.jetty.io.FillInterest.fillable(FillInterest.java:105)\n",
      "\tat org.sparkproject.jetty.io.ChannelEndPoint$1.run(ChannelEndPoint.java:104)\n",
      "\tat org.sparkproject.jetty.util.thread.strategy.EatWhatYouKill.runTask(EatWhatYouKill.java:336)\n",
      "\tat org.sparkproject.jetty.util.thread.strategy.EatWhatYouKill.doProduce(EatWhatYouKill.java:313)\n",
      "\tat org.sparkproject.jetty.util.thread.strategy.EatWhatYouKill.tryProduce(EatWhatYouKill.java:171)\n",
      "\tat org.sparkproject.jetty.util.thread.strategy.EatWhatYouKill.run(EatWhatYouKill.java:129)\n",
      "\tat org.sparkproject.jetty.util.thread.ReservedThreadExecutor$ReservedThread.run(ReservedThreadExecutor.java:383)\n",
      "\tat org.sparkproject.jetty.util.thread.QueuedThreadPool.runJob(QueuedThreadPool.java:882)\n",
      "\tat org.sparkproject.jetty.util.thread.QueuedThreadPool$Runner.run(QueuedThreadPool.java:1036)\n",
      "\tat java.lang.Thread.run(Thread.java:750)\n",
      "24/01/24 21:01:38 WARN HttpChannel: /jobs/\n",
      "java.util.NoSuchElementException: Failed to get the application information. If you are starting up Spark, please wait a while until it's ready.\n",
      "\tat org.apache.spark.status.AppStatusStore.applicationInfo(AppStatusStore.scala:51)\n",
      "\tat org.apache.spark.ui.jobs.AllJobsPage.render(AllJobsPage.scala:276)\n",
      "\tat org.apache.spark.ui.WebUI.$anonfun$attachPage$1(WebUI.scala:90)\n",
      "\tat org.apache.spark.ui.JettyUtils$$anon$1.doGet(JettyUtils.scala:81)\n",
      "\tat javax.servlet.http.HttpServlet.service(HttpServlet.java:503)\n",
      "\tat javax.servlet.http.HttpServlet.service(HttpServlet.java:590)\n",
      "\tat org.sparkproject.jetty.servlet.ServletHolder.handle(ServletHolder.java:791)\n",
      "\tat org.sparkproject.jetty.servlet.ServletHandler$ChainEnd.doFilter(ServletHandler.java:1626)\n",
      "\tat org.apache.spark.ui.HttpSecurityFilter.doFilter(HttpSecurityFilter.scala:95)\n",
      "\tat org.sparkproject.jetty.servlet.FilterHolder.doFilter(FilterHolder.java:193)\n",
      "\tat org.sparkproject.jetty.servlet.ServletHandler$Chain.doFilter(ServletHandler.java:1601)\n",
      "\tat org.sparkproject.jetty.servlet.ServletHandler.doHandle(ServletHandler.java:548)\n",
      "\tat org.sparkproject.jetty.server.handler.ScopedHandler.nextHandle(ScopedHandler.java:233)\n",
      "\tat org.sparkproject.jetty.server.handler.ContextHandler.doHandle(ContextHandler.java:1435)\n",
      "\tat org.sparkproject.jetty.server.handler.ScopedHandler.nextScope(ScopedHandler.java:188)\n",
      "\tat org.sparkproject.jetty.servlet.ServletHandler.doScope(ServletHandler.java:501)\n",
      "\tat org.sparkproject.jetty.server.handler.ScopedHandler.nextScope(ScopedHandler.java:186)\n",
      "\tat org.sparkproject.jetty.server.handler.ContextHandler.doScope(ContextHandler.java:1350)\n",
      "\tat org.sparkproject.jetty.server.handler.ScopedHandler.handle(ScopedHandler.java:141)\n",
      "\tat org.sparkproject.jetty.server.handler.gzip.GzipHandler.handle(GzipHandler.java:763)\n",
      "\tat org.sparkproject.jetty.server.handler.ContextHandlerCollection.handle(ContextHandlerCollection.java:234)\n",
      "\tat org.sparkproject.jetty.server.handler.HandlerWrapper.handle(HandlerWrapper.java:127)\n",
      "\tat org.apache.spark.ui.ProxyRedirectHandler.handle(JettyUtils.scala:581)\n",
      "\tat org.sparkproject.jetty.server.handler.HandlerWrapper.handle(HandlerWrapper.java:127)\n",
      "\tat org.sparkproject.jetty.server.Server.handle(Server.java:516)\n",
      "\tat org.sparkproject.jetty.server.HttpChannel.lambda$handle$1(HttpChannel.java:388)\n",
      "\tat org.sparkproject.jetty.server.HttpChannel.dispatch(HttpChannel.java:633)\n",
      "\tat org.sparkproject.jetty.server.HttpChannel.handle(HttpChannel.java:380)\n",
      "\tat org.sparkproject.jetty.server.HttpConnection.onFillable(HttpConnection.java:277)\n",
      "\tat org.sparkproject.jetty.io.AbstractConnection$ReadCallback.succeeded(AbstractConnection.java:311)\n",
      "\tat org.sparkproject.jetty.io.FillInterest.fillable(FillInterest.java:105)\n",
      "\tat org.sparkproject.jetty.io.ChannelEndPoint$1.run(ChannelEndPoint.java:104)\n",
      "\tat org.sparkproject.jetty.util.thread.strategy.EatWhatYouKill.runTask(EatWhatYouKill.java:336)\n",
      "\tat org.sparkproject.jetty.util.thread.strategy.EatWhatYouKill.doProduce(EatWhatYouKill.java:313)\n",
      "\tat org.sparkproject.jetty.util.thread.strategy.EatWhatYouKill.tryProduce(EatWhatYouKill.java:171)\n",
      "\tat org.sparkproject.jetty.util.thread.strategy.EatWhatYouKill.run(EatWhatYouKill.java:129)\n",
      "\tat org.sparkproject.jetty.util.thread.ReservedThreadExecutor$ReservedThread.run(ReservedThreadExecutor.java:383)\n",
      "\tat org.sparkproject.jetty.util.thread.QueuedThreadPool.runJob(QueuedThreadPool.java:882)\n",
      "\tat org.sparkproject.jetty.util.thread.QueuedThreadPool$Runner.run(QueuedThreadPool.java:1036)\n",
      "\tat java.lang.Thread.run(Thread.java:750)\n",
      "24/01/24 21:01:38 WARN ExecutorAllocationManager: Dynamic allocation without a shuffle service is an experimental feature.\n"
     ]
    }
   ],
   "source": [
    "\n",
    "spark = SparkSession.builder \\\n",
    "  .appName(\"Test\")  \\\n",
    "  .config(\"spark.yarn.access.hadoopFileSystems\",\"abfs://data@datalakesii.dfs.core.windows.net/\") \\\n",
    "  .config(\"spark.executor.memory\", \"24g\") \\\n",
    "  .config(\"spark.driver.memory\", \"12g\")\\\n",
    "  .config(\"spark.executor.cores\", \"12\") \\\n",
    "  .config(\"spark.executor.instances\", \"24\") \\\n",
    "  .config(\"spark.driver.maxResultSize\", \"12g\") \\\n",
    "  .getOrCreate()"
   ]
  },
  {
   "cell_type": "markdown",
   "id": "4a3f0dad-7108-42cf-82fe-36df09d3dd52",
   "metadata": {
    "tags": []
   },
   "source": [
    "## Carga de relaciones societarias(depurada)"
   ]
  },
  {
   "cell_type": "markdown",
   "id": "b6efab72-f268-4525-b3f7-d1cebacc74c1",
   "metadata": {},
   "source": [
    "Se carga la data depurada anteriormente de relaciones societarias."
   ]
  },
  {
   "cell_type": "code",
   "execution_count": 3,
   "id": "2692b3e0-49ff-419d-98a4-93624ef9de61",
   "metadata": {
    "tags": []
   },
   "outputs": [
    {
     "name": "stderr",
     "output_type": "stream",
     "text": [
      "24/01/24 21:02:25 WARN TaskSchedulerImpl: Initial job has not accepted any resources; check your cluster UI to ensure that workers are registered and have sufficient resources\n",
      "24/01/24 21:02:40 WARN TaskSchedulerImpl: Initial job has not accepted any resources; check your cluster UI to ensure that workers are registered and have sufficient resources\n",
      "24/01/24 21:02:55 WARN TaskSchedulerImpl: Initial job has not accepted any resources; check your cluster UI to ensure that workers are registered and have sufficient resources\n",
      "24/01/24 21:03:10 WARN TaskSchedulerImpl: Initial job has not accepted any resources; check your cluster UI to ensure that workers are registered and have sufficient resources\n",
      "24/01/24 21:03:25 WARN TaskSchedulerImpl: Initial job has not accepted any resources; check your cluster UI to ensure that workers are registered and have sufficient resources\n",
      "24/01/24 21:03:40 WARN TaskSchedulerImpl: Initial job has not accepted any resources; check your cluster UI to ensure that workers are registered and have sufficient resources\n",
      "24/01/24 21:03:55 WARN TaskSchedulerImpl: Initial job has not accepted any resources; check your cluster UI to ensure that workers are registered and have sufficient resources\n",
      "24/01/24 21:04:10 WARN TaskSchedulerImpl: Initial job has not accepted any resources; check your cluster UI to ensure that workers are registered and have sufficient resources\n",
      "24/01/24 21:04:25 WARN TaskSchedulerImpl: Initial job has not accepted any resources; check your cluster UI to ensure that workers are registered and have sufficient resources\n",
      "24/01/24 21:04:40 WARN TaskSchedulerImpl: Initial job has not accepted any resources; check your cluster UI to ensure that workers are registered and have sufficient resources\n",
      "24/01/24 21:04:55 WARN TaskSchedulerImpl: Initial job has not accepted any resources; check your cluster UI to ensure that workers are registered and have sufficient resources\n",
      "24/01/24 21:05:10 WARN TaskSchedulerImpl: Initial job has not accepted any resources; check your cluster UI to ensure that workers are registered and have sufficient resources\n",
      "24/01/24 21:05:25 WARN TaskSchedulerImpl: Initial job has not accepted any resources; check your cluster UI to ensure that workers are registered and have sufficient resources\n",
      "[Stage 2:===================================================>     (34 + 4) / 38]\r"
     ]
    },
    {
     "name": "stdout",
     "output_type": "stream",
     "text": [
      "+--------------------+--------------------+------------------+---------------------+\n",
      "|        RUT_SOCIEDAD|           RUT_SOCIO|PORCENTAJE_CAPITAL|PORCENTAJE_UTILIDADES|\n",
      "+--------------------+--------------------+------------------+---------------------+\n",
      "|+++JjoAr1RQa1kY7r...|S2zsiazT64Jiu/sSE...|             85.71|                85.71|\n",
      "|+++JjoAr1RQa1kY7r...|xO5P1s+Yeug4wKtb8...|             14.29|                14.29|\n",
      "|+++P6tU1TAUNG0SZv...|8ejqjUOvnKKfMZSzj...|             100.0|                100.0|\n",
      "|+++UeiptXaAQD74N1...|QemGi6c6gkD3rdstn...|              28.0|                 28.0|\n",
      "|+++UeiptXaAQD74N1...|5jgmhcvBN2sVp7Gh5...|              72.0|                 72.0|\n",
      "|+++VKgYcn1igYZjkT...|XRkbvgfaa5MRVblDF...|             100.0|                100.0|\n",
      "|+++VWXcqX/471v55m...|t9AEh7tBjjp3FKWzm...|               1.0|                  1.0|\n",
      "|+++VWXcqX/471v55m...|d/Gh1G45HEItM+byD...|              99.0|                 99.0|\n",
      "|+++ZYfC4XA28yQEQd...|Rf14vs+327ZlNsQvX...|             100.0|                100.0|\n",
      "|+++rmzjqUcW56fKfV...|/SogFhjTgxloEfGYI...|              47.5|                 47.5|\n",
      "|+++rmzjqUcW56fKfV...|VULdXIkUAxKz8BFIA...|              52.5|                 52.5|\n",
      "|++/BNOl5Jzp3/53dg...|vkzKrESk+2mIrPN2k...|              20.0|                 20.0|\n",
      "|++/BNOl5Jzp3/53dg...|ymLFBcIElT/XLhLlT...|              80.0|                 80.0|\n",
      "|++/ILpGAKOZrH+0u+...|VSDSGFi3SI0jGmj/Z...|              50.0|                 50.0|\n",
      "|++/ILpGAKOZrH+0u+...|K3BDtZLATzJK/u2xk...|              50.0|                 50.0|\n",
      "|++/O0DVO8dUreJB37...|M5Es6UQcBIdMrEARV...|               1.0|                  1.0|\n",
      "|++/O0DVO8dUreJB37...|7xFbJHM0rhVJe4iga...|              99.0|                 99.0|\n",
      "|++/UTl2mwL/J484yK...|LxuWEPpbFk7A2Iind...|             100.0|                100.0|\n",
      "|++/dFaxQQDYaKe8zO...|lQ+jywhdl+H43AHiw...|              50.0|                 50.0|\n",
      "|++/dFaxQQDYaKe8zO...|ZvW38n/QbAl+aaQwJ...|              50.0|                 50.0|\n",
      "+--------------------+--------------------+------------------+---------------------+\n",
      "only showing top 20 rows\n",
      "\n"
     ]
    },
    {
     "name": "stderr",
     "output_type": "stream",
     "text": [
      "                                                                                \r"
     ]
    }
   ],
   "source": [
    "df = spark.read.options(header=True,inferSchema=True,delimiter=\",\").csv(\"../../data/processed/sociedades_participacion_capital_nozero.csv\")\n",
    "df.createOrReplaceTempView(\"sociedad\")\n",
    "spark.sql(\"select * from sociedad order by RUT_SOCIEDAD asc\").show()"
   ]
  },
  {
   "cell_type": "code",
   "execution_count": 4,
   "id": "607260d2-2978-49b3-8785-25f49d30920c",
   "metadata": {
    "tags": []
   },
   "outputs": [
    {
     "name": "stderr",
     "output_type": "stream",
     "text": [
      "                                                                                \r"
     ]
    },
    {
     "name": "stdout",
     "output_type": "stream",
     "text": [
      "+--------------------+--------------------+------------------+---------------------+\n",
      "|        RUT_SOCIEDAD|           RUT_SOCIO|PORCENTAJE_CAPITAL|PORCENTAJE_UTILIDADES|\n",
      "+--------------------+--------------------+------------------+---------------------+\n",
      "|ZGZPH4TRfZh4kTJ1r...|XRHlDRkjm/HXiRhaM...|             100.0|                100.0|\n",
      "+--------------------+--------------------+------------------+---------------------+\n",
      "\n"
     ]
    },
    {
     "name": "stderr",
     "output_type": "stream",
     "text": [
      "                                                                                \r"
     ]
    },
    {
     "name": "stdout",
     "output_type": "stream",
     "text": [
      "+--------------------+--------------------+------------------+---------------------+\n",
      "|        RUT_SOCIEDAD|           RUT_SOCIO|PORCENTAJE_CAPITAL|PORCENTAJE_UTILIDADES|\n",
      "+--------------------+--------------------+------------------+---------------------+\n",
      "|XYtAg9XPdlsmKvL99...|rc+vo9PdXX1+f+Nlh...|              2.23|                 2.23|\n",
      "|XYtAg9XPdlsmKvL99...|eK5KCE9n7ek2CyHGi...|             97.77|                97.77|\n",
      "+--------------------+--------------------+------------------+---------------------+\n",
      "\n"
     ]
    },
    {
     "name": "stderr",
     "output_type": "stream",
     "text": [
      "                                                                                \r"
     ]
    },
    {
     "name": "stdout",
     "output_type": "stream",
     "text": [
      "+--------------------+--------------------+------------------+---------------------+\n",
      "|        RUT_SOCIEDAD|           RUT_SOCIO|PORCENTAJE_CAPITAL|PORCENTAJE_UTILIDADES|\n",
      "+--------------------+--------------------+------------------+---------------------+\n",
      "|2EJBMiiK/aTswpkaI...|356dRC3qxWoTMyv8i...|              50.0|                 50.0|\n",
      "|2EJBMiiK/aTswpkaI...|NbnZrXpUv4W47aIsw...|              50.0|                 50.0|\n",
      "+--------------------+--------------------+------------------+---------------------+\n",
      "\n"
     ]
    },
    {
     "name": "stderr",
     "output_type": "stream",
     "text": [
      "                                                                                \r"
     ]
    },
    {
     "name": "stdout",
     "output_type": "stream",
     "text": [
      "+--------------------+--------------------+------------------+---------------------+\n",
      "|        RUT_SOCIEDAD|           RUT_SOCIO|PORCENTAJE_CAPITAL|PORCENTAJE_UTILIDADES|\n",
      "+--------------------+--------------------+------------------+---------------------+\n",
      "|ySz0WGrX/6o1rkxB1...|356dRC3qxWoTMyv8i...|             100.0|                100.0|\n",
      "+--------------------+--------------------+------------------+---------------------+\n",
      "\n"
     ]
    },
    {
     "name": "stderr",
     "output_type": "stream",
     "text": [
      "                                                                                \r"
     ]
    },
    {
     "name": "stdout",
     "output_type": "stream",
     "text": [
      "+--------------------+--------------------+------------------+---------------------+\n",
      "|        RUT_SOCIEDAD|           RUT_SOCIO|PORCENTAJE_CAPITAL|PORCENTAJE_UTILIDADES|\n",
      "+--------------------+--------------------+------------------+---------------------+\n",
      "|LhJiQZALbeiQ0INBP...|H1YZ+aH3OEsOrKPP3...|             32.95|                32.95|\n",
      "|LhJiQZALbeiQ0INBP...|A6Sihpq4aT9PJSCVr...|             33.53|                33.53|\n",
      "|LhJiQZALbeiQ0INBP...|kUD8idDenkfFjeNyY...|             26.08|                26.08|\n",
      "|LhJiQZALbeiQ0INBP...|kBItghsAz9/0WuhZt...|              7.45|                 7.45|\n",
      "+--------------------+--------------------+------------------+---------------------+\n",
      "\n"
     ]
    },
    {
     "name": "stderr",
     "output_type": "stream",
     "text": [
      "                                                                                \r"
     ]
    },
    {
     "name": "stdout",
     "output_type": "stream",
     "text": [
      "+--------------------+--------------------+------------------+---------------------+\n",
      "|        RUT_SOCIEDAD|           RUT_SOCIO|PORCENTAJE_CAPITAL|PORCENTAJE_UTILIDADES|\n",
      "+--------------------+--------------------+------------------+---------------------+\n",
      "|POASAemDRrZpWaya5...|BSu17DhNWPTWYRfg5...|               1.0|                  1.0|\n",
      "|POASAemDRrZpWaya5...|0UEALZudggYZqfVwi...|               1.0|                  1.0|\n",
      "|POASAemDRrZpWaya5...|V1BZhHrzHp7Qj3D8u...|               1.0|                  1.0|\n",
      "|POASAemDRrZpWaya5...|1JlzApQxBfAkuHw+F...|              95.0|                 95.0|\n",
      "|POASAemDRrZpWaya5...|NUQpOUriivmj+Lu6M...|               1.0|                  1.0|\n",
      "|POASAemDRrZpWaya5...|3wkg6J3jQUUzaYori...|               1.0|                  1.0|\n",
      "+--------------------+--------------------+------------------+---------------------+\n",
      "\n"
     ]
    },
    {
     "name": "stderr",
     "output_type": "stream",
     "text": [
      "                                                                                \r"
     ]
    },
    {
     "name": "stdout",
     "output_type": "stream",
     "text": [
      "+--------------------+--------------------+------------------+---------------------+\n",
      "|        RUT_SOCIEDAD|           RUT_SOCIO|PORCENTAJE_CAPITAL|PORCENTAJE_UTILIDADES|\n",
      "+--------------------+--------------------+------------------+---------------------+\n",
      "|RAuyIxvbmm/G2NDdx...|GHh2CFAGG2uuHZWMu...|              95.0|                 95.0|\n",
      "|RAuyIxvbmm/G2NDdx...|U+ILUmC/fuqzGkZG+...|               5.0|                  5.0|\n",
      "+--------------------+--------------------+------------------+---------------------+\n",
      "\n"
     ]
    },
    {
     "name": "stderr",
     "output_type": "stream",
     "text": [
      "[Stage 34:=======================================>                 (9 + 4) / 13]\r"
     ]
    },
    {
     "name": "stdout",
     "output_type": "stream",
     "text": [
      "+--------------------+--------------------+------------------+---------------------+\n",
      "|        RUT_SOCIEDAD|           RUT_SOCIO|PORCENTAJE_CAPITAL|PORCENTAJE_UTILIDADES|\n",
      "+--------------------+--------------------+------------------+---------------------+\n",
      "|J+WRkPtJhwSvcjRLS...|Z923n6TTDwHhay2No...|             100.0|                100.0|\n",
      "+--------------------+--------------------+------------------+---------------------+\n",
      "\n"
     ]
    },
    {
     "name": "stderr",
     "output_type": "stream",
     "text": [
      "                                                                                \r"
     ]
    }
   ],
   "source": [
    "spark.sql(\"select * from sociedad where RUT_SOCIEDAD like 'ZGZPH%'\").show()\n",
    "spark.sql(\"select * from sociedad where RUT_SOCIEDAD like 'XYtA%'\").show()\n",
    "spark.sql(\"select * from sociedad where RUT_SOCIEDAD like '2EJB%'\").show()\n",
    "spark.sql(\"select * from sociedad where RUT_SOCIEDAD like 'ySz0%'\").show()\n",
    "spark.sql(\"select * from sociedad where RUT_SOCIEDAD like 'LhJi%'\").show()\n",
    "spark.sql(\"select * from sociedad where RUT_SOCIEDAD like 'POAS%'\").show()\n",
    "spark.sql(\"select * from sociedad where RUT_SOCIEDAD like 'RAuy%'\").show()\n",
    "spark.sql(\"select * from sociedad where RUT_SOCIEDAD like 'J+WR%'\").show()"
   ]
  },
  {
   "cell_type": "markdown",
   "id": "daae6b7f-58e7-4902-98b9-4c35f2e0d3c1",
   "metadata": {},
   "source": [
    "## Exploracion de composiciones de socios en capital y utilidades"
   ]
  },
  {
   "cell_type": "markdown",
   "id": "4525a1d8-7a44-4b91-bc32-bd41bd85d0da",
   "metadata": {},
   "source": [
    "Como no hay unicidad de entradas y se puede presentar varias veces una combinacion sociedad y socio, se agrupa por el promedio para cada relacion. De esta forma analizamos la composicion de la sociedad en utilidades y capital.\n"
   ]
  },
  {
   "cell_type": "code",
   "execution_count": 5,
   "id": "c6566477-7700-42a3-8cd4-bb0130c15f90",
   "metadata": {},
   "outputs": [
    {
     "name": "stderr",
     "output_type": "stream",
     "text": [
      "                                                                                \r"
     ]
    }
   ],
   "source": [
    "spark.sql(\"select  RUT_SOCIEDAD, RUT_SOCIO, mean(PORCENTAJE_CAPITAL) as PORCENTAJE_CAPITAL, mean(PORCENTAJE_UTILIDADES) as PORCENTAJE_UTILIDADES from sociedad group by RUT_SOCIEDAD, RUT_SOCIO\").createOrReplaceTempView(\"composicion\")\n",
    "spark.sql(\"select  RUT_SOCIEDAD, sum(PORCENTAJE_CAPITAL) as TOTAL_CAPITAL, SUM(PORCENTAJE_UTILIDADES) as TOTAL_UTILIDADES from composicion group by RUT_SOCIEDAD\").createOrReplaceTempView(\"composicion\")\n",
    "m=spark.sql(\"select * from composicion\").toPandas()\n"
   ]
  },
  {
   "cell_type": "markdown",
   "id": "7de28ea0-245e-4e29-a7fd-f406175769f3",
   "metadata": {},
   "source": [
    "Veamos cuantas sociedades suman mas del 100% en capital total."
   ]
  },
  {
   "cell_type": "code",
   "execution_count": 6,
   "id": "d172ffc3-9254-4949-8351-3ac957ebcfe6",
   "metadata": {
    "tags": []
   },
   "outputs": [
    {
     "data": {
      "text/html": [
       "<div>\n",
       "<style scoped>\n",
       "    .dataframe tbody tr th:only-of-type {\n",
       "        vertical-align: middle;\n",
       "    }\n",
       "\n",
       "    .dataframe tbody tr th {\n",
       "        vertical-align: top;\n",
       "    }\n",
       "\n",
       "    .dataframe thead th {\n",
       "        text-align: right;\n",
       "    }\n",
       "</style>\n",
       "<table border=\"1\" class=\"dataframe\">\n",
       "  <thead>\n",
       "    <tr style=\"text-align: right;\">\n",
       "      <th></th>\n",
       "      <th>RUT_SOCIEDAD</th>\n",
       "      <th>TOTAL_CAPITAL</th>\n",
       "      <th>TOTAL_UTILIDADES</th>\n",
       "    </tr>\n",
       "  </thead>\n",
       "  <tbody>\n",
       "    <tr>\n",
       "      <th>29712</th>\n",
       "      <td>qBN0Ew2XbPgKTj0PyLtzcA==</td>\n",
       "      <td>110.00</td>\n",
       "      <td>74.00</td>\n",
       "    </tr>\n",
       "    <tr>\n",
       "      <th>41945</th>\n",
       "      <td>+yO9yJXI/gw9x7dec0Lt+A==</td>\n",
       "      <td>105.70</td>\n",
       "      <td>124.99</td>\n",
       "    </tr>\n",
       "    <tr>\n",
       "      <th>43166</th>\n",
       "      <td>zJLdRqdwJgz4dtWd9xh1Lg==</td>\n",
       "      <td>110.00</td>\n",
       "      <td>110.00</td>\n",
       "    </tr>\n",
       "    <tr>\n",
       "      <th>53548</th>\n",
       "      <td>0XuN90P2eQMydmKE9OW64Q==</td>\n",
       "      <td>110.00</td>\n",
       "      <td>110.00</td>\n",
       "    </tr>\n",
       "    <tr>\n",
       "      <th>56980</th>\n",
       "      <td>W62rStOCYMtosUOwv5LBgA==</td>\n",
       "      <td>110.00</td>\n",
       "      <td>110.00</td>\n",
       "    </tr>\n",
       "    <tr>\n",
       "      <th>...</th>\n",
       "      <td>...</td>\n",
       "      <td>...</td>\n",
       "      <td>...</td>\n",
       "    </tr>\n",
       "    <tr>\n",
       "      <th>1348072</th>\n",
       "      <td>PpKVd7x+KKrDzssyhs0TAw==</td>\n",
       "      <td>106.78</td>\n",
       "      <td>106.78</td>\n",
       "    </tr>\n",
       "    <tr>\n",
       "      <th>1350663</th>\n",
       "      <td>p8AtykYwPslwpOXSkRODLQ==</td>\n",
       "      <td>110.00</td>\n",
       "      <td>100.00</td>\n",
       "    </tr>\n",
       "    <tr>\n",
       "      <th>1351784</th>\n",
       "      <td>bH7RE41vtNwNBk8Ulbgk3g==</td>\n",
       "      <td>109.00</td>\n",
       "      <td>100.00</td>\n",
       "    </tr>\n",
       "    <tr>\n",
       "      <th>1361128</th>\n",
       "      <td>MqkQRluUHZIXHZlneEoJsQ==</td>\n",
       "      <td>109.00</td>\n",
       "      <td>109.00</td>\n",
       "    </tr>\n",
       "    <tr>\n",
       "      <th>1368058</th>\n",
       "      <td>0cT8llyE0hI5AOU2GCtycg==</td>\n",
       "      <td>110.00</td>\n",
       "      <td>110.00</td>\n",
       "    </tr>\n",
       "  </tbody>\n",
       "</table>\n",
       "<p>107 rows × 3 columns</p>\n",
       "</div>"
      ],
      "text/plain": [
       "                     RUT_SOCIEDAD  TOTAL_CAPITAL  TOTAL_UTILIDADES\n",
       "29712    qBN0Ew2XbPgKTj0PyLtzcA==         110.00             74.00\n",
       "41945    +yO9yJXI/gw9x7dec0Lt+A==         105.70            124.99\n",
       "43166    zJLdRqdwJgz4dtWd9xh1Lg==         110.00            110.00\n",
       "53548    0XuN90P2eQMydmKE9OW64Q==         110.00            110.00\n",
       "56980    W62rStOCYMtosUOwv5LBgA==         110.00            110.00\n",
       "...                           ...            ...               ...\n",
       "1348072  PpKVd7x+KKrDzssyhs0TAw==         106.78            106.78\n",
       "1350663  p8AtykYwPslwpOXSkRODLQ==         110.00            100.00\n",
       "1351784  bH7RE41vtNwNBk8Ulbgk3g==         109.00            100.00\n",
       "1361128  MqkQRluUHZIXHZlneEoJsQ==         109.00            109.00\n",
       "1368058  0cT8llyE0hI5AOU2GCtycg==         110.00            110.00\n",
       "\n",
       "[107 rows x 3 columns]"
      ]
     },
     "execution_count": 6,
     "metadata": {},
     "output_type": "execute_result"
    }
   ],
   "source": [
    "m[m['TOTAL_CAPITAL']>105] "
   ]
  },
  {
   "cell_type": "markdown",
   "id": "27940576-24f4-4a9c-9f4e-55216596dd2f",
   "metadata": {},
   "source": [
    "Veamos cuantas sociedades suman menos de 90% en capital total."
   ]
  },
  {
   "cell_type": "code",
   "execution_count": 7,
   "id": "77d53244-7013-4119-b3f4-255d0f1ec29f",
   "metadata": {
    "tags": []
   },
   "outputs": [
    {
     "data": {
      "text/html": [
       "<div>\n",
       "<style scoped>\n",
       "    .dataframe tbody tr th:only-of-type {\n",
       "        vertical-align: middle;\n",
       "    }\n",
       "\n",
       "    .dataframe tbody tr th {\n",
       "        vertical-align: top;\n",
       "    }\n",
       "\n",
       "    .dataframe thead th {\n",
       "        text-align: right;\n",
       "    }\n",
       "</style>\n",
       "<table border=\"1\" class=\"dataframe\">\n",
       "  <thead>\n",
       "    <tr style=\"text-align: right;\">\n",
       "      <th></th>\n",
       "      <th>RUT_SOCIEDAD</th>\n",
       "      <th>TOTAL_CAPITAL</th>\n",
       "      <th>TOTAL_UTILIDADES</th>\n",
       "    </tr>\n",
       "  </thead>\n",
       "  <tbody>\n",
       "    <tr>\n",
       "      <th>667501</th>\n",
       "      <td>015/V4NMbTt4NqHquyzHAQ==</td>\n",
       "      <td>11.29</td>\n",
       "      <td>11.29</td>\n",
       "    </tr>\n",
       "  </tbody>\n",
       "</table>\n",
       "</div>"
      ],
      "text/plain": [
       "                    RUT_SOCIEDAD  TOTAL_CAPITAL  TOTAL_UTILIDADES\n",
       "667501  015/V4NMbTt4NqHquyzHAQ==          11.29             11.29"
      ]
     },
     "execution_count": 7,
     "metadata": {},
     "output_type": "execute_result"
    }
   ],
   "source": [
    "m[m['TOTAL_CAPITAL']<90] "
   ]
  },
  {
   "cell_type": "code",
   "execution_count": 8,
   "id": "b3a24093-eaac-4d00-8d7e-518493ba144e",
   "metadata": {
    "tags": []
   },
   "outputs": [
    {
     "data": {
      "text/html": [
       "<div>\n",
       "<style scoped>\n",
       "    .dataframe tbody tr th:only-of-type {\n",
       "        vertical-align: middle;\n",
       "    }\n",
       "\n",
       "    .dataframe tbody tr th {\n",
       "        vertical-align: top;\n",
       "    }\n",
       "\n",
       "    .dataframe thead th {\n",
       "        text-align: right;\n",
       "    }\n",
       "</style>\n",
       "<table border=\"1\" class=\"dataframe\">\n",
       "  <thead>\n",
       "    <tr style=\"text-align: right;\">\n",
       "      <th></th>\n",
       "      <th>RUT_SOCIEDAD</th>\n",
       "      <th>TOTAL_CAPITAL</th>\n",
       "      <th>TOTAL_UTILIDADES</th>\n",
       "    </tr>\n",
       "  </thead>\n",
       "  <tbody>\n",
       "    <tr>\n",
       "      <th>16352</th>\n",
       "      <td>y2vuFSg0i2sqmpg4ayJ4LQ==</td>\n",
       "      <td>100.00</td>\n",
       "      <td>109.00</td>\n",
       "    </tr>\n",
       "    <tr>\n",
       "      <th>21882</th>\n",
       "      <td>OdNW1enN1u4LwpLOpweOTQ==</td>\n",
       "      <td>100.00</td>\n",
       "      <td>120.00</td>\n",
       "    </tr>\n",
       "    <tr>\n",
       "      <th>28388</th>\n",
       "      <td>AFT7+4VOTHnj2AQ4V7HRjA==</td>\n",
       "      <td>100.00</td>\n",
       "      <td>109.00</td>\n",
       "    </tr>\n",
       "    <tr>\n",
       "      <th>36292</th>\n",
       "      <td>3pZ4jwIjTPhgr9SFW72W9g==</td>\n",
       "      <td>100.00</td>\n",
       "      <td>145.00</td>\n",
       "    </tr>\n",
       "    <tr>\n",
       "      <th>41945</th>\n",
       "      <td>+yO9yJXI/gw9x7dec0Lt+A==</td>\n",
       "      <td>105.70</td>\n",
       "      <td>124.99</td>\n",
       "    </tr>\n",
       "    <tr>\n",
       "      <th>...</th>\n",
       "      <td>...</td>\n",
       "      <td>...</td>\n",
       "      <td>...</td>\n",
       "    </tr>\n",
       "    <tr>\n",
       "      <th>1348072</th>\n",
       "      <td>PpKVd7x+KKrDzssyhs0TAw==</td>\n",
       "      <td>106.78</td>\n",
       "      <td>106.78</td>\n",
       "    </tr>\n",
       "    <tr>\n",
       "      <th>1360586</th>\n",
       "      <td>vGFtt5wSI+ZAORZgj9Fs/w==</td>\n",
       "      <td>100.00</td>\n",
       "      <td>145.00</td>\n",
       "    </tr>\n",
       "    <tr>\n",
       "      <th>1361128</th>\n",
       "      <td>MqkQRluUHZIXHZlneEoJsQ==</td>\n",
       "      <td>109.00</td>\n",
       "      <td>109.00</td>\n",
       "    </tr>\n",
       "    <tr>\n",
       "      <th>1368058</th>\n",
       "      <td>0cT8llyE0hI5AOU2GCtycg==</td>\n",
       "      <td>110.00</td>\n",
       "      <td>110.00</td>\n",
       "    </tr>\n",
       "    <tr>\n",
       "      <th>1371797</th>\n",
       "      <td>7oq5WRip3ZmPavK3AkWR/A==</td>\n",
       "      <td>100.00</td>\n",
       "      <td>154.00</td>\n",
       "    </tr>\n",
       "  </tbody>\n",
       "</table>\n",
       "<p>164 rows × 3 columns</p>\n",
       "</div>"
      ],
      "text/plain": [
       "                     RUT_SOCIEDAD  TOTAL_CAPITAL  TOTAL_UTILIDADES\n",
       "16352    y2vuFSg0i2sqmpg4ayJ4LQ==         100.00            109.00\n",
       "21882    OdNW1enN1u4LwpLOpweOTQ==         100.00            120.00\n",
       "28388    AFT7+4VOTHnj2AQ4V7HRjA==         100.00            109.00\n",
       "36292    3pZ4jwIjTPhgr9SFW72W9g==         100.00            145.00\n",
       "41945    +yO9yJXI/gw9x7dec0Lt+A==         105.70            124.99\n",
       "...                           ...            ...               ...\n",
       "1348072  PpKVd7x+KKrDzssyhs0TAw==         106.78            106.78\n",
       "1360586  vGFtt5wSI+ZAORZgj9Fs/w==         100.00            145.00\n",
       "1361128  MqkQRluUHZIXHZlneEoJsQ==         109.00            109.00\n",
       "1368058  0cT8llyE0hI5AOU2GCtycg==         110.00            110.00\n",
       "1371797  7oq5WRip3ZmPavK3AkWR/A==         100.00            154.00\n",
       "\n",
       "[164 rows x 3 columns]"
      ]
     },
     "execution_count": 8,
     "metadata": {},
     "output_type": "execute_result"
    }
   ],
   "source": [
    "m[m['TOTAL_UTILIDADES']>105] "
   ]
  },
  {
   "cell_type": "code",
   "execution_count": 9,
   "id": "6fcd8003-a8e3-41d7-9f97-0c9f4cf59ad3",
   "metadata": {
    "tags": []
   },
   "outputs": [
    {
     "data": {
      "text/html": [
       "<div>\n",
       "<style scoped>\n",
       "    .dataframe tbody tr th:only-of-type {\n",
       "        vertical-align: middle;\n",
       "    }\n",
       "\n",
       "    .dataframe tbody tr th {\n",
       "        vertical-align: top;\n",
       "    }\n",
       "\n",
       "    .dataframe thead th {\n",
       "        text-align: right;\n",
       "    }\n",
       "</style>\n",
       "<table border=\"1\" class=\"dataframe\">\n",
       "  <thead>\n",
       "    <tr style=\"text-align: right;\">\n",
       "      <th></th>\n",
       "      <th>RUT_SOCIEDAD</th>\n",
       "      <th>TOTAL_CAPITAL</th>\n",
       "      <th>TOTAL_UTILIDADES</th>\n",
       "    </tr>\n",
       "  </thead>\n",
       "  <tbody>\n",
       "    <tr>\n",
       "      <th>85</th>\n",
       "      <td>kqvmxZXKear6P8xAR3GXVg==</td>\n",
       "      <td>90.00</td>\n",
       "      <td>90.00</td>\n",
       "    </tr>\n",
       "    <tr>\n",
       "      <th>596</th>\n",
       "      <td>IRrJwtGlTFSYlh/9OmkSbA==</td>\n",
       "      <td>100.00</td>\n",
       "      <td>93.30</td>\n",
       "    </tr>\n",
       "    <tr>\n",
       "      <th>2099</th>\n",
       "      <td>QwJ3CJDviryxVP6pVxuTaA==</td>\n",
       "      <td>100.01</td>\n",
       "      <td>90.00</td>\n",
       "    </tr>\n",
       "    <tr>\n",
       "      <th>3197</th>\n",
       "      <td>7/JzC/njmhl4xZ3D1Z/lcA==</td>\n",
       "      <td>94.00</td>\n",
       "      <td>94.00</td>\n",
       "    </tr>\n",
       "    <tr>\n",
       "      <th>3363</th>\n",
       "      <td>1C8KJtLJLJM8P1HgICPfhA==</td>\n",
       "      <td>100.00</td>\n",
       "      <td>0.01</td>\n",
       "    </tr>\n",
       "    <tr>\n",
       "      <th>...</th>\n",
       "      <td>...</td>\n",
       "      <td>...</td>\n",
       "      <td>...</td>\n",
       "    </tr>\n",
       "    <tr>\n",
       "      <th>1382192</th>\n",
       "      <td>denpwjejwcf3nzG0fJqwvQ==</td>\n",
       "      <td>91.00</td>\n",
       "      <td>91.00</td>\n",
       "    </tr>\n",
       "    <tr>\n",
       "      <th>1382250</th>\n",
       "      <td>E2iGdqspkA4ddPbB5bQO+Q==</td>\n",
       "      <td>100.00</td>\n",
       "      <td>90.00</td>\n",
       "    </tr>\n",
       "    <tr>\n",
       "      <th>1383211</th>\n",
       "      <td>J7eDSYTlV8C97NnpORShmw==</td>\n",
       "      <td>100.00</td>\n",
       "      <td>10.00</td>\n",
       "    </tr>\n",
       "    <tr>\n",
       "      <th>1384314</th>\n",
       "      <td>PDxVP1CsaUSwWM/ZxB6qhQ==</td>\n",
       "      <td>100.00</td>\n",
       "      <td>90.00</td>\n",
       "    </tr>\n",
       "    <tr>\n",
       "      <th>1390246</th>\n",
       "      <td>LFSUoUnGK/OcQf/9cZN3cg==</td>\n",
       "      <td>100.00</td>\n",
       "      <td>50.00</td>\n",
       "    </tr>\n",
       "  </tbody>\n",
       "</table>\n",
       "<p>1426 rows × 3 columns</p>\n",
       "</div>"
      ],
      "text/plain": [
       "                     RUT_SOCIEDAD  TOTAL_CAPITAL  TOTAL_UTILIDADES\n",
       "85       kqvmxZXKear6P8xAR3GXVg==          90.00             90.00\n",
       "596      IRrJwtGlTFSYlh/9OmkSbA==         100.00             93.30\n",
       "2099     QwJ3CJDviryxVP6pVxuTaA==         100.01             90.00\n",
       "3197     7/JzC/njmhl4xZ3D1Z/lcA==          94.00             94.00\n",
       "3363     1C8KJtLJLJM8P1HgICPfhA==         100.00              0.01\n",
       "...                           ...            ...               ...\n",
       "1382192  denpwjejwcf3nzG0fJqwvQ==          91.00             91.00\n",
       "1382250  E2iGdqspkA4ddPbB5bQO+Q==         100.00             90.00\n",
       "1383211  J7eDSYTlV8C97NnpORShmw==         100.00             10.00\n",
       "1384314  PDxVP1CsaUSwWM/ZxB6qhQ==         100.00             90.00\n",
       "1390246  LFSUoUnGK/OcQf/9cZN3cg==         100.00             50.00\n",
       "\n",
       "[1426 rows x 3 columns]"
      ]
     },
     "execution_count": 9,
     "metadata": {},
     "output_type": "execute_result"
    }
   ],
   "source": [
    "m[m['TOTAL_UTILIDADES']<95] "
   ]
  },
  {
   "cell_type": "markdown",
   "id": "da99d892-b290-427d-8fbf-5c9fed789d08",
   "metadata": {},
   "source": [
    "Se utilizara el porcentaje de capital en lugar de utilidades para hacer la transmision de materia oscura. En el proceso de limpieza de datos se considero las filas con valores no nuels de PORCENTAJE_CAPITAL. Se utilizara una tabla de composicion para poder normalizar los valores de oscuridad para cuando los valores de porcentajes se capital sean diferentes al 100%."
   ]
  },
  {
   "cell_type": "markdown",
   "id": "597ad2f5-bee7-49c8-be82-7bb3bc15863f",
   "metadata": {},
   "source": [
    "## Tabla de ponderacion para el total de capital."
   ]
  },
  {
   "cell_type": "code",
   "execution_count": 10,
   "id": "ac4d09c2-58cc-4859-8f1c-bf19041d7bc2",
   "metadata": {
    "tags": []
   },
   "outputs": [],
   "source": [
    "spark.sql(\"select RUT_SOCIEDAD as CONT_RUT, TOTAL_CAPITAL as ponderador from composicion\").createOrReplaceTempView(\"composicion\")"
   ]
  },
  {
   "cell_type": "markdown",
   "id": "a5d5c658-62c5-43ae-82e5-4b705e33ed6c",
   "metadata": {},
   "source": [
    "## Lectura de tabla de oscuridad"
   ]
  },
  {
   "cell_type": "markdown",
   "id": "c21b429b-382d-471d-8076-4e8041876575",
   "metadata": {},
   "source": [
    "Se hace lectura de los datos de iniciales de oscuridad para personas naturales."
   ]
  },
  {
   "cell_type": "code",
   "execution_count": 11,
   "id": "cbb80a48-998a-4a55-a125-1704471b2c6b",
   "metadata": {},
   "outputs": [
    {
     "name": "stderr",
     "output_type": "stream",
     "text": [
      "24/01/24 21:09:17 WARN HiveClientImpl: Detected HiveConf hive.execution.engine is 'tez' and will be reset to 'mr' to disable useless hive logic\n",
      "Hive Session ID = e6d0dd88-ee49-430f-a8b6-b948ff9e0538\n"
     ]
    }
   ],
   "source": [
    "oscuridad1=spark.sql(\"select * from libsdf.jab_materia_inom\")\n",
    "oscuridad1.createOrReplaceTempView(\"oscuridad\")\n"
   ]
  },
  {
   "cell_type": "code",
   "execution_count": 12,
   "id": "fff581d8-a447-41b4-8a20-94219fc437e0",
   "metadata": {},
   "outputs": [
    {
     "name": "stderr",
     "output_type": "stream",
     "text": [
      "                                                                                \r"
     ]
    },
    {
     "name": "stdout",
     "output_type": "stream",
     "text": [
      "+--------------------+------------+\n",
      "|            CONT_RUT|       Valor|\n",
      "+--------------------+------------+\n",
      "|eK5K/z5V/MPOwfQjt...|         1.0|\n",
      "|eK5KCE9n7ek2CyHGi...|0.2505881216|\n",
      "+--------------------+------------+\n",
      "\n"
     ]
    },
    {
     "name": "stderr",
     "output_type": "stream",
     "text": [
      "                                                                                \r"
     ]
    },
    {
     "name": "stdout",
     "output_type": "stream",
     "text": [
      "+--------------------+------------+\n",
      "|            CONT_RUT|       Valor|\n",
      "+--------------------+------------+\n",
      "|356dRC3qxWoTMyv8i...|0.2505881216|\n",
      "+--------------------+------------+\n",
      "\n"
     ]
    },
    {
     "name": "stderr",
     "output_type": "stream",
     "text": [
      "                                                                                \r"
     ]
    },
    {
     "name": "stdout",
     "output_type": "stream",
     "text": [
      "+--------------------+------------+\n",
      "|            CONT_RUT|       Valor|\n",
      "+--------------------+------------+\n",
      "|H1YZ+aH3OEsOrKPP3...|0.2505881216|\n",
      "|H1YZe/TuLYLl15YXC...|0.2505881216|\n",
      "|H1YZnbNvu/UAaou/X...|         1.0|\n",
      "+--------------------+------------+\n",
      "\n"
     ]
    },
    {
     "name": "stderr",
     "output_type": "stream",
     "text": [
      "                                                                                \r"
     ]
    },
    {
     "name": "stdout",
     "output_type": "stream",
     "text": [
      "+--------------------+------------+\n",
      "|            CONT_RUT|       Valor|\n",
      "+--------------------+------------+\n",
      "|NUQpDM2DVxOP53ZQ0...|0.2505881216|\n",
      "|NUQpOUriivmj+Lu6M...|0.2505881216|\n",
      "|NUQpxKLFPsQ9NAywe...|0.2505881216|\n",
      "+--------------------+------------+\n",
      "\n"
     ]
    },
    {
     "name": "stderr",
     "output_type": "stream",
     "text": [
      "                                                                                \r"
     ]
    },
    {
     "name": "stdout",
     "output_type": "stream",
     "text": [
      "+--------------------+------------+\n",
      "|            CONT_RUT|       Valor|\n",
      "+--------------------+------------+\n",
      "|U+ILUZTnVmep3ZVHT...|0.2505881216|\n",
      "|U+ILUmC/fuqzGkZG+...|0.2505881216|\n",
      "+--------------------+------------+\n",
      "\n"
     ]
    },
    {
     "name": "stderr",
     "output_type": "stream",
     "text": [
      "                                                                                \r"
     ]
    },
    {
     "name": "stdout",
     "output_type": "stream",
     "text": [
      "+--------------------+------------+\n",
      "|            CONT_RUT|       Valor|\n",
      "+--------------------+------------+\n",
      "|Z923KiXl6tBtmulKM...|0.2505881216|\n",
      "|Z923n6TTDwHhay2No...|0.2505881216|\n",
      "|Z923rWI3WiFZDgJKa...|0.2505881216|\n",
      "+--------------------+------------+\n",
      "\n"
     ]
    },
    {
     "name": "stderr",
     "output_type": "stream",
     "text": [
      "                                                                                \r"
     ]
    },
    {
     "name": "stdout",
     "output_type": "stream",
     "text": [
      "+--------------------+------------+\n",
      "|            CONT_RUT|       Valor|\n",
      "+--------------------+------------+\n",
      "|XRHlDRkjm/HXiRhaM...|0.2505881216|\n",
      "|XRHlFZBuQsZ4ujy82...|0.2505881216|\n",
      "+--------------------+------------+\n",
      "\n"
     ]
    }
   ],
   "source": [
    "spark.sql(\"select * from oscuridad where CONT_RUT LIKE 'eK5K%'\").show()\n",
    "spark.sql(\"select * from oscuridad where CONT_RUT LIKE '356d%'\").show()\n",
    "spark.sql(\"select * from oscuridad where CONT_RUT LIKE 'H1YZ%' \").show()\n",
    "spark.sql(\"select * from oscuridad where CONT_RUT LIKE 'NUQp%' \").show()\n",
    "spark.sql(\"select * from oscuridad where CONT_RUT LIKE 'U+ILU%' \").show()\n",
    "spark.sql(\"select * from oscuridad where CONT_RUT LIKE 'Z923%' \").show()\n",
    "spark.sql(\"select * from oscuridad where CONT_RUT LIKE 'XRHl%' \").show()"
   ]
  },
  {
   "cell_type": "markdown",
   "id": "2f2900a1-6a01-423e-8947-726f858a056a",
   "metadata": {},
   "source": [
    "## Ajuste de valores de participacion societaria."
   ]
  },
  {
   "cell_type": "markdown",
   "id": "2069c3e3-1c39-49fa-afd0-dfec4149db82",
   "metadata": {
    "tags": []
   },
   "source": [
    "Como para una combinacion sociedad socio tenemos distintos valores de PORCENTAJE_CAPITAL y PORCENTAJE_UTILIDADES se usara el promedio de dichos valores."
   ]
  },
  {
   "cell_type": "code",
   "execution_count": 13,
   "id": "74c92081-ea0e-4481-bcd4-82d2a0ac48a1",
   "metadata": {},
   "outputs": [],
   "source": [
    "spark.sql(\"select  RUT_SOCIEDAD, RUT_SOCIO, mean(PORCENTAJE_CAPITAL) as PORCENTAJE_CAPITAL, mean(PORCENTAJE_UTILIDADES) as PORCENTAJE_UTILIDADES from sociedad group by RUT_SOCIEDAD, RUT_SOCIO\").createOrReplaceTempView(\"sociedad\")"
   ]
  },
  {
   "cell_type": "markdown",
   "id": "30327b42-d1a6-4940-a7a8-4f1b32b1990c",
   "metadata": {},
   "source": [
    "## Primera iteracion"
   ]
  },
  {
   "cell_type": "markdown",
   "id": "97aba72c-5ad9-4511-9c2b-d46cd2b38979",
   "metadata": {},
   "source": [
    "Se realiza el cruce de la data societaria con la data de  oscuridad de personas naturales (1re paso de calculo de materia oscura para sociedades completas). Para ello se completa la malla con la oscuridad inicial. Hay sociedades donde no se completan todos los socios con oscuridad, por lo cual se discrimina mediante un contador de nulos de dicho campo para poder agregar la data y obtener un valor de oscuridad para un rut de soiedad donde todas las entradas de sus socios han sido completadas."
   ]
  },
  {
   "cell_type": "code",
   "execution_count": 14,
   "id": "c6119d26-ce3e-4eb1-94f3-dc7e1e7acc1d",
   "metadata": {
    "tags": []
   },
   "outputs": [
    {
     "name": "stderr",
     "output_type": "stream",
     "text": [
      "                                                                                \r"
     ]
    },
    {
     "name": "stdout",
     "output_type": "stream",
     "text": [
      "+--------------------+--------------------+------------------+---------------------+--------------------+------------+\n",
      "|        RUT_SOCIEDAD|           RUT_SOCIO|PORCENTAJE_CAPITAL|PORCENTAJE_UTILIDADES|            CONT_RUT|       Valor|\n",
      "+--------------------+--------------------+------------------+---------------------+--------------------+------------+\n",
      "|+++JjoAr1RQa1kY7r...|xO5P1s+Yeug4wKtb8...|             14.29|                14.29|xO5P1s+Yeug4wKtb8...|0.2505881216|\n",
      "|+++JjoAr1RQa1kY7r...|S2zsiazT64Jiu/sSE...|             85.71|                85.71|S2zsiazT64Jiu/sSE...|0.2505881216|\n",
      "|+++P6tU1TAUNG0SZv...|8ejqjUOvnKKfMZSzj...|             100.0|                100.0|8ejqjUOvnKKfMZSzj...|0.2505881216|\n",
      "|+++UeiptXaAQD74N1...|5jgmhcvBN2sVp7Gh5...|              72.0|                 72.0|5jgmhcvBN2sVp7Gh5...|0.2505881216|\n",
      "|+++UeiptXaAQD74N1...|QemGi6c6gkD3rdstn...|              28.0|                 28.0|QemGi6c6gkD3rdstn...|0.2505881216|\n",
      "|+++VKgYcn1igYZjkT...|XRkbvgfaa5MRVblDF...|             100.0|                100.0|XRkbvgfaa5MRVblDF...|0.2505881216|\n",
      "|+++VWXcqX/471v55m...|d/Gh1G45HEItM+byD...|              99.0|                 99.0|d/Gh1G45HEItM+byD...|0.2505881216|\n",
      "|+++VWXcqX/471v55m...|t9AEh7tBjjp3FKWzm...|               1.0|                  1.0|t9AEh7tBjjp3FKWzm...|0.2505881216|\n",
      "|+++ZYfC4XA28yQEQd...|Rf14vs+327ZlNsQvX...|             100.0|                100.0|Rf14vs+327ZlNsQvX...|0.2505881216|\n",
      "|+++rmzjqUcW56fKfV...|VULdXIkUAxKz8BFIA...|              52.5|                 52.5|VULdXIkUAxKz8BFIA...|0.2505881216|\n",
      "|+++rmzjqUcW56fKfV...|/SogFhjTgxloEfGYI...|              47.5|                 47.5|/SogFhjTgxloEfGYI...|0.2505881216|\n",
      "|++/BNOl5Jzp3/53dg...|vkzKrESk+2mIrPN2k...|              20.0|                 20.0|vkzKrESk+2mIrPN2k...|0.2505881216|\n",
      "|++/BNOl5Jzp3/53dg...|ymLFBcIElT/XLhLlT...|              80.0|                 80.0|ymLFBcIElT/XLhLlT...|0.2505881216|\n",
      "|++/ILpGAKOZrH+0u+...|K3BDtZLATzJK/u2xk...|              50.0|                 50.0|K3BDtZLATzJK/u2xk...|0.2505881216|\n",
      "|++/ILpGAKOZrH+0u+...|VSDSGFi3SI0jGmj/Z...|              50.0|                 50.0|VSDSGFi3SI0jGmj/Z...|0.2505881216|\n",
      "|++/O0DVO8dUreJB37...|M5Es6UQcBIdMrEARV...|               1.0|                  1.0|M5Es6UQcBIdMrEARV...|0.2505881216|\n",
      "|++/O0DVO8dUreJB37...|7xFbJHM0rhVJe4iga...|              99.0|                 99.0|7xFbJHM0rhVJe4iga...|0.2505881216|\n",
      "|++/UTl2mwL/J484yK...|LxuWEPpbFk7A2Iind...|             100.0|                100.0|LxuWEPpbFk7A2Iind...|0.2505881216|\n",
      "|++/dFaxQQDYaKe8zO...|ZvW38n/QbAl+aaQwJ...|              50.0|                 50.0|ZvW38n/QbAl+aaQwJ...|0.2505881216|\n",
      "|++/dFaxQQDYaKe8zO...|lQ+jywhdl+H43AHiw...|              50.0|                 50.0|lQ+jywhdl+H43AHiw...|0.2505881216|\n",
      "+--------------------+--------------------+------------------+---------------------+--------------------+------------+\n",
      "only showing top 20 rows\n",
      "\n"
     ]
    },
    {
     "name": "stderr",
     "output_type": "stream",
     "text": [
      "                                                                                \r"
     ]
    },
    {
     "name": "stdout",
     "output_type": "stream",
     "text": [
      "+--------------------+--------------------+------------------+------------+\n",
      "|        RUT_SOCIEDAD|           RUT_SOCIO|PORCENTAJE_CAPITAL|       Valor|\n",
      "+--------------------+--------------------+------------------+------------+\n",
      "|+++JjoAr1RQa1kY7r...|S2zsiazT64Jiu/sSE...|             85.71|0.2505881216|\n",
      "|+++JjoAr1RQa1kY7r...|xO5P1s+Yeug4wKtb8...|             14.29|0.2505881216|\n",
      "|+++P6tU1TAUNG0SZv...|8ejqjUOvnKKfMZSzj...|             100.0|0.2505881216|\n",
      "|+++UeiptXaAQD74N1...|QemGi6c6gkD3rdstn...|              28.0|0.2505881216|\n",
      "|+++UeiptXaAQD74N1...|5jgmhcvBN2sVp7Gh5...|              72.0|0.2505881216|\n",
      "|+++VKgYcn1igYZjkT...|XRkbvgfaa5MRVblDF...|             100.0|0.2505881216|\n",
      "|+++VWXcqX/471v55m...|d/Gh1G45HEItM+byD...|              99.0|0.2505881216|\n",
      "|+++VWXcqX/471v55m...|t9AEh7tBjjp3FKWzm...|               1.0|0.2505881216|\n",
      "|+++ZYfC4XA28yQEQd...|Rf14vs+327ZlNsQvX...|             100.0|0.2505881216|\n",
      "|+++rmzjqUcW56fKfV...|/SogFhjTgxloEfGYI...|              47.5|0.2505881216|\n",
      "|+++rmzjqUcW56fKfV...|VULdXIkUAxKz8BFIA...|              52.5|0.2505881216|\n",
      "|++/BNOl5Jzp3/53dg...|ymLFBcIElT/XLhLlT...|              80.0|0.2505881216|\n",
      "|++/BNOl5Jzp3/53dg...|vkzKrESk+2mIrPN2k...|              20.0|0.2505881216|\n",
      "|++/ILpGAKOZrH+0u+...|VSDSGFi3SI0jGmj/Z...|              50.0|0.2505881216|\n",
      "|++/ILpGAKOZrH+0u+...|K3BDtZLATzJK/u2xk...|              50.0|0.2505881216|\n",
      "|++/O0DVO8dUreJB37...|M5Es6UQcBIdMrEARV...|               1.0|0.2505881216|\n",
      "|++/O0DVO8dUreJB37...|7xFbJHM0rhVJe4iga...|              99.0|0.2505881216|\n",
      "|++/UTl2mwL/J484yK...|LxuWEPpbFk7A2Iind...|             100.0|0.2505881216|\n",
      "|++/dFaxQQDYaKe8zO...|lQ+jywhdl+H43AHiw...|              50.0|0.2505881216|\n",
      "|++/dFaxQQDYaKe8zO...|ZvW38n/QbAl+aaQwJ...|              50.0|0.2505881216|\n",
      "+--------------------+--------------------+------------------+------------+\n",
      "only showing top 20 rows\n",
      "\n"
     ]
    },
    {
     "name": "stderr",
     "output_type": "stream",
     "text": [
      "                                                                                \r"
     ]
    },
    {
     "name": "stdout",
     "output_type": "stream",
     "text": [
      "+--------------------+-----+\n",
      "|       RUT_SOCIEDAD1|nulos|\n",
      "+--------------------+-----+\n",
      "|++AaosO20dShx+4fA...|    1|\n",
      "|++Cvper3h9rQRdDp6...|    1|\n",
      "|++DZAjc7cVaoNs7Rt...|    2|\n",
      "|++GRZjvTYu4b/4E0o...|    3|\n",
      "|++HEgIDKIoiCxSrlp...|    2|\n",
      "|++QEeaIPj7Bh7Rn89...|    2|\n",
      "|++QHhAksWvYTbsL9y...|    2|\n",
      "|++QnGfUHcg4PE7R1D...|    1|\n",
      "|++T5hND6SC6jLFWm8...|    1|\n",
      "|++TQPp2K6CCAA97Pz...|    1|\n",
      "|++WLg1DbuZQ0MUQEN...|    3|\n",
      "|++WVj1vhZkC+fZTj+...|    1|\n",
      "|++YxswwB51l+3P6mO...|    6|\n",
      "|++hlU7+WxZTVJ4qrO...|    1|\n",
      "|++kC9g+sepI/DGSEG...|    4|\n",
      "|++nj252lNkxG14yUT...|    1|\n",
      "|++p4sNlacRQddmHnl...|    3|\n",
      "|++pXTS7IhwzO39cwi...|    1|\n",
      "|++qoXOhoawzvRog9E...|    1|\n",
      "|++wyo/R/lxpvOIyjU...|    1|\n",
      "+--------------------+-----+\n",
      "only showing top 20 rows\n",
      "\n"
     ]
    },
    {
     "name": "stderr",
     "output_type": "stream",
     "text": [
      "24/01/24 21:11:11 WARN SparkConf: The configuration key 'spark.yarn.access.hadoopFileSystems' has been deprecated as of Spark 3.0 and may be removed in the future. Please use the new key 'spark.kerberos.access.hadoopFileSystems' instead.\n",
      "[Stage 128:==========================================>          (81 + 19) / 100]\r"
     ]
    },
    {
     "name": "stdout",
     "output_type": "stream",
     "text": [
      "+--------------------+--------------------+------------------+-----+------------+\n",
      "|        RUT_SOCIEDAD|           RUT_SOCIO|PORCENTAJE_CAPITAL|nulos|       Valor|\n",
      "+--------------------+--------------------+------------------+-----+------------+\n",
      "|+++JjoAr1RQa1kY7r...|S2zsiazT64Jiu/sSE...|             85.71| null|0.2505881216|\n",
      "|+++JjoAr1RQa1kY7r...|xO5P1s+Yeug4wKtb8...|             14.29| null|0.2505881216|\n",
      "|+++P6tU1TAUNG0SZv...|8ejqjUOvnKKfMZSzj...|             100.0| null|0.2505881216|\n",
      "|+++UeiptXaAQD74N1...|QemGi6c6gkD3rdstn...|              28.0| null|0.2505881216|\n",
      "|+++UeiptXaAQD74N1...|5jgmhcvBN2sVp7Gh5...|              72.0| null|0.2505881216|\n",
      "|+++VKgYcn1igYZjkT...|XRkbvgfaa5MRVblDF...|             100.0| null|0.2505881216|\n",
      "|+++VWXcqX/471v55m...|t9AEh7tBjjp3FKWzm...|               1.0| null|0.2505881216|\n",
      "|+++VWXcqX/471v55m...|d/Gh1G45HEItM+byD...|              99.0| null|0.2505881216|\n",
      "|+++ZYfC4XA28yQEQd...|Rf14vs+327ZlNsQvX...|             100.0| null|0.2505881216|\n",
      "|+++rmzjqUcW56fKfV...|/SogFhjTgxloEfGYI...|              47.5| null|0.2505881216|\n",
      "|+++rmzjqUcW56fKfV...|VULdXIkUAxKz8BFIA...|              52.5| null|0.2505881216|\n",
      "|++/BNOl5Jzp3/53dg...|ymLFBcIElT/XLhLlT...|              80.0| null|0.2505881216|\n",
      "|++/BNOl5Jzp3/53dg...|vkzKrESk+2mIrPN2k...|              20.0| null|0.2505881216|\n",
      "|++/ILpGAKOZrH+0u+...|K3BDtZLATzJK/u2xk...|              50.0| null|0.2505881216|\n",
      "|++/ILpGAKOZrH+0u+...|VSDSGFi3SI0jGmj/Z...|              50.0| null|0.2505881216|\n",
      "|++/O0DVO8dUreJB37...|M5Es6UQcBIdMrEARV...|               1.0| null|0.2505881216|\n",
      "|++/O0DVO8dUreJB37...|7xFbJHM0rhVJe4iga...|              99.0| null|0.2505881216|\n",
      "|++/UTl2mwL/J484yK...|LxuWEPpbFk7A2Iind...|             100.0| null|0.2505881216|\n",
      "|++/dFaxQQDYaKe8zO...|ZvW38n/QbAl+aaQwJ...|              50.0| null|0.2505881216|\n",
      "|++/dFaxQQDYaKe8zO...|lQ+jywhdl+H43AHiw...|              50.0| null|0.2505881216|\n",
      "+--------------------+--------------------+------------------+-----+------------+\n",
      "only showing top 20 rows\n",
      "\n"
     ]
    },
    {
     "name": "stderr",
     "output_type": "stream",
     "text": [
      "                                                                                \r"
     ]
    }
   ],
   "source": [
    "#Iteracion 0\n",
    "spark.sql(\"select * from sociedad left join oscuridad on sociedad.RUT_SOCIO=oscuridad.CONT_RUT order by sociedad.RUT_SOCIEDAD asc\").createOrReplaceTempView(\"sociedad\")\n",
    "spark.sql(\"select * from sociedad \").show()\n",
    "spark.sql(\"select RUT_SOCIEDAD, RUT_SOCIO, PORCENTAJE_CAPITAL, Valor from sociedad\").createOrReplaceTempView(\"sociedad\")\n",
    "spark.sql(\"select * from sociedad \").show()\n",
    "spark.sql(\"select RUT_SOCIEDAD as RUT_SOCIEDAD1, count(*) as nulos  from sociedad where Valor is null group by RUT_SOCIEDAD order by RUT_SOCIEDAD ASC\").createOrReplaceTempView(\"aux\")\n",
    "spark.sql(\"select * from aux \").show()\n",
    "spark.sql(\"select RUT_SOCIEDAD,RUT_SOCIO,PORCENTAJE_CAPITAL, nulos, Valor from sociedad left join aux on sociedad.RUT_SOCIEDAD=aux.RUT_SOCIEDAD1 order by RUT_SOCIEDAD asc \").createOrReplaceTempView(\"aux\")\n",
    "spark.sql(\"select * from aux where nulos is null \").show()\n"
   ]
  },
  {
   "cell_type": "markdown",
   "id": "f2d7f9d4-53f6-47ce-a10c-ea78ca7abcc2",
   "metadata": {},
   "source": [
    "## Primera iteracion, cruce con oscuridad de personas naturales (2do paso de calculo de oscuridad y ponderacion por total de capital)"
   ]
  },
  {
   "cell_type": "markdown",
   "id": "814edd68-6c1e-442a-b625-1546d1265a77",
   "metadata": {},
   "source": [
    "Junto con completar la data con los valores de oscuridad para sociedades completas, se agrega un ponderador. De esta forma, si una entidad tiene dos socios con oscuridad y la composicion suma diferente a 100%, se pondera proporcionalmente para que sumen 100%."
   ]
  },
  {
   "cell_type": "code",
   "execution_count": 15,
   "id": "eb33403d-c544-4306-a259-0a4a54b4f5a8",
   "metadata": {
    "tags": []
   },
   "outputs": [
    {
     "name": "stderr",
     "output_type": "stream",
     "text": [
      "24/01/24 21:11:28 WARN SparkConf: The configuration key 'spark.yarn.access.hadoopFileSystems' has been deprecated as of Spark 3.0 and may be removed in the future. Please use the new key 'spark.kerberos.access.hadoopFileSystems' instead.\n",
      "                                                                                \r"
     ]
    }
   ],
   "source": [
    "\n",
    "#agregar a la oscuridad la ponderacion adecuada\n",
    "\n",
    "spark.sql(\"select RUT_SOCIEDAD,RUT_SOCIO,PORCENTAJE_CAPITAL, Valor from aux where nulos is null\").createOrReplaceTempView(\"aux\")\n",
    "#spark.sql(\"select * from aux\").show()\n",
    "spark.sql(\"select RUT_SOCIEDAD as CONT_RUT, SUM(PORCENTAJE_CAPITAL*Valor*0.01) as othervalue from aux group by RUT_SOCIEDAD\").createOrReplaceTempView(\"oscuridad\")\n",
    "#spark.sql(\"select * from oscuridad\").show()\n",
    "spark.sql(\"select CONT_RUT, othervalue as Value from oscuridad\").createOrReplaceTempView(\"oscuridad\")\n",
    "#spark.sql(\"select * from oscuridad\").show()\n",
    "\n",
    "spark.sql(\"select oscuridad.CONT_RUT as CONT_RUT, Value, ponderador from oscuridad left join composicion on oscuridad.CONT_RUT=composicion.CONT_RUT order by oscuridad.CONT_RUT desc \").createOrReplaceTempView(\"oscuridad\")\n",
    "#spark.sql(\"select * from oscuridad \").show()\n",
    "spark.sql(\"select CONT_RUT, Value/ponderador*100 as Value from oscuridad \").createOrReplaceTempView(\"oscuridad\")\n",
    "#spark.sql(\"select * from oscuridad order by Value desc \").show()\n",
    "\n",
    "#spark.sql(\"select RUT_SOCIEDAD,RUT_SOCIO,PORCENTAJE_UTILIDADES, Valor from aux where nulos is null\").createOrReplaceTempView(\"aux\")\n",
    "\n",
    "oscuridad_aux=spark.sql(\"select * from oscuridad \").toPandas()\n",
    "oscuridad_aux['iterations']=0\n"
   ]
  },
  {
   "cell_type": "code",
   "execution_count": 16,
   "id": "18fb6f10-1860-4a86-82c1-3a5fcfad04ed",
   "metadata": {
    "tags": []
   },
   "outputs": [
    {
     "data": {
      "text/html": [
       "<div>\n",
       "<style scoped>\n",
       "    .dataframe tbody tr th:only-of-type {\n",
       "        vertical-align: middle;\n",
       "    }\n",
       "\n",
       "    .dataframe tbody tr th {\n",
       "        vertical-align: top;\n",
       "    }\n",
       "\n",
       "    .dataframe thead th {\n",
       "        text-align: right;\n",
       "    }\n",
       "</style>\n",
       "<table border=\"1\" class=\"dataframe\">\n",
       "  <thead>\n",
       "    <tr style=\"text-align: right;\">\n",
       "      <th></th>\n",
       "      <th>CONT_RUT</th>\n",
       "      <th>Value</th>\n",
       "      <th>iterations</th>\n",
       "    </tr>\n",
       "  </thead>\n",
       "  <tbody>\n",
       "    <tr>\n",
       "      <th>0</th>\n",
       "      <td>zzzo7RUe8Wp/sBVZrqC1BQ==</td>\n",
       "      <td>0.235367</td>\n",
       "      <td>0</td>\n",
       "    </tr>\n",
       "    <tr>\n",
       "      <th>1</th>\n",
       "      <td>zzzEfsBUrus3+LpvpwcHig==</td>\n",
       "      <td>0.250588</td>\n",
       "      <td>0</td>\n",
       "    </tr>\n",
       "    <tr>\n",
       "      <th>2</th>\n",
       "      <td>zzz9RqdyHZm0pUPELnEPhw==</td>\n",
       "      <td>0.250588</td>\n",
       "      <td>0</td>\n",
       "    </tr>\n",
       "    <tr>\n",
       "      <th>3</th>\n",
       "      <td>zzz0aRgQrVHwDX+AyZc8SQ==</td>\n",
       "      <td>0.250588</td>\n",
       "      <td>0</td>\n",
       "    </tr>\n",
       "    <tr>\n",
       "      <th>4</th>\n",
       "      <td>zzydn/q5KUdW0PcyxWSyzg==</td>\n",
       "      <td>0.250588</td>\n",
       "      <td>0</td>\n",
       "    </tr>\n",
       "    <tr>\n",
       "      <th>...</th>\n",
       "      <td>...</td>\n",
       "      <td>...</td>\n",
       "      <td>...</td>\n",
       "    </tr>\n",
       "    <tr>\n",
       "      <th>1284452</th>\n",
       "      <td>+++VWXcqX/471v55mS2YiA==</td>\n",
       "      <td>0.250588</td>\n",
       "      <td>0</td>\n",
       "    </tr>\n",
       "    <tr>\n",
       "      <th>1284453</th>\n",
       "      <td>+++VKgYcn1igYZjkTHXjgA==</td>\n",
       "      <td>0.250588</td>\n",
       "      <td>0</td>\n",
       "    </tr>\n",
       "    <tr>\n",
       "      <th>1284454</th>\n",
       "      <td>+++UeiptXaAQD74N1rCuIg==</td>\n",
       "      <td>0.250588</td>\n",
       "      <td>0</td>\n",
       "    </tr>\n",
       "    <tr>\n",
       "      <th>1284455</th>\n",
       "      <td>+++P6tU1TAUNG0SZvJeW6w==</td>\n",
       "      <td>0.250588</td>\n",
       "      <td>0</td>\n",
       "    </tr>\n",
       "    <tr>\n",
       "      <th>1284456</th>\n",
       "      <td>+++JjoAr1RQa1kY7rIZbFg==</td>\n",
       "      <td>0.250588</td>\n",
       "      <td>0</td>\n",
       "    </tr>\n",
       "  </tbody>\n",
       "</table>\n",
       "<p>1284457 rows × 3 columns</p>\n",
       "</div>"
      ],
      "text/plain": [
       "                         CONT_RUT     Value  iterations\n",
       "0        zzzo7RUe8Wp/sBVZrqC1BQ==  0.235367           0\n",
       "1        zzzEfsBUrus3+LpvpwcHig==  0.250588           0\n",
       "2        zzz9RqdyHZm0pUPELnEPhw==  0.250588           0\n",
       "3        zzz0aRgQrVHwDX+AyZc8SQ==  0.250588           0\n",
       "4        zzydn/q5KUdW0PcyxWSyzg==  0.250588           0\n",
       "...                           ...       ...         ...\n",
       "1284452  +++VWXcqX/471v55mS2YiA==  0.250588           0\n",
       "1284453  +++VKgYcn1igYZjkTHXjgA==  0.250588           0\n",
       "1284454  +++UeiptXaAQD74N1rCuIg==  0.250588           0\n",
       "1284455  +++P6tU1TAUNG0SZvJeW6w==  0.250588           0\n",
       "1284456  +++JjoAr1RQa1kY7rIZbFg==  0.250588           0\n",
       "\n",
       "[1284457 rows x 3 columns]"
      ]
     },
     "execution_count": 16,
     "metadata": {},
     "output_type": "execute_result"
    }
   ],
   "source": [
    "oscuridad_aux"
   ]
  },
  {
   "cell_type": "code",
   "execution_count": 17,
   "id": "bc878b88-ef14-4924-b856-60dc7014a49d",
   "metadata": {
    "tags": []
   },
   "outputs": [
    {
     "name": "stderr",
     "output_type": "stream",
     "text": [
      "                                                                                \r"
     ]
    }
   ],
   "source": [
    "#soc = spark.sql(\"SELECT RUT_SOCIEDAD, PORCENTAJE_CAPITAL, Valor FROM sociedad WHERE count(RUT_SOCIO) = 1 GROU\").toPandas()\n",
    "#soc = spark.sql(\"SELECT * FROM sociedad\").toPandas()\n",
    "soc = spark.sql(\"SELECT RUT_SOCIEDAD AS CONT_RUT, COUNT(RUT_SOCIO) AS N_SOCIOS FROM sociedad GROUP BY RUT_SOCIEDAD\").toPandas()"
   ]
  },
  {
   "cell_type": "code",
   "execution_count": 18,
   "id": "cb6a7852-9e1e-4d3f-b870-86f0d74e5a5b",
   "metadata": {
    "tags": []
   },
   "outputs": [
    {
     "data": {
      "text/html": [
       "<div>\n",
       "<style scoped>\n",
       "    .dataframe tbody tr th:only-of-type {\n",
       "        vertical-align: middle;\n",
       "    }\n",
       "\n",
       "    .dataframe tbody tr th {\n",
       "        vertical-align: top;\n",
       "    }\n",
       "\n",
       "    .dataframe thead th {\n",
       "        text-align: right;\n",
       "    }\n",
       "</style>\n",
       "<table border=\"1\" class=\"dataframe\">\n",
       "  <thead>\n",
       "    <tr style=\"text-align: right;\">\n",
       "      <th></th>\n",
       "      <th>CONT_RUT</th>\n",
       "      <th>N_SOCIOS</th>\n",
       "    </tr>\n",
       "  </thead>\n",
       "  <tbody>\n",
       "    <tr>\n",
       "      <th>4</th>\n",
       "      <td>3LSUtSb8xUvLioTZO0wFbg==</td>\n",
       "      <td>1</td>\n",
       "    </tr>\n",
       "    <tr>\n",
       "      <th>6</th>\n",
       "      <td>4fUJFvPQWYiSoYZ8qGs1uw==</td>\n",
       "      <td>1</td>\n",
       "    </tr>\n",
       "    <tr>\n",
       "      <th>9</th>\n",
       "      <td>vcJj+RfQYJkv2QsdNHusmA==</td>\n",
       "      <td>1</td>\n",
       "    </tr>\n",
       "    <tr>\n",
       "      <th>10</th>\n",
       "      <td>2cH0In6CnAa/dlnO97Gryw==</td>\n",
       "      <td>1</td>\n",
       "    </tr>\n",
       "    <tr>\n",
       "      <th>11</th>\n",
       "      <td>8jBGBe2TNQqWAOIWXB+6tQ==</td>\n",
       "      <td>1</td>\n",
       "    </tr>\n",
       "    <tr>\n",
       "      <th>...</th>\n",
       "      <td>...</td>\n",
       "      <td>...</td>\n",
       "    </tr>\n",
       "    <tr>\n",
       "      <th>1391756</th>\n",
       "      <td>9vjpe+Cl8WsO545iXoJXgw==</td>\n",
       "      <td>1</td>\n",
       "    </tr>\n",
       "    <tr>\n",
       "      <th>1391757</th>\n",
       "      <td>TlH0m+qOofxjH9qsgQP+gw==</td>\n",
       "      <td>1</td>\n",
       "    </tr>\n",
       "    <tr>\n",
       "      <th>1391758</th>\n",
       "      <td>vV+vZoS+IRvaHvN2X8te4g==</td>\n",
       "      <td>1</td>\n",
       "    </tr>\n",
       "    <tr>\n",
       "      <th>1391759</th>\n",
       "      <td>KBEA28IFuSmDQSCgzNC5jg==</td>\n",
       "      <td>1</td>\n",
       "    </tr>\n",
       "    <tr>\n",
       "      <th>1391760</th>\n",
       "      <td>lvM+Bo6Tu4WWsMKchum2LQ==</td>\n",
       "      <td>1</td>\n",
       "    </tr>\n",
       "  </tbody>\n",
       "</table>\n",
       "<p>694846 rows × 2 columns</p>\n",
       "</div>"
      ],
      "text/plain": [
       "                         CONT_RUT  N_SOCIOS\n",
       "4        3LSUtSb8xUvLioTZO0wFbg==         1\n",
       "6        4fUJFvPQWYiSoYZ8qGs1uw==         1\n",
       "9        vcJj+RfQYJkv2QsdNHusmA==         1\n",
       "10       2cH0In6CnAa/dlnO97Gryw==         1\n",
       "11       8jBGBe2TNQqWAOIWXB+6tQ==         1\n",
       "...                           ...       ...\n",
       "1391756  9vjpe+Cl8WsO545iXoJXgw==         1\n",
       "1391757  TlH0m+qOofxjH9qsgQP+gw==         1\n",
       "1391758  vV+vZoS+IRvaHvN2X8te4g==         1\n",
       "1391759  KBEA28IFuSmDQSCgzNC5jg==         1\n",
       "1391760  lvM+Bo6Tu4WWsMKchum2LQ==         1\n",
       "\n",
       "[694846 rows x 2 columns]"
      ]
     },
     "execution_count": 18,
     "metadata": {},
     "output_type": "execute_result"
    }
   ],
   "source": [
    "soc2 = soc[soc[\"N_SOCIOS\"]==1]\n",
    "soc2"
   ]
  },
  {
   "cell_type": "code",
   "execution_count": 19,
   "id": "662fd6a9-99ff-4ac3-96d7-a6b57576663a",
   "metadata": {
    "tags": []
   },
   "outputs": [
    {
     "data": {
      "text/html": [
       "<div>\n",
       "<style scoped>\n",
       "    .dataframe tbody tr th:only-of-type {\n",
       "        vertical-align: middle;\n",
       "    }\n",
       "\n",
       "    .dataframe tbody tr th {\n",
       "        vertical-align: top;\n",
       "    }\n",
       "\n",
       "    .dataframe thead th {\n",
       "        text-align: right;\n",
       "    }\n",
       "</style>\n",
       "<table border=\"1\" class=\"dataframe\">\n",
       "  <thead>\n",
       "    <tr style=\"text-align: right;\">\n",
       "      <th></th>\n",
       "      <th>RUT_SOCIEDAD</th>\n",
       "      <th>N_SOCIOS</th>\n",
       "      <th>Value</th>\n",
       "      <th>iterations</th>\n",
       "    </tr>\n",
       "  </thead>\n",
       "  <tbody>\n",
       "    <tr>\n",
       "      <th>0</th>\n",
       "      <td>vcJj+RfQYJkv2QsdNHusmA==</td>\n",
       "      <td>1</td>\n",
       "      <td>0.250588</td>\n",
       "      <td>0</td>\n",
       "    </tr>\n",
       "    <tr>\n",
       "      <th>1</th>\n",
       "      <td>2cH0In6CnAa/dlnO97Gryw==</td>\n",
       "      <td>1</td>\n",
       "      <td>0.250588</td>\n",
       "      <td>0</td>\n",
       "    </tr>\n",
       "    <tr>\n",
       "      <th>2</th>\n",
       "      <td>i/QHL5sUQiz5mEsI6FF24Q==</td>\n",
       "      <td>1</td>\n",
       "      <td>0.250588</td>\n",
       "      <td>0</td>\n",
       "    </tr>\n",
       "    <tr>\n",
       "      <th>3</th>\n",
       "      <td>rhXbmKdDhrtYSblgI1SZfQ==</td>\n",
       "      <td>1</td>\n",
       "      <td>0.250588</td>\n",
       "      <td>0</td>\n",
       "    </tr>\n",
       "    <tr>\n",
       "      <th>4</th>\n",
       "      <td>52PqgaD9w/k/wrqZeGO/Kw==</td>\n",
       "      <td>1</td>\n",
       "      <td>0.250588</td>\n",
       "      <td>0</td>\n",
       "    </tr>\n",
       "    <tr>\n",
       "      <th>...</th>\n",
       "      <td>...</td>\n",
       "      <td>...</td>\n",
       "      <td>...</td>\n",
       "      <td>...</td>\n",
       "    </tr>\n",
       "    <tr>\n",
       "      <th>668481</th>\n",
       "      <td>cjcu4gk0Oo+DzkBED7sPFA==</td>\n",
       "      <td>1</td>\n",
       "      <td>0.250588</td>\n",
       "      <td>0</td>\n",
       "    </tr>\n",
       "    <tr>\n",
       "      <th>668482</th>\n",
       "      <td>9vjpe+Cl8WsO545iXoJXgw==</td>\n",
       "      <td>1</td>\n",
       "      <td>0.250588</td>\n",
       "      <td>0</td>\n",
       "    </tr>\n",
       "    <tr>\n",
       "      <th>668483</th>\n",
       "      <td>TlH0m+qOofxjH9qsgQP+gw==</td>\n",
       "      <td>1</td>\n",
       "      <td>0.250588</td>\n",
       "      <td>0</td>\n",
       "    </tr>\n",
       "    <tr>\n",
       "      <th>668484</th>\n",
       "      <td>KBEA28IFuSmDQSCgzNC5jg==</td>\n",
       "      <td>1</td>\n",
       "      <td>0.250588</td>\n",
       "      <td>0</td>\n",
       "    </tr>\n",
       "    <tr>\n",
       "      <th>668485</th>\n",
       "      <td>lvM+Bo6Tu4WWsMKchum2LQ==</td>\n",
       "      <td>1</td>\n",
       "      <td>0.250588</td>\n",
       "      <td>0</td>\n",
       "    </tr>\n",
       "  </tbody>\n",
       "</table>\n",
       "<p>668486 rows × 4 columns</p>\n",
       "</div>"
      ],
      "text/plain": [
       "                    RUT_SOCIEDAD  N_SOCIOS     Value  iterations\n",
       "0       vcJj+RfQYJkv2QsdNHusmA==         1  0.250588           0\n",
       "1       2cH0In6CnAa/dlnO97Gryw==         1  0.250588           0\n",
       "2       i/QHL5sUQiz5mEsI6FF24Q==         1  0.250588           0\n",
       "3       rhXbmKdDhrtYSblgI1SZfQ==         1  0.250588           0\n",
       "4       52PqgaD9w/k/wrqZeGO/Kw==         1  0.250588           0\n",
       "...                          ...       ...       ...         ...\n",
       "668481  cjcu4gk0Oo+DzkBED7sPFA==         1  0.250588           0\n",
       "668482  9vjpe+Cl8WsO545iXoJXgw==         1  0.250588           0\n",
       "668483  TlH0m+qOofxjH9qsgQP+gw==         1  0.250588           0\n",
       "668484  KBEA28IFuSmDQSCgzNC5jg==         1  0.250588           0\n",
       "668485  lvM+Bo6Tu4WWsMKchum2LQ==         1  0.250588           0\n",
       "\n",
       "[668486 rows x 4 columns]"
      ]
     },
     "execution_count": 19,
     "metadata": {},
     "output_type": "execute_result"
    }
   ],
   "source": [
    "import pandas as pd\n",
    "aux = pd.merge(soc2,oscuridad_aux, on = [\"CONT_RUT\"])\n",
    "aux = aux.rename(columns = {\"CONT_RUT\": \"RUT_SOCIEDAD\"})\n",
    "aux"
   ]
  },
  {
   "cell_type": "code",
   "execution_count": null,
   "id": "e0bea0ce-65a3-4ed6-b6eb-c72e3db98e1e",
   "metadata": {
    "tags": []
   },
   "outputs": [
    {
     "name": "stderr",
     "output_type": "stream",
     "text": [
      "                                                                                \r"
     ]
    }
   ],
   "source": [
    "dataframe = oscuridad1.toPandas().rename(columns = {\"CONT_RUT\": \"RUT_SOCIO\"})\n",
    "dataframe"
   ]
  },
  {
   "cell_type": "code",
   "execution_count": null,
   "id": "aa1ce7ec-41f8-4247-916b-c918429581a8",
   "metadata": {
    "tags": []
   },
   "outputs": [],
   "source": [
    "df1 = df.toPandas()\n",
    "df1"
   ]
  },
  {
   "cell_type": "code",
   "execution_count": null,
   "id": "eb62b468-2746-4393-9b0c-b7b9ebc74d69",
   "metadata": {
    "tags": []
   },
   "outputs": [],
   "source": [
    "aux2 = pd.merge(pd.merge(df1, aux, on = [\"RUT_SOCIEDAD\"]), dataframe, on = [\"RUT_SOCIO\"])\n",
    "aux2 = aux2.rename(columns = {\"Value\":\"Oscuridad_PJ\",\"Valor\":\"Oscuridad_PN\"})\n",
    "aux2 = aux2.sort_values(by=[\"Oscuridad_PN\"])\n"
   ]
  },
  {
   "cell_type": "code",
   "execution_count": null,
   "id": "c0d6837c-ecf8-4ca6-8b1c-73e9653f96e3",
   "metadata": {
    "tags": []
   },
   "outputs": [],
   "source": [
    "aux2[aux2[\"Oscuridad_PN\"]>0].head(30)"
   ]
  },
  {
   "cell_type": "code",
   "execution_count": null,
   "id": "96dc2e2b-fcb8-452e-84e8-ffa7a5d3f73d",
   "metadata": {
    "tags": []
   },
   "outputs": [],
   "source": [
    "aux2[aux2[\"RUT_SOCIEDAD\"]== \"XYtAg9XPdlsmKvL99k3t/w==\"].head()\n",
    "#aux2[aux2[\"RUT_SOCIO\"]== \"eK5KCE9n7ek2CyHGijVAAQ==\"].head()"
   ]
  },
  {
   "cell_type": "markdown",
   "id": "47690c62-4f5b-483e-9a42-7ca293966bcc",
   "metadata": {},
   "source": [
    "## Primera iteracion,resultados"
   ]
  },
  {
   "cell_type": "markdown",
   "id": "408910b2-acc3-4350-a424-afb764799a96",
   "metadata": {},
   "source": [
    "Principales resultados de la primera iteracion, es decir la iteracion cero. "
   ]
  },
  {
   "cell_type": "code",
   "execution_count": null,
   "id": "37d15b6f-2e7c-40f8-ab00-8761d7612d70",
   "metadata": {
    "tags": []
   },
   "outputs": [],
   "source": [
    "oscuridad_aux.describe()"
   ]
  },
  {
   "cell_type": "markdown",
   "id": "746b95ca-1981-4d91-8cea-b512fd90ed15",
   "metadata": {},
   "source": [
    "## Iteraciones subsiguientes"
   ]
  },
  {
   "cell_type": "markdown",
   "id": "8ff5d898-475c-4763-ba7a-d03874002399",
   "metadata": {},
   "source": [
    "Se repite el proceso iterativo para asi completar mas sociedades. El parametro *iter* hara referencia al numero de iteraciones luego de la iteracion 0."
   ]
  },
  {
   "cell_type": "code",
   "execution_count": null,
   "id": "5b4ac65b-38bb-4da5-af4b-9d34202426c7",
   "metadata": {},
   "outputs": [],
   "source": [
    "iter=6"
   ]
  },
  {
   "cell_type": "code",
   "execution_count": null,
   "id": "0345a968-456f-433b-93bb-b71485505b12",
   "metadata": {
    "tags": []
   },
   "outputs": [],
   "source": [
    "for iteration in range(1,iter):\n",
    "    \n",
    "    spark.sql(\"select * from sociedad left join oscuridad on sociedad.RUT_SOCIO=oscuridad.CONT_RUT order by sociedad.RUT_SOCIEDAD asc\").createOrReplaceTempView(\"sociedad\")\n",
    "    spark.sql(\"select RUT_SOCIEDAD, RUT_SOCIO, PORCENTAJE_CAPITAL, CASE WHEN Valor is null THEN Value ELSE Valor END AS Valor from sociedad\").createOrReplaceTempView(\"sociedad\")\n",
    "    spark.sql(\"select RUT_SOCIEDAD, RUT_SOCIO, PORCENTAJE_CAPITAL, Valor from sociedad\").createOrReplaceTempView(\"sociedad\")\n",
    "    spark.sql(\"select RUT_SOCIEDAD as RUT_SOCIEDAD1, count(*) as nulos from sociedad where Valor is null group by RUT_SOCIEDAD order by RUT_SOCIEDAD ASC\").createOrReplaceTempView(\"aux\")\n",
    "    spark.sql(\"select RUT_SOCIEDAD,RUT_SOCIO,PORCENTAJE_CAPITAL, nulos, Valor from sociedad left join aux on sociedad.RUT_SOCIEDAD=aux.RUT_SOCIEDAD1 order by RUT_SOCIEDAD asc \").createOrReplaceTempView(\"aux\")\n",
    "    spark.sql(\"select RUT_SOCIEDAD,RUT_SOCIO,PORCENTAJE_CAPITAL, Valor from aux where nulos is null\").createOrReplaceTempView(\"aux\")\n",
    "    spark.sql(\"select RUT_SOCIEDAD as CONT_RUT, SUM(PORCENTAJE_CAPITAL*Valor*0.01) as othervalue from aux group by RUT_SOCIEDAD\").createOrReplaceTempView(\"oscuridad\")\n",
    "    spark.sql(\"select CONT_RUT, othervalue as Value from oscuridad\").createOrReplaceTempView(\"oscuridad\")\n",
    "    \n",
    "    spark.sql(\"select oscuridad.CONT_RUT as CONT_RUT, Value,ponderador from oscuridad left join composicion on oscuridad.CONT_RUT=composicion.CONT_RUT order by oscuridad.CONT_RUT asc \").createOrReplaceTempView(\"oscuridad\")\n",
    "    #spark.sql(\"select * from oscuridad \").show()\n",
    "    spark.sql(\"select CONT_RUT, Value/ponderador*100 as Value from oscuridad order by Value desc \").createOrReplaceTempView(\"oscuridad\")\n",
    "    #spark.sql(\"select * from oscuridad \").show()    \n",
    "    oscuridad=spark.sql(\"select * from oscuridad \").toPandas()\n",
    "    oscuridad['iterations']=iteration\n",
    "\n",
    "    oscuridad=oscuridad.merge(oscuridad_aux, on = \"CONT_RUT\", how = \"left\")\n",
    "    oscuridad['iterations']=oscuridad[[\"iterations_x\", \"iterations_y\"]].min(axis=1)\n",
    "    oscuridad = oscuridad.rename(columns={'Value_x': 'Value'})\n",
    "    oscuridad=oscuridad[['CONT_RUT','Value','iterations']]\n",
    "    oscuridad_aux=oscuridad.iloc[:,:]\n",
    "    print(oscuridad_aux.describe())"
   ]
  },
  {
   "cell_type": "markdown",
   "id": "0961b02f-b7cc-4553-93a4-b7490a1e3394",
   "metadata": {},
   "source": [
    "## Resultados y guardado en archivo csv"
   ]
  },
  {
   "cell_type": "markdown",
   "id": "9f01371a-9f7d-4712-aa22-87cfc55408e2",
   "metadata": {},
   "source": [
    "Luego de estas iteraciones, se obtienen dos outputs. En primer lugar una tabla actualizada de sociedades y socios con cada valor calculado (o no) de la oscuridad de sus socios. \n",
    "En segundo lugar la oscuridad calculada para sociedades."
   ]
  },
  {
   "cell_type": "code",
   "execution_count": null,
   "id": "386716f6-d292-4429-9bb9-c3ed33121f79",
   "metadata": {},
   "outputs": [],
   "source": [
    "sociedad=spark.sql(\"select * from sociedad\").toPandas()"
   ]
  },
  {
   "cell_type": "code",
   "execution_count": null,
   "id": "8d5df80e-65bb-4b82-b484-8cc88129bb6f",
   "metadata": {},
   "outputs": [],
   "source": [
    "# Se guardan los archivos finales.\n",
    "sociedad.to_csv('artefactos/Oscuridad/Sociedades_oscuridad_actualizada.csv', index=False)\n",
    "oscuridad_aux.to_csv('artefactos/Oscuridad/Sociedades_oscuridad_completa.csv', index=False)\n"
   ]
  },
  {
   "cell_type": "code",
   "execution_count": null,
   "id": "29a6968f-edf7-4509-9392-a3f1c2f6cef5",
   "metadata": {},
   "outputs": [],
   "source": [
    "df=spark.sql(\"select * from sociedad\")\n",
    "df.write.mode('overwrite').format(\"parquet\").save(\"abfs://data@datalakesii.dfs.core.windows.net/DatoOrigen/lr-629/UtilBajo/intermedia/oscuridad_sociedad\")\n",
    "\n"
   ]
  }
 ],
 "metadata": {
  "kernelspec": {
   "display_name": "Python 3 (ipykernel)",
   "language": "python",
   "name": "python3"
  },
  "language_info": {
   "codemirror_mode": {
    "name": "ipython",
    "version": 3
   },
   "file_extension": ".py",
   "mimetype": "text/x-python",
   "name": "python",
   "nbconvert_exporter": "python",
   "pygments_lexer": "ipython3",
   "version": "3.7.16"
  }
 },
 "nbformat": 4,
 "nbformat_minor": 5
}
