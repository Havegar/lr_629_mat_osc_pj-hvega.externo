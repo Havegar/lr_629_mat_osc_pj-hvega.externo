{
 "cells": [
  {
   "cell_type": "code",
   "execution_count": 4,
   "id": "d02635e6-abe1-4d24-a336-be0736e291a5",
   "metadata": {
    "tags": []
   },
   "outputs": [],
   "source": [
    "import pandas as pd"
   ]
  },
  {
   "cell_type": "code",
   "execution_count": 6,
   "id": "5316ed40-f280-4986-90d9-6a7c0c9a517c",
   "metadata": {
    "tags": []
   },
   "outputs": [],
   "source": [
    "complete = pd.read_csv('familiaridad.csv', delimiter=',')\n"
   ]
  },
  {
   "cell_type": "code",
   "execution_count": 7,
   "id": "79650161-f80a-4eb9-8427-596f2f38fc94",
   "metadata": {
    "tags": []
   },
   "outputs": [
    {
     "data": {
      "text/html": [
       "<div>\n",
       "<style scoped>\n",
       "    .dataframe tbody tr th:only-of-type {\n",
       "        vertical-align: middle;\n",
       "    }\n",
       "\n",
       "    .dataframe tbody tr th {\n",
       "        vertical-align: top;\n",
       "    }\n",
       "\n",
       "    .dataframe thead th {\n",
       "        text-align: right;\n",
       "    }\n",
       "</style>\n",
       "<table border=\"1\" class=\"dataframe\">\n",
       "  <thead>\n",
       "    <tr style=\"text-align: right;\">\n",
       "      <th></th>\n",
       "      <th>FAMILIARES</th>\n",
       "      <th>TOTAL</th>\n",
       "      <th>TASA_FAMILIARIDAD</th>\n",
       "    </tr>\n",
       "  </thead>\n",
       "  <tbody>\n",
       "    <tr>\n",
       "      <th>count</th>\n",
       "      <td>364716.000000</td>\n",
       "      <td>364716.000000</td>\n",
       "      <td>364716.000000</td>\n",
       "    </tr>\n",
       "    <tr>\n",
       "      <th>mean</th>\n",
       "      <td>2.911002</td>\n",
       "      <td>3.739721</td>\n",
       "      <td>91.431225</td>\n",
       "    </tr>\n",
       "    <tr>\n",
       "      <th>std</th>\n",
       "      <td>2.872045</td>\n",
       "      <td>5.713586</td>\n",
       "      <td>17.946946</td>\n",
       "    </tr>\n",
       "    <tr>\n",
       "      <th>min</th>\n",
       "      <td>1.000000</td>\n",
       "      <td>2.000000</td>\n",
       "      <td>2.020202</td>\n",
       "    </tr>\n",
       "    <tr>\n",
       "      <th>25%</th>\n",
       "      <td>2.000000</td>\n",
       "      <td>2.000000</td>\n",
       "      <td>100.000000</td>\n",
       "    </tr>\n",
       "    <tr>\n",
       "      <th>50%</th>\n",
       "      <td>2.000000</td>\n",
       "      <td>2.000000</td>\n",
       "      <td>100.000000</td>\n",
       "    </tr>\n",
       "    <tr>\n",
       "      <th>75%</th>\n",
       "      <td>3.000000</td>\n",
       "      <td>3.000000</td>\n",
       "      <td>100.000000</td>\n",
       "    </tr>\n",
       "    <tr>\n",
       "      <th>max</th>\n",
       "      <td>80.000000</td>\n",
       "      <td>99.000000</td>\n",
       "      <td>100.000000</td>\n",
       "    </tr>\n",
       "  </tbody>\n",
       "</table>\n",
       "</div>"
      ],
      "text/plain": [
       "          FAMILIARES          TOTAL  TASA_FAMILIARIDAD\n",
       "count  364716.000000  364716.000000      364716.000000\n",
       "mean        2.911002       3.739721          91.431225\n",
       "std         2.872045       5.713586          17.946946\n",
       "min         1.000000       2.000000           2.020202\n",
       "25%         2.000000       2.000000         100.000000\n",
       "50%         2.000000       2.000000         100.000000\n",
       "75%         3.000000       3.000000         100.000000\n",
       "max        80.000000      99.000000         100.000000"
      ]
     },
     "execution_count": 7,
     "metadata": {},
     "output_type": "execute_result"
    }
   ],
   "source": [
    "complete.describe()"
   ]
  },
  {
   "cell_type": "code",
   "execution_count": null,
   "id": "0a919c51-1f64-47be-87fd-95d61d5d7bb8",
   "metadata": {},
   "outputs": [],
   "source": []
  }
 ],
 "metadata": {
  "kernelspec": {
   "display_name": "Python 3 (ipykernel)",
   "language": "python",
   "name": "python3"
  },
  "language_info": {
   "codemirror_mode": {
    "name": "ipython",
    "version": 3
   },
   "file_extension": ".py",
   "mimetype": "text/x-python",
   "name": "python",
   "nbconvert_exporter": "python",
   "pygments_lexer": "ipython3",
   "version": "3.7.16"
  }
 },
 "nbformat": 4,
 "nbformat_minor": 5
}
