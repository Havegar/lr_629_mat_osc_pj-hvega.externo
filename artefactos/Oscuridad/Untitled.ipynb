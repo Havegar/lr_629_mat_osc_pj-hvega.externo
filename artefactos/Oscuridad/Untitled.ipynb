{
 "cells": [
  {
   "cell_type": "code",
   "execution_count": 5,
   "id": "f123bdad-6826-4863-9238-b4be4f608ed9",
   "metadata": {
    "tags": []
   },
   "outputs": [],
   "source": [
    "from pyspark.sql import SparkSession\n",
    "from pyspark.sql.functions import *\n",
    "from pyspark import SparkContext, SparkConf\n",
    "import pyspark"
   ]
  },
  {
   "cell_type": "code",
   "execution_count": 6,
   "id": "c227245a-a724-46d1-acd8-2066b6174d7b",
   "metadata": {
    "tags": []
   },
   "outputs": [],
   "source": [
    "spark = SparkSession.builder \\\n",
    "  .appName(\"Test\")  \\\n",
    "  .config(\"spark.yarn.access.hadoopFileSystems\",\"abfs://data@datalakesii.dfs.core.windows.net/\") \\\n",
    "  .config(\"spark.executor.memory\", \"24g\") \\\n",
    "  .config(\"spark.driver.memory\", \"12g\")\\\n",
    "  .config(\"spark.executor.cores\", \"12\") \\\n",
    "  .config(\"spark.executor.instances\", \"24\") \\\n",
    "  .config(\"spark.driver.maxResultSize\", \"12g\") \\\n",
    "  .getOrCreate()"
   ]
  },
  {
   "cell_type": "code",
   "execution_count": 7,
   "id": "087623a7-0b83-46d3-9780-b73c8947725b",
   "metadata": {
    "tags": []
   },
   "outputs": [
    {
     "name": "stderr",
     "output_type": "stream",
     "text": [
      "                                                                                \r"
     ]
    }
   ],
   "source": [
    "df = spark.read.format(\"csv\").option(\"header\", \"true\").option(\"delimiter\", \",\").load(\"Sociedades_oscuridad_completa.csv\").createOrReplaceTempView(\"oscuridad\")\n"
   ]
  },
  {
   "cell_type": "code",
   "execution_count": 9,
   "id": "0ce2cf7e-762b-4329-a84c-ae89484a3958",
   "metadata": {
    "tags": []
   },
   "outputs": [
    {
     "name": "stderr",
     "output_type": "stream",
     "text": [
      "                                                                                \r"
     ]
    },
    {
     "name": "stdout",
     "output_type": "stream",
     "text": [
      "+--------------------+------------+----------+\n",
      "|            CONT_RUT|       Value|iterations|\n",
      "+--------------------+------------+----------+\n",
      "|XYtAg9XPdlsmKvL99...|0.2505881216|       1.0|\n",
      "+--------------------+------------+----------+\n",
      "\n",
      "+--------------------+------------+----------+\n",
      "|            CONT_RUT|       Value|iterations|\n",
      "+--------------------+------------+----------+\n",
      "|2EJBMiiK/aTswpkaI...|0.2505881216|       1.0|\n",
      "+--------------------+------------+----------+\n",
      "\n",
      "+--------------------+------------+----------+\n",
      "|            CONT_RUT|       Value|iterations|\n",
      "+--------------------+------------+----------+\n",
      "|ySz0WGrX/6o1rkxB1...|0.2505881216|       0.0|\n",
      "+--------------------+------------+----------+\n",
      "\n",
      "+--------------------+------------+----------+\n",
      "|            CONT_RUT|       Value|iterations|\n",
      "+--------------------+------------+----------+\n",
      "|LhJiQZALbeiQ0INBP...|0.2505881216|       1.0|\n",
      "+--------------------+------------+----------+\n",
      "\n",
      "+--------+-----+----------+\n",
      "|CONT_RUT|Value|iterations|\n",
      "+--------+-----+----------+\n",
      "+--------+-----+----------+\n",
      "\n",
      "+--------+-----+----------+\n",
      "|CONT_RUT|Value|iterations|\n",
      "+--------+-----+----------+\n",
      "+--------+-----+----------+\n",
      "\n",
      "+--------------------+------------+----------+\n",
      "|            CONT_RUT|       Value|iterations|\n",
      "+--------------------+------------+----------+\n",
      "|J+WRkPtJhwSvcjRLS...|0.2505881216|       0.0|\n",
      "+--------------------+------------+----------+\n",
      "\n"
     ]
    }
   ],
   "source": [
    "spark.sql(\"select * from oscuridad where oscuridad.CONT_RUT LIKE 'XYtA%' \").show()\n",
    "spark.sql(\"select * from oscuridad where oscuridad.CONT_RUT LIKE '2EJB%' \").show()\n",
    "spark.sql(\"select * from oscuridad where oscuridad.CONT_RUT LIKE 'ySz0%' \").show()\n",
    "spark.sql(\"select * from oscuridad where oscuridad.CONT_RUT LIKE 'LhJi%' \").show()\n",
    "spark.sql(\"select * from oscuridad where oscuridad.CONT_RUT LIKE 'POASA' \").show()\n",
    "spark.sql(\"select * from oscuridad where oscuridad.CONT_RUT LIKE 'RAui%' \").show()\n",
    "spark.sql(\"select * from oscuridad where oscuridad.CONT_RUT LIKE 'J+WR%' \").show()"
   ]
  },
  {
   "cell_type": "code",
   "execution_count": null,
   "id": "a4f36500-7c51-44f1-ae67-66b20df73825",
   "metadata": {},
   "outputs": [],
   "source": []
  }
 ],
 "metadata": {
  "kernelspec": {
   "display_name": "Python 3 (ipykernel)",
   "language": "python",
   "name": "python3"
  },
  "language_info": {
   "codemirror_mode": {
    "name": "ipython",
    "version": 3
   },
   "file_extension": ".py",
   "mimetype": "text/x-python",
   "name": "python",
   "nbconvert_exporter": "python",
   "pygments_lexer": "ipython3",
   "version": "3.9.16"
  }
 },
 "nbformat": 4,
 "nbformat_minor": 5
}
